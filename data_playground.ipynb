{
 "cells": [
  {
   "cell_type": "code",
   "execution_count": 1,
   "metadata": {},
   "outputs": [],
   "source": [
    "import workflow.scripts.RESources as RES\n",
    "import pandas as pd\n",
    "import geopandas as gpd\n",
    "import matplotlib.pyplot as plt"
   ]
  },
  {
   "cell_type": "code",
   "execution_count": 8,
   "metadata": {},
   "outputs": [
    {
     "name": "stdout",
     "output_type": "stream",
     "text": [
      "Error: Key 'cells' not found in data/store/resources_AL.h5\n",
      "Error: Key 'boundary' not found in data/store/resources_AL.h5\n"
     ]
    }
   ],
   "source": [
    "from RES.hdf5_handler import DataHandler\n",
    "import RES.visuals as vis\n",
    "store=f\"data/store/resources_AL.h5\"\n",
    "datahandler=DataHandler(store)\n",
    "cells=datahandler.from_store('cells')\n",
    "boundary=datahandler.from_store('boundary')"
   ]
  },
  {
   "cell_type": "markdown",
   "metadata": {},
   "source": [
    "# Set Required Args to Activate Modules"
   ]
  },
  {
   "cell_type": "code",
   "execution_count": 3,
   "metadata": {},
   "outputs": [],
   "source": [
    "import workflow.scripts.RESources as RES\n",
    "import pandas as pd\n",
    "import geopandas as gpd\n",
    "\n",
    "# Iterate over provinces for both solar and wind resources\n",
    "# resource_types = ['wind','solar']  #\n",
    "# countries=['AL'] \n",
    "# for country in countries:\n",
    "#     for resource_type in resource_types:\n",
    "#         required_args = {\n",
    "#             \"config_file_path\": 'config/config.yaml',\n",
    "#             \"region_short_code\": country,\n",
    "#             \"resource_type\": resource_type\n",
    "#         }\n",
    "        \n",
    "#         # Create an instance of Resources and execute the module\n",
    "#         RES_module = RES.RESources_builder(**required_args)\n",
    "#         # RES_module.build(select_top_sites=True,\n",
    "#         #                  use_pypsa_buses=False)\n",
    "        "
   ]
  },
  {
   "cell_type": "code",
   "execution_count": 4,
   "metadata": {},
   "outputs": [],
   "source": [
    "required_args = {\n",
    "            \"config_file_path\": 'config/config.yaml',\n",
    "            \"region_short_code\": 'AL',\n",
    "            \"resource_type\": 'solar'\n",
    "        }"
   ]
  },
  {
   "cell_type": "code",
   "execution_count": 5,
   "metadata": {},
   "outputs": [
    {
     "name": "stderr",
     "output_type": "stream",
     "text": [
      "2025-04-04 16:09:27,340 - INFO - >> Loading locally stored OSM data for 'power' from data/downloaded_data/OSM/AL_power.geojson\n"
     ]
    }
   ],
   "source": [
    "from RES.power_nodes import GridNodeLocator\n",
    "\n",
    "power_nodes = GridNodeLocator(**required_args)\n",
    "\n",
    "lines = power_nodes.get_OSM_grid_lines()\n",
    "lines_filtered = lines[~(lines['voltage'] == '400000')]"
   ]
  },
  {
   "cell_type": "code",
   "execution_count": 6,
   "metadata": {},
   "outputs": [
    {
     "ename": "NameError",
     "evalue": "name 'cells' is not defined",
     "output_type": "error",
     "traceback": [
      "\u001b[0;31m---------------------------------------------------------------------------\u001b[0m",
      "\u001b[0;31mNameError\u001b[0m                                 Traceback (most recent call last)",
      "Cell \u001b[0;32mIn[6], line 7\u001b[0m\n\u001b[1;32m      5\u001b[0m lines \u001b[38;5;241m=\u001b[39m lines_filtered[lines_filtered\u001b[38;5;241m.\u001b[39mgeometry\u001b[38;5;241m.\u001b[39mtype \u001b[38;5;241m==\u001b[39m \u001b[38;5;124m\"\u001b[39m\u001b[38;5;124mLineString\u001b[39m\u001b[38;5;124m\"\u001b[39m]\u001b[38;5;241m.\u001b[39mcopy()\n\u001b[1;32m      6\u001b[0m lines \u001b[38;5;241m=\u001b[39m lines\u001b[38;5;241m.\u001b[39mset_geometry(\u001b[38;5;124m\"\u001b[39m\u001b[38;5;124mgeometry\u001b[39m\u001b[38;5;124m\"\u001b[39m)\n\u001b[0;32m----> 7\u001b[0m lines\u001b[38;5;241m.\u001b[39mcrs \u001b[38;5;241m=\u001b[39m \u001b[43mcells\u001b[49m\u001b[38;5;241m.\u001b[39mcrs\n\u001b[1;32m      9\u001b[0m \u001b[38;5;66;03m# Create centroid column once\u001b[39;00m\n\u001b[1;32m     10\u001b[0m cells[\u001b[38;5;124m\"\u001b[39m\u001b[38;5;124mcentroid\u001b[39m\u001b[38;5;124m\"\u001b[39m] \u001b[38;5;241m=\u001b[39m cells\u001b[38;5;241m.\u001b[39mapply(\u001b[38;5;28;01mlambda\u001b[39;00m row: Point(row[\u001b[38;5;124m\"\u001b[39m\u001b[38;5;124mx\u001b[39m\u001b[38;5;124m\"\u001b[39m], row[\u001b[38;5;124m\"\u001b[39m\u001b[38;5;124my\u001b[39m\u001b[38;5;124m\"\u001b[39m]), axis\u001b[38;5;241m=\u001b[39m\u001b[38;5;241m1\u001b[39m)\n",
      "\u001b[0;31mNameError\u001b[0m: name 'cells' is not defined"
     ]
    }
   ],
   "source": [
    "import geopandas as gpd\n",
    "from shapely.geometry import Point, LineString\n",
    "\n",
    "# Filter only LineString geometries\n",
    "lines = lines_filtered[lines_filtered.geometry.type == \"LineString\"].copy()\n",
    "lines = lines.set_geometry(\"geometry\")\n",
    "lines.crs = cells.crs\n",
    "\n",
    "# Create centroid column once\n",
    "cells[\"centroid\"] = cells.apply(lambda row: Point(row[\"x\"], row[\"y\"]), axis=1)"
   ]
  },
  {
   "cell_type": "code",
   "execution_count": null,
   "metadata": {},
   "outputs": [],
   "source": [
    "\n",
    "\n",
    "def find_nearest_line_point_with_distance(point, cell_geometry, line_gdf):\n",
    "    # Lines that intersect with the cell\n",
    "    lines_in_cell = line_gdf[line_gdf.geometry.intersects(cell_geometry)]\n",
    "\n",
    "    # Nearest point within cell\n",
    "    if not lines_in_cell.empty:\n",
    "        distances_within = lines_in_cell.geometry.apply(lambda line: point.distance(line))\n",
    "        nearest_within_geom = lines_in_cell.loc[distances_within.idxmin(), \"geometry\"]\n",
    "        within_point = nearest_within_geom.interpolate(nearest_within_geom.project(point))\n",
    "        within_distance = point.distance(within_point)\n",
    "    else:\n",
    "        within_point = None\n",
    "        within_distance = None\n",
    "\n",
    "    # Nearest point globally\n",
    "    distances_global = line_gdf.geometry.apply(lambda line: point.distance(line))\n",
    "    nearest_global_geom = line_gdf.loc[distances_global.idxmin(), \"geometry\"]\n",
    "    else_point = nearest_global_geom.interpolate(nearest_global_geom.project(point))\n",
    "    else_distance = point.distance(else_point)\n",
    "\n",
    "    return within_point, else_point, within_distance, else_distance\n",
    "\n",
    "def choose_optimal_point(row):\n",
    "    if row[\"within_cell_nearest\"] is not None:\n",
    "        return row[\"within_cell_nearest\"], row[\"distance_within\"]\n",
    "    else:\n",
    "        return row[\"else_nearest\"], row[\"distance_else\"]\n",
    "\n"
   ]
  },
  {
   "cell_type": "code",
   "execution_count": null,
   "metadata": {},
   "outputs": [],
   "source": [
    "def find_nearest_single_connection_point(point, cell_geometry, line_gdf):\n",
    "    \"\"\"\n",
    "    For a given point (centroid) and cell geometry:\n",
    "    - If any lines intersect the cell, find the nearest point on them (clipped to cell).\n",
    "    - Else, find the nearest point on any global line.\n",
    "    Returns: (nearest_point, distance)\n",
    "    \"\"\"\n",
    "    # 1. Try to find intersecting lines\n",
    "    intersecting_lines = line_gdf[line_gdf.geometry.intersects(cell_geometry)].copy()\n",
    "\n",
    "    if not intersecting_lines.empty:\n",
    "        # Clip the intersecting lines to the cell\n",
    "        intersecting_lines[\"geometry\"] = intersecting_lines.geometry.intersection(cell_geometry)\n",
    "        lines_to_search = intersecting_lines\n",
    "    else:\n",
    "        # Fallback: use all lines globally\n",
    "        lines_to_search = line_gdf\n",
    "\n",
    "    # 2. Find the nearest geometry among selected lines\n",
    "    distances = lines_to_search.geometry.apply(lambda line: point.distance(line))\n",
    "    nearest_geom = lines_to_search.loc[distances.idxmin(), \"geometry\"]\n",
    "\n",
    "    # 3. Get the exact nearest point on that geometry\n",
    "    nearest_point = nearest_geom.interpolate(nearest_geom.project(point))\n",
    "    distance = point.distance(nearest_point)\n",
    "\n",
    "    return nearest_point, distance\n",
    "\n",
    "\n"
   ]
  },
  {
   "cell_type": "code",
   "execution_count": null,
   "metadata": {},
   "outputs": [],
   "source": [
    "# Ensure centroid is prepared once\n",
    "cells[\"centroid\"] = cells.apply(lambda row: Point(row[\"x\"], row[\"y\"]), axis=1)\n",
    "\n",
    "# Apply to each row to compute the single connection point\n",
    "cells[[\"nearest_connection_point\", \"nearest_distance\"]] = cells.apply(\n",
    "    lambda row: find_nearest_single_connection_point(row[\"centroid\"], row[\"geometry\"], lines),\n",
    "    axis=1, result_type=\"expand\"\n",
    ")\n"
   ]
  },
  {
   "cell_type": "code",
   "execution_count": null,
   "metadata": {},
   "outputs": [],
   "source": [
    "import matplotlib.pyplot as plt\n",
    "import geopandas as gpd\n",
    "import contextily as ctx\n",
    "import matplotlib.cm as cm\n",
    "import matplotlib.colors as mcolors\n",
    "\n",
    "# Plot nearest points\n",
    "import matplotlib.patheffects as pe\n",
    "data=lines_filtered\n",
    "# Ensure CRS\n",
    "if cells.crs is None:\n",
    "    cells = cells.set_crs(epsg=3587)\n",
    "if data.crs is None:\n",
    "    data = data.set_crs(epsg=3587)\n",
    "\n",
    "# Validate geometries\n",
    "cells = cells[cells.is_valid]\n",
    "data = data[data.is_valid]\n",
    "\n",
    "# Setup colormap\n",
    "unique_voltages = sorted(data['voltage'].dropna().unique())\n",
    "cmap = cm.get_cmap('tab10', len(unique_voltages))\n",
    "color_map = dict(zip(unique_voltages, cmap.colors))\n",
    "\n",
    "# Plot setup\n",
    "fig, ax = plt.subplots(figsize=(12, 12))\n",
    "ax.set_facecolor(\"None\")\n",
    "\n",
    "# plot_with_shadow(cells, ax, color=\"grey\", alpha=0.5, edgecolor=\"black\", linewidth=0.5)\n",
    "cells.plot(ax=ax, color='grey',alpha=0.2, edgecolor=\"black\", linewidth=1)\n",
    "\n",
    "# Plot nearest points with glowing effect\n",
    "cells.set_geometry(\"nearest_connection_point\").plot(\n",
    "    ax=ax, \n",
    "    color=\"red\", \n",
    "    markersize=15, \n",
    "    alpha=1, \n",
    "    label=\"Within Grid Nearest\",\n",
    "    path_effects=[pe.withStroke(linewidth=5, foreground=\"yellow\", alpha=0.2)]\n",
    ")\n",
    "# cells.set_geometry(\"else_nearest\").plot(\n",
    "#     ax=ax, \n",
    "#     color=\"navy\", \n",
    "#     markersize=15, \n",
    "#     alpha=0.3, \n",
    "#     label=\"Else Nearest Points\",\n",
    "#     path_effects=[pe.withStroke(linewidth=5, foreground=\"cyan\", alpha=0.4)]\n",
    "# )\n",
    "\n",
    "# Plot data points with voltage colors\n",
    "for voltage_level in unique_voltages:\n",
    "    subset = data[data['voltage'] == voltage_level]\n",
    "    subset.plot(ax=ax, color=color_map[voltage_level], markersize=50, label=f'Line (v): {voltage_level}', alpha=0.3, edgecolor='white', linewidth=2)\n",
    "    \n",
    "\n",
    "# Add clean basemap (no labels for a cleaner look)\n",
    "# ctx.add_basemap(ax, source=ctx.providers.OpenStreetMap.Mapnik, alpha=0.1)\n",
    "\n",
    "# Plot aesthetics\n",
    "ax.set_title(\"Albania\", fontsize=16, fontweight='bold', pad=15)\n",
    "ax.axis(\"off\")\n",
    "\n",
    "# Custom legend (remove duplicates)\n",
    "handles, labels = ax.get_legend_handles_labels()\n",
    "by_label = dict(zip(labels, handles))\n",
    "ax.legend(by_label.values(), by_label.keys(), loc='upper left', bbox_to_anchor=(0.8, 1), frameon=False, fontsize=9)\n",
    "\n",
    "plt.tight_layout()\n",
    "plt.show()\n"
   ]
  },
  {
   "cell_type": "code",
   "execution_count": null,
   "metadata": {},
   "outputs": [],
   "source": [
    "# RES_module.datahandler.to_store(RES_module.gridcells.resource_grid_cells,'cells')"
   ]
  },
  {
   "cell_type": "code",
   "execution_count": null,
   "metadata": {},
   "outputs": [],
   "source": [
    "# RES_module.gridcells.resource_grid_cells"
   ]
  },
  {
   "cell_type": "code",
   "execution_count": null,
   "metadata": {},
   "outputs": [],
   "source": [
    "# datahandler.from_store('cells')"
   ]
  },
  {
   "cell_type": "code",
   "execution_count": null,
   "metadata": {},
   "outputs": [],
   "source": [
    "RES_module.gridcells.region_boundary"
   ]
  },
  {
   "cell_type": "code",
   "execution_count": null,
   "metadata": {},
   "outputs": [],
   "source": [
    "A=RES_module.find_grid_nodes()"
   ]
  },
  {
   "cell_type": "code",
   "execution_count": null,
   "metadata": {},
   "outputs": [],
   "source": [
    "# RES_module.build()"
   ]
  },
  {
   "cell_type": "code",
   "execution_count": null,
   "metadata": {},
   "outputs": [],
   "source": []
  },
  {
   "cell_type": "markdown",
   "metadata": {},
   "source": []
  },
  {
   "cell_type": "code",
   "execution_count": null,
   "metadata": {},
   "outputs": [],
   "source": [
    "cells=datahandler.from_store('cells')\n",
    "boundary=datahandler.from_store('boundary')\n",
    "solar_clusters=datahandler.from_store('clusters/solar')\n",
    "wind_clusters=datahandler.from_store('clusters/wind')\n",
    "solar_clusters_ts=datahandler.from_store('timeseries/clusters/solar')\n",
    "wind_clusters_ts=datahandler.from_store('timeseries/clusters/wind')"
   ]
  },
  {
   "cell_type": "code",
   "execution_count": null,
   "metadata": {},
   "outputs": [],
   "source": [
    "resource_clusters_solar,cluster_timeseries_solar=RES_module.select_top_sites(solar_clusters,\n",
    "                                                                solar_clusters_ts,\n",
    "                                                                    resource_max_capacity=10)\n",
    "\n",
    "resource_clusters_wind,cluster_timeseries_solar=RES_module.select_top_sites(wind_clusters,\n",
    "                                                                wind_clusters_ts,\n",
    "                                                                    resource_max_capacity=20)"
   ]
  },
  {
   "cell_type": "code",
   "execution_count": null,
   "metadata": {},
   "outputs": [],
   "source": [
    "# resource_clusters_solar.plot('potential_capacity',legend=True)\n",
    "# resource_clusters_wind.plot('potential_capacity',legend=True)"
   ]
  },
  {
   "cell_type": "code",
   "execution_count": null,
   "metadata": {},
   "outputs": [],
   "source": [
    "import matplotlib.pyplot as plt\n",
    "import geopandas as gpd\n",
    "import pandas as pd\n",
    "legend_x_ax_offset=1\n",
    "# Ensure 'Region' is in the columns for both boundary and cells\n",
    "if 'Region' not in boundary.columns:\n",
    "    boundary = boundary.reset_index(inplace=True)\n",
    "\n",
    "# Assign a number to each region\n",
    "boundary['Region_Number'] = range(1, len(boundary) + 1)\n",
    "\n",
    "# Define custom bins and labels for solar and wind capacity\n",
    "solar_bins = [0, 100, 200, 300, 500, float('inf')]  # Custom ranges\n",
    "solar_labels = ['<100','100-200', '200-300', '300-500','>500']  # Labels for legend\n",
    "\n",
    "# Define custom bins and labels for solar and wind capacity\n",
    "wind_bins = [0, 300, 500, 1000, 2000,3000, float('inf')]  # Custom ranges\n",
    "wind_labels = ['<300','300-500', '500-1000', '1000-2000','2000-3000', '>3000']  # Labels for legend\n",
    "\n",
    "# Categorize potential_capacity_solar and potential_capacity_wind into bins\n",
    "resource_clusters_solar['solar_category'] = pd.cut(resource_clusters_solar['potential_capacity'], bins=solar_bins, labels=solar_labels, include_lowest=True)\n",
    "resource_clusters_wind['wind_category'] = pd.cut(resource_clusters_wind['potential_capacity'], bins=wind_bins, labels=wind_labels, include_lowest=True)\n",
    "\n",
    "# Create figure and axes for side-by-side plotting\n",
    "fig, (ax1, ax2) = plt.subplots(figsize=(18, 8), ncols=2)\n",
    "fig.suptitle(\"Potential Sites for Targeted Capacity Investments\", fontsize=16,weight='bold')\n",
    "# Set axis off for both subplots\n",
    "ax1.set_axis_off()\n",
    "ax2.set_axis_off()\n",
    "\n",
    "# Shadow effect offset\n",
    "shadow_offset = 0.01\n",
    "\n",
    "# Plot solar map on ax1\n",
    "# Add shadow effect for solar map\n",
    "boundary.geometry = boundary.geometry.translate(xoff=shadow_offset, yoff=-shadow_offset)\n",
    "boundary.plot(ax=ax1, color='None', edgecolor='grey', linewidth=1, alpha=0.7)  # Shadow layer\n",
    "boundary.geometry = boundary.geometry.translate(xoff=-shadow_offset, yoff=shadow_offset)\n",
    "\n",
    "# Plot solar cells\n",
    "resource_clusters_solar.plot(column='solar_category', ax=ax1, cmap='Wistia', legend=True, \n",
    "           legend_kwds={'title': \"Solar Capacity (MW)\", 'loc': 'upper right','bbox_to_anchor':(legend_x_ax_offset,1), 'frameon': False})\n",
    "\n",
    "# Plot actual boundary for solar map\n",
    "boundary.plot(ax=ax1, facecolor='none', edgecolor='black', linewidth=0.2, alpha=0.7)\n",
    "\"\"\"\n",
    "# Annotate region numbers for solar map\n",
    "for idx, row in boundary.iterrows():\n",
    "    centroid = row.geometry.centroid\n",
    "    ax1.annotate(f\"{row['Region_Number']}\", \n",
    "                 xy=(centroid.x, centroid.y), \n",
    "                 ha='center', va='center',\n",
    "                 fontsize=7, color='black',\n",
    "                 bbox=dict(facecolor='white', edgecolor='none', alpha=0.7, boxstyle='round,pad=0.2'))\n",
    "\"\"\"\n",
    "# Plot wind map on ax2\n",
    "# Add shadow effect for wind map\n",
    "boundary.geometry = boundary.geometry.translate(xoff=shadow_offset, yoff=-shadow_offset)\n",
    "boundary.plot(ax=ax2, color='None', edgecolor='grey', linewidth=1, alpha=0.7)  # Shadow layer\n",
    "boundary.geometry = boundary.geometry.translate(xoff=-shadow_offset, yoff=shadow_offset)\n",
    "\n",
    "# Plot wind cells\n",
    "resource_clusters_wind.plot(column='wind_category', ax=ax2, cmap='summer', legend=True, \n",
    "           legend_kwds={'title': \"Wind Capacity (MW)\", 'bbox_to_anchor':(legend_x_ax_offset,1), 'frameon': False})\n",
    "\n",
    "# Plot actual boundary for wind map\n",
    "boundary.plot(ax=ax2, facecolor='none', edgecolor='black', linewidth=0.2, alpha=0.7)\n",
    "\"\"\"\n",
    "# Annotate region numbers for wind map\n",
    "for idx, row in boundary.iterrows():\n",
    "    centroid = row.geometry.centroid\n",
    "    ax2.annotate(f\"{row['Region_Number']}\", \n",
    "                 xy=(centroid.x, centroid.y), \n",
    "                 ha='center', va='center',\n",
    "                 fontsize=8, color='black',\n",
    "                 bbox=dict(facecolor='white', edgecolor='none', alpha=0.7, boxstyle='round,pad=0.2'))\n",
    "\"\"\"\n",
    "# Adjust layout for cleaner appearance\n",
    "fig.patch.set_alpha(0)  # Make figure background transparent\n",
    "plt.tight_layout()\n",
    "\n",
    "# Show the side-by-side plot\n",
    "\n",
    "# plt.savefig('solar_wind_capacity_map.png',dpi=300)\n",
    "plt.show()"
   ]
  },
  {
   "cell_type": "code",
   "execution_count": null,
   "metadata": {},
   "outputs": [],
   "source": [
    "resource_clusters_wind.plot(column='potential_capacity',cmap='summer', legend=True,)"
   ]
  }
 ],
 "metadata": {
  "kernelspec": {
   "display_name": "RES",
   "language": "python",
   "name": "python3"
  },
  "language_info": {
   "codemirror_mode": {
    "name": "ipython",
    "version": 3
   },
   "file_extension": ".py",
   "mimetype": "text/x-python",
   "name": "python",
   "nbconvert_exporter": "python",
   "pygments_lexer": "ipython3",
   "version": "3.12.7"
  }
 },
 "nbformat": 4,
 "nbformat_minor": 2
}
