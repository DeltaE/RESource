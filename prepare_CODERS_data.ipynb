{
 "cells": [
  {
   "cell_type": "code",
   "execution_count": 4,
   "id": "d2bf2095",
   "metadata": {},
   "outputs": [],
   "source": [
    "import requests\n",
    "import pandas as pd\n",
    "import numpy as np\n",
    "import seaborn as sns\n",
    "from matplotlib import pyplot as plt\n",
    "import yaml\n",
    "import logging as log\n",
    "import os\n",
    "\n",
    "import plotly.express as px\n",
    "import plotly.graph_objects as go\n",
    "import plotly.io as pio\n",
    "from plotly.subplots import make_subplots\n",
    "\n",
    "import geopandas as gpd\n",
    "from shapely.geometry import Point"
   ]
  },
  {
   "cell_type": "code",
   "execution_count": 17,
   "id": "33e4149d",
   "metadata": {},
   "outputs": [],
   "source": [
    "import linkingtool.linking_utility as utils\n",
    "import linkingtool.linking_vis as vis\n",
    "import linkingtool.linking_solar as solar\n",
    "from linkingtool.attributes_parser import AttributesParser"
   ]
  },
  {
   "cell_type": "code",
   "execution_count": 6,
   "id": "366e52ce",
   "metadata": {
    "lines_to_next_cell": 1
   },
   "outputs": [],
   "source": [
    "def convert_coders_df_to_gdf(df):\n",
    "    df=df.copy()\n",
    "    # Create a geometry column\n",
    "    df.loc[:,'geometry'] = df.apply(lambda row: Point(row['longitude'], row['latitude']), axis=1)\n",
    "\n",
    "    # Convert the DataFrame to a GeoDataFrame\n",
    "    gdf = gpd.GeoDataFrame(df, geometry='geometry').set_crs(epsg=4326, inplace=True)\n",
    "\n",
    "    # Set a coordinate reference system (CRS) if known, e.g., WGS84 (EPSG:4326)\n",
    "    gdf.set_crs(epsg=4326, inplace=True)\n",
    "    return gdf"
   ]
  },
  {
   "cell_type": "markdown",
   "id": "603cab3c",
   "metadata": {},
   "source": [
    "- Load CONFIG"
   ]
  },
  {
   "cell_type": "code",
   "execution_count": 7,
   "id": "1f6dfc9b",
   "metadata": {},
   "outputs": [],
   "source": [
    "config_path:str='config/config_linking_tool.yml'\n",
    "config:dict=utils.load_config(config_path)\n",
    "current_region=config['regional_info']['region_1']\n",
    "_CRC_=current_region['code'] # Current Region Code (CRC), later to be configured with the user config file."
   ]
  },
  {
   "cell_type": "code",
   "execution_count": 8,
   "id": "5e7ece36",
   "metadata": {},
   "outputs": [],
   "source": [
    "CODERS_data:dict= config['CODERS']\n",
    "url=CODERS_data['url_1']\n",
    "api_elias=CODERS_data['api_key']['Elias']\n",
    "query=\"?key=\"+api_elias\n",
    "\n",
    "data_pull:dict=config['CODERS']['data_pull']"
   ]
  },
  {
   "cell_type": "markdown",
   "id": "8e2a9592",
   "metadata": {},
   "source": [
    "-  Create Directories"
   ]
  },
  {
   "cell_type": "markdown",
   "id": "fa4b7765",
   "metadata": {},
   "source": [
    "## Tables"
   ]
  },
  {
   "cell_type": "markdown",
   "id": "693085ed",
   "metadata": {},
   "source": [
    "-  Create Directories"
   ]
  },
  {
   "cell_type": "code",
   "execution_count": null,
   "id": "794c3d96",
   "metadata": {},
   "outputs": [],
   "source": [
    "# 'coders or 'cef'"
   ]
  },
  {
   "cell_type": "code",
   "execution_count": 9,
   "id": "0a5ff33f",
   "metadata": {},
   "outputs": [
    {
     "name": "stdout",
     "output_type": "stream",
     "text": [
      "CEF data available:\n",
      " ['benchmark_prices', 'butane', 'crude_oil_production', 'electricity_capacity', 'electricity_capacity_technology', 'electricity_generation', 'electricity_generation_technology', 'electricity_interchange', 'electricity_primary_demand', 'end_use_demand', 'end_use_prices', 'ethane', 'greenhouse_gas_emissions', 'hydrogen_production', 'macro_indicators', 'natural_gas_drilling', 'natural_gas_production', 'pentanes_plus', 'propane']\n"
     ]
    }
   ],
   "source": [
    "tables_list = [t for t in requests.get(url+\"/tables/cef\"+query).json()]\n",
    "tables_list\n",
    "print(f\"CEF data available:\\n {tables_list}\")"
   ]
  },
  {
   "cell_type": "code",
   "execution_count": 10,
   "id": "791e7999",
   "metadata": {},
   "outputs": [
    {
     "name": "stdout",
     "output_type": "stream",
     "text": [
      "CODERS data available:\n",
      " ['nodes', 'substations', 'junctions', 'generators', 'generation_generic', 'natural_gas_prices', 'natural_gas_prices_annual', 'interface_capacities', 'intertie_capacity', 'storage', 'transfer_capacities_copper', 'transmission_generic', 'transmission_lines', 'wind_generators', 'contracts', 'CA_system_parameters', 'Canadian_home_heating_survey_2021_data', 'Canadian_home_heating_survey_2021_datamap', 'annual_demand_and_efficiencies', 'forecasted_annual_demand', 'forecasted_peak_demand', 'generation_cost_evolution', 'generation_planning_reserve', 'grid_cell_info', 'hydro_capacity_factor', 'hydro_cascade', 'hydro_existing', 'hydro_greenfield', 'hydro_pumped_storage', 'hydro_renewal', 'international_transfers', 'interprovincial_transfers', 'provincial_demand', 'references', 'regional_electrified_demand', 'regional_heat_demand', 'results', 'results_types', 'wind_capacity_factor', 'solar_capacity_factor']\n"
     ]
    }
   ],
   "source": [
    "tables_list = [t for t in requests.get(url+\"/tables/coders\"+query).json()]\n",
    "tables_list\n",
    "print(f\"CODERS data available:\\n {tables_list}\")"
   ]
  },
  {
   "cell_type": "markdown",
   "id": "b3ac9cd5",
   "metadata": {},
   "source": [
    "### transmission_generic"
   ]
  },
  {
   "cell_type": "code",
   "execution_count": 11,
   "id": "e05bf8e6",
   "metadata": {},
   "outputs": [
    {
     "name": "stdout",
     "output_type": "stream",
     "text": [
      "transmission_generic data saved to:\n",
      " data/downloaded_data/CODERS/network/transmission_generic.csv\n"
     ]
    }
   ],
   "source": [
    "table_name='transmission_generic'\n",
    "transmission_generic = pd.DataFrame.from_dict(requests.get(url+f\"/{table_name}\"+query).json())\n",
    "\n",
    "data=transmission_generic\n",
    "file_path:str=os.path.join(data_pull['root'],data_pull[f'{table_name}'])\n",
    "data.to_csv(file_path)\n",
    "print(f\"{table_name} data saved to:\\n {file_path}\")"
   ]
  },
  {
   "cell_type": "code",
   "execution_count": null,
   "id": "5e2c5174",
   "metadata": {},
   "outputs": [],
   "source": [
    "# table_name='grid_cell_info'\n",
    "# grid_cell_info = pd.DataFrame.from_dict(requests.get(url+f\"/{table_name}\"+query).json())\n",
    "# grid_cell_info_gdf=convert_coders_df_to_gdf(grid_cell_info)\n",
    "# # grid_cell_info_gdf.explore('balancing_area')"
   ]
  },
  {
   "cell_type": "markdown",
   "id": "767e58a3",
   "metadata": {},
   "source": [
    "### macro_indicators"
   ]
  },
  {
   "cell_type": "code",
   "execution_count": null,
   "id": "e43b0766",
   "metadata": {},
   "outputs": [],
   "source": [
    "table_name='macro_indicators'\n",
    "macro_indicators = pd.DataFrame.from_dict(requests.get(url+f\"/cef/{table_name}\"+query).json())\n",
    "for scenario in macro_indicators.scenario:\n",
    "    data=macro_indicators\n",
    "    scenario_data=data[data['scenario']==scenario]\n",
    "    file_path:str=os.path.join(data_pull['root'],'macro_indicators',f'{table_name}_{scenario}.csv')\n",
    "    scenario_data.to_csv(file_path)"
   ]
  },
  {
   "cell_type": "markdown",
   "id": "210f9858",
   "metadata": {},
   "source": [
    "### Emission"
   ]
  },
  {
   "cell_type": "code",
   "execution_count": null,
   "id": "9d0134e7",
   "metadata": {},
   "outputs": [],
   "source": [
    "table_name='greenhouse_gas_emissions'\n",
    "greenhouse_gas_emissions = pd.DataFrame.from_dict(requests.get(url+f\"/cef/{table_name}\"+query).json())\n",
    "\n",
    "for scenario in greenhouse_gas_emissions.scenario:\n",
    "    data=greenhouse_gas_emissions\n",
    "    scenario_data=data[data['scenario']==scenario]\n",
    "    file_path:str=os.path.join(data_pull['root'],'emission',f'{table_name}_{scenario}.csv')\n",
    "    scenario_data.to_csv(file_path)\n",
    "    print(f\"{table_name} data saved to:\\n {file_path}\")"
   ]
  },
  {
   "cell_type": "markdown",
   "id": "643dc0d5",
   "metadata": {},
   "source": [
    "### end_use_demand"
   ]
  },
  {
   "cell_type": "code",
   "execution_count": null,
   "id": "b369bcd6",
   "metadata": {},
   "outputs": [],
   "source": [
    "table_name='end_use_demand'\n",
    "end_use_demand = pd.DataFrame.from_dict(requests.get(url+f\"/cef/{table_name}\"+query).json())\n",
    "\n",
    "region_mask=end_use_demand['region']==current_region['name']\n",
    "regional_end_use_demand=end_use_demand[region_mask]\n",
    "regional_end_use_demand_elec=regional_end_use_demand[regional_end_use_demand['variable']=='Electricity']\n",
    "\n",
    "for scenario in regional_end_use_demand['scenario'].unique():\n",
    "    data=regional_end_use_demand\n",
    "    scenario_data=data[data['scenario']==scenario]\n",
    "    file_path:str=os.path.join(data_pull['root'],'demand',f'{_CRC_}_{table_name}_{scenario}.csv')\n",
    "    scenario_data.to_csv(file_path)\n",
    "\n",
    "# Iterate over unique scenarios\n",
    "for scenario in regional_end_use_demand_elec['scenario'].unique():\n",
    "    # Filter data for the current scenario and year >= 2021\n",
    "    df_filtered = (regional_end_use_demand_elec[regional_end_use_demand_elec['scenario'] == scenario]\n",
    "                   .query('year >= 2021')\n",
    "                   .assign(value=pd.to_numeric(regional_end_use_demand_elec['value'], errors='coerce'))\n",
    "                   .groupby(['sector', 'year'], as_index=False)['value'].sum())\n",
    "\n",
    "    # Clean sector names and pivot the DataFrame\n",
    "    df_filtered['sector'] = df_filtered['sector'].str.replace('\\r', '', regex=False)\n",
    "    df_pivot = df_filtered.pivot_table(index='year', columns='sector', values='value', aggfunc='sum').fillna(0).reset_index()\n",
    "\n",
    "    # Reorder columns if present\n",
    "    sectors = ['Commercial', 'Industrial', 'Residential', 'Transportation'] #, 'Total End-Use'\n",
    "    df_pivot = df_pivot[['year'] + [sector for sector in sectors if sector in df_pivot.columns]]\n",
    "\n",
    "    # Save the DataFrame to CSV\n",
    "    file_path = os.path.join(data_pull['root'], 'demand', f'{_CRC_}_sectoral_elec_{table_name}_{scenario}.csv')\n",
    "    df_pivot.to_csv(file_path, index=False)\n",
    "    \n",
    "    # Create and save a stacked area chart\n",
    "    fig = px.area(df_pivot, x='year', y=df_pivot.columns[1:], \n",
    "                  labels={'value': 'Pj', 'year': 'Year'}, \n",
    "                  title=f'Stacked Area Chart by Sector ({scenario})')\n",
    "    chart_save_to = os.path.join('vis', f'{_CRC_}_sectoral_elec_{table_name}_{scenario}.html')\n",
    "    fig.write_html(chart_save_to)\n",
    "\n"
   ]
  },
  {
   "cell_type": "markdown",
   "id": "97e0e9d7",
   "metadata": {},
   "source": [
    "### benchmark_prices"
   ]
  },
  {
   "cell_type": "code",
   "execution_count": null,
   "id": "416caf33",
   "metadata": {},
   "outputs": [],
   "source": [
    "table_name='benchmark_prices'\n",
    "benchmark_prices = pd.DataFrame.from_dict(requests.get(url+f\"/cef/{table_name}\"+query).json())"
   ]
  },
  {
   "cell_type": "code",
   "execution_count": null,
   "id": "bb183a24",
   "metadata": {},
   "outputs": [],
   "source": [
    "for scenario in benchmark_prices.scenario:\n",
    "    data=benchmark_prices\n",
    "    scenario_data=data[data['scenario']==scenario]\n",
    "    file_path:str=os.path.join(data_pull['root'],'fuel_price',f'{table_name}_{scenario}.csv')\n",
    "    scenario_data.to_csv(file_path)\n",
    "    print(f\"{table_name} data saved to:\\n {file_path}\")"
   ]
  },
  {
   "cell_type": "markdown",
   "id": "3cf72c75",
   "metadata": {},
   "source": [
    "### Generators"
   ]
  },
  {
   "cell_type": "code",
   "execution_count": 14,
   "id": "86e19675",
   "metadata": {},
   "outputs": [
    {
     "name": "stdout",
     "output_type": "stream",
     "text": [
      "generators data saved to:\n",
      " data/downloaded_data/CODERS/supply/generators.csv\n"
     ]
    }
   ],
   "source": [
    "table_name='generators'\n",
    "generators = pd.DataFrame.from_dict(requests.get(url+f\"/{table_name}\"+query).json())\n",
    "data=generators\n",
    "\n",
    "file_path:str=os.path.join(data_pull['root'],data_pull[f'{table_name}'])\n",
    "data.to_csv(file_path)\n",
    "print(f\"{table_name} data saved to:\\n {file_path}\")"
   ]
  },
  {
   "cell_type": "code",
   "execution_count": 16,
   "id": "8349d4ec",
   "metadata": {},
   "outputs": [
    {
     "data": {
      "text/plain": [
       "array(['AB', 'BC', 'MB', 'NB', 'NL', 'NS', 'ON', 'PE', 'QC', 'SK'],\n",
       "      dtype=object)"
      ]
     },
     "execution_count": 16,
     "metadata": {},
     "output_type": "execute_result"
    }
   ],
   "source": [
    "data.province.unique()"
   ]
  },
  {
   "cell_type": "code",
   "execution_count": null,
   "id": "1e750cd8",
   "metadata": {},
   "outputs": [],
   "source": [
    "data"
   ]
  },
  {
   "cell_type": "code",
   "execution_count": 13,
   "id": "7f332f1d",
   "metadata": {},
   "outputs": [
    {
     "name": "stdout",
     "output_type": "stream",
     "text": [
      "generators data saved to:\n",
      " data/downloaded_data/CODERS/supply/generators.csv\n",
      "Provincial generators data saved to:\n",
      " data/downloaded_data/CODERS/supply/BC_generators.csv\n"
     ]
    }
   ],
   "source": [
    "table_name='generators'\n",
    "generators = pd.DataFrame.from_dict(requests.get(url+f\"/{table_name}\"+query).json())\n",
    "data=generators\n",
    "\n",
    "file_path:str=os.path.join(data_pull['root'],data_pull[f'{table_name}'])\n",
    "data.to_csv(file_path)\n",
    "print(f\"{table_name} data saved to:\\n {file_path}\")\n",
    "\n",
    "# Provincial data trimming\n",
    "province_mask=generators['province']==_CRC_\n",
    "province_generators=generators[province_mask]\n",
    "data=province_generators\n",
    "file_path:str=os.path.join(data_pull['root'],'supply',f'{_CRC_}_{table_name}.csv')\n",
    "data.to_csv(file_path)\n",
    "print(f\"Provincial {table_name} data saved to:\\n {file_path}\")\n",
    "\n",
    "province_generators_gdf=convert_coders_df_to_gdf(province_generators)"
   ]
  },
  {
   "cell_type": "markdown",
   "id": "8bb4b6fb",
   "metadata": {},
   "source": [
    "### hydro_cascade"
   ]
  },
  {
   "cell_type": "code",
   "execution_count": null,
   "id": "5e5d98b7",
   "metadata": {},
   "outputs": [],
   "source": [
    "table_name='hydro_cascade'\n",
    "hydro_cascade = pd.DataFrame.from_dict(requests.get(url+f\"/{table_name}\"+query).json())\n",
    "data=hydro_cascade\n",
    "\n",
    "file_path:str=os.path.join(data_pull['root'],data_pull[f'{table_name}'])\n",
    "data.to_csv(file_path)\n",
    "print(f\"{table_name} data saved to:\\n {file_path}\")\n",
    "\n",
    "# Provincial data trimming\n",
    "province_mask=hydro_cascade['province']==current_region['name']\n",
    "province_hydro_cascade=hydro_cascade[province_mask]\n",
    "\n",
    "data=province_hydro_cascade\n",
    "file_path:str=os.path.join(data_pull['root'],'supply',f'{_CRC_}_{table_name}.csv')\n",
    "data.to_csv(file_path)\n",
    "print(f\"Provincial {table_name} data saved to:\\n {file_path}\")\n",
    "\n",
    "province_hydro_cascade_gdf=convert_coders_df_to_gdf(province_hydro_cascade)"
   ]
  },
  {
   "cell_type": "markdown",
   "id": "2ed15b0e",
   "metadata": {},
   "source": [
    "### Hydro (existing)"
   ]
  },
  {
   "cell_type": "code",
   "execution_count": null,
   "id": "094afc25",
   "metadata": {},
   "outputs": [],
   "source": [
    "table_name='hydro_existing'\n",
    "hydro_existing = pd.DataFrame.from_dict(requests.get(url+f\"/{table_name}\"+query).json())\n",
    "\n",
    "data=hydro_existing\n",
    "file_path:str=os.path.join(data_pull['root'],data_pull[f'{table_name}'])\n",
    "data.to_csv(file_path)\n",
    "print(f\"{table_name} data saved to:\\n {file_path}\")\n",
    "\n",
    "# Provincial data trimming\n",
    "province_mask=hydro_existing['Province']==_CRC_\n",
    "province_hydro_existing=hydro_existing[province_mask]\n",
    "\n",
    "data=province_hydro_existing\n",
    "file_path:str=os.path.join(data_pull['root'],'supply',f'{_CRC_}_{table_name}.csv')\n",
    "data.to_csv(file_path)\n",
    "print(f\"Provincial {table_name} data saved to:\\n {file_path}\")"
   ]
  },
  {
   "cell_type": "markdown",
   "id": "6cf4dbec",
   "metadata": {},
   "source": [
    "### Wind Generators"
   ]
  },
  {
   "cell_type": "code",
   "execution_count": null,
   "id": "478e82e4",
   "metadata": {
    "lines_to_next_cell": 0
   },
   "outputs": [],
   "source": [
    "table_name='wind_generators'\n",
    "wind_generators = pd.DataFrame.from_dict(requests.get(url+f\"/{table_name}\"+query).json())\n",
    "\n",
    "data=wind_generators\n",
    "file_path:str=os.path.join(data_pull['root'],'supply',f'{_CRC_}_{table_name}.csv')\n",
    "data.to_csv(file_path)\n",
    "print(f\"{table_name} data saved to:\\n {file_path}\")\n",
    "\n",
    "# Provincial data trimming\n",
    "province_mask=wind_generators['province']==_CRC_\n",
    "province_wind_generators=wind_generators[province_mask]\n",
    "\n",
    "data=province_wind_generators\n",
    "file_path:str=os.path.join(data_pull['root'],'supply',f'{_CRC_}_{table_name}.csv')\n",
    "data.to_csv(file_path)\n",
    "print(f\"Provincial {table_name} data saved to:\\n {file_path}\")"
   ]
  },
  {
   "cell_type": "markdown",
   "id": "bd6b5d31",
   "metadata": {},
   "source": [
    "### Forecasted Annual Demand"
   ]
  },
  {
   "cell_type": "code",
   "execution_count": null,
   "id": "04cd17e9",
   "metadata": {},
   "outputs": [],
   "source": [
    "table_name='forecasted_annual_demand'\n",
    "forecasted_annual_demand:pd.DataFrame=pd.DataFrame.from_dict(requests.get(url+f\"/{table_name}\"+query).json())\n",
    "data=forecasted_annual_demand\n",
    "file_path:str=os.path.join(data_pull['root'],data_pull[f'{table_name}'])\n",
    "data.to_csv(file_path)\n",
    "print(f\"{table_name} data saved to:\\n {file_path}\")\n",
    "\n",
    "# Provincial data trimming\n",
    "province_mask=forecasted_annual_demand['province']==_CRC_\n",
    "province_forecasted_annual_demand=forecasted_annual_demand[province_mask]\n",
    "\n",
    "data=province_forecasted_annual_demand\n",
    "file_path:str=os.path.join(data_pull['root'],'demand',f'{_CRC_}_{table_name}.csv')\n",
    "data.to_csv(file_path)\n",
    "print(f\"Provincial {table_name} data saved to:\\n {file_path}\")"
   ]
  },
  {
   "cell_type": "markdown",
   "id": "fd59296b",
   "metadata": {},
   "source": [
    "### Forecasted Peak Demand"
   ]
  },
  {
   "cell_type": "code",
   "execution_count": null,
   "id": "1e11cba6",
   "metadata": {},
   "outputs": [],
   "source": [
    "table_name='forecasted_peak_demand'\n",
    "forecasted_peak_demand:pd.DataFrame=pd.DataFrame.from_dict(requests.get(url+f\"/{table_name}\"+query).json())\n",
    "\n",
    "data=forecasted_peak_demand\n",
    "file_path:str=os.path.join(data_pull['root'],data_pull[f'{table_name}'])\n",
    "data.to_csv(file_path)\n",
    "print(f\"{table_name} data saved to:\\n {file_path}\")\n",
    "\n",
    "# Provincial data trimming\n",
    "province_mask=forecasted_peak_demand['province']==_CRC_\n",
    "province_forecasted_peak_demand=forecasted_peak_demand[province_mask]\n",
    "\n",
    "data=province_forecasted_annual_demand\n",
    "file_path:str=os.path.join(data_pull['root'],'demand',f'{_CRC_}_{table_name}.csv')\n",
    "data.to_csv(file_path)\n",
    "print(f\"Provincial {table_name} data saved to:\\n {file_path}\")"
   ]
  },
  {
   "cell_type": "markdown",
   "id": "1216bd04",
   "metadata": {},
   "source": [
    "### Demand Profile"
   ]
  },
  {
   "cell_type": "markdown",
   "id": "6387d029",
   "metadata": {},
   "source": [
    "-  Create Directories"
   ]
  },
  {
   "cell_type": "code",
   "execution_count": null,
   "id": "d44338b0",
   "metadata": {},
   "outputs": [],
   "source": [
    "table_name='provincial_demand'\n",
    "demand_dataset = pd.DataFrame.from_dict(requests.get(url + f\"/{table_name}\" + query).json())"
   ]
  },
  {
   "cell_type": "code",
   "execution_count": null,
   "id": "eb9d5aa5",
   "metadata": {
    "lines_to_next_cell": 0
   },
   "outputs": [],
   "source": [
    "province_mask=demand_dataset['province']==_CRC_\n",
    "province_demand_dataset=demand_dataset[province_mask] \n",
    "print(F\"Demand Profile dataset for province - {current_region['name']} available for the following years -\\n{province_demand_dataset.year.values}\")\n",
    "\n",
    "\n",
    "year=2021\n",
    "print(f\" Year {year} selected\")\n",
    "province_demand_profile_yr = pd.DataFrame.from_dict(requests.get(url + f\"/{table_name}\" + query + f\"&year=2020&province={_CRC_}\").json())\n",
    "\n",
    "province_demand_profile_yr.set_index('local_time',inplace=True)\n",
    "province_demand_profile_yr.index = pd.to_datetime(province_demand_profile_yr.index)\n",
    "province_demand_profile_yr\n",
    "\n",
    "data=province_demand_profile_yr\n",
    "\n",
    "file_path:str=os.path.join(data_pull['root'],'demand',f'{_CRC_}_{table_name}_profile.csv')\n",
    "data.to_csv(file_path)\n",
    "print(f\"Provincial {table_name} data saved to:\\n {file_path}\")"
   ]
  },
  {
   "cell_type": "markdown",
   "id": "fc9784a3",
   "metadata": {},
   "source": [
    "#### Visualize demand profile"
   ]
  },
  {
   "cell_type": "code",
   "execution_count": null,
   "id": "f2a155c8",
   "metadata": {},
   "outputs": [],
   "source": [
    "# Resampling the data\n",
    "df=province_demand_profile_yr\n",
    "hourly_df = df['demand_MWh']\n",
    "daily_df = df['demand_MWh'].resample('D').mean()\n",
    "weekly_df = df['demand_MWh'].resample('W').mean()\n",
    "monthly_df = df['demand_MWh'].resample('ME').mean()\n",
    "quarterly_df = df['demand_MWh'].resample('QE').mean()\n",
    "\n",
    "# Create a figure\n",
    "fig = make_subplots(rows=1, cols=1)\n",
    "\n",
    "# Add traces for each aggregation type\n",
    "fig.add_trace(go.Scatter(x=hourly_df.index, y=hourly_df, mode='lines', name='Hourly'), row=1, col=1)\n",
    "fig.add_trace(go.Scatter(x=daily_df.index, y=daily_df, mode='lines', name='Daily', visible='legendonly'), row=1, col=1)\n",
    "fig.add_trace(go.Scatter(x=weekly_df.index, y=weekly_df, mode='lines', name='Weekly', visible='legendonly'), row=1, col=1)\n",
    "fig.add_trace(go.Scatter(x=monthly_df.index, y=monthly_df, mode='lines', name='Monthly', visible='legendonly'), row=1, col=1)\n",
    "fig.add_trace(go.Scatter(x=quarterly_df.index, y=quarterly_df, mode='lines', name='Quarterly', visible='legendonly'), row=1, col=1)\n",
    "\n",
    "\n",
    "# Define labels and ticks\n",
    "daily_ticks = hourly_df.index[::12]    # Every 36 hours\n",
    "daily_ticks = daily_df.index[::10]    # Every 10 days\n",
    "weekly_ticks = weekly_df.index[::3]  # Every 3 weeks\n",
    "monthly_ticks = monthly_df.index[::1]  # Every month\n",
    "\n",
    "# Add dropdown menu\n",
    "fig.update_layout(\n",
    "    updatemenus=[{\n",
    "        'buttons': [\n",
    "            {'label': 'Hourly', 'method': 'update', 'args': [\n",
    "                {'visible': [True, False, False, False, False]},\n",
    "                {'xaxis': {'title': 'Time', 'tickvals': daily_ticks, 'ticktext': daily_ticks.strftime('%Y-%m-%d %H:%M:%S')}},\n",
    "                {'yaxis': {'title': 'Demand (MWh)'}}\n",
    "            ]},\n",
    "            {'label': 'Daily', 'method': 'update', 'args': [\n",
    "                {'visible': [False, True, False, False, False]},\n",
    "                {'xaxis': {'title': 'Date', 'tickvals': daily_ticks, 'ticktext': daily_ticks.strftime('%Y-%m-%d')}},\n",
    "                {'yaxis': {'title': 'Demand (MWh)'}}\n",
    "            ]},\n",
    "            {'label': 'Weekly', 'method': 'update', 'args': [\n",
    "                {'visible': [False, False, True, False, False]},\n",
    "                {'xaxis': {'title': 'Week', 'tickvals': weekly_ticks, 'ticktext': weekly_ticks.strftime('%Y-W%U')}},\n",
    "                {'yaxis': {'title': 'Demand (MWh)'}}\n",
    "            ]},\n",
    "            {'label': 'Monthly', 'method': 'update', 'args': [\n",
    "                {'visible': [False, False, False, True, False]},\n",
    "                {'xaxis': {'title': 'Month', 'tickvals': monthly_ticks, 'ticktext': monthly_ticks.strftime('%Y-%m')}},\n",
    "                {'yaxis': {'title': 'Demand (MWh)'}}\n",
    "            ]},\n",
    "            {'label': 'Quarterly', 'method': 'update', 'args': [\n",
    "                {'visible': [False, False, False, False, True]},\n",
    "                {'xaxis': {'title': 'Quarter', 'tickvals': quarterly_df.index, 'ticktext': quarterly_df.index.strftime('%Y-Q%q')}},\n",
    "                {'yaxis': {'title': 'Demand (MWh)'}}\n",
    "            ]}\n",
    "        ],\n",
    "        'direction': 'down',\n",
    "        'showactive': True\n",
    "    }],\n",
    "    title='Demand in MWh over Time',\n",
    "    xaxis_title='Time',\n",
    "    yaxis_title='Demand (MWh)'\n",
    ")\n",
    "\n",
    "# Save the plot to an HTML file\n",
    "fig.write_html(f'vis/Demand_profile_{_CRC_}_{year}.html')\n",
    "print(f\"Provincial demand profile visuals saved as:\\n vis/Demand_profile_{_CRC_}_{year}.html\")\n",
    "\n",
    "# Display the plot\n",
    "pio.show(fig)"
   ]
  },
  {
   "cell_type": "markdown",
   "id": "649eb8d5",
   "metadata": {},
   "source": [
    "### Storage"
   ]
  },
  {
   "cell_type": "code",
   "execution_count": null,
   "id": "6b8a787f",
   "metadata": {
    "lines_to_next_cell": 2
   },
   "outputs": [],
   "source": [
    "table_name='storage'\n",
    "storage_df = pd.DataFrame.from_dict(requests.get(url+f\"/{table_name}\"+query).json())\n",
    "\n",
    "\n",
    "province_mask=storage_df['province']==_CRC_\n",
    "province_storage_df=storage_df[province_mask]\n",
    "if(len(province_storage_df)==0):\n",
    "    print(f\"No storage found for province - {current_region['name']}\")\n",
    "else:\n",
    "    data=province_storage_df\n",
    "\n",
    "    file_path:str=os.path.join(data_pull['root'],'supply',f'{_CRC_}_{table_name}_profile.pkl')\n",
    "    data.to_pickle(file_path)\n",
    "    print(f\"Provincial {table_name} data saved to:\\n {file_path}\")"
   ]
  },
  {
   "cell_type": "markdown",
   "id": "e3a468e3",
   "metadata": {},
   "source": [
    "# Generation Planning Reserve"
   ]
  },
  {
   "cell_type": "code",
   "execution_count": null,
   "id": "596111c5",
   "metadata": {},
   "outputs": [],
   "source": [
    "table_name='generation_planning_reserve'\n",
    "generation_planning_reserve = pd.DataFrame.from_dict(requests.get(url+f\"/{table_name}\"+query).json())\n",
    "\n",
    "province_mask=generation_planning_reserve['province']==current_region['name']\n",
    "province_generation_planning_reserve=generation_planning_reserve[province_mask]\n",
    "\n",
    "data=province_generation_planning_reserve\n",
    "file_path:str=os.path.join(data_pull['root'],'reserve',f'{_CRC_}_{table_name}.csv')\n",
    "data.to_csv(file_path)\n",
    "print(f\"Provincial {table_name} data saved to:\\n {file_path}\")"
   ]
  },
  {
   "cell_type": "code",
   "execution_count": null,
   "id": "9f14f8d1",
   "metadata": {},
   "outputs": [],
   "source": [
    "# table_name='annual_demand_and_efficiencies'\n",
    "# annual_demand_and_efficiencies = pd.DataFrame.from_dict(requests.get(url+f\"/{table_name}\"+query+\"/attributes\").json())"
   ]
  },
  {
   "cell_type": "markdown",
   "id": "cb02b02a",
   "metadata": {},
   "source": [
    "### generation_generic"
   ]
  },
  {
   "cell_type": "code",
   "execution_count": null,
   "id": "d36161e0",
   "metadata": {
    "lines_to_next_cell": 2
   },
   "outputs": [],
   "source": [
    "table_name='generation_generic'\n",
    "generation_generic = pd.DataFrame.from_dict(requests.get(url+f\"/{table_name}\"+query).json())\n",
    "\n",
    "data=generation_generic\n",
    "file_path:str=os.path.join(data_pull['root'],data_pull[f'{table_name}'])\n",
    "data.to_csv(file_path)\n",
    "print(f\"{table_name} data saved to:\\n {file_path}\")"
   ]
  },
  {
   "cell_type": "code",
   "execution_count": null,
   "id": "c782c7b6",
   "metadata": {},
   "outputs": [],
   "source": [
    "dropdown_columns=['typical_plant_size_MW',\n",
    "       'capital_cost_CAD_per_kW', 'capital_overhead_CAD_per_kW',\n",
    "       'overnight_capital_cost_CAD_per_kW',\n",
    "       'interest_during_construction_CAD_per_kW',\n",
    "       'implementation_costs_CAD_per_kW',\n",
    "       'project_definition_costs_CAD_per_kW',\n",
    "       'total_project_cost_2020_CAD_per_kW', 'economic_life', 'service_life',\n",
    "       'annualized_capital_cost_CAD_per_MWyear',\n",
    "       'fixed_om_cost_CAD_per_MWyear', 'variable_om_cost_CAD_per_MWh',\n",
    "       'construction_time', 'development_time',\n",
    "       'average_fuel_price_CAD_per_MMBtu', 'average_fuel_price_CAD_per_GJ',\n",
    "       'carbon_emissions', 'heat_rate', 'efficiency', 'min_plant_load',\n",
    "       'min_capacity_factor', 'max_capacity_factor', 'time_to_full_capacity',\n",
    "       'min_up_time_hours', 'min_down_time_hours', 'ramp_rate_percent_per_min',\n",
    "       'spinning_reserve_capability', 'forced_outage_rate',\n",
    "       'planned_outage_rate', 'startup_cost', 'shutdown_cost',\n",
    "       ]"
   ]
  },
  {
   "cell_type": "code",
   "execution_count": null,
   "id": "ae0567e4",
   "metadata": {},
   "outputs": [],
   "source": [
    "import pandas as pd\n",
    "import plotly.graph_objects as go\n",
    "from plotly.subplots import make_subplots"
   ]
  },
  {
   "cell_type": "code",
   "execution_count": null,
   "id": "1af99ca9",
   "metadata": {},
   "outputs": [],
   "source": [
    "color_palette = {\n",
    "    'typical_plant_size_MW': 'blue',\n",
    "    'capital_cost_CAD_per_kW': 'green',\n",
    "    'capital_overhead_CAD_per_kW': 'red',\n",
    "    'overnight_capital_cost_CAD_per_kW': 'purple',\n",
    "    'interest_during_construction_CAD_per_kW': 'orange',\n",
    "    'implementation_costs_CAD_per_kW': 'cyan',\n",
    "    'project_definition_costs_CAD_per_kW': 'magenta',\n",
    "    'total_project_cost_2020_CAD_per_kW': 'yellow',\n",
    "    'economic_life': 'pink',\n",
    "    'service_life': 'brown',\n",
    "    'annualized_capital_cost_CAD_per_MWyear': 'grey',\n",
    "    'fixed_om_cost_CAD_per_MWyear': 'teal',\n",
    "    'variable_om_cost_CAD_per_MWh': 'olive',\n",
    "    'construction_time': 'maroon',\n",
    "    'development_time': 'navy',\n",
    "    'average_fuel_price_CAD_per_MMBtu': 'lime',\n",
    "    'average_fuel_price_CAD_per_GJ': 'salmon',\n",
    "    'carbon_emissions': 'coral',\n",
    "    'heat_rate': 'gold',\n",
    "    'efficiency': 'plum',\n",
    "    'min_plant_load': 'khaki',\n",
    "    'min_capacity_factor': 'tan',\n",
    "    'max_capacity_factor': 'silver',\n",
    "    'time_to_full_capacity': 'indigo',\n",
    "    'min_up_time_hours': 'violet',\n",
    "    'min_down_time_hours': 'wheat',\n",
    "    'ramp_rate_percent_per_min': 'crimson',\n",
    "    'spinning_reserve_capability': 'azure',\n",
    "    'forced_outage_rate': 'beige',\n",
    "    'planned_outage_rate': 'lightgrey',\n",
    "    'startup_cost': 'peachpuff',\n",
    "    'shutdown_cost': 'lightblue'\n",
    "}"
   ]
  },
  {
   "cell_type": "code",
   "execution_count": null,
   "id": "afff1027",
   "metadata": {
    "lines_to_next_cell": 3
   },
   "outputs": [],
   "source": [
    "# Create an empty figure\n",
    "fig = make_subplots(rows=1, cols=1)\n",
    "\n",
    "# Create traces for each selected column\n",
    "traces = []\n",
    "for col in dropdown_columns:\n",
    "    # Sort the DataFrame by 'gen_type_copper' and the current column\n",
    "    sorted_df = generation_generic.sort_values(by=[col])\n",
    "\n",
    "    trace = go.Box(\n",
    "        x=sorted_df['gen_type_copper'],\n",
    "        y=sorted_df[col],\n",
    "        name=col,\n",
    "        marker_color=color_palette[col],\n",
    "        boxmean='sd',  # Show mean and standard deviation\n",
    "        whiskerwidth=0.5,\n",
    "        line=dict(width=2),\n",
    "        fillcolor=color_palette[col],\n",
    "        opacity=0.6,\n",
    "        hoverinfo='x+y+name'  # Show x, y, and trace name on hover\n",
    "    )\n",
    "    traces.append(trace)\n",
    "    fig.add_trace(trace)\n",
    "\n",
    "# Set the first trace to be visible initially\n",
    "fig.data[0].visible = True\n",
    "\n",
    "# Create dropdown menu\n",
    "dropdown_buttons = [\n",
    "    {'label': col, 'method': 'update', 'args': [{'visible': [col == trace.name for trace in traces]}, {'title': f'gen_type_copper vs {col}'}]}\n",
    "    for col in dropdown_columns\n",
    "]\n",
    "\n",
    "# Add dropdown menu to the layout\n",
    "fig.update_layout(\n",
    "    title='gen_type_copper vs Data Fields [Source: CODERS/generation_generic]',\n",
    "    updatemenus=[{\n",
    "        'buttons': dropdown_buttons,\n",
    "        'direction': 'down',\n",
    "        'showactive': True,\n",
    "        'x': 1.1, # Position dropdown\n",
    "        'xanchor': 'left',\n",
    "        'y': 1.15, # Position dropdown\n",
    "        'yanchor': 'top'\n",
    "    }],\n",
    "    xaxis_title='gen_type_copper',\n",
    "    yaxis_title='Value',\n",
    "    title_font=dict(size=24, family='Arial', color='rgba(0,0,0,0.8)'),\n",
    "    xaxis=dict(tickangle=-45),  # Rotate x-axis labels\n",
    "    plot_bgcolor='rgba(245,245,245,0.8)',  # Background color\n",
    "    paper_bgcolor='white',  # Overall background color\n",
    "    font=dict(family='Arial', size=12, color='rgba(0,0,0,0.8)'),\n",
    "    margin=dict(l=40, r=40, t=80, b=40)  # Adjust margins\n",
    ")\n",
    "\n",
    "# Save the figure to an HTML file and show it\n",
    "fig.write_html('vis/Generation_Generic_Datafields_from_CODERS_Enhanced.html')\n",
    "print(f\"Generic Generation Data visuals saved to:\\n vis/Generation_Generic_Datafields_from_CODERS_Enhanced.html\")\n",
    "# Display the plot\n",
    "pio.show(fig)"
   ]
  }
 ],
 "metadata": {
  "jupytext": {
   "cell_metadata_filter": "-all",
   "main_language": "python",
   "notebook_metadata_filter": "-all"
  },
  "kernelspec": {
   "display_name": "linkingtool",
   "language": "python",
   "name": "python3"
  },
  "language_info": {
   "codemirror_mode": {
    "name": "ipython",
    "version": 3
   },
   "file_extension": ".py",
   "mimetype": "text/x-python",
   "name": "python",
   "nbconvert_exporter": "python",
   "pygments_lexer": "ipython3",
   "version": "3.12.5"
  }
 },
 "nbformat": 4,
 "nbformat_minor": 5
}
