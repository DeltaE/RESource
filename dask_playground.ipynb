{
 "cells": [
  {
   "cell_type": "code",
   "execution_count": 1,
   "metadata": {},
   "outputs": [
    {
     "name": "stdout",
     "output_type": "stream",
     "text": [
      ">> Store initialized with the given path: data/store/resources_BC.h5\n",
      ">> Store initialized with the given path: data/store/resources_BC.h5\n"
     ]
    }
   ],
   "source": [
    "import geopandas as gpd\n",
    "import pandas as pd\n",
    "import dask.dataframe as dd\n",
    "import dask_geopandas as dgpd\n",
    "from linkingtool.hdf5_handler import DataHandler\n",
    "store=DataHandler('data/store/resources_BC.h5')\n",
    "from linkingtool.gwa import GWACells\n",
    "gwa=GWACells(resource_type='wind')"
   ]
  },
  {
   "cell_type": "code",
   "execution_count": 2,
   "metadata": {},
   "outputs": [],
   "source": [
    "cells=store.from_store('cells')\n",
    "geometries_with_index = list(zip(cells.index, cells.geometry))"
   ]
  },
  {
   "cell_type": "code",
   "execution_count": 3,
   "metadata": {},
   "outputs": [
    {
     "name": "stderr",
     "output_type": "stream",
     "text": [
      "2024-11-13 23:11:16,352 - INFO - >> Loading GADM boundaries (Sub-provincial | level =2) for British Columbia  from local file data/processed_data/regions/gadm41_Canada_L2_BC.geojson.\n",
      "2024-11-13 23:11:23,821 - INFO - >> 0 cells have been filtered due to Windspeed filter [0-50 m/s].\n",
      ">>> Cleaned data loaded for 34534034 GWA cells\n"
     ]
    }
   ],
   "source": [
    "data=gwa.prepare_GWA_data()# Create a new column in df for ERA5_cell index\n",
    "data['ERA5_cell'] = None\n",
    "data=dd.from_pandas(data,npartitions=16)"
   ]
  },
  {
   "cell_type": "code",
   "execution_count": 5,
   "metadata": {},
   "outputs": [],
   "source": [
    "import dask.dataframe as dd\n",
    "import geopandas as gpd\n",
    "from shapely.geometry import Point\n",
    "\n",
    "def assign_era5_cells(data, geometries_with_index):\n",
    "    \"\"\"Assign ERA5 cell indices to Dask DataFrame based on point containment within GeoDataFrame geometries.\"\"\"\n",
    "    \n",
    "    # Create a mapping of indices to geometries\n",
    "    geom_dict = {str(gdf_index): geom for gdf_index, geom in geometries_with_index}\n",
    "\n",
    "    # Function to find the ERA5 cell for a single row\n",
    "    def get_era5_cell(df):\n",
    "        result = []\n",
    "        for _, row in df.iterrows():\n",
    "            point = Point(row['x'], row['y'])\n",
    "            # Check which geometry contains the point\n",
    "            found_cell = None\n",
    "            for gdf_index, geom in geom_dict.items():\n",
    "                if geom.contains(point):\n",
    "                    found_cell = gdf_index  # Return the index of the first matching geometry\n",
    "                    break\n",
    "            result.append(found_cell)  # Append the found cell (or None if not found)\n",
    "        return pd.Series(result)  # Return a pandas Series\n",
    "\n",
    "    # Map the function over the Dask DataFrame using map_partitions\n",
    "    # This allows us to use the standard apply method in Pandas\n",
    "    data['ERA5_cell'] = data.map_partitions(get_era5_cell, meta=('ERA5_cell', 'object'))\n",
    "\n",
    "    return data\n",
    "\n",
    "# Example usage\n",
    "# Assuming `data` is your Dask DataFrame and `geometries_with_index` is defined\n",
    "# final_data = assign_era5_cells(data, geometries_with_index)\n"
   ]
  },
  {
   "cell_type": "code",
   "execution_count": 6,
   "metadata": {},
   "outputs": [],
   "source": [
    "final_data = assign_era5_cells(data, geometries_with_index)"
   ]
  },
  {
   "cell_type": "code",
   "execution_count": 7,
   "metadata": {},
   "outputs": [],
   "source": [
    "# Persist the grouped data\n",
    "grouped_data = final_data.groupby('ERA5_cell').agg({\n",
    "    'windspeed_gwa': 'mean',\n",
    "    'CF_IEC2': 'mean',\n",
    "    'CF_IEC3': 'mean',\n",
    "    'windspeed_gwa': 'mean'\n",
    "})"
   ]
  },
  {
   "cell_type": "code",
   "execution_count": 8,
   "metadata": {},
   "outputs": [
    {
     "data": {
      "text/html": [
       "<div><strong>Dask DataFrame Structure:</strong></div>\n",
       "<table border=\"1\" class=\"dataframe\">\n",
       "  <thead>\n",
       "    <tr style=\"text-align: right;\">\n",
       "      <th></th>\n",
       "      <th>windspeed_gwa</th>\n",
       "      <th>CF_IEC2</th>\n",
       "      <th>CF_IEC3</th>\n",
       "    </tr>\n",
       "    <tr>\n",
       "      <th>npartitions=1</th>\n",
       "      <th></th>\n",
       "      <th></th>\n",
       "      <th></th>\n",
       "    </tr>\n",
       "  </thead>\n",
       "  <tbody>\n",
       "    <tr>\n",
       "      <th></th>\n",
       "      <td>float64</td>\n",
       "      <td>float64</td>\n",
       "      <td>float64</td>\n",
       "    </tr>\n",
       "    <tr>\n",
       "      <th></th>\n",
       "      <td>...</td>\n",
       "      <td>...</td>\n",
       "      <td>...</td>\n",
       "    </tr>\n",
       "  </tbody>\n",
       "</table>\n",
       "<div>Dask Name: groupbyaggregation, 4 expressions</div>"
      ],
      "text/plain": [
       "Dask DataFrame Structure:\n",
       "              windspeed_gwa  CF_IEC2  CF_IEC3\n",
       "npartitions=1                                \n",
       "                    float64  float64  float64\n",
       "                        ...      ...      ...\n",
       "Dask Name: groupbyaggregation, 4 expressions\n",
       "Expr=GroupbyAggregation(frame=Assign(frame=df), arg={'windspeed_gwa': 'mean', 'CF_IEC2': 'mean', 'CF_IEC3': 'mean'}, observed=False)"
      ]
     },
     "execution_count": 8,
     "metadata": {},
     "output_type": "execute_result"
    }
   ],
   "source": [
    "grouped_data"
   ]
  },
  {
   "cell_type": "code",
   "execution_count": 8,
   "metadata": {},
   "outputs": [
    {
     "data": {
      "text/plain": [
       "0"
      ]
     },
     "execution_count": 8,
     "metadata": {},
     "output_type": "execute_result"
    }
   ],
   "source": [
    "import gc\n",
    "gc.collect()  # Force garbage collection\n"
   ]
  },
  {
   "cell_type": "code",
   "execution_count": 10,
   "metadata": {},
   "outputs": [
    {
     "name": "stdout",
     "output_type": "stream",
     "text": [
      "<class 'dask_expr.DataFrame'>\n",
      "Columns: 3 entries, windspeed_gwa to CF_IEC3\n",
      "dtypes: float64(3)"
     ]
    }
   ],
   "source": [
    "grouped_data.info()"
   ]
  },
  {
   "cell_type": "code",
   "execution_count": null,
   "metadata": {},
   "outputs": [],
   "source": [
    "grouped_data.compute()"
   ]
  },
  {
   "cell_type": "code",
   "execution_count": 8,
   "metadata": {},
   "outputs": [
    {
     "ename": "",
     "evalue": "",
     "output_type": "error",
     "traceback": [
      "\u001b[1;31mThe Kernel crashed while executing code in the current cell or a previous cell. \n",
      "\u001b[1;31mPlease review the code in the cell(s) to identify a possible cause of the failure. \n",
      "\u001b[1;31mClick <a href='https://aka.ms/vscodeJupyterKernelCrash'>here</a> for more info. \n",
      "\u001b[1;31mView Jupyter <a href='command:jupyter.viewOutput'>log</a> for further details."
     ]
    }
   ],
   "source": [
    "f=grouped_data.compute()"
   ]
  },
  {
   "cell_type": "code",
   "execution_count": null,
   "metadata": {},
   "outputs": [],
   "source": [
    "df=data"
   ]
  },
  {
   "cell_type": "code",
   "execution_count": null,
   "metadata": {},
   "outputs": [],
   "source": [
    "from workflow.scripts.resources import Resources"
   ]
  },
  {
   "cell_type": "code",
   "execution_count": null,
   "metadata": {},
   "outputs": [],
   "source": [
    "resource_types = ['wind']\n",
    "provinces=['BC']  #'AB','SK','ON','NS'\n",
    "required_args = {\n",
    "            \"config_file_path\": 'config/config.yml',\n",
    "            \"province_short_code\": provinces[0],\n",
    "            \"resource_type\": resource_types[0]\n",
    "        }\n",
    "\n",
    "# Create an instance of Resources and execute the module\n",
    "resource_module = Resources(**required_args)\n"
   ]
  },
  {
   "cell_type": "code",
   "execution_count": null,
   "metadata": {},
   "outputs": [],
   "source": [
    "import dask.dataframe as dd\n",
    "import dask_geopandas as dgpd"
   ]
  },
  {
   "cell_type": "code",
   "execution_count": null,
   "metadata": {},
   "outputs": [],
   "source": [
    "# data1=resource_module.get_grid_cells()\n",
    "# dd1=dd.from_pandas(data1)\n",
    "# data2=resource_module.get_cell_capacity()\n",
    "# dd2=dd.from_pandas(data2[0])"
   ]
  },
  {
   "cell_type": "code",
   "execution_count": null,
   "metadata": {},
   "outputs": [],
   "source": [
    "dd1"
   ]
  },
  {
   "cell_type": "code",
   "execution_count": null,
   "metadata": {},
   "outputs": [],
   "source": [
    "dgd2=dgpd.from_geopandas(data2[0])"
   ]
  },
  {
   "cell_type": "code",
   "execution_count": null,
   "metadata": {},
   "outputs": [],
   "source": [
    "dgd2"
   ]
  },
  {
   "cell_type": "code",
   "execution_count": null,
   "metadata": {},
   "outputs": [],
   "source": [
    "dgd2"
   ]
  },
  {
   "cell_type": "code",
   "execution_count": null,
   "metadata": {},
   "outputs": [],
   "source": [
    "def load_gwa_cells(self,\n",
    "                    memory_resource_limitation:bool=False):\n",
    "    province_gwa_cells_df = prepare_GWA_data(memory_resource_limitation)\n",
    "\n",
    "    \n",
    "\n",
    "    # Vectorized creation of geometries\n",
    "    gwa_cells_gdf = gpd.GeoDataFrame(\n",
    "        province_gwa_cells_df,\n",
    "        geometry=gpd.points_from_xy(province_gwa_cells_df['x'], province_gwa_cells_df['y']),\n",
    "        crs=get_default_crs()\n",
    "    ).clip(get_province_boundary(), keep_geom_type=False)\n",
    "\n",
    "    # gwa_cells_gdf = calculate_common_parameters_GWA_cells()\n",
    "    # gwa_cells_gdf = map_GWAcells_to_ERA5cells()\n",
    "    log.info(f\">> Global Wind Atlas (GWA) Cells loaded. Size: {len(province_gwa_cells_df)}\")\n",
    "    return gwa_cells_gdf\n",
    "\n",
    "\n",
    "def map_GWA_cells_to_ERA5(self,\n",
    "                            memory_resource_limitation):\n",
    "    # Load the grid cells and GWA cells as GeoDataFrames\n",
    "    store_grid_cells = datahandler.from_store('cells')\n",
    "    gwa_cells_gdf = load_gwa_cells(memory_resource_limitation)\n",
    "\n",
    "\n",
    "    log.info(f\">> Mapping {len(gwa_cells_gdf)} GWA Cells to {len(store_grid_cells)} ERA5 Cells...\")\n",
    "\n",
    "    results = []  # List to store results for each region\n",
    "\n",
    "    for region in store_grid_cells['Region'].unique():\n",
    "        _store_grid_cells_region = store_grid_cells[store_grid_cells['Region'] == region]\n",
    "        \n",
    "        # Perform overlay operation\n",
    "        _data_ = gpd.overlay(gwa_cells_gdf, _store_grid_cells_region, how='intersection', keep_geom_type=False)\n",
    "        \n",
    "        # Rename columns and select relevant data\n",
    "        _data_ = _data_.rename(columns={'x_1': 'x', 'y_1': 'y'})\n",
    "        selected_columns = list(_data_.columns) + [f'{resource_type}_CF_mean']\n",
    "        \n",
    "        # Store mapped GWA cells in results list\n",
    "        results.append(_data_.loc[:, selected_columns])\n",
    "\n",
    "    # Concatenate all results into a single GeoDataFrame\n",
    "    if results:\n",
    "        mapped_gwa_cells = pd.concat(results, axis=0).drop_duplicates()\n",
    "        \n",
    "        log.info(f\">> Calculating aggregated values for ERA5 Cell's...\")\n",
    "        \n",
    "        # Aggregate values\n",
    "        mapped_gwa_cells_aggr = mapped_gwa_cells.groupby('cell').agg({\n",
    "            'windspeed_gwa': 'mean',\n",
    "            'CF_IEC2': 'mean',\n",
    "            'CF_IEC3': 'mean',\n",
    "            'wind_CF_mean': 'mean'\n",
    "        }, numeric_only=True)\n",
    "        \n",
    "        # Store the aggregated data\n",
    "        datahandler.to_store(mapped_gwa_cells_aggr, 'cells')  # Compute and store results"
   ]
  },
  {
   "cell_type": "code",
   "execution_count": null,
   "metadata": {},
   "outputs": [],
   "source": [
    "d1=resource_module.gwa_cells.load_gwa_cells()"
   ]
  }
 ],
 "metadata": {
  "kernelspec": {
   "display_name": "linkingtool",
   "language": "python",
   "name": "python3"
  },
  "language_info": {
   "codemirror_mode": {
    "name": "ipython",
    "version": 3
   },
   "file_extension": ".py",
   "mimetype": "text/x-python",
   "name": "python",
   "nbconvert_exporter": "python",
   "pygments_lexer": "ipython3",
   "version": "3.12.7"
  }
 },
 "nbformat": 4,
 "nbformat_minor": 2
}
