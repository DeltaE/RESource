{
 "cells": [
  {
   "cell_type": "code",
   "execution_count": 1,
   "metadata": {},
   "outputs": [],
   "source": [
    "required_args = {\n",
    "    \"config_file_path\": 'config/test_config.yml',\n",
    "    \"province_short_code\": 'AB',\n",
    "    \"resource_type\": 'solar'\n",
    "}\n",
    "store=f\"data/store/solar_resources.h5\"\n",
    "from linkingtool.hdf5_handler import DataHandler\n",
    "\n",
    "datahandler=DataHandler(store)"
   ]
  },
  {
   "cell_type": "code",
   "execution_count": 2,
   "metadata": {},
   "outputs": [],
   "source": [
    "# from linkingtool.AttributesParser import AttributesParser\n",
    "# from linkingtool.boundaries import GADMBoundaries\n",
    "# from linkingtool.coders import CODERSData\n",
    "# from linkingtool.era5_cutout import ERA5Cutout\n",
    "# from linkingtool.lands import LandContainer\n",
    "# from linkingtool.CellCapacityProcessor import CellCapacityProcessor\n",
    "# cell_processor=CellCapacityProcessor(**required_args)\n",
    "# from linkingtool.timeseries import Timeseries\n",
    "# ts=Timeseries(**required_args)\n",
    "\n",
    "from linkingtool import visuals as vis\n",
    "from workflow.scripts.solar_module_v2 import SolarResources\n",
    "solar=SolarResources(**required_args)\n"
   ]
  },
  {
   "cell_type": "code",
   "execution_count": null,
   "metadata": {},
   "outputs": [
    {
     "name": "stderr",
     "output_type": "stream",
     "text": [
      "2024-10-14 11:41:17,184 - INFO - Loading GADM boundaries (Sub-provincial | level =2) for Alberta  from local file data/processed_data/regions/gadm41_Canada_L2_AB.geojson.\n",
      "2024-10-14 11:41:17,213 - INFO - Building new cutout data/downloaded_data/cutout/AB_2023_2024.nc\n",
      "2024-10-14 11:41:17,237 - INFO - Storing temporary files in /tmp/tmpz0nn9_w4\n",
      "2024-10-14 11:41:17,239 - INFO - Calculating and writing with module era5:\n",
      "2024-10-14 11:41:17,243 - INFO - Requesting data for feature temperature...\n",
      "2024-10-14 11:41:17,244 - INFO - Requesting data for feature runoff...\n",
      "2024-10-14 11:41:17,245 - INFO - Requesting data for feature influx...\n",
      "2024-10-14 11:41:17,247 - INFO - Requesting data for feature height...\n",
      "2024-10-14 11:41:17,248 - INFO - Requesting data for feature wind...\n",
      "/localhome/mei3/miniconda3/envs/linkingtool/lib/python3.12/site-packages/cads_api_client/legacy_api_client.py:96: UserWarning: This is a beta version. The following parameters have not been implemented yet: {'info_callback': <bound method Logger.debug of <Logger atlite.datasets.era5 (INFO)>>}.\n",
      "  warnings.warn(\n",
      "2024-10-14 11:41:18,500 WARNING [2024-10-10T00:00:00] The final validated ERA5 differs from ERA5T in July 2024 - please refer to our\n",
      "[Forum announcement](https://forum.ecmwf.int/t/final-validated-era5-product-to-differ-from-era5t-in-july-2024/6685)\n",
      "for details and watch it for further updates on this.\n",
      "2024-10-14 11:41:18,500 - WARNING - [2024-10-10T00:00:00] The final validated ERA5 differs from ERA5T in July 2024 - please refer to our\n",
      "[Forum announcement](https://forum.ecmwf.int/t/final-validated-era5-product-to-differ-from-era5t-in-july-2024/6685)\n",
      "for details and watch it for further updates on this.\n",
      "2024-10-14 11:41:18,502 INFO Request ID is 5dff69a9-9a86-42d2-a2c7-59d911fc78f7\n",
      "2024-10-14 11:41:18,502 - INFO - Request ID is 5dff69a9-9a86-42d2-a2c7-59d911fc78f7\n",
      "2024-10-14 11:41:18,510 WARNING [2024-10-10T00:00:00] The final validated ERA5 differs from ERA5T in July 2024 - please refer to our\n",
      "[Forum announcement](https://forum.ecmwf.int/t/final-validated-era5-product-to-differ-from-era5t-in-july-2024/6685)\n",
      "for details and watch it for further updates on this.\n",
      "2024-10-14 11:41:18,510 - WARNING - [2024-10-10T00:00:00] The final validated ERA5 differs from ERA5T in July 2024 - please refer to our\n",
      "[Forum announcement](https://forum.ecmwf.int/t/final-validated-era5-product-to-differ-from-era5t-in-july-2024/6685)\n",
      "for details and watch it for further updates on this.\n",
      "2024-10-14 11:41:18,512 INFO Request ID is 4382f735-54be-465a-8bed-b5d400260a96\n",
      "2024-10-14 11:41:18,512 - INFO - Request ID is 4382f735-54be-465a-8bed-b5d400260a96\n",
      "2024-10-14 11:41:18,516 WARNING [2024-10-10T00:00:00] The final validated ERA5 differs from ERA5T in July 2024 - please refer to our\n",
      "[Forum announcement](https://forum.ecmwf.int/t/final-validated-era5-product-to-differ-from-era5t-in-july-2024/6685)\n",
      "for details and watch it for further updates on this.\n",
      "2024-10-14 11:41:18,516 - WARNING - [2024-10-10T00:00:00] The final validated ERA5 differs from ERA5T in July 2024 - please refer to our\n",
      "[Forum announcement](https://forum.ecmwf.int/t/final-validated-era5-product-to-differ-from-era5t-in-july-2024/6685)\n",
      "for details and watch it for further updates on this.\n",
      "2024-10-14 11:41:18,518 INFO Request ID is ee90869b-6439-4390-92d6-ac5362deb91c\n",
      "2024-10-14 11:41:18,518 - INFO - Request ID is ee90869b-6439-4390-92d6-ac5362deb91c\n",
      "2024-10-14 11:41:18,563 WARNING [2024-10-10T00:00:00] The final validated ERA5 differs from ERA5T in July 2024 - please refer to our\n",
      "[Forum announcement](https://forum.ecmwf.int/t/final-validated-era5-product-to-differ-from-era5t-in-july-2024/6685)\n",
      "for details and watch it for further updates on this.\n",
      "2024-10-14 11:41:18,563 - WARNING - [2024-10-10T00:00:00] The final validated ERA5 differs from ERA5T in July 2024 - please refer to our\n",
      "[Forum announcement](https://forum.ecmwf.int/t/final-validated-era5-product-to-differ-from-era5t-in-july-2024/6685)\n",
      "for details and watch it for further updates on this.\n",
      "2024-10-14 11:41:18,565 INFO Request ID is ab584370-2877-4739-967a-f988bbe99220\n",
      "2024-10-14 11:41:18,565 - INFO - Request ID is ab584370-2877-4739-967a-f988bbe99220\n",
      "2024-10-14 11:41:18,615 WARNING [2024-10-10T00:00:00] The final validated ERA5 differs from ERA5T in July 2024 - please refer to our\n",
      "[Forum announcement](https://forum.ecmwf.int/t/final-validated-era5-product-to-differ-from-era5t-in-july-2024/6685)\n",
      "for details and watch it for further updates on this.\n",
      "2024-10-14 11:41:18,615 - WARNING - [2024-10-10T00:00:00] The final validated ERA5 differs from ERA5T in July 2024 - please refer to our\n",
      "[Forum announcement](https://forum.ecmwf.int/t/final-validated-era5-product-to-differ-from-era5t-in-july-2024/6685)\n",
      "for details and watch it for further updates on this.\n",
      "2024-10-14 11:41:18,616 INFO Request ID is 406087cc-97d6-4547-bf8b-def2aec19cc9\n",
      "2024-10-14 11:41:18,616 - INFO - Request ID is 406087cc-97d6-4547-bf8b-def2aec19cc9\n",
      "2024-10-14 11:41:18,696 INFO status has been updated to accepted\n",
      "2024-10-14 11:41:18,696 - INFO - status has been updated to accepted\n",
      "2024-10-14 11:41:18,735 INFO status has been updated to accepted\n",
      "2024-10-14 11:41:18,735 - INFO - status has been updated to accepted\n",
      "2024-10-14 11:41:18,786 INFO status has been updated to accepted\n",
      "2024-10-14 11:41:18,786 - INFO - status has been updated to accepted\n",
      "2024-10-14 11:41:18,805 INFO status has been updated to accepted\n",
      "2024-10-14 11:41:18,805 - INFO - status has been updated to accepted\n",
      "2024-10-14 11:41:18,846 INFO status has been updated to accepted\n",
      "2024-10-14 11:41:18,846 - INFO - status has been updated to accepted\n"
     ]
    }
   ],
   "source": [
    "data1=solar.get_CF_timeseries()\n",
    "data2=solar.get_cell_capacity()\n",
    "data3=solar.find_grid_nodes()\n",
    "data5=solar.score_cells()"
   ]
  },
  {
   "cell_type": "code",
   "execution_count": null,
   "metadata": {},
   "outputs": [],
   "source": [
    "vis.get_matched_vs_missed_visuals(data5, \n",
    "                              required_args['province_short_code'],\n",
    "                              lcoe_threshold=20, \n",
    "                              CF_threshold=0.2, \n",
    "                              capacity_threshold=10)"
   ]
  }
 ],
 "metadata": {
  "kernelspec": {
   "display_name": "linkingtool",
   "language": "python",
   "name": "python3"
  },
  "language_info": {
   "codemirror_mode": {
    "name": "ipython",
    "version": 3
   },
   "file_extension": ".py",
   "mimetype": "text/x-python",
   "name": "python",
   "nbconvert_exporter": "python",
   "pygments_lexer": "ipython3",
   "version": "3.12.7"
  }
 },
 "nbformat": 4,
 "nbformat_minor": 2
}
