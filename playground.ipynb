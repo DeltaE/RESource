{
 "cells": [
  {
   "cell_type": "code",
   "execution_count": 1,
   "metadata": {},
   "outputs": [],
   "source": [
    "from linkingtool import RESources as RES\n",
    "import pandas as pd\n",
    "import geopandas as gpd"
   ]
  },
  {
   "cell_type": "code",
   "execution_count": 2,
   "metadata": {},
   "outputs": [],
   "source": [
    "res_resutls=pd.read_csv('results/linking/resource_options_wind.csv')\n",
    "cfp24=pd.read_csv('ROD_2024/BC_CFP24.csv')"
   ]
  },
  {
   "cell_type": "code",
   "execution_count": 3,
   "metadata": {},
   "outputs": [
    {
     "data": {
      "text/plain": [
       "Index(['cluster_id', 'lcoe', 'capex', 'fom', 'vom', 'CF_mean', 'Cluster_No',\n",
       "       'potential_capacity', 'Region', 'nearest_station',\n",
       "       'nearest_station_distance_km', 'Rank', 'Operational_life'],\n",
       "      dtype='object')"
      ]
     },
     "execution_count": 3,
     "metadata": {},
     "output_type": "execute_result"
    }
   ],
   "source": [
    "res_resutls.columns"
   ]
  },
  {
   "cell_type": "code",
   "execution_count": 4,
   "metadata": {},
   "outputs": [],
   "source": [
    "cfp24.rename(columns={'old_name': 'new_name', 'another_old_name': 'another_new_name'}, inplace=True)\n"
   ]
  },
  {
   "cell_type": "code",
   "execution_count": 5,
   "metadata": {},
   "outputs": [
    {
     "data": {
      "text/plain": [
       "Index(['ERA5_cell', 'project_name', 'longitude', 'latitude', 'regional_system',\n",
       "       'expected_cod', 'poi', 'potential_capacity', 'annual_energy_GWh',\n",
       "       'Region', 'resource_type', 'capex', 'Operational_life', 'vom', 'fom'],\n",
       "      dtype='object')"
      ]
     },
     "execution_count": 5,
     "metadata": {},
     "output_type": "execute_result"
    }
   ],
   "source": [
    "cfp24.columns"
   ]
  },
  {
   "cell_type": "code",
   "execution_count": 6,
   "metadata": {},
   "outputs": [],
   "source": [
    "from linkingtool.hdf5_handler import DataHandler\n",
    "import linkingtool.visuals as vis\n",
    "store=f\"data/store/resources_BC.h5\"\n",
    "datahandler=DataHandler(store)"
   ]
  },
  {
   "cell_type": "code",
   "execution_count": 7,
   "metadata": {},
   "outputs": [
    {
     "name": "stdout",
     "output_type": "stream",
     "text": [
      "Structure of HDF5 file: data/store/resources_BC.h5\n",
      "[Group] boundary\n",
      "[Group] cells\n",
      "[Group] clusters\n",
      "  └─ [Group] clusters/solar\n",
      "  └─ [Group] clusters/wind\n",
      "[Group] cost\n",
      "  └─ [Group] cost/atb\n",
      "  └─   └─ [Group] cost/atb/bess\n",
      "  └─   └─ [Group] cost/atb/solar\n",
      "  └─   └─ [Group] cost/atb/wind\n",
      "[Group] dissolved_indices\n",
      "  └─ [Group] dissolved_indices/solar\n",
      "  └─ [Group] dissolved_indices/wind\n",
      "[Group] substations\n",
      "[Group] timeseries\n",
      "  └─ [Group] timeseries/clusters\n",
      "  └─   └─ [Group] timeseries/clusters/solar\n",
      "  └─   └─ [Group] timeseries/clusters/wind\n",
      "  └─ [Group] timeseries/solar\n",
      "  └─ [Group] timeseries/wind\n",
      "[Group] units\n"
     ]
    }
   ],
   "source": [
    "datahandler.show_tree(store)"
   ]
  },
  {
   "cell_type": "code",
   "execution_count": 8,
   "metadata": {},
   "outputs": [],
   "source": [
    "cells=datahandler.from_store('cells')\n",
    "tss=datahandler.from_store('timeseries/solar')\n",
    "tsw=datahandler.from_store('timeseries/wind')"
   ]
  },
  {
   "cell_type": "code",
   "execution_count": 9,
   "metadata": {},
   "outputs": [],
   "source": [
    "CFP24=gpd.read_file('ROD_2024/BC_CFP24.geojson',Index='ERA5_cell')\n",
    "CFP24.index=CFP24['ERA5_cell']"
   ]
  },
  {
   "cell_type": "code",
   "execution_count": 10,
   "metadata": {},
   "outputs": [
    {
     "data": {
      "text/html": [
       "<div>\n",
       "<style scoped>\n",
       "    .dataframe tbody tr th:only-of-type {\n",
       "        vertical-align: middle;\n",
       "    }\n",
       "\n",
       "    .dataframe tbody tr th {\n",
       "        vertical-align: top;\n",
       "    }\n",
       "\n",
       "    .dataframe thead th {\n",
       "        text-align: right;\n",
       "    }\n",
       "</style>\n",
       "<table border=\"1\" class=\"dataframe\">\n",
       "  <thead>\n",
       "    <tr style=\"text-align: right;\">\n",
       "      <th></th>\n",
       "      <th>project_name</th>\n",
       "      <th>ERA5_cell</th>\n",
       "      <th>longitude</th>\n",
       "      <th>latitude</th>\n",
       "      <th>regional_system</th>\n",
       "      <th>expected_cod</th>\n",
       "      <th>poi</th>\n",
       "      <th>potential_capacity</th>\n",
       "      <th>annual_energy_GWh</th>\n",
       "      <th>Region</th>\n",
       "      <th>resource_type</th>\n",
       "      <th>capex</th>\n",
       "      <th>Operational_life</th>\n",
       "      <th>vom</th>\n",
       "      <th>fom</th>\n",
       "      <th>geometry</th>\n",
       "    </tr>\n",
       "    <tr>\n",
       "      <th>ERA5_cell</th>\n",
       "      <th></th>\n",
       "      <th></th>\n",
       "      <th></th>\n",
       "      <th></th>\n",
       "      <th></th>\n",
       "      <th></th>\n",
       "      <th></th>\n",
       "      <th></th>\n",
       "      <th></th>\n",
       "      <th></th>\n",
       "      <th></th>\n",
       "      <th></th>\n",
       "      <th></th>\n",
       "      <th></th>\n",
       "      <th></th>\n",
       "      <th></th>\n",
       "    </tr>\n",
       "  </thead>\n",
       "  <tbody>\n",
       "    <tr>\n",
       "      <th>Thompson-Nicola_-120.75_50.5</th>\n",
       "      <td>ShTSaQU Solar Project</td>\n",
       "      <td>Thompson-Nicola_-120.75_50.5</td>\n",
       "      <td>-120.8426</td>\n",
       "      <td>50.5481</td>\n",
       "      <td>Kelly Nicola</td>\n",
       "      <td>30-Sep-30</td>\n",
       "      <td>1L203</td>\n",
       "      <td>104.0</td>\n",
       "      <td>215.0</td>\n",
       "      <td>Thompson-Nicola</td>\n",
       "      <td>solar</td>\n",
       "      <td>1482.68328</td>\n",
       "      <td>20.0</td>\n",
       "      <td>23.7656</td>\n",
       "      <td>0.0</td>\n",
       "      <td>POINT (-120.84260 50.54810)</td>\n",
       "    </tr>\n",
       "  </tbody>\n",
       "</table>\n",
       "</div>"
      ],
      "text/plain": [
       "                                       project_name  \\\n",
       "ERA5_cell                                             \n",
       "Thompson-Nicola_-120.75_50.5  ShTSaQU Solar Project   \n",
       "\n",
       "                                                 ERA5_cell  longitude  \\\n",
       "ERA5_cell                                                               \n",
       "Thompson-Nicola_-120.75_50.5  Thompson-Nicola_-120.75_50.5  -120.8426   \n",
       "\n",
       "                              latitude regional_system expected_cod    poi  \\\n",
       "ERA5_cell                                                                    \n",
       "Thompson-Nicola_-120.75_50.5   50.5481    Kelly Nicola    30-Sep-30  1L203   \n",
       "\n",
       "                              potential_capacity  annual_energy_GWh  \\\n",
       "ERA5_cell                                                             \n",
       "Thompson-Nicola_-120.75_50.5               104.0              215.0   \n",
       "\n",
       "                                       Region resource_type       capex  \\\n",
       "ERA5_cell                                                                 \n",
       "Thompson-Nicola_-120.75_50.5  Thompson-Nicola         solar  1482.68328   \n",
       "\n",
       "                              Operational_life      vom  fom  \\\n",
       "ERA5_cell                                                      \n",
       "Thompson-Nicola_-120.75_50.5              20.0  23.7656  0.0   \n",
       "\n",
       "                                                 geometry  \n",
       "ERA5_cell                                                  \n",
       "Thompson-Nicola_-120.75_50.5  POINT (-120.84260 50.54810)  "
      ]
     },
     "execution_count": 10,
     "metadata": {},
     "output_type": "execute_result"
    }
   ],
   "source": [
    "CFP24[CFP24['resource_type']=='solar']"
   ]
  },
  {
   "cell_type": "code",
   "execution_count": 11,
   "metadata": {},
   "outputs": [],
   "source": [
    "tss[CFP24[CFP24['resource_type']=='solar'].index].to_csv('ROD_2024/BCH_CFP24_solar_ts.csv')"
   ]
  },
  {
   "cell_type": "code",
   "execution_count": 12,
   "metadata": {},
   "outputs": [],
   "source": [
    "tsw[CFP24[CFP24['resource_type']=='wind'].index].to_csv('ROD_2024/BCH_CFP24_solar_wind.csv')"
   ]
  },
  {
   "cell_type": "code",
   "execution_count": 13,
   "metadata": {},
   "outputs": [],
   "source": [
    "# import plotly.graph_objects as go\n",
    "\n",
    "# # Plotting the time series using Plotly Graph Objects\n",
    "# fig = go.Figure()\n",
    "\n",
    "# fig.add_trace(go.Scatter(x=tsw.index, y=tsw['PeaceRiver_-121.0_56.0'], mode='lines', name='PeaceRiver_-121.0_56.0'))\n",
    "\n",
    "# fig.update_layout(title=\"Time Series for PeaceRiver_-121.0_56.0\", xaxis_title=\"Date\", yaxis_title=\"Value\")\n",
    "# fig.show()\n"
   ]
  },
  {
   "cell_type": "code",
   "execution_count": 14,
   "metadata": {},
   "outputs": [
    {
     "ename": "ValueError",
     "evalue": "cannot insert ERA5_cell, already exists",
     "output_type": "error",
     "traceback": [
      "\u001b[0;31m---------------------------------------------------------------------------\u001b[0m",
      "\u001b[0;31mValueError\u001b[0m                                Traceback (most recent call last)",
      "\u001b[0;32m/tmp/ipykernel_1639260/2582473734.py\u001b[0m in \u001b[0;36m?\u001b[0;34m()\u001b[0m\n\u001b[1;32m      3\u001b[0m \u001b[0;34m\u001b[0m\u001b[0m\n\u001b[1;32m      4\u001b[0m \u001b[0;31m# The index of the polygon can now be accessed from the resulting joined GeoDataFrame\u001b[0m\u001b[0;34m\u001b[0m\u001b[0;34m\u001b[0m\u001b[0m\n\u001b[1;32m      5\u001b[0m \u001b[0;31m# Create a new column in the points GeoDataFrame with the index of the polygon\u001b[0m\u001b[0;34m\u001b[0m\u001b[0;34m\u001b[0m\u001b[0m\n\u001b[1;32m      6\u001b[0m \u001b[0mCFP24\u001b[0m\u001b[0;34m[\u001b[0m\u001b[0;34m'ERA5_cell'\u001b[0m\u001b[0;34m]\u001b[0m \u001b[0;34m=\u001b[0m \u001b[0mjoined_gdf\u001b[0m\u001b[0;34m.\u001b[0m\u001b[0mindex_right\u001b[0m  \u001b[0;31m# 'in\u001b[0m\u001b[0;34m\u001b[0m\u001b[0;34m\u001b[0m\u001b[0m\n\u001b[0;32m----> 7\u001b[0;31m \u001b[0mCFP24\u001b[0m\u001b[0;34m.\u001b[0m\u001b[0mto_file\u001b[0m\u001b[0;34m(\u001b[0m\u001b[0;34m'ROD_2024/BC_CFP24.geojson'\u001b[0m\u001b[0;34m,\u001b[0m \u001b[0mdriver\u001b[0m\u001b[0;34m=\u001b[0m\u001b[0;34m'GeoJSON'\u001b[0m\u001b[0;34m)\u001b[0m\u001b[0;34m\u001b[0m\u001b[0;34m\u001b[0m\u001b[0m\n\u001b[0m",
      "\u001b[0;32m~/miniconda3/envs/RES/lib/python3.12/site-packages/geopandas/geodataframe.py\u001b[0m in \u001b[0;36m?\u001b[0;34m(self, filename, driver, schema, index, **kwargs)\u001b[0m\n\u001b[1;32m   1245\u001b[0m \u001b[0;34m\u001b[0m\u001b[0m\n\u001b[1;32m   1246\u001b[0m         \"\"\"\n\u001b[1;32m   1247\u001b[0m         \u001b[0;32mfrom\u001b[0m \u001b[0mgeopandas\u001b[0m\u001b[0;34m.\u001b[0m\u001b[0mio\u001b[0m\u001b[0;34m.\u001b[0m\u001b[0mfile\u001b[0m \u001b[0;32mimport\u001b[0m \u001b[0m_to_file\u001b[0m\u001b[0;34m\u001b[0m\u001b[0;34m\u001b[0m\u001b[0m\n\u001b[1;32m   1248\u001b[0m \u001b[0;34m\u001b[0m\u001b[0m\n\u001b[0;32m-> 1249\u001b[0;31m         \u001b[0m_to_file\u001b[0m\u001b[0;34m(\u001b[0m\u001b[0mself\u001b[0m\u001b[0;34m,\u001b[0m \u001b[0mfilename\u001b[0m\u001b[0;34m,\u001b[0m \u001b[0mdriver\u001b[0m\u001b[0;34m,\u001b[0m \u001b[0mschema\u001b[0m\u001b[0;34m,\u001b[0m \u001b[0mindex\u001b[0m\u001b[0;34m,\u001b[0m \u001b[0;34m**\u001b[0m\u001b[0mkwargs\u001b[0m\u001b[0;34m)\u001b[0m\u001b[0;34m\u001b[0m\u001b[0;34m\u001b[0m\u001b[0m\n\u001b[0m",
      "\u001b[0;32m~/miniconda3/envs/RES/lib/python3.12/site-packages/geopandas/io/file.py\u001b[0m in \u001b[0;36m?\u001b[0;34m(df, filename, driver, schema, index, mode, crs, engine, **kwargs)\u001b[0m\n\u001b[1;32m    581\u001b[0m         \u001b[0;31m# Determine if index attribute(s) should be saved to file\u001b[0m\u001b[0;34m\u001b[0m\u001b[0;34m\u001b[0m\u001b[0m\n\u001b[1;32m    582\u001b[0m         \u001b[0;31m# (only if they are named or are non-integer)\u001b[0m\u001b[0;34m\u001b[0m\u001b[0;34m\u001b[0m\u001b[0m\n\u001b[1;32m    583\u001b[0m         \u001b[0mindex\u001b[0m \u001b[0;34m=\u001b[0m \u001b[0mlist\u001b[0m\u001b[0;34m(\u001b[0m\u001b[0mdf\u001b[0m\u001b[0;34m.\u001b[0m\u001b[0mindex\u001b[0m\u001b[0;34m.\u001b[0m\u001b[0mnames\u001b[0m\u001b[0;34m)\u001b[0m \u001b[0;34m!=\u001b[0m \u001b[0;34m[\u001b[0m\u001b[0;32mNone\u001b[0m\u001b[0;34m]\u001b[0m \u001b[0;32mor\u001b[0m \u001b[0;32mnot\u001b[0m \u001b[0mis_integer_dtype\u001b[0m\u001b[0;34m(\u001b[0m\u001b[0mdf\u001b[0m\u001b[0;34m.\u001b[0m\u001b[0mindex\u001b[0m\u001b[0;34m.\u001b[0m\u001b[0mdtype\u001b[0m\u001b[0;34m)\u001b[0m\u001b[0;34m\u001b[0m\u001b[0;34m\u001b[0m\u001b[0m\n\u001b[1;32m    584\u001b[0m     \u001b[0;32mif\u001b[0m \u001b[0mindex\u001b[0m\u001b[0;34m:\u001b[0m\u001b[0;34m\u001b[0m\u001b[0;34m\u001b[0m\u001b[0m\n\u001b[0;32m--> 585\u001b[0;31m         \u001b[0mdf\u001b[0m \u001b[0;34m=\u001b[0m \u001b[0mdf\u001b[0m\u001b[0;34m.\u001b[0m\u001b[0mreset_index\u001b[0m\u001b[0;34m(\u001b[0m\u001b[0mdrop\u001b[0m\u001b[0;34m=\u001b[0m\u001b[0;32mFalse\u001b[0m\u001b[0;34m)\u001b[0m\u001b[0;34m\u001b[0m\u001b[0;34m\u001b[0m\u001b[0m\n\u001b[0m\u001b[1;32m    586\u001b[0m \u001b[0;34m\u001b[0m\u001b[0m\n\u001b[1;32m    587\u001b[0m     \u001b[0;32mif\u001b[0m \u001b[0mdriver\u001b[0m \u001b[0;32mis\u001b[0m \u001b[0;32mNone\u001b[0m\u001b[0;34m:\u001b[0m\u001b[0;34m\u001b[0m\u001b[0;34m\u001b[0m\u001b[0m\n\u001b[1;32m    588\u001b[0m         \u001b[0mdriver\u001b[0m \u001b[0;34m=\u001b[0m \u001b[0m_detect_driver\u001b[0m\u001b[0;34m(\u001b[0m\u001b[0mfilename\u001b[0m\u001b[0;34m)\u001b[0m\u001b[0;34m\u001b[0m\u001b[0;34m\u001b[0m\u001b[0m\n",
      "\u001b[0;32m~/miniconda3/envs/RES/lib/python3.12/site-packages/pandas/core/frame.py\u001b[0m in \u001b[0;36m?\u001b[0;34m(self, level, drop, inplace, col_level, col_fill, allow_duplicates, names)\u001b[0m\n\u001b[1;32m   6468\u001b[0m                     level_values = algorithms.take(\n\u001b[1;32m   6469\u001b[0m                         \u001b[0mlevel_values\u001b[0m\u001b[0;34m,\u001b[0m \u001b[0mlab\u001b[0m\u001b[0;34m,\u001b[0m \u001b[0mallow_fill\u001b[0m\u001b[0;34m=\u001b[0m\u001b[0;32mTrue\u001b[0m\u001b[0;34m,\u001b[0m \u001b[0mfill_value\u001b[0m\u001b[0;34m=\u001b[0m\u001b[0mlev\u001b[0m\u001b[0;34m.\u001b[0m\u001b[0m_na_value\u001b[0m\u001b[0;34m\u001b[0m\u001b[0;34m\u001b[0m\u001b[0m\n\u001b[1;32m   6470\u001b[0m                     \u001b[0;34m)\u001b[0m\u001b[0;34m\u001b[0m\u001b[0;34m\u001b[0m\u001b[0m\n\u001b[1;32m   6471\u001b[0m \u001b[0;34m\u001b[0m\u001b[0m\n\u001b[0;32m-> 6472\u001b[0;31m                 new_obj.insert(\n\u001b[0m\u001b[1;32m   6473\u001b[0m                     \u001b[0;36m0\u001b[0m\u001b[0;34m,\u001b[0m\u001b[0;34m\u001b[0m\u001b[0;34m\u001b[0m\u001b[0m\n\u001b[1;32m   6474\u001b[0m                     \u001b[0mname\u001b[0m\u001b[0;34m,\u001b[0m\u001b[0;34m\u001b[0m\u001b[0;34m\u001b[0m\u001b[0m\n\u001b[1;32m   6475\u001b[0m                     \u001b[0mlevel_values\u001b[0m\u001b[0;34m,\u001b[0m\u001b[0;34m\u001b[0m\u001b[0;34m\u001b[0m\u001b[0m\n",
      "\u001b[0;32m~/miniconda3/envs/RES/lib/python3.12/site-packages/pandas/core/frame.py\u001b[0m in \u001b[0;36m?\u001b[0;34m(self, loc, column, value, allow_duplicates)\u001b[0m\n\u001b[1;32m   5154\u001b[0m                 \u001b[0;34m\"'self.flags.allows_duplicate_labels' is False.\"\u001b[0m\u001b[0;34m\u001b[0m\u001b[0;34m\u001b[0m\u001b[0m\n\u001b[1;32m   5155\u001b[0m             \u001b[0;34m)\u001b[0m\u001b[0;34m\u001b[0m\u001b[0;34m\u001b[0m\u001b[0m\n\u001b[1;32m   5156\u001b[0m         \u001b[0;32mif\u001b[0m \u001b[0;32mnot\u001b[0m \u001b[0mallow_duplicates\u001b[0m \u001b[0;32mand\u001b[0m \u001b[0mcolumn\u001b[0m \u001b[0;32min\u001b[0m \u001b[0mself\u001b[0m\u001b[0;34m.\u001b[0m\u001b[0mcolumns\u001b[0m\u001b[0;34m:\u001b[0m\u001b[0;34m\u001b[0m\u001b[0;34m\u001b[0m\u001b[0m\n\u001b[1;32m   5157\u001b[0m             \u001b[0;31m# Should this be a different kind of error??\u001b[0m\u001b[0;34m\u001b[0m\u001b[0;34m\u001b[0m\u001b[0m\n\u001b[0;32m-> 5158\u001b[0;31m             \u001b[0;32mraise\u001b[0m \u001b[0mValueError\u001b[0m\u001b[0;34m(\u001b[0m\u001b[0;34mf\"\u001b[0m\u001b[0;34mcannot insert \u001b[0m\u001b[0;34m{\u001b[0m\u001b[0mcolumn\u001b[0m\u001b[0;34m}\u001b[0m\u001b[0;34m, already exists\u001b[0m\u001b[0;34m\"\u001b[0m\u001b[0;34m)\u001b[0m\u001b[0;34m\u001b[0m\u001b[0;34m\u001b[0m\u001b[0m\n\u001b[0m\u001b[1;32m   5159\u001b[0m         \u001b[0;32mif\u001b[0m \u001b[0;32mnot\u001b[0m \u001b[0mis_integer\u001b[0m\u001b[0;34m(\u001b[0m\u001b[0mloc\u001b[0m\u001b[0;34m)\u001b[0m\u001b[0;34m:\u001b[0m\u001b[0;34m\u001b[0m\u001b[0;34m\u001b[0m\u001b[0m\n\u001b[1;32m   5160\u001b[0m             \u001b[0;32mraise\u001b[0m \u001b[0mTypeError\u001b[0m\u001b[0;34m(\u001b[0m\u001b[0;34m\"loc must be int\"\u001b[0m\u001b[0;34m)\u001b[0m\u001b[0;34m\u001b[0m\u001b[0;34m\u001b[0m\u001b[0m\n\u001b[1;32m   5161\u001b[0m         \u001b[0;31m# convert non stdlib ints to satisfy typing checks\u001b[0m\u001b[0;34m\u001b[0m\u001b[0;34m\u001b[0m\u001b[0m\n",
      "\u001b[0;31mValueError\u001b[0m: cannot insert ERA5_cell, already exists"
     ]
    }
   ],
   "source": [
    "# Perform a spatial join to assign the polygon index to the points\n",
    "joined_gdf = gpd.sjoin(CFP24, cells, how=\"left\", op=\"intersects\")\n",
    "\n",
    "# The index of the polygon can now be accessed from the resulting joined GeoDataFrame\n",
    "# Create a new column in the points GeoDataFrame with the index of the polygon\n",
    "CFP24['ERA5_cell'] = joined_gdf.index_right  # 'in\n",
    "CFP24.to_file('ROD_2024/BC_CFP24.geojson', driver='GeoJSON')"
   ]
  },
  {
   "cell_type": "code",
   "execution_count": null,
   "metadata": {},
   "outputs": [],
   "source": [
    "CFP24.explore('ERA5_cell')"
   ]
  },
  {
   "cell_type": "markdown",
   "metadata": {},
   "source": [
    "# Set Required Args to Activate Modules"
   ]
  },
  {
   "cell_type": "code",
   "execution_count": null,
   "metadata": {},
   "outputs": [],
   "source": [
    "# Iterate over provinces for both solar and wind resources\n",
    "resource_types = ['wind','solar'] # , \n",
    "provinces=['BC']  #'AB','SK','ON','NS'\n",
    "for province_code in provinces:\n",
    "    for resource_type in resource_types:\n",
    "        required_args = {\n",
    "            \"config_file_path\": 'config/config.yaml',\n",
    "            \"province_short_code\": province_code,\n",
    "            \"resource_type\": resource_type\n",
    "        }\n",
    "        \n",
    "        # Create an instance of Resources and execute the module\n",
    "        res_module = RES.RESources_builder(**required_args)"
   ]
  },
  {
   "cell_type": "markdown",
   "metadata": {},
   "source": []
  },
  {
   "cell_type": "code",
   "execution_count": null,
   "metadata": {},
   "outputs": [],
   "source": [
    "cells=datahandler.from_store('cells')"
   ]
  },
  {
   "cell_type": "markdown",
   "metadata": {},
   "source": [
    "[Assumptions](https://www.bchydro.com/content/dam/BCHydro/customer-portal/documents/corporate/regulatory-planning-documents/integrated-resource-plans/current-plan/rou-characterization-wind-report-20150519-hatch.pdf)\n",
    "The following assumptions were considered as common to all regions: \n",
    "• 3MW turbine model  \n",
    "• On-shore projects (land-based)\n",
    "• Project  lifetime of 20 years  \n",
    "• Crown Land only  \n",
    "• Costs in 2024$ (CAD) assuming delivery in 2025 \n",
    "• Project development timelines can vary and the costs for pre construction of the  template project will be based on 5 years of pre development work until reception of  electricity purchase agreement (EPA) and beginning of construction \n",
    "• When considering the developer’s internal costs, Hatch has assumed a development \n",
    "model where all pre-development costs are absorbed by the same stakeholder that is \n",
    "involved in the later stages of the project, including development, procurement, \n",
    "construction, BOP, O&M, etc.   This model was chosen over a model where, for \n",
    "example, a project has undergone some level of pre-development and then the \n",
    "project rights and assets are sold to a new stakeholder prior to construction or \n",
    "operation.  Such transaction costs cannot be easily or simply quantified and so Hatch \n",
    "considered a simplified model for the purposes of this mandate. Costs associated \n",
    "with procuring assets from another developer are not evaluated.   \n",
    "\n",
    "• The developer is assumed to be experienced, working in a competitive market and to \n",
    "be medium or average in size (i.e. not a public utility and not a private, small scale \n",
    "independent developer with limited experience)"
   ]
  }
 ],
 "metadata": {
  "kernelspec": {
   "display_name": "RES",
   "language": "python",
   "name": "python3"
  },
  "language_info": {
   "codemirror_mode": {
    "name": "ipython",
    "version": 3
   },
   "file_extension": ".py",
   "mimetype": "text/x-python",
   "name": "python",
   "nbconvert_exporter": "python",
   "pygments_lexer": "ipython3",
   "version": "3.12.7"
  }
 },
 "nbformat": 4,
 "nbformat_minor": 2
}
