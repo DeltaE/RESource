{
 "cells": [
  {
   "cell_type": "markdown",
   "metadata": {},
   "source": [
    "# Set Required Args to Activate Modules"
   ]
  },
  {
   "cell_type": "code",
   "execution_count": null,
   "metadata": {},
   "outputs": [],
   "source": [
    "# from workflow.scripts.resources import Resources"
   ]
  },
  {
   "cell_type": "markdown",
   "metadata": {},
   "source": [
    "# single resource"
   ]
  },
  {
   "cell_type": "code",
   "execution_count": null,
   "metadata": {},
   "outputs": [],
   "source": [
    "# # Iterate over provinces for both solar and wind resources\n",
    "# resource_types = ['wind', 'solar']\n",
    "# provinces=['BC']  #'AB','SK','ON','NS'\n",
    "# for province_code in provinces:\n",
    "#     for resource_type in resource_types:\n",
    "#         required_args = {\n",
    "#             \"config_file_path\": 'config/config.yml',\n",
    "#             \"province_short_code\": province_code,\n",
    "#             \"resource_type\": resource_type\n",
    "#         }\n",
    "        \n",
    "#         # Create an instance of Resources and execute the module\n",
    "#         resource_module = Resources(**required_args)\n",
    "#         resource_module.execute_module()\n",
    "        "
   ]
  },
  {
   "cell_type": "code",
   "execution_count": 2,
   "metadata": {},
   "outputs": [
    {
     "name": "stdout",
     "output_type": "stream",
     "text": [
      ">> Store initialized with the given path: data/store/resources_BC.h5\n",
      ">> Store initialized with the given path: data/store/resources_BC.h5\n"
     ]
    }
   ],
   "source": [
    "import geopandas as gpd\n",
    "import pandas as pd\n",
    "from linkingtool.hdf5_handler import DataHandler\n",
    "store=DataHandler('data/store/resources_BC.h5')\n",
    "from linkingtool.gwa import GWACells\n",
    "gwa=GWACells(resource_type='wind')"
   ]
  },
  {
   "cell_type": "code",
   "execution_count": 3,
   "metadata": {},
   "outputs": [],
   "source": [
    "cells=store.from_store('cells')"
   ]
  },
  {
   "cell_type": "code",
   "execution_count": 4,
   "metadata": {},
   "outputs": [
    {
     "name": "stderr",
     "output_type": "stream",
     "text": [
      "2024-11-03 11:08:37,678 - INFO - >> Loading GADM boundaries (Sub-provincial | level =2) for British Columbia  from local file data/processed_data/regions/gadm41_Canada_L2_BC.geojson.\n",
      "2024-11-03 11:08:43,029 - INFO - Memory resource limitations enabled. Filtering GWA cells witn windspeed mask to limit the data offload processing...\n",
      "2024-11-03 11:08:43,320 - INFO - >> 24530090 cells have been filtered due to Windspeed filter [7-30 m/s].\n",
      ">>> Cleaned data loaded for 10003944 GWA cells\n",
      "2024-11-03 11:08:43,323 - INFO - >> Global Wind Atlas (GWA) Cells loaded. Size: 10003944\n",
      "2024-11-03 11:08:45,412 - INFO - >> Loading GADM boundaries (Sub-provincial | level =2) for British Columbia  from local file data/processed_data/regions/gadm41_Canada_L2_BC.geojson.\n"
     ]
    }
   ],
   "source": [
    "data=gwa.load_gwa_cells()"
   ]
  },
  {
   "cell_type": "code",
   "execution_count": null,
   "metadata": {},
   "outputs": [],
   "source": [
    "results = []  # List to store results for each region\n",
    "\n",
    "for region in cells['Region'].unique():\n",
    "    _store_grid_cells_region = cells[cells['Region'] == region]\n",
    "    \n",
    "    # Perform overlay operation\n",
    "    _data_ = gpd.overlay(data, _store_grid_cells_region, how='intersection', keep_geom_type=False)\n",
    "    \n",
    "    # Rename columns and select relevant data\n",
    "    _data_ = _data_.rename(columns={'x_1': 'x', 'y_1': 'y'})\n",
    "    selected_columns = list(_data_.columns) + [f'wind_CF_mean']\n",
    "    \n",
    "    # Store mapped GWA cells in results list\n",
    "    results.append(_data_.loc[:, selected_columns])\n",
    "\n",
    "# Concatenate all results into a single Dask GeoDataFrame\n",
    "if results:\n",
    "    mapped_gwa_cells = pd.concat(results, axis=0).drop_duplicates()\n",
    "    \n",
    "    # self.log.info(f\">> Calculating aggregated values for ERA5 Cell's...\")\n",
    "    \n",
    "    # Aggregate values using Dask\n",
    "    mapped_gwa_cells_aggr = mapped_gwa_cells.groupby('cell').agg({\n",
    "        'windspeed_gwa': 'mean',\n",
    "        'CF_IEC2': 'mean',\n",
    "        'CF_IEC3': 'mean',\n",
    "        'wind_CF_mean': 'mean'\n",
    "    }, numeric_only=True)\n",
    "    \n",
    "    # Store the aggregated data\n",
    "    store.to_store(mapped_gwa_cells_aggr, 'cells')  # Compute and store results"
   ]
  },
  {
   "cell_type": "code",
   "execution_count": null,
   "metadata": {},
   "outputs": [],
   "source": []
  },
  {
   "cell_type": "markdown",
   "metadata": {},
   "source": []
  }
 ],
 "metadata": {
  "kernelspec": {
   "display_name": "linkingtool",
   "language": "python",
   "name": "python3"
  },
  "language_info": {
   "codemirror_mode": {
    "name": "ipython",
    "version": 3
   },
   "file_extension": ".py",
   "mimetype": "text/x-python",
   "name": "python",
   "nbconvert_exporter": "python",
   "pygments_lexer": "ipython3",
   "version": "3.12.7"
  }
 },
 "nbformat": 4,
 "nbformat_minor": 2
}
