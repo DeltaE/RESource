{
 "cells": [
  {
   "cell_type": "markdown",
   "metadata": {},
   "source": [
    "# Set Required Args to Activate Modules"
   ]
  },
  {
   "cell_type": "code",
   "execution_count": 1,
   "metadata": {},
   "outputs": [],
   "source": [
    "from workflow.scripts.resources import Resources"
   ]
  },
  {
   "cell_type": "markdown",
   "metadata": {},
   "source": [
    "# single resource"
   ]
  },
  {
   "cell_type": "code",
   "execution_count": null,
   "metadata": {},
   "outputs": [
    {
     "name": "stderr",
     "output_type": "stream",
     "text": [
      "2024-10-27 10:49:39,698 - INFO - Preparing Grid Cells...\n",
      "2024-10-27 10:49:39,699 - INFO - >> Loading GADM boundaries (Sub-provincial | level =2) for British Columbia  from local file data/processed_data/regions/gadm41_Canada_L2_BC.geojson.\n",
      "/localhome/mei3/miniconda3/envs/linkingtool/lib/python3.12/site-packages/atlite/cutout.py:191: UserWarning: Arguments module, x, y, dx, dy, time are ignored, since cutout is already built.\n",
      "  warn(\n",
      "2024-10-27 10:49:39,837 - INFO - Cutout already prepared.\n"
     ]
    },
    {
     "name": "stdout",
     "output_type": "stream",
     "text": [
      "__________________________________________________\n",
      " Initiating wind module for British Columbia...\n",
      "\n",
      "    >>> Memory management remarks:\n",
      "    * After execution, all downloaded data is stored at cutout.path. By default, it is not loaded into memory, but into dask arrays. This keeps the memory consumption extremely low.\n",
      "    * The data is accessible in cutout.data, which is an xarray.Dataset. Querying the cutout gives us some basic information on which data is contained in it.\n",
      "    * For more operations related to cutout, check the tool docs @ https://atlite.readthedocs.io/en/master/examples/create_cutout.html#\n",
      "        \n"
     ]
    },
    {
     "name": "stderr",
     "output_type": "stream",
     "text": [
      "/localhome/mei3/miniconda3/envs/linkingtool/lib/python3.12/site-packages/geopandas/geodataframe.py:2475: UserWarning: `keep_geom_type=True` in overlay resulted in 387 dropped geometries of different geometry types than df1 has. Set `keep_geom_type=False` to retain all geometries\n",
      "  return geopandas.overlay(\n",
      "/local-scratch/localhome/mei3/eliasinul/repositories/Linking_tool/linkingtool/hdf5_handler.py:45: UserWarning: Geometry column does not contain geometry.\n",
      "  self.data_new['geometry'] = self.data_new['geometry'].apply(dumps)\n",
      "2024-10-27 10:49:40,454 - INFO - >> Data (GeoDataFrame/DataFrame) saved to data/store/resources_BC.h5 with key 'cells'\n",
      "/local-scratch/localhome/mei3/eliasinul/repositories/Linking_tool/linkingtool/hdf5_handler.py:45: UserWarning: Geometry column does not contain geometry.\n",
      "  self.data_new['geometry'] = self.data_new['geometry'].apply(dumps)\n",
      "2024-10-27 10:49:40,525 - INFO - >> Data (GeoDataFrame/DataFrame) saved to data/store/resources_BC.h5 with key 'boundary'\n",
      "2024-10-27 10:49:40,525 - INFO - >> Loading GADM boundaries (Sub-provincial | level =2) for British Columbia  from local file data/processed_data/regions/gadm41_Canada_L2_BC.geojson.\n",
      "/localhome/mei3/miniconda3/envs/linkingtool/lib/python3.12/site-packages/atlite/cutout.py:191: UserWarning: Arguments module, x, y, dx, dy, time are ignored, since cutout is already built.\n",
      "  warn(\n",
      "2024-10-27 10:49:40,685 - INFO - Cutout already prepared.\n",
      "2024-10-27 10:49:40,686 - INFO - >> Loading global filters' rasters from GAEZ, trimmed to British Columbia\n",
      "2024-10-27 10:49:40,687 - INFO - >> Raster file 'faocmb_2010.tif' already exists locally.\n",
      "2024-10-27 10:49:40,687 - INFO - >> Raster file 'slpmed05.tif' already exists locally.\n",
      "2024-10-27 10:49:40,688 - INFO - >> Raster file 'exclusion_2017.tif' already exists locally.\n",
      "2024-10-27 10:49:40,688 - INFO - >> Loading GADM boundaries (Sub-provincial | level =2) for British Columbia  from local file data/processed_data/regions/gadm41_Canada_L2_BC.geojson.\n"
     ]
    },
    {
     "name": "stdout",
     "output_type": "stream",
     "text": [
      "\n",
      "    >>> Memory management remarks:\n",
      "    * After execution, all downloaded data is stored at cutout.path. By default, it is not loaded into memory, but into dask arrays. This keeps the memory consumption extremely low.\n",
      "    * The data is accessible in cutout.data, which is an xarray.Dataset. Querying the cutout gives us some basic information on which data is contained in it.\n",
      "    * For more operations related to cutout, check the tool docs @ https://atlite.readthedocs.io/en/master/examples/create_cutout.html#\n",
      "        \n"
     ]
    },
    {
     "name": "stderr",
     "output_type": "stream",
     "text": [
      "2024-10-27 10:49:41,027 - INFO - >> Raster plot saved at: vis/misc/faocmb_2010_raster_BC.png\n",
      "2024-10-27 10:49:41,263 - INFO - >> Raster plot saved at: vis/misc/slpmed05_raster_BC.png\n",
      "2024-10-27 10:49:41,665 - INFO - >> Raster plot saved at: vis/misc/exclusion_2017_raster_BC.png\n",
      "2024-10-27 10:49:41,666 - INFO - All required rasters for GAEZ processed and plotted successfully.\n",
      "2024-10-27 10:49:41,666 - INFO -  >>> Loading Land_cover layers from data/downloaded_data/GAEZ/Rasters_in_use/LR/lco/BC_faocmb_2010.tif\n",
      "2024-10-27 10:49:41,666 - INFO -  >>> Loading Terrain_resources layers from data/downloaded_data/GAEZ/Rasters_in_use/LR/ter/BC_slpmed05.tif\n",
      "2024-10-27 10:49:41,667 - INFO -  >>> Loading Exclusion_areas layers from data/downloaded_data/GAEZ/Rasters_in_use/LR/excl/BC_exclusion_2017.tif\n",
      "2024-10-27 10:49:41,667 - INFO - > Loading Canadian Protected and Conserved Areas Database (CPCAD) from locally stored datafile - data/downloaded_data/lands/ProtectedConservedArea.pickle\n",
      "2024-10-27 10:49:41,680 - INFO - >> Loading locally stored OSM data for 'aeroway' from data/downloaded_data/OSM/BC_aeroway.geojson\n",
      "2024-10-27 10:49:42,106 - INFO - Exclusion Container\n",
      " registered rasters: 3 \n",
      " registered geometry collections: 2\n",
      " CRS: 3347 - Resolution: 100\n",
      "/localhome/mei3/miniconda3/envs/linkingtool/lib/python3.12/site-packages/geopandas/geodataframe.py:2475: UserWarning: `keep_geom_type=True` in overlay resulted in 387 dropped geometries of different geometry types than df1 has. Set `keep_geom_type=False` to retain all geometries\n",
      "  return geopandas.overlay(\n",
      "2024-10-27 10:50:03,508 - INFO - >> Saving to the local store (as HDF5 file)\n",
      "2024-10-27 10:50:03,527 - INFO - >> Updated 'cells' saved to data/store/resources_BC.h5 with key 'cells'\n",
      "2024-10-27 10:50:03,528 - INFO - Preparing Timeseries for the Cells...\n",
      "2024-10-27 10:50:03,528 - INFO - >> Loading ERA5 Cutout\n",
      "2024-10-27 10:50:03,528 - INFO - >> Loading GADM boundaries (Sub-provincial | level =2) for British Columbia  from local file data/processed_data/regions/gadm41_Canada_L2_BC.geojson.\n",
      "/localhome/mei3/miniconda3/envs/linkingtool/lib/python3.12/site-packages/atlite/cutout.py:191: UserWarning: Arguments module, x, y, dx, dy, time are ignored, since cutout is already built.\n",
      "  warn(\n",
      "2024-10-27 10:50:03,636 - INFO - Cutout already prepared.\n"
     ]
    },
    {
     "name": "stdout",
     "output_type": "stream",
     "text": [
      ">> Total ERA5 cells loaded : 2956 [each with .025 deg. (~30km) resolution ]\n",
      "\n",
      "    >>> Memory management remarks:\n",
      "    * After execution, all downloaded data is stored at cutout.path. By default, it is not loaded into memory, but into dask arrays. This keeps the memory consumption extremely low.\n",
      "    * The data is accessible in cutout.data, which is an xarray.Dataset. Querying the cutout gives us some basic information on which data is contained in it.\n",
      "    * For more operations related to cutout, check the tool docs @ https://atlite.readthedocs.io/en/master/examples/create_cutout.html#\n",
      "        \n"
     ]
    },
    {
     "name": "stderr",
     "output_type": "stream",
     "text": [
      "2024-10-27 10:50:04,163 - INFO - >> 2956 Grid Cells from Store Cutout\n",
      "2024-10-27 10:50:04,164 - INFO - adding a cut-out wind speed to the turbine power curve at V=22.0 m/s.\n",
      "2024-10-27 10:50:04,165 - INFO - Convert and aggregate 'wind'.\n"
     ]
    },
    {
     "name": "stdout",
     "output_type": "stream",
     "text": [
      "Fetching Turbine: '3.2M114_NES' data from OEDB\n",
      ">> Loading turbine config from: data/downloaded_data/OEDB/3.2M114_NES.yaml\n",
      ">> selected Wind Turbine  Model : 3.2M114 NES @ 93.0m Hub Height\n"
     ]
    },
    {
     "name": "stderr",
     "output_type": "stream",
     "text": [
      "2024-10-27 10:50:27,829 - INFO - >> Calculating CF mean from the 8760 data points for each Cell ...\n",
      "2024-10-27 10:50:27,861 - INFO - >> Total Grid Cells: 2956, >> Timeseries Generated for: 2956, >> Matched Sites: (8760, 2956)\n",
      "2024-10-27 10:50:27,861 - INFO - >> Calculating 'wind_CF_mean' for 2956 Cells...\n",
      "2024-10-27 10:50:27,915 - INFO - >> Updated 'cells' saved to data/store/resources_BC.h5 with key 'cells'\n",
      "2024-10-27 10:50:28,119 - INFO - >> Data (GeoDataFrame/DataFrame) saved to data/store/resources_BC.h5 with key 'timeseries'\n",
      "2024-10-27 10:50:28,168 - INFO - >> Loading GADM boundaries (Sub-provincial | level =2) for British Columbia  from local file data/processed_data/regions/gadm41_Canada_L2_BC.geojson.\n",
      "/localhome/mei3/miniconda3/envs/linkingtool/lib/python3.12/site-packages/atlite/cutout.py:191: UserWarning: Arguments module, x, y, dx, dy, time are ignored, since cutout is already built.\n",
      "  warn(\n",
      "2024-10-27 10:50:28,333 - INFO - Cutout already prepared.\n"
     ]
    },
    {
     "name": "stdout",
     "output_type": "stream",
     "text": [
      "\n",
      "    >>> Memory management remarks:\n",
      "    * After execution, all downloaded data is stored at cutout.path. By default, it is not loaded into memory, but into dask arrays. This keeps the memory consumption extremely low.\n",
      "    * The data is accessible in cutout.data, which is an xarray.Dataset. Querying the cutout gives us some basic information on which data is contained in it.\n",
      "    * For more operations related to cutout, check the tool docs @ https://atlite.readthedocs.io/en/master/examples/create_cutout.html#\n",
      "        \n",
      "Calculating yearly mean windspeed and imputing to provincial Grid Cells named as 'windspeed_ERA5'\n"
     ]
    },
    {
     "name": "stderr",
     "output_type": "stream",
     "text": [
      "2024-10-27 10:50:37,904 - INFO - >> Updated 'cells' saved to data/store/resources_BC.h5 with key 'cells'\n",
      "2024-10-27 10:50:37,957 - INFO - >> Loading GADM boundaries (Sub-provincial | level =2) for British Columbia  from local file data/processed_data/regions/gadm41_Canada_L2_BC.geojson.\n",
      "2024-10-27 10:50:41,010 - INFO - >> 0 cells have no Windspeed values.\n",
      ">>> Cleaned data loaded for 34534034 GWA cells\n",
      "2024-10-27 10:50:41,011 - INFO - >> Global Wind Atlas (GWA) Cells loaded. Size: 34534034\n",
      "2024-10-27 10:50:44,922 - INFO - >> Loading GADM boundaries (Sub-provincial | level =2) for British Columbia  from local file data/processed_data/regions/gadm41_Canada_L2_BC.geojson.\n"
     ]
    }
   ],
   "source": [
    "# Iterate over provinces for both solar and wind resources\n",
    "resource_types = ['wind', 'solar']\n",
    "provinces=['BC','AB','SK','ON','NS']\n",
    "for province_code in provinces:\n",
    "    for resource_type in resource_types:\n",
    "        required_args = {\n",
    "            \"config_file_path\": 'config/config.yml',\n",
    "            \"province_short_code\": province_code,\n",
    "            \"resource_type\": resource_type\n",
    "        }\n",
    "        \n",
    "        # Create an instance of Resources and execute the module\n",
    "        resource_module = Resources(**required_args)\n",
    "        resource_module.execute_module()\n",
    "        "
   ]
  },
  {
   "cell_type": "markdown",
   "metadata": {},
   "source": []
  }
 ],
 "metadata": {
  "kernelspec": {
   "display_name": "linkingtool",
   "language": "python",
   "name": "python3"
  },
  "language_info": {
   "codemirror_mode": {
    "name": "ipython",
    "version": 3
   },
   "file_extension": ".py",
   "mimetype": "text/x-python",
   "name": "python",
   "nbconvert_exporter": "python",
   "pygments_lexer": "ipython3",
   "version": "3.12.7"
  }
 },
 "nbformat": 4,
 "nbformat_minor": 2
}
