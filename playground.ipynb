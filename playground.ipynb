{
 "cells": [
  {
   "cell_type": "markdown",
   "metadata": {},
   "source": [
    "# Set Required Args to Activate Modules"
   ]
  },
  {
   "cell_type": "code",
   "execution_count": null,
   "metadata": {},
   "outputs": [],
   "source": [
    "from workflow.scripts.resources import Resources"
   ]
  },
  {
   "cell_type": "markdown",
   "metadata": {},
   "source": [
    "# single resource"
   ]
  },
  {
   "cell_type": "code",
   "execution_count": null,
   "metadata": {},
   "outputs": [],
   "source": [
    "# Iterate over provinces for both solar and wind resources\n",
    "resource_types = ['wind', 'solar']\n",
    "provinces=['BC','AB','SK','ON','NS']\n",
    "for province_code in provinces:\n",
    "    for resource_type in resource_types:\n",
    "        required_args = {\n",
    "            \"config_file_path\": 'config/config.yml',\n",
    "            \"province_short_code\": province_code,\n",
    "            \"resource_type\": resource_type\n",
    "        }\n",
    "        \n",
    "        # Create an instance of Resources and execute the module\n",
    "        resource_module = Resources(**required_args)\n",
    "        resource_module.execute_module()\n",
    "        "
   ]
  },
  {
   "cell_type": "markdown",
   "metadata": {},
   "source": []
  }
 ],
 "metadata": {
  "kernelspec": {
   "display_name": "linkingtool",
   "language": "python",
   "name": "python3"
  },
  "language_info": {
   "codemirror_mode": {
    "name": "ipython",
    "version": 3
   },
   "file_extension": ".py",
   "mimetype": "text/x-python",
   "name": "python",
   "nbconvert_exporter": "python",
   "pygments_lexer": "ipython3",
   "version": "3.12.7"
  }
 },
 "nbformat": 4,
 "nbformat_minor": 2
}
