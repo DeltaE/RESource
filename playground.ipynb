{
 "cells": [
  {
   "cell_type": "markdown",
   "metadata": {},
   "source": [
    "# Set Required Args to Activate Modules"
   ]
  },
  {
   "cell_type": "code",
   "execution_count": 1,
   "metadata": {},
   "outputs": [],
   "source": [
    "from workflow.scripts.resources import Resources"
   ]
  },
  {
   "cell_type": "markdown",
   "metadata": {},
   "source": [
    "# single resource"
   ]
  },
  {
   "cell_type": "code",
   "execution_count": 2,
   "metadata": {},
   "outputs": [
    {
     "name": "stderr",
     "output_type": "stream",
     "text": [
      "2024-10-25 07:11:45,607 - INFO - >> Loading GADM boundaries (Sub-provincial | level =2) for British Columbia  from local file data/processed_data/regions/gadm41_Canada_L2_BC.geojson.\n",
      "2024-10-25 07:11:45,852 - INFO - >> Loading GADM boundaries (Sub-provincial | level =2) for British Columbia  from local file data/processed_data/regions/gadm41_Canada_L2_BC.geojson.\n"
     ]
    }
   ],
   "source": [
    "required_args = {\n",
    "        \"config_file_path\": 'config/config.yml',\n",
    "        \"province_short_code\": 'BC',\n",
    "        \"resource_type\": 'solar'\n",
    "    }\n",
    "\n",
    "resource_module = Resources(**required_args)"
   ]
  },
  {
   "cell_type": "code",
   "execution_count": null,
   "metadata": {},
   "outputs": [
    {
     "name": "stderr",
     "output_type": "stream",
     "text": [
      "2024-10-25 07:11:46,740 - INFO - >> Loading GADM boundaries (Sub-provincial | level =2) for British Columbia  from local file data/processed_data/regions/gadm41_Canada_L2_BC.geojson.\n",
      "/localhome/mei3/miniconda3/envs/linkingtool/lib/python3.12/site-packages/atlite/cutout.py:191: UserWarning: Arguments module, x, y, dx, dy, time are ignored, since cutout is already built.\n",
      "  warn(\n",
      "2024-10-25 07:11:46,863 - INFO - Cutout already prepared.\n",
      "2024-10-25 07:11:46,863 - INFO - Loading global filters' rasters from GAEZ, trimmed to British Columbia\n",
      "2024-10-25 07:11:46,864 - INFO -  >>> Loading Landcover inclusion layers from data/downloaded_data/GAEZ/Rasters_in_use/LR/lco/faocmb_2010.tif\n",
      "2024-10-25 07:11:46,864 - INFO -  >>> Loading Terrain slope exclusion layers from data/downloaded_data/GAEZ/Rasters_in_use/LR/ter/slpmed05.tif\n",
      "2024-10-25 07:11:46,864 - INFO -  >>> Loading Globally protected areas' exclusion layers from data/downloaded_data/GAEZ/Rasters_in_use/LR/excl/exclusion_2017.tif\n",
      "2024-10-25 07:11:46,865 - INFO - Downloading Canadian Protected and Conserved Areas Database (CPCAD)\n"
     ]
    },
    {
     "name": "stdout",
     "output_type": "stream",
     "text": [
      "\n",
      "    >>> Memory management remarks:\n",
      "    * After execution, all downloaded data is stored at cutout.path. By default, it is not loaded into memory, but into dask arrays. This keeps the memory consumption extremely low.\n",
      "    * The data is accessible in cutout.data, which is an xarray.Dataset. Querying the cutout gives us some basic information on which data is contained in it.\n",
      "    * For more operations related to cutout, check the tool docs @ https://atlite.readthedocs.io/en/master/examples/create_cutout.html#\n",
      "        \n"
     ]
    },
    {
     "name": "stderr",
     "output_type": "stream",
     "text": [
      "2024-10-25 07:13:00,897 - INFO - File downloaded successfully and saved as data/downloaded_data/Gov/Conservation_Lands/ProtectedConservedArea.zip\n",
      "2024-10-25 07:13:01,442 - INFO - >> Loading GADM boundaries (Sub-provincial | level =2) for British Columbia  from local file data/processed_data/regions/gadm41_Canada_L2_BC.geojson.\n",
      "2024-10-25 07:13:02,054 - WARNING - organizePolygons() received a polygon with more than 100 parts. The processing may be really slow.  You can skip the processing by setting METHOD=SKIP, or only make it analyze counter-clock wise parts by setting METHOD=ONLY_CCW if you can assume that the outline of holes is counter-clock wise defined\n"
     ]
    },
    {
     "name": "stdout",
     "output_type": "stream",
     "text": [
      "Downloading data for British Columbia, Canada with tags ['aerodrome', 'runway', 'taxiway', 'helipad', 'apron', 'gate'] and saving to data/downloaded_data/OSM/BC_aeroway.geojson\n"
     ]
    },
    {
     "name": "stderr",
     "output_type": "stream",
     "text": [
      "/localhome/mei3/miniconda3/envs/linkingtool/lib/python3.12/site-packages/osmnx/_overpass.py:254: UserWarning: This area is 547 times your configured Overpass max query area size. It will automatically be divided up into multiple sub-queries accordingly. This may take a long time.\n",
      "  multi_poly_proj = utils_geo._consolidate_subdivide_geometry(poly_proj)\n"
     ]
    }
   ],
   "source": [
    "data=resource_module.get_cell_capacity()"
   ]
  },
  {
   "cell_type": "code",
   "execution_count": 4,
   "metadata": {},
   "outputs": [],
   "source": [
    "# resource_module.get_clusters()\n",
    "# resource_module.get_cluster_timeseries()"
   ]
  },
  {
   "cell_type": "markdown",
   "metadata": {},
   "source": [
    "# All resource"
   ]
  },
  {
   "cell_type": "code",
   "execution_count": null,
   "metadata": {},
   "outputs": [],
   "source": [
    "# Define the list of resource types\n",
    "resource_types = ['solar', 'wind']\n",
    "\n",
    "# Initialize a list to hold the required arguments for each resource type\n",
    "required_args_list = []\n",
    "\n",
    "# Loop through each resource type\n",
    "for resource in resource_types:\n",
    "    required_args = {\n",
    "        \"config_file_path\": 'config/test_config.yml',\n",
    "        \"province_short_code\": 'BC',\n",
    "        \"resource_type\": resource\n",
    "    }\n",
    "    \n",
    "    required_args_list.append(required_args)\n",
    "\n",
    "    # Create an instance of Resources with the required arguments\n",
    "    resource_module = Resources(**required_args)\n",
    "    \n",
    "    # Run the processing for the current resource type\n",
    "    resource_module.run()"
   ]
  },
  {
   "cell_type": "code",
   "execution_count": null,
   "metadata": {},
   "outputs": [],
   "source": [
    "# data1=solar.get_CF_timeseries()\n",
    "# data2=solar.get_cell_capacity()\n",
    "# data3=solar.find_grid_nodes()\n",
    "# data5=solar.score_cells()\n",
    "# data=datahandler.from_store('cells') \n",
    "vis.get_selected_vs_missed_visuals(cells, \n",
    "                              required_args['province_short_code'],\n",
    "                              lcoe_threshold=20, \n",
    "                              CF_threshold=0.15, \n",
    "                              capacity_threshold=1,\n",
    "                              text_box_x=.65,\n",
    "                              text_box_y=.965,\n",
    "                              title_x=.65,\n",
    "                              title_y=1,\n",
    "                              font_size=8,\n",
    "                              dpi=400,\n",
    "                              figsize=(8,6),\n",
    "                              save=True\n",
    "                              )"
   ]
  },
  {
   "cell_type": "code",
   "execution_count": 13,
   "metadata": {},
   "outputs": [],
   "source": [
    "lcoe_threshold=20\n",
    "wcss_tolr=0.05\n",
    "filtered_cells=cells[cells['lcoe'] <= lcoe_threshold]\n",
    "filtered_clusters=all_clusters[all_clusters['lcoe'] <= lcoe_threshold]"
   ]
  },
  {
   "cell_type": "code",
   "execution_count": null,
   "metadata": {},
   "outputs": [],
   "source": [
    "import geopandas as gpd\n",
    "import matplotlib.pyplot as plt\n",
    "\n",
    "# Define the LCOE threshold\n",
    "lcoe_threshold = 20  # You can set this to the appropriate value as needed\n",
    "\n",
    "# Create a figure with 1 row and 2 columns\n",
    "fig, ax = plt.subplots(1, 2, figsize=(12, 6))\n",
    "\n",
    "# Plot the selected cells on the left\n",
    "filtered_cells.plot(\n",
    "    column='lcoe',\n",
    "    ax=ax[0],\n",
    "    edgecolor='white',\n",
    "    linewidth=0.2,\n",
    "    legend=True,\n",
    "    legend_kwds={'label': \"Cells LCOE ($/kWh)\", 'orientation': \"vertical\"}\n",
    ")\n",
    "ax[0].set_title('Cells')\n",
    "ax[0].set_xlabel('Longitude')\n",
    "ax[0].set_ylabel('Latitude')\n",
    "\n",
    "# Plot the filtered clusters on the right\n",
    "filtered_clusters.plot(\n",
    "    column='lcoe',\n",
    "    ax=ax[1],\n",
    "    edgecolor='white',\n",
    "    linewidth=0.2,\n",
    "    legend=True,\n",
    "    # legend_kwds={'label': \"Cluster LCOE ($/kWh)\", 'orientation': \"vertical\"}\n",
    ")\n",
    "ax[1].set_title(f'Representative Clusters [@ WCSS tolerance {wcss_tolr}')\n",
    "ax[1].set_xlabel('Longitude')\n",
    "ax[1].set_ylabel('Latitude')\n",
    "\n",
    "# Set a common title for the entire figure\n",
    "fig.suptitle(f\"{select} - Selected Cells vs their Clusters \\n[@ lcoe >={lcoe_threshold} $/kWh]\", fontsize=16, fontweight='bold')\n",
    "\n",
    "# Adjust layout\n",
    "plt.tight_layout()\n",
    "plt.subplots_adjust(top=0.85)  # Adjusts the top space to make room for the main title\n",
    "plt.savefig(f'vis/Solar/cells vs cluster_ALL REGIONS_{select}')\n",
    "# Show the plots\n",
    "plt.show()\n"
   ]
  },
  {
   "cell_type": "code",
   "execution_count": null,
   "metadata": {},
   "outputs": [],
   "source": [
    "import geopandas as gpd\n",
    "import matplotlib.pyplot as plt\n",
    "from mpl_toolkits.axes_grid1 import make_axes_locatable\n",
    "\n",
    "# Get unique regions from the filtered clusters\n",
    "unique_regions = filtered_clusters['Region'].unique()\n",
    "\n",
    "# Loop through each unique region and create plots\n",
    "for region in unique_regions:\n",
    "    # Filter clusters and cells based on the current region\n",
    "    region_filtered_clusters = filtered_clusters[filtered_clusters['Region'] == region]\n",
    "    total_clusters = max(region_filtered_clusters['Cluster_No'])\n",
    "\n",
    "    # Prepare a list to collect all dissolved cell indices for the region\n",
    "    dissolved_cell_indices = []\n",
    "\n",
    "    # Collect dissolved indices for the current region\n",
    "    for _, row in region_filtered_clusters.iterrows():\n",
    "        dissolved_cell_indices.extend(list(solar.solar_clusters_nt.dissolved_indices[row.Region][row.Cluster_No]))\n",
    "\n",
    "    # Extract the dissolved cells based on the collected indices\n",
    "    dissolved_cells_region = cells.loc[dissolved_cell_indices]\n",
    "    total_cells = len(dissolved_cells_region)\n",
    "\n",
    "    # Create a figure with a single row and two columns\n",
    "    fig, ax = plt.subplots(1, 2, figsize=(14, 7))\n",
    "\n",
    "    # Plot all filtered clusters for the current region on the left\n",
    "    cmap = \"plasma\"  # Changed colormap for better visibility\n",
    "    region_filtered_clusters.plot(\n",
    "        column='lcoe',\n",
    "        edgecolor='gray',\n",
    "        linewidth=0.8,\n",
    "        ax=ax[0],\n",
    "        cmap=cmap,\n",
    "        legend=False  # Disable the default legend\n",
    "    )\n",
    "    \n",
    "    # Create a colorbar\n",
    "    sm = plt.cm.ScalarMappable(cmap=cmap, norm=plt.Normalize(vmin=region_filtered_clusters['lcoe'].min(), vmax=region_filtered_clusters['lcoe'].max()))\n",
    "    sm.set_array([])\n",
    "    cbar = fig.colorbar(sm, ax=ax[0], orientation='vertical')\n",
    "    cbar.set_label(\"Filtered Clusters' LCOE (kWh)\")\n",
    "\n",
    "    ax[0].set_title(f'Filtered Clusters ({total_clusters}) for Region: {region}')\n",
    "    ax[0].set_xlabel('Longitude')\n",
    "    ax[0].set_ylabel('Latitude')\n",
    "\n",
    "    # Plot all dissolved cells for the current region on the right\n",
    "    dissolved_cells_region.plot(\n",
    "        column='lcoe',\n",
    "        edgecolor='grey',\n",
    "        ax=ax[1],\n",
    "        linewidth=0.6,\n",
    "        alpha=0.7,  # Slightly transparent for better visibility\n",
    "        cmap=cmap,\n",
    "        legend=False\n",
    "    )\n",
    "\n",
    "    # Create a colorbar for the right plot\n",
    "    sm_right = plt.cm.ScalarMappable(cmap=cmap, norm=plt.Normalize(vmin=dissolved_cells_region['lcoe'].min(), vmax=dissolved_cells_region['lcoe'].max()))\n",
    "    sm_right.set_array([])\n",
    "    cbar_right = fig.colorbar(sm_right, ax=ax[1], orientation='vertical')\n",
    "    cbar_right.set_label(\"Dissolved Cells LCOE (kWh)\")\n",
    "\n",
    "    ax[1].set_title(f'Dissolved Cells ({total_cells}) for Region: {region}')\n",
    "    ax[1].set_xlabel('Longitude')\n",
    "    ax[1].set_ylabel('Latitude')\n",
    "\n",
    "    # Set a common title for the figure\n",
    "    fig.suptitle(f\"Cells vs Representative Clusters (@ WCSS tolerance ={wcss_tolr}) \\n {region}, {select} [@ LCOE <= {lcoe_threshold} $/kWh]\", fontsize=16)\n",
    "\n",
    "    # Adjust layout\n",
    "    plt.tight_layout()\n",
    "    plt.savefig(f'vis/Solar/cells_vs_cluster_{region}.png')  # Added .png extension for clarity\n",
    "    plt.show()\n"
   ]
  },
  {
   "cell_type": "code",
   "execution_count": null,
   "metadata": {},
   "outputs": [],
   "source": [
    "import geopandas as gpd\n",
    "import matplotlib.pyplot as plt\n",
    "from mpl_toolkits.axes_grid1 import make_axes_locatable\n",
    "\n",
    "# Get unique regions from the filtered clusters\n",
    "unique_regions = filtered_clusters['Region'].unique()\n",
    "\n",
    "# Loop through each unique region and create plots\n",
    "for region in unique_regions:\n",
    "    # Filter clusters and cells based on the current region\n",
    "    region_filtered_clusters = filtered_clusters[filtered_clusters['Region'] == region]\n",
    "    total_clusters=max(region_filtered_clusters['Cluster_No'])\n",
    "\n",
    "    # Prepare a list to collect all dissolved cell indices for the region\n",
    "    dissolved_cell_indices = []\n",
    "\n",
    "    # Collect dissolved indices for the current region\n",
    "    for _, row in region_filtered_clusters.iterrows():\n",
    "        dissolved_cell_indices.extend(list(solar.solar_clusters_nt.dissolved_indices[row.Region][row.Cluster_No]))\n",
    "\n",
    "    # Extract the dissolved cells based on the collected indices\n",
    "    dissolved_cells_region = cells.loc[dissolved_cell_indices]\n",
    "    total_cells=len(dissolved_cells_region)\n",
    "\n",
    "    # Create a figure with 1 row and 2 columns\n",
    "    fig, ax = plt.subplots(1, 2, figsize=(12, 6))\n",
    "\n",
    "    # Plot all filtered clusters for the current region on the left\n",
    "    cmap_left = \"viridis\"  # Specify your desired colormap here\n",
    "    region_filtered_clusters.plot(\n",
    "        column='lcoe',\n",
    "        edgecolor='gray',\n",
    "        linewidth=0.8,\n",
    "        ls=\":\",\n",
    "        ax=ax[0],\n",
    "        cmap=cmap_left,  # Use the specified colormap\n",
    "        legend=False  # Disable the default legend\n",
    "    )\n",
    "\n",
    "    # Create a divider for the left plot to add colorbar\n",
    "    divider_left = make_axes_locatable(ax[0])\n",
    "    cax_left = divider_left.append_axes(\"right\", size=\"5%\", pad=0.1)  # Adjust size and padding as needed\n",
    "\n",
    "    # Create a colorbar\n",
    "    sm_left = plt.cm.ScalarMappable(cmap=cmap_left, norm=plt.Normalize(vmin=region_filtered_clusters['lcoe'].min(), vmax=region_filtered_clusters['lcoe'].max()))\n",
    "    sm_left.set_array([])\n",
    "    cbar_left = fig.colorbar(sm_left, cax=cax_left)\n",
    "    cbar_left.set_label(\"Filtered Clusters' LCOE (kWh)\")\n",
    "\n",
    "    ax[0].set_title(f'Filtered Clusters ({total_clusters}) for Region: {region}')\n",
    "    ax[0].set_xlabel('Longitude')\n",
    "    ax[0].set_ylabel('Latitude')\n",
    "\n",
    "    # Plot all dissolved cells for the current region on the right\n",
    "    cmap_right = \"viridis\"  # Specify your desired colormap here\n",
    "    dissolved_cells_region.plot(\n",
    "        column='lcoe',\n",
    "        edgecolor='grey',\n",
    "        ax=ax[1],\n",
    "        linewidth=0.6,\n",
    "        ls=\":\",\n",
    "        alpha=1,  # Adjust transparency for better visualization\n",
    "        cmap=cmap_right,  # Use the specified colormap\n",
    "        legend=False  # Disable the default legend\n",
    "    )\n",
    "\n",
    "    # Create a divider for the right plot to add colorbar\n",
    "    divider_right = make_axes_locatable(ax[1])\n",
    "    cax_right = divider_right.append_axes(\"right\", size=\"5%\", pad=0.1)  # Adjust size and padding as needed\n",
    "\n",
    "    # Create a colorbar\n",
    "    sm_right = plt.cm.ScalarMappable(cmap=cmap_right, norm=plt.Normalize(vmin=dissolved_cells_region['lcoe'].min(), vmax=dissolved_cells_region['lcoe'].max()))\n",
    "    sm_right.set_array([])\n",
    "    cbar_right = fig.colorbar(sm_right, cax=cax_right)\n",
    "    cbar_right.set_label(\"Dissolved Cells LCOE (kWh)\")\n",
    "\n",
    "    ax[1].set_title(f'Dissolved Cells ({total_cells}) for Region: {region}')\n",
    "    ax[1].set_xlabel('Longitude')\n",
    "    ax[1].set_ylabel('Latitude')\n",
    "\n",
    "    # Set a common title for the figure\n",
    "    fig.suptitle(f\"Cells vs Representative Clusters ( @ WCSS tolerance ={wcss_tolr}) \\n {region},{select} [@ LCOE <= {lcoe_threshold} $/kWh]\", fontsize=16)\n",
    "\n",
    "    # Adjust layout\n",
    "    plt.tight_layout()\n",
    "    plt.savefig(f'vis/Solar/cells vs cluster_{region}')\n",
    "    # Show the plots for the current region\n",
    "    plt.show()\n"
   ]
  },
  {
   "cell_type": "markdown",
   "metadata": {},
   "source": []
  }
 ],
 "metadata": {
  "kernelspec": {
   "display_name": "linkingtool",
   "language": "python",
   "name": "python3"
  },
  "language_info": {
   "codemirror_mode": {
    "name": "ipython",
    "version": 3
   },
   "file_extension": ".py",
   "mimetype": "text/x-python",
   "name": "python",
   "nbconvert_exporter": "python",
   "pygments_lexer": "ipython3",
   "version": "3.12.7"
  }
 },
 "nbformat": 4,
 "nbformat_minor": 2
}
