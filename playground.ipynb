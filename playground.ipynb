{
 "cells": [
  {
   "cell_type": "code",
   "execution_count": null,
   "metadata": {},
   "outputs": [],
   "source": [
    "import workflow.scripts.resources as res_module\n",
    "import pandas as pd\n",
    "import geopandas as gpd"
   ]
  },
  {
   "cell_type": "code",
   "execution_count": null,
   "metadata": {},
   "outputs": [],
   "source": [
    "from linkingtool.hdf5_handler import DataHandler\n",
    "import linkingtool.visuals as vis\n",
    "store=f\"data/store/resources_AB.h5\"\n",
    "datahandler=DataHandler(store)"
   ]
  },
  {
   "cell_type": "markdown",
   "metadata": {},
   "source": [
    "# Set Required Args to Activate Modules"
   ]
  },
  {
   "cell_type": "code",
   "execution_count": null,
   "metadata": {},
   "outputs": [],
   "source": [
    "# Iterate over provinces for both solar and wind resources\n",
    "resource_types = ['wind'] # , 'solar'\n",
    "provinces=['AB']  #'AB','SK','ON','NS'\n",
    "for province_code in provinces:\n",
    "    for resource_type in resource_types:\n",
    "        required_args = {\n",
    "            \"config_file_path\": 'config/config.yaml',\n",
    "            \"province_short_code\": province_code,\n",
    "            \"resource_type\": resource_type\n",
    "        }\n",
    "        \n",
    "        # Create an instance of Resources and execute the module\n",
    "        resources = res_module.Resources(**required_args)\n",
    "        resources.execute_module()"
   ]
  },
  {
   "cell_type": "markdown",
   "metadata": {},
   "source": []
  },
  {
   "cell_type": "markdown",
   "metadata": {},
   "source": [
    "# Temp tests"
   ]
  },
  {
   "cell_type": "code",
   "execution_count": null,
   "metadata": {},
   "outputs": [],
   "source": [
    "CPCAD=pd.read_pickle('data/downloaded_data/lands/ProtectedConservedArea.pickle')"
   ]
  },
  {
   "cell_type": "code",
   "execution_count": null,
   "metadata": {},
   "outputs": [],
   "source": [
    "datahandler.show_tree(store)"
   ]
  },
  {
   "cell_type": "code",
   "execution_count": null,
   "metadata": {},
   "outputs": [],
   "source": [
    "boundary=datahandler.from_store('boundary')"
   ]
  },
  {
   "cell_type": "code",
   "execution_count": null,
   "metadata": {},
   "outputs": [],
   "source": [
    "CPCAD=pd.read_pickle('data/downloaded_data/lands/ProtectedConservedArea_AB.pickle')"
   ]
  },
  {
   "cell_type": "code",
   "execution_count": null,
   "metadata": {},
   "outputs": [],
   "source": [
    "CPCAD.explore('NAME_E')"
   ]
  },
  {
   "cell_type": "code",
   "execution_count": null,
   "metadata": {},
   "outputs": [],
   "source": [
    "# Filter for Banff and Waterton Lakes National Parks\n",
    "banff_and_waterton = CPCAD[\n",
    "    (CPCAD['NAME_E'] == 'Banff National Park Of Canada') | \n",
    "    (CPCAD['NAME_E'] == 'Waterton Lakes National Park Of Canada')\n",
    "]\n",
    "\n",
    "# Check CRS and reproject if needed\n",
    "if banff_and_waterton.crs.is_geographic:\n",
    "    banff_and_waterton = banff_and_waterton.to_crs(epsg=3857)  # Reproject to meters for accurate buffering\n",
    "\n",
    "# Apply the buffer (e.g., 10 km buffer)\n",
    "buffered_boundary = banff_and_waterton.geometry.buffer(30000)  # Distance in meters\n",
    "\n",
    "# Create a new GeoDataFrame with the buffered geometry\n",
    "buffered_banff = gpd.GeoDataFrame(banff_and_waterton, geometry=buffered_boundary)\n",
    "\n",
    "# Reproject back to the original CRS if needed\n",
    "buffered_banff = buffered_banff.to_crs(CPCAD.crs)\n",
    "\n",
    "# Plot the buffered area\n",
    "buffered_banff.explore()\n"
   ]
  },
  {
   "cell_type": "code",
   "execution_count": null,
   "metadata": {},
   "outputs": [],
   "source": [
    "datahandler.show_tree(store)"
   ]
  },
  {
   "cell_type": "code",
   "execution_count": null,
   "metadata": {},
   "outputs": [],
   "source": [
    "cells=datahandler.from_store('cells')\n",
    "cells.to_pickle('AB_temp_analysis/Cells_without_regulatory_buffer.pkl')"
   ]
  },
  {
   "cell_type": "code",
   "execution_count": null,
   "metadata": {},
   "outputs": [],
   "source": [
    "cells.columns"
   ]
  },
  {
   "cell_type": "code",
   "execution_count": null,
   "metadata": {},
   "outputs": [],
   "source": [
    "cells.explore('potential_capacity_wind',cmap='Blues',alpha=0.6)"
   ]
  }
 ],
 "metadata": {
  "kernelspec": {
   "display_name": "linkingtool",
   "language": "python",
   "name": "python3"
  },
  "language_info": {
   "codemirror_mode": {
    "name": "ipython",
    "version": 3
   },
   "file_extension": ".py",
   "mimetype": "text/x-python",
   "name": "python",
   "nbconvert_exporter": "python",
   "pygments_lexer": "ipython3",
   "version": "3.12.7"
  }
 },
 "nbformat": 4,
 "nbformat_minor": 2
}
