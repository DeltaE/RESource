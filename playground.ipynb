{
 "cells": [
  {
   "cell_type": "code",
   "execution_count": 1,
   "metadata": {},
   "outputs": [],
   "source": [
    "import atlite\n",
    "import linkingtool.linking_utility as utils\n",
    "import linkingtool.linking_data as dataprep\n",
    "import geopandas as gpd\n",
    "import os\n",
    "import osmnx as ox\n",
    "import geopandas as gpd\n",
    "import pandas as pd"
   ]
  },
  {
   "cell_type": "code",
   "execution_count": 26,
   "metadata": {},
   "outputs": [],
   "source": [
    "class OSM_power_network_processor:\n",
    "    def __init__(self, area_name: str, area_short_code: str):\n",
    "        self.area = area_name\n",
    "        self.area_sc = area_short_code\n",
    "        # Define the OSM tags for power infrastructure\n",
    "        self.tags = {'power': ['line','cable','minor_line', 'substation', 'tower', 'pole', 'generator','plant','terminal'],\n",
    "                     'substation':['transmission','distribution','minor_distribution','industrial']\n",
    "                     }\n",
    "\n",
    "    def load_power_network_from_OSM(self):\n",
    "        \"\"\"\n",
    "        Retrieve all power-related infrastructure within the specified area.\"\"\"\n",
    "        # Retrieve the power network data from OSM\n",
    "        self.power_network = ox.features_from_place(self.area, self.tags)\n",
    "\n",
    "    def save_local_file(self):\n",
    "        \"\"\"\n",
    "        Save the power network data to a GeoJSON file (optional).\n",
    "        \"\"\"\n",
    "        geojson_path = f\"{self.area_sc}.geojson\"  # Ensure file name is properly formatted\n",
    "        self.power_network.to_file(geojson_path, driver='GeoJSON')"
   ]
  },
  {
   "cell_type": "code",
   "execution_count": 30,
   "metadata": {},
   "outputs": [],
   "source": [
    "# Example usage:\n",
    "processor = OSM_power_network_processor(\"Surrey,British Columbia, Canada\",\"Sur_BC\")\n",
    "processor.load_power_network_from_OSM()\n",
    "processor.save_local_file()\n"
   ]
  },
  {
   "cell_type": "code",
   "execution_count": null,
   "metadata": {},
   "outputs": [],
   "source": [
    "# Example of using 'CartoDB positron' basemap\n",
    "xx.explore('power', tiles='CartoDB positron')\n"
   ]
  },
  {
   "cell_type": "code",
   "execution_count": 2,
   "metadata": {},
   "outputs": [],
   "source": [
    "config=utils.load_config('config/config_linking_tool.yml')"
   ]
  },
  {
   "cell_type": "code",
   "execution_count": 3,
   "metadata": {},
   "outputs": [],
   "source": [
    "province_gadm_regions_gdf=gpd.read_file('data/downloaded_data/GADM/BC_gadm_regions.geojson')\n",
    "current_region=config['regional_info']['region_1']\n",
    "_CRC_=current_region['code']\n",
    "cutout_config=config['cutout']"
   ]
  },
  {
   "cell_type": "code",
   "execution_count": null,
   "metadata": {},
   "outputs": [],
   "source": [
    "bounding_box_save_to:str=os.path.join(config['cutout']['root'],f\"{_CRC_}_MBR.geojson\")\n",
    "bounding_box:dict=dataprep.plot_n_save_bounding_box(province_gadm_regions_gdf,current_region,bounding_box_save_to)"
   ]
  },
  {
   "cell_type": "code",
   "execution_count": 7,
   "metadata": {},
   "outputs": [],
   "source": [
    "cutout_config = {\n",
    "    'root': 'data/downloaded_data/cutout',\n",
    "    'module': ['era5'],\n",
    "    'dx': 0.25,\n",
    "    'dy': 0.25,\n",
    "    'snapshots': {\n",
    "        'start': ['2023-01-01 07:00:00'],\n",
    "        'end': ['2023-01-01 11:00:00']\n",
    "    },\n",
    "    'snapshots_tz_BC': {\n",
    "        'start': ['2023-01-01 00:00:00'],\n",
    "        'end': ['2023-01-01 04:00:00']\n",
    "    },\n",
    "    'timezone_convert': 'Etc/GMT+7'\n",
    "}\n",
    "\n"
   ]
  },
  {
   "cell_type": "code",
   "execution_count": 10,
   "metadata": {},
   "outputs": [],
   "source": [
    "def prepare_cutout(module,start_date, end_date,bounding_box,save_to_path):\n",
    "\n",
    "    min_x,max_x,min_y,max_y=bounding_box.values()\n",
    "\n",
    "    cutout = atlite.Cutout(\n",
    "        path=save_to_path,\n",
    "        module=module,\n",
    "        x=slice(min_x,max_x), # Longitude\n",
    "        y=slice(min_y,max_y), # Latitude\n",
    "        time=slice(start_date,end_date)\n",
    "    )\n",
    "\n",
    "    cutout.prepare()\n",
    "    return True"
   ]
  },
  {
   "cell_type": "code",
   "execution_count": 11,
   "metadata": {},
   "outputs": [],
   "source": [
    "start_date=\"2023-01-01\"\n",
    "end_date=\"2023-01-01\""
   ]
  },
  {
   "cell_type": "code",
   "execution_count": null,
   "metadata": {},
   "outputs": [],
   "source": [
    "import atlite\n",
    "\n",
    "# values are random, any cutout will fail\n",
    "cutout = atlite.Cutout(\n",
    "    path='test.nc',\n",
    "    module=['era5'],\n",
    "    x=slice(3, 6),\n",
    "    y=slice(3, 6),\n",
    "    time=\"2019-05-02\",\n",
    "    features=['runoff'],\n",
    ")\n",
    "cutout.prepare()"
   ]
  },
  {
   "cell_type": "code",
   "execution_count": null,
   "metadata": {},
   "outputs": [],
   "source": [
    "dataprep.create_era5_cutout('BC_test_',bounding_box,cutout_config)"
   ]
  },
  {
   "cell_type": "code",
   "execution_count": 5,
   "metadata": {},
   "outputs": [],
   "source": [
    "import atlite\n",
    "import xarray as xr"
   ]
  },
  {
   "cell_type": "code",
   "execution_count": 2,
   "metadata": {},
   "outputs": [],
   "source": [
    "file_path='data/downloaded_data/cutout/era5_data_BC_2022.nc'"
   ]
  },
  {
   "cell_type": "code",
   "execution_count": 8,
   "metadata": {},
   "outputs": [],
   "source": [
    "ds=xr.open_dataset(file_path, chunks={})"
   ]
  },
  {
   "cell_type": "code",
   "execution_count": null,
   "metadata": {},
   "outputs": [],
   "source": [
    "ds.rename({'ssr': 'influx_toa'})"
   ]
  },
  {
   "cell_type": "code",
   "execution_count": null,
   "metadata": {},
   "outputs": [],
   "source": [
    "ds.rename({'v100': 'wnd100m'})\n"
   ]
  },
  {
   "cell_type": "code",
   "execution_count": 10,
   "metadata": {},
   "outputs": [],
   "source": [
    "cutout=atlite.Cutout('data/downloaded_data/cutout/BC_2022.nc')"
   ]
  },
  {
   "cell_type": "code",
   "execution_count": null,
   "metadata": {},
   "outputs": [],
   "source": [
    "cutout.data"
   ]
  },
  {
   "cell_type": "code",
   "execution_count": 11,
   "metadata": {},
   "outputs": [],
   "source": [
    "gwa_cells=pl.DataFrame ('data/Processed_data/Wind/BC/gwa_cells.pkl')"
   ]
  },
  {
   "cell_type": "code",
   "execution_count": null,
   "metadata": {},
   "outputs": [],
   "source": [
    "gwa_cells"
   ]
  }
 ],
 "metadata": {
  "kernelspec": {
   "display_name": "Linking",
   "language": "python",
   "name": "python3"
  },
  "language_info": {
   "codemirror_mode": {
    "name": "ipython",
    "version": 3
   },
   "file_extension": ".py",
   "mimetype": "text/x-python",
   "name": "python",
   "nbconvert_exporter": "python",
   "pygments_lexer": "ipython3",
   "version": "3.12.5"
  }
 },
 "nbformat": 4,
 "nbformat_minor": 2
}
