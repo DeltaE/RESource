{
 "cells": [
  {
   "cell_type": "code",
   "execution_count": 1,
   "metadata": {},
   "outputs": [],
   "source": [
    "import workflow.scripts.resources as res_module\n",
    "import pandas as pd\n",
    "import geopandas as gpd"
   ]
  },
  {
   "cell_type": "code",
   "execution_count": 2,
   "metadata": {},
   "outputs": [
    {
     "name": "stdout",
     "output_type": "stream",
     "text": [
      ">> Store initialized with the given path: data/store/resources_BC.h5\n"
     ]
    }
   ],
   "source": [
    "from linkingtool.hdf5_handler import DataHandler\n",
    "import linkingtool.visuals as vis\n",
    "store=f\"data/store/resources_BC.h5\"\n",
    "datahandler=DataHandler(store)"
   ]
  },
  {
   "cell_type": "markdown",
   "metadata": {},
   "source": [
    "# Set Required Args to Activate Modules"
   ]
  },
  {
   "cell_type": "code",
   "execution_count": 3,
   "metadata": {},
   "outputs": [
    {
     "name": "stdout",
     "output_type": "stream",
     "text": [
      ">> Store initialized with the given path: data/store/resources_BC.h5\n",
      ">> Store initialized with the given path: data/store/resources_BC.h5\n",
      ">> Store initialized with the given path: data/store/resources_BC.h5\n",
      ">> Store initialized with the given path: data/store/resources_BC.h5\n",
      ">> Store initialized with the given path: data/store/resources_BC.h5\n",
      ">> Store initialized with the given path: data/store/resources_BC.h5\n"
     ]
    }
   ],
   "source": [
    "# Iterate over provinces for both solar and wind resources\n",
    "resource_types = ['wind'] # , 'solar'\n",
    "provinces=['BC']  #'AB','SK','ON','NS'\n",
    "for province_code in provinces:\n",
    "    for resource_type in resource_types:\n",
    "        required_args = {\n",
    "            \"config_file_path\": 'config/config.yml',\n",
    "            \"province_short_code\": province_code,\n",
    "            \"resource_type\": resource_type\n",
    "        }\n",
    "        \n",
    "        # Create an instance of Resources and execute the module\n",
    "        resources = res_module.Resources(**required_args)\n",
    "        # resource_module.execute_module()\n",
    "        "
   ]
  },
  {
   "cell_type": "markdown",
   "metadata": {},
   "source": []
  },
  {
   "cell_type": "code",
   "execution_count": 5,
   "metadata": {},
   "outputs": [
    {
     "name": "stderr",
     "output_type": "stream",
     "text": [
      "2024-11-28 12:43:25,500 - INFO - >> Preparing spatial clusters for 2956 Cells\n"
     ]
    },
    {
     "name": "stdout",
     "output_type": "stream",
     "text": [
      ">> Calculating Score for each Cell...\n",
      ">> Updated 'cells' saved to data/store/resources_BC.h5 with key 'cells'\n",
      ">> Estimating optimal number of Clusters for each region based on the Score for each Cell ...\n",
      "Zone Stikine - Optimal k for lcoe_wind based clustering: 4\n",
      "\n",
      ">> Estimating optimal number of Clusters for each region based on the Score for each Cell ...\n",
      "Zone Columbia-Shuswap - Optimal k for lcoe_wind based clustering: 4\n",
      "\n",
      ">> Estimating optimal number of Clusters for each region based on the Score for each Cell ...\n",
      "Zone Kitimat-Stikine - Optimal k for lcoe_wind based clustering: 5\n",
      "\n",
      ">> Estimating optimal number of Clusters for each region based on the Score for each Cell ...\n",
      "Zone CentralCoast - Optimal k for lcoe_wind based clustering: 4\n",
      "\n",
      ">> Estimating optimal number of Clusters for each region based on the Score for each Cell ...\n",
      "Zone CentralKootenay - Optimal k for lcoe_wind based clustering: 4\n",
      "\n",
      ">> Estimating optimal number of Clusters for each region based on the Score for each Cell ...\n",
      "Zone Comox-Strathcona - Optimal k for lcoe_wind based clustering: 4\n",
      "\n",
      ">> Estimating optimal number of Clusters for each region based on the Score for each Cell ...\n",
      "Zone Cariboo - Optimal k for lcoe_wind based clustering: 4\n",
      "\n",
      ">> Estimating optimal number of Clusters for each region based on the Score for each Cell ...\n",
      "Zone MountWaddington - Optimal k for lcoe_wind based clustering: 4\n",
      "\n",
      ">> Estimating optimal number of Clusters for each region based on the Score for each Cell ...\n",
      "Zone NorthOkanagan - Optimal k for lcoe_wind based clustering: 4\n",
      "\n",
      ">> Estimating optimal number of Clusters for each region based on the Score for each Cell ...\n",
      "Zone PowellRiver - Optimal k for lcoe_wind based clustering: 3\n",
      "\n",
      ">> Estimating optimal number of Clusters for each region based on the Score for each Cell ...\n",
      "Zone SunshineCoast - Optimal k for lcoe_wind based clustering: 3\n",
      "\n",
      ">> Estimating optimal number of Clusters for each region based on the Score for each Cell ...\n",
      "Zone Squamish-Lillooet - Optimal k for lcoe_wind based clustering: 3\n",
      "\n",
      ">> Estimating optimal number of Clusters for each region based on the Score for each Cell ...\n",
      "Zone Thompson-Nicola - Optimal k for lcoe_wind based clustering: 4\n",
      "\n",
      ">> Estimating optimal number of Clusters for each region based on the Score for each Cell ...\n",
      "Zone PeaceRiver - Optimal k for lcoe_wind based clustering: 4\n",
      "\n",
      ">> Estimating optimal number of Clusters for each region based on the Score for each Cell ...\n",
      "Zone EastKootenay - Optimal k for lcoe_wind based clustering: 4\n",
      "\n",
      ">> Estimating optimal number of Clusters for each region based on the Score for each Cell ...\n",
      "Zone Fraser-FortGeorge - Optimal k for lcoe_wind based clustering: 4\n",
      "\n",
      ">> Estimating optimal number of Clusters for each region based on the Score for each Cell ...\n",
      "Zone FraserValley - Optimal k for lcoe_wind based clustering: 4\n",
      "\n",
      ">> Estimating optimal number of Clusters for each region based on the Score for each Cell ...\n",
      "Zone Bulkley-Nechako - Optimal k for lcoe_wind based clustering: 4\n",
      "\n",
      ">> Estimating optimal number of Clusters for each region based on the Score for each Cell ...\n",
      "Zone NorthernRockies - Optimal k for lcoe_wind based clustering: 4\n",
      "\n",
      ">> Estimating optimal number of Clusters for each region based on the Score for each Cell ...\n",
      "Zone KootenayBoundary - Optimal k for lcoe_wind based clustering: 4\n",
      "\n",
      ">> Estimating optimal number of Clusters for each region based on the Score for each Cell ...\n",
      "Zone Skeena-QueenCharlotte - Optimal k for lcoe_wind based clustering: 4\n",
      "\n",
      ">> Estimating optimal number of Clusters for each region based on the Score for each Cell ...\n",
      "Zone GreaterVancouver - Optimal k for lcoe_wind based clustering: 3\n",
      "\n",
      ">> Estimating optimal number of Clusters for each region based on the Score for each Cell ...\n",
      "Zone Alberni-Clayoquot - Optimal k for lcoe_wind based clustering: 4\n",
      "\n",
      ">> Estimating optimal number of Clusters for each region based on the Score for each Cell ...\n",
      "Zone Okanagan-Similkameen - Optimal k for lcoe_wind based clustering: 4\n",
      "\n",
      ">> Estimating optimal number of Clusters for each region based on the Score for each Cell ...\n",
      "Zone CentralOkanagan - Optimal k for lcoe_wind based clustering: 3\n",
      "\n",
      ">> Estimating optimal number of Clusters for each region based on the Score for each Cell ...\n",
      "Zone CowichanValley - Optimal k for lcoe_wind based clustering: 3\n",
      "\n",
      ">> Estimating optimal number of Clusters for each region based on the Score for each Cell ...\n",
      "Zone Nanaimo - Optimal k for lcoe_wind based clustering: 3\n",
      "\n",
      ">> Estimating optimal number of Clusters for each region based on the Score for each Cell ...\n",
      "Zone Capital - Optimal k for lcoe_wind based clustering: 3\n",
      "\n",
      ">>> K-means clustering Elbow plots generated for each region based on the Score for each Cell ...\n",
      "Optimal-k based on 'lcoe' clustering calculated for 28 zones and saved to cell dataframe.\n",
      "\n",
      ">>> Mapping the Optimal Number of Clusters for Each region ...\n"
     ]
    },
    {
     "name": "stderr",
     "output_type": "stream",
     "text": [
      "2024-11-28 12:43:29,280 - INFO -  Preparing Clusters...\n",
      "2024-11-28 12:43:29,280 - INFO -  Creating cluster for Stikine 1/28\n",
      "2024-11-28 12:43:29,299 - INFO -  Creating cluster for Columbia-Shuswap 2/28\n",
      "2024-11-28 12:43:29,314 - INFO -  Creating cluster for Kitimat-Stikine 3/28\n",
      "2024-11-28 12:43:29,366 - INFO -  Creating cluster for CentralCoast 4/28\n",
      "2024-11-28 12:43:29,416 - INFO -  Creating cluster for CentralKootenay 5/28\n",
      "2024-11-28 12:43:29,436 - INFO -  Creating cluster for Comox-Strathcona 6/28\n",
      "2024-11-28 12:43:29,480 - INFO -  Creating cluster for Cariboo 7/28\n",
      "2024-11-28 12:43:29,502 - INFO -  Creating cluster for MountWaddington 8/28\n",
      "2024-11-28 12:43:29,552 - INFO -  Creating cluster for NorthOkanagan 9/28\n",
      "2024-11-28 12:43:29,568 - INFO -  Creating cluster for PowellRiver 10/28\n",
      "2024-11-28 12:43:29,585 - INFO -  Creating cluster for SunshineCoast 11/28\n",
      "2024-11-28 12:43:29,603 - INFO -  Creating cluster for Squamish-Lillooet 12/28\n",
      "2024-11-28 12:43:29,619 - INFO -  Creating cluster for Thompson-Nicola 13/28\n",
      "2024-11-28 12:43:29,641 - INFO -  Creating cluster for PeaceRiver 14/28\n",
      "2024-11-28 12:43:29,665 - INFO -  Creating cluster for EastKootenay 15/28\n",
      "2024-11-28 12:43:29,685 - INFO -  Creating cluster for Fraser-FortGeorge 16/28\n",
      "2024-11-28 12:43:29,708 - INFO -  Creating cluster for FraserValley 17/28\n",
      "2024-11-28 12:43:29,729 - INFO -  Creating cluster for Bulkley-Nechako 18/28\n",
      "2024-11-28 12:43:29,753 - INFO -  Creating cluster for NorthernRockies 19/28\n",
      "2024-11-28 12:43:29,776 - INFO -  Creating cluster for KootenayBoundary 20/28\n",
      "2024-11-28 12:43:29,797 - INFO -  Creating cluster for Skeena-QueenCharlotte 21/28\n",
      "2024-11-28 12:43:29,878 - INFO -  Creating cluster for GreaterVancouver 22/28\n",
      "2024-11-28 12:43:29,899 - INFO -  Creating cluster for Alberni-Clayoquot 23/28\n",
      "2024-11-28 12:43:29,934 - INFO -  Creating cluster for Okanagan-Similkameen 24/28\n",
      "2024-11-28 12:43:29,957 - INFO -  Creating cluster for CentralOkanagan 25/28\n",
      "2024-11-28 12:43:29,977 - INFO -  Creating cluster for CowichanValley 26/28\n",
      "2024-11-28 12:43:29,999 - INFO -  Creating cluster for Nanaimo 27/28\n",
      "2024-11-28 12:43:30,022 - INFO -  Creating cluster for Capital 28/28\n",
      "2024-11-28 12:43:30,046 - INFO -  Culsters Created and a list generated to map the Cells inside each Cluster...\n",
      "2024-11-28 12:43:30,129 - INFO - >> Preparing representative profiles for 105 clusters\n"
     ]
    },
    {
     "name": "stdout",
     "output_type": "stream",
     "text": [
      ">> Data (GeoDataFrame/DataFrame) saved to data/store/resources_BC.h5 with key 'clusters/wind'\n",
      ">> Data (GeoDataFrame/DataFrame) saved to data/store/resources_BC.h5 with key 'dissolved_indices/wind'\n",
      ">> Data (GeoDataFrame/DataFrame) saved to data/store/resources_BC.h5 with key 'timeseries/clusters/wind'\n",
      "solar clusters exported to :results\n"
     ]
    }
   ],
   "source": [
    "res_module.export_results('solar',\n",
    "                          resources.get_clusters().clusters,\n",
    "                          resources.get_cluster_timeseries())"
   ]
  }
 ],
 "metadata": {
  "kernelspec": {
   "display_name": "linkingtool",
   "language": "python",
   "name": "python3"
  },
  "language_info": {
   "codemirror_mode": {
    "name": "ipython",
    "version": 3
   },
   "file_extension": ".py",
   "mimetype": "text/x-python",
   "name": "python",
   "nbconvert_exporter": "python",
   "pygments_lexer": "ipython3",
   "version": "3.12.7"
  }
 },
 "nbformat": 4,
 "nbformat_minor": 2
}
