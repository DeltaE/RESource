{
 "cells": [
  {
   "cell_type": "code",
   "execution_count": 1,
   "metadata": {},
   "outputs": [],
   "source": [
    "import workflow.scripts.resources as res_module\n",
    "import pandas as pd\n",
    "import geopandas as gpd"
   ]
  },
  {
   "cell_type": "code",
   "execution_count": 2,
   "metadata": {},
   "outputs": [],
   "source": [
    "from linkingtool.hdf5_handler import DataHandler\n",
    "import linkingtool.visuals as vis\n",
    "store=f\"data/store/resources_AB.h5\"\n",
    "datahandler=DataHandler(store)"
   ]
  },
  {
   "cell_type": "markdown",
   "metadata": {},
   "source": [
    "# Set Required Args to Activate Modules"
   ]
  },
  {
   "cell_type": "code",
   "execution_count": null,
   "metadata": {},
   "outputs": [],
   "source": [
    "# Iterate over provinces for both solar and wind resources\n",
    "resource_types = ['wind','solar'] # , \n",
    "provinces=['BC']  #'AB','SK','ON','NS'\n",
    "for province_code in provinces:\n",
    "    for resource_type in resource_types:\n",
    "        required_args = {\n",
    "            \"config_file_path\": 'config/config.yaml',\n",
    "            \"province_short_code\": province_code,\n",
    "            \"resource_type\": resource_type\n",
    "        }\n",
    "        \n",
    "        # Create an instance of Resources and execute the module\n",
    "        resources = res_module.Resources(**required_args)\n",
    "        resources.execute_module(use_pypsa_buses=False)"
   ]
  },
  {
   "cell_type": "markdown",
   "metadata": {},
   "source": []
  }
 ],
 "metadata": {
  "kernelspec": {
   "display_name": "linkingtool",
   "language": "python",
   "name": "python3"
  },
  "language_info": {
   "codemirror_mode": {
    "name": "ipython",
    "version": 3
   },
   "file_extension": ".py",
   "mimetype": "text/x-python",
   "name": "python",
   "nbconvert_exporter": "python",
   "pygments_lexer": "ipython3",
   "version": "3.12.7"
  }
 },
 "nbformat": 4,
 "nbformat_minor": 2
}
