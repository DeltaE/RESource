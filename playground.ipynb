{
 "cells": [
  {
   "cell_type": "code",
   "execution_count": 3,
   "metadata": {},
   "outputs": [],
   "source": [
    "import atlite\n",
    "import linkingtool.linking_utility as utils\n",
    "import linkingtool.linking_data as dataprep\n",
    "import geopandas as gpd\n",
    "import os\n",
<<<<<<< HEAD
    "import osmnx as ox\n",
    "import geopandas as gpd\n",
    "import pandas as pd"
   ]
  },
  {
   "cell_type": "code",
   "execution_count": 26,
   "metadata": {},
   "outputs": [],
   "source": [
    "class OSM_power_network_processor:\n",
    "    def __init__(self, area_name: str, area_short_code: str):\n",
    "        self.area = area_name\n",
    "        self.area_sc = area_short_code\n",
    "        # Define the OSM tags for power infrastructure\n",
    "        self.tags = {'power': ['line','cable','minor_line', 'substation', 'tower', 'pole', 'generator','plant','terminal'],\n",
    "                     'substation':['transmission','distribution','minor_distribution','industrial']\n",
    "                     }\n",
    "\n",
    "    def load_power_network_from_OSM(self):\n",
    "        \"\"\"\n",
    "        Retrieve all power-related infrastructure within the specified area.\"\"\"\n",
    "        # Retrieve the power network data from OSM\n",
    "        self.power_network = ox.features_from_place(self.area, self.tags)\n",
    "\n",
    "    def save_local_file(self):\n",
    "        \"\"\"\n",
    "        Save the power network data to a GeoJSON file (optional).\n",
    "        \"\"\"\n",
    "        geojson_path = f\"{self.area_sc}.geojson\"  # Ensure file name is properly formatted\n",
    "        self.power_network.to_file(geojson_path, driver='GeoJSON')"
   ]
  },
  {
   "cell_type": "code",
   "execution_count": 30,
   "metadata": {},
   "outputs": [],
   "source": [
    "# Example usage:\n",
    "processor = OSM_power_network_processor(\"Surrey,British Columbia, Canada\",\"Sur_BC\")\n",
    "processor.load_power_network_from_OSM()\n",
    "processor.save_local_file()\n"
   ]
  },
  {
   "cell_type": "code",
   "execution_count": null,
   "metadata": {},
   "outputs": [],
   "source": [
    "# Example of using 'CartoDB positron' basemap\n",
    "xx.explore('power', tiles='CartoDB positron')\n"
=======
    "import pandas as pd"
>>>>>>> 60cc18d6268d3fc6c3077a8b3402b136a52aa578
   ]
  },
  {
   "cell_type": "code",
   "execution_count": 2,
   "metadata": {},
   "outputs": [],
   "source": [
    "config=utils.load_config('config/config_linking_tool.yml')"
   ]
  },
  {
   "cell_type": "code",
   "execution_count": 14,
   "metadata": {},
   "outputs": [],
   "source": [
    "solar_sites=pd.read_pickle('results/linking/Solar_Top_Sites_Clustered.pkl')\n",
    "wind_sites=pd.read_pickle('results/linking/Wind_Top_Sites_Clustered.pkl')"
   ]
  },
  {
   "cell_type": "code",
   "execution_count": 13,
   "metadata": {},
   "outputs": [],
   "source": [
    "wind_sites['clews_investment_capacity_MW']=wind_sites['potential_capacity']/5\n",
    "solar_sites['clews_investment_capacity_MW']=solar_sites['potential_capacity']/5\n",
    "\n",
    "solar_sites.to_pickle('results/linking/Solar_Top_Sites_Clustered.pkl')\n",
    "wind_sites.to_pickle('results/linking/Wind_Top_Sites_Clustered.pkl')"
   ]
  },
  {
   "cell_type": "code",
   "execution_count": 15,
   "metadata": {},
   "outputs": [
    {
     "data": {
      "text/html": [
       "<div>\n",
       "<style scoped>\n",
       "    .dataframe tbody tr th:only-of-type {\n",
       "        vertical-align: middle;\n",
       "    }\n",
       "\n",
       "    .dataframe tbody tr th {\n",
       "        vertical-align: top;\n",
       "    }\n",
       "\n",
       "    .dataframe thead th {\n",
       "        text-align: right;\n",
       "    }\n",
       "</style>\n",
       "<table border=\"1\" class=\"dataframe\">\n",
       "  <thead>\n",
       "    <tr style=\"text-align: right;\">\n",
       "      <th></th>\n",
       "      <th>geometry</th>\n",
       "      <th>p_lcoe</th>\n",
       "      <th>capex</th>\n",
       "      <th>Cluster_No</th>\n",
       "      <th>potential_capacity</th>\n",
       "      <th>Region_ID</th>\n",
       "      <th>Region</th>\n",
       "      <th>nearest_station</th>\n",
       "      <th>nearest_station_distance_km</th>\n",
       "      <th>Site_ID</th>\n",
       "      <th>fom</th>\n",
       "      <th>vom</th>\n",
       "      <th>CF_mean</th>\n",
       "      <th>clews_investment_capacity_MW</th>\n",
       "    </tr>\n",
       "    <tr>\n",
       "      <th>cluster_id</th>\n",
       "      <th></th>\n",
       "      <th></th>\n",
       "      <th></th>\n",
       "      <th></th>\n",
       "      <th></th>\n",
       "      <th></th>\n",
       "      <th></th>\n",
       "      <th></th>\n",
       "      <th></th>\n",
       "      <th></th>\n",
       "      <th></th>\n",
       "      <th></th>\n",
       "      <th></th>\n",
       "      <th></th>\n",
       "    </tr>\n",
       "  </thead>\n",
       "  <tbody>\n",
       "    <tr>\n",
       "      <th>East Kootenay_1</th>\n",
       "      <td>MULTIPOLYGON (((-116.0672 49.2332, -116.0683 4...</td>\n",
       "      <td>1377.859218</td>\n",
       "      <td>1.482683</td>\n",
       "      <td>1</td>\n",
       "      <td>5000.0</td>\n",
       "      <td>16</td>\n",
       "      <td>East Kootenay</td>\n",
       "      <td>138_FRO_ISS</td>\n",
       "      <td>0.0</td>\n",
       "      <td>1</td>\n",
       "      <td>0.023766</td>\n",
       "      <td>0</td>\n",
       "      <td>0.235211</td>\n",
       "      <td>1000.0</td>\n",
       "    </tr>\n",
       "  </tbody>\n",
       "</table>\n",
       "</div>"
      ],
      "text/plain": [
       "                                                          geometry  \\\n",
       "cluster_id                                                           \n",
       "East Kootenay_1  MULTIPOLYGON (((-116.0672 49.2332, -116.0683 4...   \n",
       "\n",
       "                      p_lcoe     capex  Cluster_No  potential_capacity  \\\n",
       "cluster_id                                                               \n",
       "East Kootenay_1  1377.859218  1.482683           1              5000.0   \n",
       "\n",
       "                 Region_ID         Region nearest_station  \\\n",
       "cluster_id                                                  \n",
       "East Kootenay_1         16  East Kootenay     138_FRO_ISS   \n",
       "\n",
       "                 nearest_station_distance_km  Site_ID       fom  vom  \\\n",
       "cluster_id                                                             \n",
       "East Kootenay_1                          0.0        1  0.023766    0   \n",
       "\n",
       "                  CF_mean  clews_investment_capacity_MW  \n",
       "cluster_id                                               \n",
       "East Kootenay_1  0.235211                        1000.0  "
      ]
     },
     "execution_count": 15,
     "metadata": {},
     "output_type": "execute_result"
    }
   ],
   "source": [
    "solar_sites"
   ]
  },
  {
   "cell_type": "markdown",
   "metadata": {},
   "source": [
    "# test"
   ]
  },
  {
   "cell_type": "code",
   "execution_count": 3,
   "metadata": {},
   "outputs": [],
   "source": [
    "province_gadm_regions_gdf=gpd.read_file('data/downloaded_data/GADM/BC_gadm_regions.geojson')\n",
    "current_region=config['regional_info']['region_1']\n",
    "_CRC_=current_region['code']\n",
    "cutout_config=config['cutout']"
   ]
  },
  {
   "cell_type": "code",
   "execution_count": null,
   "metadata": {},
   "outputs": [],
   "source": [
    "bounding_box_save_to:str=os.path.join(config['cutout']['root'],f\"{_CRC_}_MBR.geojson\")\n",
    "bounding_box:dict=dataprep.plot_n_save_bounding_box(province_gadm_regions_gdf,current_region,bounding_box_save_to)"
   ]
  },
  {
   "cell_type": "code",
   "execution_count": 7,
   "metadata": {},
   "outputs": [],
   "source": [
    "cutout_config = {\n",
    "    'root': 'data/downloaded_data/cutout',\n",
    "    'module': ['era5'],\n",
    "    'dx': 0.25,\n",
    "    'dy': 0.25,\n",
    "    'snapshots': {\n",
    "        'start': ['2023-01-01 07:00:00'],\n",
    "        'end': ['2023-01-01 11:00:00']\n",
    "    },\n",
    "    'snapshots_tz_BC': {\n",
    "        'start': ['2023-01-01 00:00:00'],\n",
    "        'end': ['2023-01-01 04:00:00']\n",
    "    },\n",
    "    'timezone_convert': 'Etc/GMT+7'\n",
    "}\n",
    "\n"
   ]
  },
  {
   "cell_type": "code",
   "execution_count": 10,
   "metadata": {},
   "outputs": [],
   "source": [
    "def prepare_cutout(module,start_date, end_date,bounding_box,save_to_path):\n",
    "\n",
    "    min_x,max_x,min_y,max_y=bounding_box.values()\n",
    "\n",
    "    cutout = atlite.Cutout(\n",
    "        path=save_to_path,\n",
    "        module=module,\n",
    "        x=slice(min_x,max_x), # Longitude\n",
    "        y=slice(min_y,max_y), # Latitude\n",
    "        time=slice(start_date,end_date)\n",
    "    )\n",
    "\n",
    "    cutout.prepare()\n",
    "    return True"
   ]
  },
  {
   "cell_type": "code",
   "execution_count": 11,
   "metadata": {},
   "outputs": [],
   "source": [
    "start_date=\"2023-01-01\"\n",
    "end_date=\"2023-01-01\""
   ]
  },
  {
   "cell_type": "code",
   "execution_count": null,
   "metadata": {},
   "outputs": [],
   "source": [
    "import atlite\n",
    "\n",
    "# values are random, any cutout will fail\n",
    "cutout = atlite.Cutout(\n",
    "    path='test.nc',\n",
    "    module=['era5'],\n",
    "    x=slice(3, 6),\n",
    "    y=slice(3, 6),\n",
    "    time=\"2019-05-02\",\n",
    "    features=['runoff'],\n",
    ")\n",
    "cutout.prepare()"
   ]
  },
  {
   "cell_type": "code",
   "execution_count": null,
   "metadata": {},
   "outputs": [],
   "source": [
    "dataprep.create_era5_cutout('BC_test_',bounding_box,cutout_config)"
   ]
  },
  {
   "cell_type": "code",
   "execution_count": 5,
   "metadata": {},
   "outputs": [],
   "source": [
    "import atlite\n",
    "import xarray as xr"
   ]
  },
  {
   "cell_type": "code",
   "execution_count": 2,
   "metadata": {},
   "outputs": [],
   "source": [
    "file_path='data/downloaded_data/cutout/era5_data_BC_2022.nc'"
   ]
  },
  {
   "cell_type": "code",
   "execution_count": 8,
   "metadata": {},
   "outputs": [],
   "source": [
    "ds=xr.open_dataset(file_path, chunks={})"
   ]
  },
  {
   "cell_type": "code",
   "execution_count": null,
   "metadata": {},
   "outputs": [],
   "source": [
    "ds.rename({'ssr': 'influx_toa'})"
   ]
  },
  {
   "cell_type": "code",
   "execution_count": null,
   "metadata": {},
   "outputs": [],
   "source": [
    "ds.rename({'v100': 'wnd100m'})\n"
   ]
  },
  {
   "cell_type": "code",
   "execution_count": 10,
   "metadata": {},
   "outputs": [],
   "source": [
    "cutout=atlite.Cutout('data/downloaded_data/cutout/BC_2022.nc')"
   ]
  },
  {
   "cell_type": "code",
   "execution_count": null,
   "metadata": {},
   "outputs": [],
   "source": [
    "cutout.data"
   ]
  },
  {
   "cell_type": "code",
   "execution_count": 11,
   "metadata": {},
   "outputs": [],
   "source": [
    "gwa_cells=pl.DataFrame ('data/Processed_data/Wind/BC/gwa_cells.pkl')"
   ]
  },
  {
   "cell_type": "code",
   "execution_count": null,
   "metadata": {},
   "outputs": [],
   "source": [
    "gwa_cells"
   ]
  }
 ],
 "metadata": {
  "kernelspec": {
   "display_name": "Linking",
   "language": "python",
   "name": "python3"
  },
  "language_info": {
   "codemirror_mode": {
    "name": "ipython",
    "version": 3
   },
   "file_extension": ".py",
   "mimetype": "text/x-python",
   "name": "python",
   "nbconvert_exporter": "python",
   "pygments_lexer": "ipython3",
   "version": "3.12.4"
  }
 },
 "nbformat": 4,
 "nbformat_minor": 2
}
