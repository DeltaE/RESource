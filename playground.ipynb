{
 "cells": [
  {
   "cell_type": "code",
   "execution_count": null,
   "metadata": {},
   "outputs": [],
   "source": [
    "from RES import RESources as RES\n",
    "import pandas as pd\n",
    "import geopandas as gpd"
   ]
  },
  {
   "cell_type": "code",
   "execution_count": null,
   "metadata": {},
   "outputs": [],
   "source": [
    "res_resutls=pd.read_csv('results/linking/resource_options_wind.csv')\n",
    "cfp24=pd.read_csv('ROD_2024/BC_CFP24.csv')"
   ]
  },
  {
   "cell_type": "code",
   "execution_count": null,
   "metadata": {},
   "outputs": [],
   "source": [
    "res_resutls.columns"
   ]
  },
  {
   "cell_type": "code",
   "execution_count": null,
   "metadata": {},
   "outputs": [],
   "source": [
    "cfp24.rename(columns={'old_name': 'new_name', 'another_old_name': 'another_new_name'}, inplace=True)\n"
   ]
  },
  {
   "cell_type": "code",
   "execution_count": null,
   "metadata": {},
   "outputs": [],
   "source": [
    "cfp24.columns"
   ]
  },
  {
   "cell_type": "code",
   "execution_count": null,
   "metadata": {},
   "outputs": [],
   "source": [
    "from linkingtool.hdf5_handler import DataHandler\n",
    "import linkingtool.visuals as vis\n",
    "store=f\"data/store/resources_BC.h5\"\n",
    "datahandler=DataHandler(store)"
   ]
  },
  {
   "cell_type": "code",
   "execution_count": null,
   "metadata": {},
   "outputs": [],
   "source": [
    "datahandler.show_tree(store)"
   ]
  },
  {
   "cell_type": "code",
   "execution_count": null,
   "metadata": {},
   "outputs": [],
   "source": [
    "cells=datahandler.from_store('cells')\n",
    "tss=datahandler.from_store('timeseries/solar')\n",
    "tsw=datahandler.from_store('timeseries/wind')"
   ]
  },
  {
   "cell_type": "code",
   "execution_count": null,
   "metadata": {},
   "outputs": [],
   "source": [
    "CFP24=gpd.read_file('ROD_2024/BC_CFP24.geojson',Index='ERA5_cell')\n",
    "CFP24.index=CFP24['ERA5_cell']"
   ]
  },
  {
   "cell_type": "code",
   "execution_count": null,
   "metadata": {},
   "outputs": [],
   "source": [
    "CFP24[CFP24['resource_type']=='solar']"
   ]
  },
  {
   "cell_type": "code",
   "execution_count": null,
   "metadata": {},
   "outputs": [],
   "source": [
    "tss[CFP24[CFP24['resource_type']=='solar'].index].to_csv('ROD_2024/BCH_CFP24_solar_ts.csv')"
   ]
  },
  {
   "cell_type": "code",
   "execution_count": null,
   "metadata": {},
   "outputs": [],
   "source": [
    "tsw[CFP24[CFP24['resource_type']=='wind'].index].to_csv('ROD_2024/BCH_CFP24_solar_wind.csv')"
   ]
  },
  {
   "cell_type": "code",
   "execution_count": null,
   "metadata": {},
   "outputs": [],
   "source": [
    "# import plotly.graph_objects as go\n",
    "\n",
    "# # Plotting the time series using Plotly Graph Objects\n",
    "# fig = go.Figure()\n",
    "\n",
    "# fig.add_trace(go.Scatter(x=tsw.index, y=tsw['PeaceRiver_-121.0_56.0'], mode='lines', name='PeaceRiver_-121.0_56.0'))\n",
    "\n",
    "# fig.update_layout(title=\"Time Series for PeaceRiver_-121.0_56.0\", xaxis_title=\"Date\", yaxis_title=\"Value\")\n",
    "# fig.show()\n"
   ]
  },
  {
   "cell_type": "code",
   "execution_count": null,
   "metadata": {},
   "outputs": [],
   "source": [
    "# Perform a spatial join to assign the polygon index to the points\n",
    "joined_gdf = gpd.sjoin(CFP24, cells, how=\"left\", op=\"intersects\")\n",
    "\n",
    "# The index of the polygon can now be accessed from the resulting joined GeoDataFrame\n",
    "# Create a new column in the points GeoDataFrame with the index of the polygon\n",
    "CFP24['ERA5_cell'] = joined_gdf.index_right  # 'in\n",
    "CFP24.to_file('ROD_2024/BC_CFP24.geojson', driver='GeoJSON')"
   ]
  },
  {
   "cell_type": "code",
   "execution_count": null,
   "metadata": {},
   "outputs": [],
   "source": [
    "CFP24.explore('ERA5_cell')"
   ]
  },
  {
   "cell_type": "markdown",
   "metadata": {},
   "source": [
    "# Set Required Args to Activate Modules"
   ]
  },
  {
   "cell_type": "code",
   "execution_count": null,
   "metadata": {},
   "outputs": [],
   "source": [
    "# Iterate over provinces for both solar and wind resources\n",
    "resource_types = ['wind','solar'] # , \n",
    "provinces=['BC']  #'AB','SK','ON','NS'\n",
    "for province_code in provinces:\n",
    "    for resource_type in resource_types:\n",
    "        required_args = {\n",
    "            \"config_file_path\": 'config/config.yaml',\n",
    "            \"province_short_code\": province_code,\n",
    "            \"resource_type\": resource_type\n",
    "        }\n",
    "        \n",
    "        # Create an instance of Resources and execute the module\n",
    "        res_module = RES.RESources_builder(**required_args)"
   ]
  },
  {
   "cell_type": "markdown",
   "metadata": {},
   "source": []
  },
  {
   "cell_type": "code",
   "execution_count": null,
   "metadata": {},
   "outputs": [],
   "source": [
    "cells=datahandler.from_store('cells')"
   ]
  },
  {
   "cell_type": "markdown",
   "metadata": {},
   "source": [
    "[Assumptions](https://www.bchydro.com/content/dam/BCHydro/customer-portal/documents/corporate/regulatory-planning-documents/integrated-resource-plans/current-plan/rou-characterization-wind-report-20150519-hatch.pdf)\n",
    "The following assumptions were considered as common to all regions: \n",
    "• 3MW turbine model  \n",
    "• On-shore projects (land-based)\n",
    "• Project  lifetime of 20 years  \n",
    "• Crown Land only  \n",
    "• Costs in 2024$ (CAD) assuming delivery in 2025 \n",
    "• Project development timelines can vary and the costs for pre construction of the  template project will be based on 5 years of pre development work until reception of  electricity purchase agreement (EPA) and beginning of construction \n",
    "• When considering the developer’s internal costs, Hatch has assumed a development \n",
    "model where all pre-development costs are absorbed by the same stakeholder that is \n",
    "involved in the later stages of the project, including development, procurement, \n",
    "construction, BOP, O&M, etc.   This model was chosen over a model where, for \n",
    "example, a project has undergone some level of pre-development and then the \n",
    "project rights and assets are sold to a new stakeholder prior to construction or \n",
    "operation.  Such transaction costs cannot be easily or simply quantified and so Hatch \n",
    "considered a simplified model for the purposes of this mandate. Costs associated \n",
    "with procuring assets from another developer are not evaluated.   \n",
    "\n",
    "• The developer is assumed to be experienced, working in a competitive market and to \n",
    "be medium or average in size (i.e. not a public utility and not a private, small scale \n",
    "independent developer with limited experience)"
   ]
  }
 ],
 "metadata": {
  "kernelspec": {
   "display_name": "RES",
   "language": "python",
   "name": "python3"
  },
  "language_info": {
   "codemirror_mode": {
    "name": "ipython",
    "version": 3
   },
   "file_extension": ".py",
   "mimetype": "text/x-python",
   "name": "python",
   "nbconvert_exporter": "python",
   "pygments_lexer": "ipython3",
   "version": "3.12.7"
  }
 },
 "nbformat": 4,
 "nbformat_minor": 2
}
