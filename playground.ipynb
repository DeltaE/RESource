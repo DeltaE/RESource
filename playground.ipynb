{
 "cells": [
  {
   "cell_type": "markdown",
   "metadata": {},
   "source": [
    "# Set Required Args to Activate Modules"
   ]
  },
  {
   "cell_type": "code",
   "execution_count": null,
   "metadata": {},
   "outputs": [],
   "source": []
  },
  {
   "cell_type": "code",
   "execution_count": 1,
   "metadata": {},
   "outputs": [],
   "source": [
    "# from workflow.scripts.resources import Resources"
   ]
  },
  {
   "cell_type": "markdown",
   "metadata": {},
   "source": [
    "# single resource"
   ]
  },
  {
   "cell_type": "code",
   "execution_count": 2,
   "metadata": {},
   "outputs": [],
   "source": [
    "# # Iterate over provinces for both solar and wind resources\n",
    "# resource_types = ['wind', 'solar']\n",
    "# provinces=['BC']  #'AB','SK','ON','NS'\n",
    "# for province_code in provinces:\n",
    "#     for resource_type in resource_types:\n",
    "#         required_args = {\n",
    "#             \"config_file_path\": 'config/config.yml',\n",
    "#             \"province_short_code\": province_code,\n",
    "#             \"resource_type\": resource_type\n",
    "#         }\n",
    "        \n",
    "#         # Create an instance of Resources and execute the module\n",
    "#         resource_module = Resources(**required_args)\n",
    "#         resource_module.execute_module()\n",
    "        "
   ]
  },
  {
   "cell_type": "code",
   "execution_count": 4,
   "metadata": {},
   "outputs": [
    {
     "name": "stdout",
     "output_type": "stream",
     "text": [
      ">> Store initialized with the given path: data/store/resources_BC.h5\n",
      ">> Store initialized with the given path: data/store/resources_BC.h5\n"
     ]
    }
   ],
   "source": [
    "import geopandas as gpd\n",
    "import pandas as pd\n",
    "import dask.dataframe as dd\n",
    "import dask_geopandas as dgpd\n",
    "from linkingtool.hdf5_handler import DataHandler\n",
    "store=DataHandler('data/store/resources_BC.h5')\n",
    "from linkingtool.gwa import GWACells\n",
    "gwa=GWACells(resource_type='wind')"
   ]
  },
  {
   "cell_type": "code",
   "execution_count": null,
   "metadata": {},
   "outputs": [
    {
     "ename": "TypeError",
     "evalue": "If 'mask' is list-like, it must have four values (minx, miny, maxx, maxy)",
     "output_type": "error",
     "traceback": [
      "\u001b[0;31m---------------------------------------------------------------------------\u001b[0m",
      "\u001b[0;31mTypeError\u001b[0m                                 Traceback (most recent call last)",
      "Cell \u001b[0;32mIn[19], line 1\u001b[0m\n\u001b[0;32m----> 1\u001b[0m \u001b[43mboundary1\u001b[49m\u001b[38;5;241;43m.\u001b[39;49m\u001b[43mclip\u001b[49m\u001b[43m(\u001b[49m\u001b[43mdd1\u001b[49m\u001b[43m)\u001b[49m\n",
      "File \u001b[0;32m~/anaconda3/envs/linkingtool/lib/python3.12/site-packages/geopandas/geodataframe.py:2385\u001b[0m, in \u001b[0;36mGeoDataFrame.clip\u001b[0;34m(self, mask, keep_geom_type)\u001b[0m\n\u001b[1;32m   2332\u001b[0m \u001b[38;5;28;01mdef\u001b[39;00m \u001b[38;5;21mclip\u001b[39m(\u001b[38;5;28mself\u001b[39m, mask, keep_geom_type\u001b[38;5;241m=\u001b[39m\u001b[38;5;28;01mFalse\u001b[39;00m):\n\u001b[1;32m   2333\u001b[0m \u001b[38;5;250m    \u001b[39m\u001b[38;5;124;03m\"\"\"Clip points, lines, or polygon geometries to the mask extent.\u001b[39;00m\n\u001b[1;32m   2334\u001b[0m \n\u001b[1;32m   2335\u001b[0m \u001b[38;5;124;03m    Both layers must be in the same Coordinate Reference System (CRS).\u001b[39;00m\n\u001b[0;32m   (...)\u001b[0m\n\u001b[1;32m   2383\u001b[0m \u001b[38;5;124;03m    (7, 8)\u001b[39;00m\n\u001b[1;32m   2384\u001b[0m \u001b[38;5;124;03m    \"\"\"\u001b[39;00m\n\u001b[0;32m-> 2385\u001b[0m     \u001b[38;5;28;01mreturn\u001b[39;00m \u001b[43mgeopandas\u001b[49m\u001b[38;5;241;43m.\u001b[39;49m\u001b[43mclip\u001b[49m\u001b[43m(\u001b[49m\u001b[38;5;28;43mself\u001b[39;49m\u001b[43m,\u001b[49m\u001b[43m \u001b[49m\u001b[43mmask\u001b[49m\u001b[38;5;241;43m=\u001b[39;49m\u001b[43mmask\u001b[49m\u001b[43m,\u001b[49m\u001b[43m \u001b[49m\u001b[43mkeep_geom_type\u001b[49m\u001b[38;5;241;43m=\u001b[39;49m\u001b[43mkeep_geom_type\u001b[49m\u001b[43m)\u001b[49m\n",
      "File \u001b[0;32m~/anaconda3/envs/linkingtool/lib/python3.12/site-packages/geopandas/tools/clip.py:162\u001b[0m, in \u001b[0;36mclip\u001b[0;34m(gdf, mask, keep_geom_type)\u001b[0m\n\u001b[1;32m    156\u001b[0m     \u001b[38;5;28;01mraise\u001b[39;00m \u001b[38;5;167;01mTypeError\u001b[39;00m(\n\u001b[1;32m    157\u001b[0m         \u001b[38;5;124m\"\u001b[39m\u001b[38;5;124m'\u001b[39m\u001b[38;5;124mmask\u001b[39m\u001b[38;5;124m'\u001b[39m\u001b[38;5;124m should be GeoDataFrame, GeoSeries,\u001b[39m\u001b[38;5;124m\"\u001b[39m\n\u001b[1;32m    158\u001b[0m         \u001b[38;5;124mf\u001b[39m\u001b[38;5;124m\"\u001b[39m\u001b[38;5;124m(Multi)Polygon or list-like, got \u001b[39m\u001b[38;5;132;01m{\u001b[39;00m\u001b[38;5;28mtype\u001b[39m(mask)\u001b[38;5;132;01m}\u001b[39;00m\u001b[38;5;124m\"\u001b[39m\n\u001b[1;32m    159\u001b[0m     )\n\u001b[1;32m    161\u001b[0m \u001b[38;5;28;01mif\u001b[39;00m mask_is_list_like \u001b[38;5;129;01mand\u001b[39;00m \u001b[38;5;28mlen\u001b[39m(mask) \u001b[38;5;241m!=\u001b[39m \u001b[38;5;241m4\u001b[39m:\n\u001b[0;32m--> 162\u001b[0m     \u001b[38;5;28;01mraise\u001b[39;00m \u001b[38;5;167;01mTypeError\u001b[39;00m(\n\u001b[1;32m    163\u001b[0m         \u001b[38;5;124m\"\u001b[39m\u001b[38;5;124mIf \u001b[39m\u001b[38;5;124m'\u001b[39m\u001b[38;5;124mmask\u001b[39m\u001b[38;5;124m'\u001b[39m\u001b[38;5;124m is list-like, it must have four values (minx, miny, maxx, maxy)\u001b[39m\u001b[38;5;124m\"\u001b[39m\n\u001b[1;32m    164\u001b[0m     )\n\u001b[1;32m    166\u001b[0m \u001b[38;5;28;01mif\u001b[39;00m \u001b[38;5;28misinstance\u001b[39m(mask, (GeoDataFrame, GeoSeries)):\n\u001b[1;32m    167\u001b[0m     \u001b[38;5;28;01mif\u001b[39;00m \u001b[38;5;129;01mnot\u001b[39;00m _check_crs(gdf, mask):\n",
      "\u001b[0;31mTypeError\u001b[0m: If 'mask' is list-like, it must have four values (minx, miny, maxx, maxy)"
     ]
    }
   ],
   "source": [
    "boundary1.clip(dgd1)"
   ]
  },
  {
   "cell_type": "markdown",
   "metadata": {},
   "source": []
  }
 ],
 "metadata": {
  "kernelspec": {
   "display_name": "linkingtool",
   "language": "python",
   "name": "python3"
  },
  "language_info": {
   "codemirror_mode": {
    "name": "ipython",
    "version": 3
   },
   "file_extension": ".py",
   "mimetype": "text/x-python",
   "name": "python",
   "nbconvert_exporter": "python",
   "pygments_lexer": "ipython3",
   "version": "3.12.7"
  }
 },
 "nbformat": 4,
 "nbformat_minor": 2
}
