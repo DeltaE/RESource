{
 "cells": [
  {
   "cell_type": "markdown",
   "metadata": {},
   "source": [
    "# Set Required Args to Activate Modules"
   ]
  },
  {
   "cell_type": "code",
   "execution_count": 1,
   "metadata": {},
   "outputs": [],
   "source": [
    "import RES.RESources as RES_main\n",
    "# Iterate over provinces for both solar and wind resources\n",
    "resource_types = ['wind','solar']  #,\n",
    "provinces=['BC']  #,'AB','SK','ON','NS','MB'"
   ]
  },
  {
   "cell_type": "code",
   "execution_count": null,
   "metadata": {},
   "outputs": [
    {
     "name": "stderr",
     "output_type": "stream",
     "text": [
      "2025-04-22 12:31:25,533 - INFO - Directory 'data/downloaded_data/NREL/ATB/ATBe.parquet' found locally.\n"
     ]
    },
    {
     "name": "stdout",
     "output_type": "stream",
     "text": [
      "\u001b[96m____________________________________________________________\u001b[0m\n",
      "\u001b[92m     Initiating RESource Builder...\u001b[0m\n",
      "\u001b[96m____________________________________________________________\u001b[0m\n",
      "\u001b[36m └> NREL_ATBProcessor initiated...\u001b[0m\n",
      "\u001b[95m  └> Processing Annual Technology Baseline (ATB) data sourced from NREL...\u001b[0m\n",
      "\u001b[95m  └> ATB cost datafile: ATBe.parquet loaded\u001b[0m\n",
      "\u001b[95m  └> Extracting technology baseline costs...\u001b[0m\n",
      "\u001b[90m\u001b[2m  └─> Extracting Solar PV technology cost...\u001b[0m\n"
     ]
    },
    {
     "name": "stderr",
     "output_type": "stream",
     "text": [
      "2025-04-22 12:31:26,020 - INFO - >> Loading GADM boundaries (Sub-provincial | level =2) for British Columbia  from local file data/processed_data/regions/gadm41_Canada_L2_BC.geojson.\n"
     ]
    },
    {
     "name": "stdout",
     "output_type": "stream",
     "text": [
      ">> Data (GeoDataFrame/DataFrame) saved to data/store/resources_BC.h5 with key 'cost/atb/solar'\n",
      "\u001b[90m\u001b[2m  └─> Extracting Wind Turbine technology cost...\u001b[0m\n",
      ">> Data (GeoDataFrame/DataFrame) saved to data/store/resources_BC.h5 with key 'cost/atb/wind'\n",
      "\u001b[90m\u001b[2m  └─> Extracting BESS technology cost...\u001b[0m\n",
      ">> Data (GeoDataFrame/DataFrame) saved to data/store/resources_BC.h5 with key 'cost/atb/bess'\n",
      "\u001b[36m └> Snapshot for Resources: 2023-01-01 07:00:00 to 2024-01-01 06:00:00\u001b[0m\n",
      "__________________________________________________\n",
      " Initiating wind module for British Columbia...\n",
      "\u001b[36m └> Preparing Grid Cells...\u001b[0m\n"
     ]
    },
    {
     "name": "stderr",
     "output_type": "stream",
     "text": [
      "2025-04-22 12:31:26,113 - INFO - Storing temporary files in /tmp/tmpmx31r5d_\n"
     ]
    },
    {
     "name": "stdout",
     "output_type": "stream",
     "text": [
      "\n",
      "    >>> Memory management remarks:\n",
      "    * After execution, all downloaded data is stored at cutout.path. By default, it is not loaded into memory, but into dask arrays. This keeps the memory consumption extremely low.\n",
      "    * The data is accessible in cutout.data, which is an xarray.Dataset. Querying the cutout gives us some basic information on which data is contained in it.\n",
      "    * For more operations related to cutout, check the tool docs @ https://atlite.readthedocs.io/en/master/examples/create_cutout.html#\n",
      "        \n"
     ]
    },
    {
     "name": "stderr",
     "output_type": "stream",
     "text": [
      "2025-04-22 12:31:26,619 - INFO - >> Loading GADM boundaries (Sub-provincial | level =2) for British Columbia  from local file data/processed_data/regions/gadm41_Canada_L2_BC.geojson.\n",
      "2025-04-22 12:31:26,681 - INFO - Storing temporary files in /tmp/tmpxxupgh_y\n",
      "2025-04-22 12:31:26,683 - INFO - >> Loading global filters' rasters from GAEZ, trimmed to British Columbia\n",
      "2025-04-22 12:31:26,685 - INFO - >> Raster file 'faocmb_2010.tif' already exists locally.\n",
      "2025-04-22 12:31:26,685 - INFO - >> Raster file 'slpmed05.tif' already exists locally.\n",
      "2025-04-22 12:31:26,685 - INFO - >> Raster file 'exclusion_2017.tif' already exists locally.\n",
      "2025-04-22 12:31:26,685 - INFO - >> Loading GADM boundaries (Sub-provincial | level =2) for British Columbia  from local file data/processed_data/regions/gadm41_Canada_L2_BC.geojson.\n"
     ]
    },
    {
     "name": "stdout",
     "output_type": "stream",
     "text": [
      ">> Updated 'cells' saved to data/store/resources_BC.h5 with key 'cells'\n",
      ">> Updated 'boundary' saved to data/store/resources_BC.h5 with key 'boundary'\n",
      "\u001b[95m  └> Grid Cells updated.\u001b[0m\n",
      "\u001b[36m └> Preparing Cells' capacity ...\u001b[0m\n",
      "\n",
      "    >>> Memory management remarks:\n",
      "    * After execution, all downloaded data is stored at cutout.path. By default, it is not loaded into memory, but into dask arrays. This keeps the memory consumption extremely low.\n",
      "    * The data is accessible in cutout.data, which is an xarray.Dataset. Querying the cutout gives us some basic information on which data is contained in it.\n",
      "    * For more operations related to cutout, check the tool docs @ https://atlite.readthedocs.io/en/master/examples/create_cutout.html#\n",
      "        \n"
     ]
    },
    {
     "name": "stderr",
     "output_type": "stream",
     "text": [
      "2025-04-22 12:31:26,971 - INFO - >> Raster plot saved at: vis/misc/faocmb_2010_raster_BC.png\n",
      "2025-04-22 12:31:27,189 - INFO - >> Raster plot saved at: vis/misc/slpmed05_raster_BC.png\n",
      "2025-04-22 12:31:27,639 - INFO - >> Raster plot saved at: vis/misc/exclusion_2017_raster_BC.png\n",
      "2025-04-22 12:31:27,640 - INFO - All required rasters for GAEZ processed and plotted successfully.\n",
      "2025-04-22 12:31:27,641 - INFO -  >>> Loading Land_cover layers from data/downloaded_data/GAEZ/Rasters_in_use/LR/lco/BC_faocmb_2010.tif\n",
      "2025-04-22 12:31:27,641 - INFO -  >>> Loading Terrain_resources layers from data/downloaded_data/GAEZ/Rasters_in_use/LR/ter/BC_slpmed05.tif\n",
      "2025-04-22 12:31:27,641 - INFO -  >>> Loading Exclusion_areas layers from data/downloaded_data/GAEZ/Rasters_in_use/LR/excl/BC_exclusion_2017.tif\n",
      "2025-04-22 12:31:27,642 - INFO - > Loading Canadian Protected and Conserved Areas Database (CPCAD) from locally stored datafile - data/downloaded_data/lands/ProtectedConservedArea_BC.pickle\n",
      "2025-04-22 12:31:27,655 - INFO - >> Loading locally stored OSM data for 'aeroway' from data/downloaded_data/OSM/BC_aeroway.geojson\n",
      "2025-04-22 12:31:27,926 - INFO - Exclusion Container\n",
      " registered rasters: 3 \n",
      " registered geometry collections: 2\n",
      " CRS: 3347 - Resolution: 100\n"
     ]
    },
    {
     "name": "stdout",
     "output_type": "stream",
     "text": [
      "Land availability (grid cells) map saved at vis/misc/land_availability_ERA5grid_British Columbia.png\n",
      "Land availability map (excluder resolution) saved at vis/misc/land_availability_excluderResolution_British Columbia.png\n"
     ]
    },
    {
     "name": "stderr",
     "output_type": "stream",
     "text": [
      "2025-04-22 12:32:17,449 - INFO - >> Saving to the local store (as HDF5 file)\n",
      "2025-04-22 12:32:17,537 - INFO - >> Loading GADM boundaries (Sub-provincial | level =2) for British Columbia  from local file data/processed_data/regions/gadm41_Canada_L2_BC.geojson.\n",
      "2025-04-22 12:32:17,602 - INFO - Storing temporary files in /tmp/tmpkrqqgn5k\n",
      "2025-04-22 12:32:17,624 - INFO - >> Loading ERA5 Cutout\n",
      "2025-04-22 12:32:17,624 - INFO - >> Loading GADM boundaries (Sub-provincial | level =2) for British Columbia  from local file data/processed_data/regions/gadm41_Canada_L2_BC.geojson.\n"
     ]
    },
    {
     "name": "stdout",
     "output_type": "stream",
     "text": [
      ">> Total ERA5 cells loaded : 2958 [each with .025 deg. (~30km) resolution ]\n",
      ">> Updated 'cells' saved to data/store/resources_BC.h5 with key 'cells'\n",
      "\u001b[95m  └> Cells' capacity updated..\u001b[0m\n",
      ">> Updated 'cells' saved to data/store/resources_BC.h5 with key 'cells'\n",
      "\u001b[36m └> Extracting ERA5 weather data...\u001b[0m\n",
      "\n",
      "    >>> Memory management remarks:\n",
      "    * After execution, all downloaded data is stored at cutout.path. By default, it is not loaded into memory, but into dask arrays. This keeps the memory consumption extremely low.\n",
      "    * The data is accessible in cutout.data, which is an xarray.Dataset. Querying the cutout gives us some basic information on which data is contained in it.\n",
      "    * For more operations related to cutout, check the tool docs @ https://atlite.readthedocs.io/en/master/examples/create_cutout.html#\n",
      "        \n",
      "\u001b[95m  └> 'windspeed_ERA5' already present in the stored dataset, skipping the data extraction from source.\u001b[0m\n",
      "\u001b[95m  └> Preparing high resolution windspeed data from Global Wind Atlas from source.\u001b[0m\n",
      "\u001b[90m\u001b[2m  └─> 'CF_IEC2', 'CF_IEC3', 'windspeed_gwa' are already present in the store information, skipping data extraction from source\u001b[0m\n",
      ">> Updated 'cells' saved to data/store/resources_BC.h5 with key 'cells'\n",
      "\u001b[90m\u001b[2m  └─> Preparing Timeseries for the Cells...\u001b[0m\n"
     ]
    },
    {
     "name": "stderr",
     "output_type": "stream",
     "text": [
      "2025-04-22 12:32:17,691 - INFO - Storing temporary files in /tmp/tmp0jjo_igw\n",
      "2025-04-22 12:32:17,741 - INFO - >> 2937 Grid Cells from Store Cutout\n"
     ]
    },
    {
     "name": "stdout",
     "output_type": "stream",
     "text": [
      "\n",
      "    >>> Memory management remarks:\n",
      "    * After execution, all downloaded data is stored at cutout.path. By default, it is not loaded into memory, but into dask arrays. This keeps the memory consumption extremely low.\n",
      "    * The data is accessible in cutout.data, which is an xarray.Dataset. Querying the cutout gives us some basic information on which data is contained in it.\n",
      "    * For more operations related to cutout, check the tool docs @ https://atlite.readthedocs.io/en/master/examples/create_cutout.html#\n",
      "        \n",
      "\u001b[95m  └> Rescaling ERA5 windspeed with GWA windspeed\u001b[0m\n"
     ]
    }
   ],
   "source": [
    "for province_code in provinces:\n",
    "    for resource_type in resource_types:\n",
    "        required_args = {\n",
    "            \"config_file_path\": 'config/config.yaml',\n",
    "            \"province_short_code\": province_code,\n",
    "            \"resource_type\": resource_type\n",
    "        }\n",
    "        \n",
    "        # Create an instance of Resources and execute the module\n",
    "        RES_module = RES_main.RESources_builder(**required_args)\n",
    "        RES_module.build(select_top_sites=True,\n",
    "                         use_pypsa_buses=False)"
   ]
  },
  {
   "cell_type": "markdown",
   "metadata": {},
   "source": []
  },
  {
   "cell_type": "markdown",
   "metadata": {},
   "source": [
    "# Check the store if the results are ready"
   ]
  },
  {
   "cell_type": "code",
   "execution_count": null,
   "metadata": {},
   "outputs": [],
   "source": [
    "from RES.hdf5_handler import DataHandler\n",
    "store=\"data/store/resources_BC.h5\"\n",
    "res_data=DataHandler(store)\n",
    "cells=res_data.from_store('cells')\n",
    "boundary=res_data.from_store('boundary')"
   ]
  },
  {
   "cell_type": "markdown",
   "metadata": {},
   "source": [
    "# Test"
   ]
  },
  {
   "cell_type": "code",
   "execution_count": null,
   "metadata": {},
   "outputs": [],
   "source": [
    "#Code"
   ]
  },
  {
   "cell_type": "markdown",
   "metadata": {},
   "source": [
    "# test Ends"
   ]
  },
  {
   "cell_type": "code",
   "execution_count": null,
   "metadata": {},
   "outputs": [],
   "source": [
    "solar_clusters=res_data.from_store('clusters/solar')\n",
    "wind_clusters=res_data.from_store('clusters/wind')\n",
    "wind_ts=res_data.from_store('timeseries/wind')\n",
    "solar_clusters_ts=res_data.from_store('timeseries/clusters/solar')\n",
    "wind_clusters_ts=res_data.from_store('timeseries/clusters/wind')"
   ]
  },
  {
   "cell_type": "code",
   "execution_count": null,
   "metadata": {},
   "outputs": [],
   "source": [
    "resource_clusters_wind,cluster_timeseries_wind=RES_module.select_top_sites(wind_clusters,\n",
    "                                                                wind_clusters_ts,\n",
    "                                                                    resource_max_capacity=20)"
   ]
  },
  {
   "cell_type": "code",
   "execution_count": null,
   "metadata": {},
   "outputs": [],
   "source": [
    "resource_clusters_solar,cluster_timeseries_solar=RES_module.select_top_sites(solar_clusters,\n",
    "                                                                solar_clusters_ts,\n",
    "                                                                    resource_max_capacity=10)\n",
    "\n"
   ]
  },
  {
   "cell_type": "code",
   "execution_count": null,
   "metadata": {},
   "outputs": [],
   "source": [
    "def get_CRF(#self,\n",
    "            r, \n",
    "            N):\n",
    "    return (r * (1 + r) ** N) / ((1 + r) ** N - 1) if N > 0 else 0"
   ]
  },
  {
   "cell_type": "code",
   "execution_count": null,
   "metadata": {},
   "outputs": [],
   "source": [
    "def calculate_total_cost(#self, \n",
    "                             distance_to_grid_km: float, \n",
    "                             grid_connection_cost_per_km: float, \n",
    "                             tx_line_rebuild_cost: float, \n",
    "                             capex_tech: float) -> float:\n",
    "        \"\"\"\n",
    "        Calculate the total cost, which includes the CAPEX and distance-based grid connection costs.\n",
    "        Method: Simple Levelized Cost of Energy Calculation (https://www.nrel.gov/analysis/tech-lcoe-documentation.html)\n",
    "        \"\"\"\n",
    "        # Calculate distance-based cost\n",
    "        add_to_grid_cost = (distance_to_grid_km * grid_connection_cost_per_km / 1.60934) * (tx_line_rebuild_cost / 1.60934)  # Convert to miles as our costs are given in $/miles (USA study)\n",
    "\n",
    "        # Total cost is CAPEX plus distance cost\n",
    "        total_cost = capex_tech + add_to_grid_cost  # in M$\n",
    "        \n",
    "        return total_cost"
   ]
  },
  {
   "cell_type": "code",
   "execution_count": null,
   "metadata": {},
   "outputs": [],
   "source": [
    "resource_type='wind'\n",
    "interest_rate=0.03\n",
    "N=cells[f'Operational_life_{resource_type}'].iloc[0]\n",
    "CRF=get_CRF(interest_rate,N)\n",
    "CF_column='wind_CF_mean'"
   ]
  },
  {
   "cell_type": "code",
   "execution_count": null,
   "metadata": {},
   "outputs": [],
   "source": [
    "def calculate_lcoe(row) -> float:\n",
    "    \"\"\"\n",
    "    Calculate the potential LCOE score for each cell in the dataframe,\n",
    "    reading cost parameters directly from the DataFrame.\n",
    "    \n",
    "    ## Args:\n",
    "    - **row** : A single row of the DataFrame.\n",
    "    \n",
    "    ## Returns:\n",
    "    - **float** : The calculated LCOE value for the row.\n",
    "    \"\"\"\n",
    "    # Calculate the total cost\n",
    "    total_cost = calculate_total_cost(\n",
    "        row['nearest_station_distance_km'],  # km\n",
    "        row[f'grid_connection_cost_per_km_{resource_type}'],  # m$/km\n",
    "        row[f'tx_line_rebuild_cost_{resource_type}'],  # m$/km\n",
    "        row[f'capex_{resource_type}']  # m$/MW\n",
    "    )\n",
    "    \n",
    "    annual_energy = 8760 * row[CF_column]  # Total energy produced in a year\n",
    "    if annual_energy == 0: # some cells have no potentials\n",
    "        return float(99999)  # handle the error \n",
    "    else:\n",
    "        # Calculate the LCOE\n",
    "\n",
    "        lcoe = (total_cost * CRF / annual_energy)  # Avoid division by zero,  m$/MWh\n",
    "    \n",
    "        return lcoe *1E6 # Convert to $/kWh"
   ]
  },
  {
   "cell_type": "code",
   "execution_count": null,
   "metadata": {},
   "outputs": [],
   "source": [
    "def calc_LCOE_lambda_m2(#self,\n",
    "                         row):\n",
    "        \n",
    "        \"\"\" \n",
    "        # Method: \n",
    "        LCOE = [{(FCR x CAPEX) + FOM ) /  (CF x 8760) } + VOM + Fuel - PTC)\n",
    "            \n",
    "            - Fixed charge rate (FCR) :\n",
    "                - Amount of revenue per dollar of investment required that must be collected annually from customers to pay the carrying charges on that investment.\n",
    "            - CAPEX (m$)\n",
    "                - expenditures required to achieve commercial operation of the generation plant.\n",
    "                - ConFinFactor x (OCC +GCC)\n",
    "                    - ConFinFactor: Conversion Factor for Capital Recovery. \n",
    "                        - The portion of all-in capital cost associated with construction period financing; \n",
    "                        - ConFinFactor = Σ(y=0 t0 C-1) FC-y x AI_y\n",
    "                        - assumed to be 1.0 for simplification\n",
    "                    - OCC ($/kW) : Overnight Capital Cost CAPEX if plant could be constructed overnight (i.e., excludes construction period financing); includes on-site electrical equipment (e.g., switchyard), a nominal-distance spur line (<1 mi), and necessary upgrades at a transmission substation. ($/kW)\n",
    "                    - GCC ($/kW): Grid Connection Cost \n",
    "            - CF: Capacity Factor\n",
    "            - Variable operation and maintenance (VOM), $/MWh (VOC)\n",
    "            - Fuel: \n",
    "                - Fuel costs, converted to $/MWh, using heat rates.\n",
    "                - Heat rate (MMBtu/MWh) * Fuel Costs($/MMBtu)\n",
    "                - Zero for VREs\n",
    "            - PTC ($/MWh) :  Production Tax Credit\n",
    "                - a before-tax credit that reduces LCOE; credits are available for 10 years, so it must be adjusted for a 10-year CRF relative to the full CRF of the project. \n",
    "                - This formulation of the PTC accounts for a pre-tax LCOE and aligns with the equation used for the ProFinFactor.\n",
    "                - PTC= {PTC_full/(1-TR)}x(CRF/CRF_10yrs)\n",
    "                    - TR: Tax Rate\n",
    "                    - CRF: Capital Recovery Factor\n",
    "                        - ratio of a constant annuity to the present value of receiving that annuity for a given length of time\n",
    "                        - CRF = WACC x[1/(1-(1+WACC)^-t)]\n",
    "                            - WACC: Weighted Average Cost of Capital\n",
    "                                - average expected rate that is paid to finance assets\n",
    "                                - WACC = [ 1+ [1-DF] x [(1+RROE)(1=i)-1] + DF x [(1+IR)(1+i)-1] x [1-TR] ]/(1+i) -1\n",
    "\n",
    "            \n",
    "        ### Ref: \n",
    "        - https://atb.nrel.gov/electricity/2024/equations_&_variables\n",
    "        \n",
    "        \"\"\"\n",
    "\n",
    "        dtg = row['nearest_station_distance_km'] # km\n",
    "        \n",
    "        gcc_pu = row[f'grid_connection_cost_per_km_{resource_type}'] # m$/km\n",
    "        gcc=dtg*gcc_pu/1.60934  # Convert to miles as our costs are given in m$/miles (USA study)\n",
    "        \n",
    "        trc=dtg*row[f'tx_line_rebuild_cost_{resource_type}']/ 1.60934 # m$=m$/km*km\n",
    "        \n",
    "        tcc = row[f'capex_{resource_type}'] * row[f'potential_capacity_{resource_type}'] # m$=m$/MW * MW\n",
    "        \n",
    "        foc = row[f'fom_{resource_type}'] * row[f'potential_capacity_{resource_type}'] # m$/ MW * MW\n",
    "        voc = row[f'vom_{resource_type}']  # m$/ MW \n",
    "        \n",
    "        fcr = row.get('FCR', 0.098) \n",
    "        aep = 8760 * row[f'{resource_type}_CF_mean'] * row[f'potential_capacity_{resource_type}'] # MWh\n",
    "        # aep = 8760 * row[f'CF_IEC2'] * row[f'potential_capacity_{resource_type}'] # MWh\n",
    "        \n",
    "        if aep == 0: # some cells have no potentials\n",
    "            return float('99999')  # handle the error \n",
    "        else:\n",
    "            lcoe = ((fcr * (tcc + gcc + trc ) + foc) / aep + voc)  # m$/MWh\n",
    "            return lcoe  * 1E6 # LCOE in $/MWh "
   ]
  },
  {
   "cell_type": "code",
   "execution_count": null,
   "metadata": {},
   "outputs": [],
   "source": [
    "cells.columns"
   ]
  },
  {
   "cell_type": "code",
   "execution_count": null,
   "metadata": {},
   "outputs": [],
   "source": [
    "cells_test=cells.copy()"
   ]
  },
  {
   "cell_type": "code",
   "execution_count": null,
   "metadata": {},
   "outputs": [],
   "source": [
    "cells_test[f'LCOE_{resource_type}'] = cells_test.apply(lambda row: calc_LCOE_lambda_m2(row), axis=1) # LCOE in $/MWh  # adopting NREL's method + some added costs\n",
    "scored_dataframe = cells_test.sort_values(by=f'LCOE_{resource_type}', ascending=True).copy()  # Lower LCOE is better\n",
    "scored_dataframe.head(10).lcoe_wind"
   ]
  }
 ],
 "metadata": {
  "kernelspec": {
   "display_name": "RES",
   "language": "python",
   "name": "python3"
  },
  "language_info": {
   "codemirror_mode": {
    "name": "ipython",
    "version": 3
   },
   "file_extension": ".py",
   "mimetype": "text/x-python",
   "name": "python",
   "nbconvert_exporter": "python",
   "pygments_lexer": "ipython3",
   "version": "3.12.7"
  }
 },
 "nbformat": 4,
 "nbformat_minor": 2
}
