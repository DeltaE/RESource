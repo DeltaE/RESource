{
 "cells": [
  {
   "cell_type": "markdown",
   "metadata": {},
   "source": [
    "# Set Required Args to Activate Modules"
   ]
  },
  {
   "cell_type": "code",
   "execution_count": 1,
   "metadata": {},
   "outputs": [
    {
     "name": "stdout",
     "output_type": "stream",
     "text": [
      "\u001b[36m └> Using CODERS API key: w0OksqQKMFMtKPbO\u001b[0m\n"
     ]
    }
   ],
   "source": [
    "import RES.RESources as RES"
   ]
  },
  {
   "cell_type": "code",
   "execution_count": 2,
   "metadata": {},
   "outputs": [],
   "source": [
    "vis={}"
   ]
  },
  {
   "cell_type": "code",
   "execution_count": 3,
   "metadata": {},
   "outputs": [
    {
     "name": "stderr",
     "output_type": "stream",
     "text": [
      "2025-07-03 07:58:28,071 - INFO - Directory 'data/downloaded_data/NREL/ATB/ATBe.parquet' found locally.\n"
     ]
    },
    {
     "name": "stdout",
     "output_type": "stream",
     "text": [
      "\u001b[96m____________________________________________________________\u001b[0m\n",
      "\u001b[92m     Initiating RESource Builder...\u001b[0m\n",
      "\u001b[96m____________________________________________________________\u001b[0m\n",
      "\u001b[36m └> NREL_ATBProcessor initiated...\u001b[0m\n",
      "\u001b[95m  └> Processing Annual Technology Baseline (ATB) data sourced from NREL...\u001b[0m\n",
      "\u001b[95m  └> ATB cost datafile: ATBe.parquet loaded\u001b[0m\n",
      "\u001b[95m  └> Extracting technology baseline costs...\u001b[0m\n",
      "\u001b[90m\u001b[2m  └─> Extracting Solar PV technology cost...\u001b[0m\n",
      ">> Data (GeoDataFrame/DataFrame) saved to data/store/resources_QC.h5 with key 'cost/atb/solar'\n",
      "\u001b[90m\u001b[2m  └─> Extracting Wind Turbine technology cost...\u001b[0m\n",
      ">> Data (GeoDataFrame/DataFrame) saved to data/store/resources_QC.h5 with key 'cost/atb/wind'\n",
      "\u001b[90m\u001b[2m  └─> Extracting BESS technology cost...\u001b[0m\n"
     ]
    },
    {
     "name": "stderr",
     "output_type": "stream",
     "text": [
      "2025-07-03 07:58:28,647 - INFO - Directory 'data/downloaded_data/NREL/ATB/ATBe.parquet' found locally.\n"
     ]
    },
    {
     "name": "stdout",
     "output_type": "stream",
     "text": [
      ">> Data (GeoDataFrame/DataFrame) saved to data/store/resources_QC.h5 with key 'cost/atb/bess'\n",
      "\u001b[36m └> Snapshot for Resources: 2023-01-01 07:00:00 to 2024-01-01 06:00:00\u001b[0m\n",
      "\u001b[96m____________________________________________________________\u001b[0m\n",
      "\u001b[92m     Initiating RESource Builder...\u001b[0m\n",
      "\u001b[96m____________________________________________________________\u001b[0m\n",
      "\u001b[36m └> NREL_ATBProcessor initiated...\u001b[0m\n",
      "\u001b[95m  └> Processing Annual Technology Baseline (ATB) data sourced from NREL...\u001b[0m\n",
      "\u001b[95m  └> ATB cost datafile: ATBe.parquet loaded\u001b[0m\n",
      "\u001b[95m  └> Extracting technology baseline costs...\u001b[0m\n",
      "\u001b[90m\u001b[2m  └─> Extracting Solar PV technology cost...\u001b[0m\n",
      ">> Data (GeoDataFrame/DataFrame) saved to data/store/resources_QC.h5 with key 'cost/atb/solar'\n",
      "\u001b[90m\u001b[2m  └─> Extracting Wind Turbine technology cost...\u001b[0m\n",
      ">> Data (GeoDataFrame/DataFrame) saved to data/store/resources_QC.h5 with key 'cost/atb/wind'\n",
      "\u001b[90m\u001b[2m  └─> Extracting BESS technology cost...\u001b[0m\n",
      ">> Data (GeoDataFrame/DataFrame) saved to data/store/resources_QC.h5 with key 'cost/atb/bess'\n",
      "\u001b[36m └> Snapshot for Resources: 2023-01-01 07:00:00 to 2024-01-01 06:00:00\u001b[0m\n"
     ]
    }
   ],
   "source": [
    "# Iterate over provinces for both solar and wind resources\n",
    "resource_types = ['wind','solar']  #\n",
    "provinces=['QC']  #,'AB','SK','ON','NS','MB'\n",
    "for province_code in provinces:\n",
    "    for resource_type in resource_types:\n",
    "        required_args = {\n",
    "            \"config_file_path\": 'config/config_CAN.yaml',\n",
    "            \"region_short_code\": province_code,\n",
    "            \"resource_type\": resource_type\n",
    "        }\n",
    "        \n",
    "        # Create an instance of Resources and execute the module\n",
    "        RES_module = RES.RESources_builder(**required_args)\n",
    "        # RES_module.build(select_top_sites=True,\n",
    "        #                  use_pypsa_buses=False)\n",
    "        "
   ]
  },
  {
   "cell_type": "code",
   "execution_count": null,
   "metadata": {},
   "outputs": [
    {
     "name": "stderr",
     "output_type": "stream",
     "text": [
      "2025-07-03 07:58:29,154 - INFO - >> Loading GADM data for Canada from local datafile data/downloaded_data/GADM/gadm41_Canada_L2.geojson.\n"
     ]
    },
    {
     "name": "stdout",
     "output_type": "stream",
     "text": [
      "\u001b[36m └> Preparing Grid Cells...\u001b[0m\n"
     ]
    },
    {
     "name": "stderr",
     "output_type": "stream",
     "text": [
      "2025-07-03 07:58:29,864 - INFO - Created 99 records\n",
      "2025-07-03 07:58:29,865 - INFO - GADM data for Québec saved to data/processed_data/regions/gadm41_Canada_L2_QC.geojson.\n",
      "2025-07-03 07:58:29,866 - INFO - Building new cutout data/downloaded_data/cutout/QC_2023_2024.nc\n",
      "2025-07-03 07:58:29,891 - INFO - Storing temporary files in /tmp/tmpu3poslh_\n",
      "2025-07-03 07:58:29,894 - INFO - Calculating and writing with module era5:\n",
      "2025-07-03 07:58:29,950 - INFO - Requesting data for feature influx...\n",
      "2025-07-03 07:58:29,951 - INFO - Requesting data for feature wind...\n",
      "2025-07-03 07:58:29,953 - INFO - Requesting data for feature runoff...\n",
      "2025-07-03 07:58:29,955 - INFO - Requesting data for feature height...\n",
      "2025-07-03 07:58:29,958 - INFO - Requesting data for feature temperature...\n"
     ]
    }
   ],
   "source": [
    "data1=RES_module.get_grid_cells()"
   ]
  },
  {
   "cell_type": "code",
   "execution_count": null,
   "metadata": {},
   "outputs": [],
   "source": [
    "\n",
    "data2=RES_module.get_cell_capacity()"
   ]
  },
  {
   "cell_type": "code",
   "execution_count": null,
   "metadata": {},
   "outputs": [],
   "source": [
    "data3=RES_module.extract_weather_data()"
   ]
  },
  {
   "cell_type": "code",
   "execution_count": null,
   "metadata": {},
   "outputs": [],
   "source": [
    "data4=RES_module.update_gwa_scaled_params() # testing, 2025 04 21"
   ]
  },
  {
   "cell_type": "code",
   "execution_count": null,
   "metadata": {},
   "outputs": [],
   "source": [
    "data5=RES_module.get_CF_timeseries()"
   ]
  },
  {
   "cell_type": "code",
   "execution_count": null,
   "metadata": {},
   "outputs": [],
   "source": [
    "data6=RES_module.find_grid_nodes()"
   ]
  },
  {
   "cell_type": "code",
   "execution_count": null,
   "metadata": {},
   "outputs": [],
   "source": [
    "data7=RES_module.score_cells()"
   ]
  },
  {
   "cell_type": "code",
   "execution_count": null,
   "metadata": {},
   "outputs": [],
   "source": [
    "data8=RES_module.get_clusters()\n",
    "data9=RES_module.get_cluster_timeseries()\n",
    "data10=RES_module.units.create_units_dictionary()"
   ]
  },
  {
   "cell_type": "code",
   "execution_count": null,
   "metadata": {},
   "outputs": [],
   "source": [
    "vis['land_avail_1']=RES_module.cell_processor.plot_ERAF5_grid_land_availability()\n",
    "vis['land_avail_2']=RES_module.cell_processor.plot_excluder_land_availability()\n",
    "for raster_type in RES_module.cell_processor.raster_types:\n",
    "            vis[f'land_vis_gaez_raster_{raster_type['name']}']=RES_module.cell_processor.__clip_to_boundary_n_plot__(raster_type, RES_module.cell_processor.region_boundary.geometry,True)"
   ]
  },
  {
   "cell_type": "markdown",
   "metadata": {},
   "source": [
    "# Explore the outputs from Store"
   ]
  },
  {
   "cell_type": "code",
   "execution_count": null,
   "metadata": {},
   "outputs": [],
   "source": [
    "from RES.hdf5_handler import DataHandler\n",
    "res_store=DataHandler(f'data/store/resources_{province_code}.h5')"
   ]
  },
  {
   "cell_type": "code",
   "execution_count": null,
   "metadata": {},
   "outputs": [],
   "source": [
    "cells=res_store.from_store('cells')\n",
    "boundary=res_store.from_store('boundary')\n",
    "solar_clusters=res_store.from_store('clusters/solar')\n",
    "wind_clusters=res_store.from_store('clusters/wind')\n",
    "solar_clusters_ts=res_store.from_store('timeseries/clusters/solar')\n",
    "wind_clusters_ts=res_store.from_store('timeseries/clusters/wind')"
   ]
  },
  {
   "cell_type": "code",
   "execution_count": null,
   "metadata": {},
   "outputs": [],
   "source": [
    "# wind_clusters[wind_clusters['lcoe']<=100].explore('potential_capacity')"
   ]
  },
  {
   "cell_type": "markdown",
   "metadata": {},
   "source": [
    "# Playground for Top Site Selection"
   ]
  },
  {
   "cell_type": "code",
   "execution_count": null,
   "metadata": {},
   "outputs": [],
   "source": [
    "resource_clusters_solar,cluster_timeseries_solar=RES_module.select_top_sites(solar_clusters,\n",
    "                                                                solar_clusters_ts,\n",
    "                                                                    resource_max_capacity=10)\n",
    "\n",
    "resource_clusters_wind,cluster_timeseries_wind=RES_module.select_top_sites(wind_clusters,\n",
    "                                                                wind_clusters_ts,\n",
    "                                                                    resource_max_capacity=50)"
   ]
  },
  {
   "cell_type": "code",
   "execution_count": null,
   "metadata": {},
   "outputs": [],
   "source": [
    "RES_module.export_results('wind',\n",
    "                    resource_clusters_wind,\n",
    "                    cluster_timeseries_wind,)"
   ]
  },
  {
   "cell_type": "code",
   "execution_count": null,
   "metadata": {},
   "outputs": [],
   "source": [
    "RES_module.export_results('solar',\n",
    "                    resource_clusters_solar,\n",
    "                    cluster_timeseries_solar,)"
   ]
  },
  {
   "cell_type": "code",
   "execution_count": null,
   "metadata": {},
   "outputs": [],
   "source": [
    "# resource_clusters_solar.plot('potential_capacity',legend=True)\n",
    "# resource_clusters_wind.plot('potential_capacity',legend=True)"
   ]
  },
  {
   "cell_type": "markdown",
   "metadata": {},
   "source": [
    "# Visualize Results"
   ]
  },
  {
   "cell_type": "code",
   "execution_count": null,
   "metadata": {},
   "outputs": [],
   "source": [
    "import matplotlib.pyplot as plt\n",
    "import pandas as pd\n",
    "\n",
    "legend_x_ax_offset=1\n",
    "# Ensure 'Region' is in the columns for both boundary and cells\n",
    "if 'Region' not in boundary.columns:\n",
    "    boundary = boundary.reset_index(inplace=True)\n",
    "\n",
    "# Assign a number to each region\n",
    "boundary['Region_Number'] = range(1, len(boundary) + 1)\n",
    "\n",
    "# Define custom bins and labels for solar and wind capacity\n",
    "solar_bins = [0, 100, 200, 300, 500, float('inf')]  # Custom ranges\n",
    "solar_labels = ['<100','100-200', '200-300', '300-500','>500']  # Labels for legend\n",
    "\n",
    "# Define custom bins and labels for solar and wind capacity\n",
    "wind_bins = [0, 300, 500, 1000, 2000,3000, float('inf')]  # Custom ranges\n",
    "wind_labels = ['<300','300-500', '500-1000', '1000-2000','2000-3000', '>3000']  # Labels for legend\n",
    "\n",
    "# Categorize potential_capacity_solar and potential_capacity_wind into bins\n",
    "resource_clusters_solar['solar_category'] = pd.cut(resource_clusters_solar['potential_capacity'], bins=solar_bins, labels=solar_labels, include_lowest=True)\n",
    "resource_clusters_wind['wind_category'] = pd.cut(resource_clusters_wind['potential_capacity'], bins=wind_bins, labels=wind_labels, include_lowest=True)\n",
    "\n",
    "# Create figure and axes for side-by-side plotting\n",
    "fig, (ax1, ax2) = plt.subplots(figsize=(18, 8), ncols=2)\n",
    "fig.suptitle(\"Potential Sites for Targeted Capacity Investments\", fontsize=16,weight='bold')\n",
    "# Set axis off for both subplots\n",
    "ax1.set_axis_off()\n",
    "ax2.set_axis_off()\n",
    "\n",
    "# Shadow effect offset\n",
    "shadow_offset = 0.01\n",
    "\n",
    "# Plot solar map on ax1\n",
    "# Add shadow effect for solar map\n",
    "boundary.geometry = boundary.geometry.translate(xoff=shadow_offset, yoff=-shadow_offset)\n",
    "boundary.plot(ax=ax1, color='None', edgecolor='grey', linewidth=1, alpha=0.7)  # Shadow layer\n",
    "boundary.geometry = boundary.geometry.translate(xoff=-shadow_offset, yoff=shadow_offset)\n",
    "\n",
    "# Plot solar cells\n",
    "resource_clusters_solar.plot(column='solar_category', ax=ax1, cmap='Wistia', legend=True, \n",
    "           legend_kwds={'title': \"Solar Capacity (MW)\", 'loc': 'upper right','bbox_to_anchor':(legend_x_ax_offset,1), 'frameon': False})\n",
    "\n",
    "# Plot actual boundary for solar map\n",
    "boundary.plot(ax=ax1, facecolor='none', edgecolor='black', linewidth=0.2, alpha=0.7)\n",
    "\"\"\"\n",
    "# Annotate region numbers for solar map\n",
    "for idx, row in boundary.iterrows():\n",
    "    centroid = row.geometry.centroid\n",
    "    ax1.annotate(f\"{row['Region_Number']}\", \n",
    "                 xy=(centroid.x, centroid.y), \n",
    "                 ha='center', va='center',\n",
    "                 fontsize=7, color='black',\n",
    "                 bbox=dict(facecolor='white', edgecolor='none', alpha=0.7, boxstyle='round,pad=0.2'))\n",
    "\"\"\"\n",
    "# Plot wind map on ax2\n",
    "# Add shadow effect for wind map\n",
    "boundary.geometry = boundary.geometry.translate(xoff=shadow_offset, yoff=-shadow_offset)\n",
    "boundary.plot(ax=ax2, color='None', edgecolor='grey', linewidth=1, alpha=0.7)  # Shadow layer\n",
    "boundary.geometry = boundary.geometry.translate(xoff=-shadow_offset, yoff=shadow_offset)\n",
    "\n",
    "# Plot wind cells\n",
    "resource_clusters_wind.plot(column='wind_category', ax=ax2, cmap='summer', legend=True, \n",
    "           legend_kwds={'title': \"Wind Capacity (MW)\", 'bbox_to_anchor':(legend_x_ax_offset,1), 'frameon': False})\n",
    "\n",
    "# Plot actual boundary for wind map\n",
    "boundary.plot(ax=ax2, facecolor='none', edgecolor='black', linewidth=0.2, alpha=0.7)\n",
    "\"\"\"\n",
    "# Annotate region numbers for wind map\n",
    "for idx, row in boundary.iterrows():\n",
    "    centroid = row.geometry.centroid\n",
    "    ax2.annotate(f\"{row['Region_Number']}\", \n",
    "                 xy=(centroid.x, centroid.y), \n",
    "                 ha='center', va='center',\n",
    "                 fontsize=8, color='black',\n",
    "                 bbox=dict(facecolor='white', edgecolor='none', alpha=0.7, boxstyle='round,pad=0.2'))\n",
    "\"\"\"\n",
    "# Adjust layout for cleaner appearance\n",
    "fig.patch.set_alpha(0)  # Make figure background transparent\n",
    "plt.tight_layout()\n",
    "\n",
    "# Show the side-by-side plot\n",
    "\n",
    "# plt.savefig('solar_wind_capacity_map.png',dpi=300)\n",
    "plt.show()"
   ]
  }
 ],
 "metadata": {
  "kernelspec": {
   "display_name": "RES",
   "language": "python",
   "name": "python3"
  },
  "language_info": {
   "codemirror_mode": {
    "name": "ipython",
    "version": 3
   },
   "file_extension": ".py",
   "mimetype": "text/x-python",
   "name": "python",
   "nbconvert_exporter": "python",
   "pygments_lexer": "ipython3",
   "version": "3.12.7"
  }
 },
 "nbformat": 4,
 "nbformat_minor": 2
}
