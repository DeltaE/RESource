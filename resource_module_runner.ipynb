{
 "cells": [
  {
   "cell_type": "code",
   "execution_count": 1,
   "metadata": {},
   "outputs": [],
   "source": [
    "import workflow.scripts.resources as res_module\n",
    "import pandas as pd\n",
    "import geopandas as gpd"
   ]
  },
  {
   "cell_type": "code",
   "execution_count": 2,
   "metadata": {},
   "outputs": [],
   "source": [
    "from linkingtool.hdf5_handler import DataHandler\n",
    "import linkingtool.visuals as vis\n",
    "store=f\"data/store/resources_BC.h5\"\n",
    "datahandler=DataHandler(store)"
   ]
  },
  {
   "cell_type": "code",
   "execution_count": 3,
   "metadata": {},
   "outputs": [],
   "source": [
    "cells=datahandler.from_store('cells')"
   ]
  },
  {
   "cell_type": "code",
   "execution_count": 4,
   "metadata": {},
   "outputs": [
    {
     "data": {
      "text/plain": [
       "cell\n",
       "Capital_-123.75_48.25             2.159811\n",
       "Capital_-123.5_48.25              6.913731\n",
       "CowichanValley_-124.75_48.5      45.645526\n",
       "Capital_-124.5_48.5              33.230814\n",
       "CowichanValley_-124.5_48.5       45.977630\n",
       "                                   ...    \n",
       "NorthernRockies_-121.0_60.0     181.998561\n",
       "NorthernRockies_-120.75_60.0    168.226416\n",
       "NorthernRockies_-120.5_60.0     157.366957\n",
       "NorthernRockies_-120.25_60.0    160.435017\n",
       "NorthernRockies_-120.0_60.0     164.958287\n",
       "Name: LCOE_wind, Length: 2956, dtype: float64"
      ]
     },
     "execution_count": 4,
     "metadata": {},
     "output_type": "execute_result"
    }
   ],
   "source": [
    "cells['LCOE_wind']"
   ]
  },
  {
   "cell_type": "markdown",
   "metadata": {},
   "source": [
    "# Set Required Args to Activate Modules"
   ]
  },
  {
   "cell_type": "code",
   "execution_count": 5,
   "metadata": {},
   "outputs": [
    {
     "name": "stderr",
     "output_type": "stream",
     "text": [
      "2024-12-11 18:37:10,814 - INFO - Preparing Grid Cells...\n",
      "2024-12-11 18:37:10,814 - INFO - >> Loading GADM boundaries (Sub-provincial | level =2) for British Columbia  from local file data/processed_data/regions/gadm41_Canada_L2_BC.geojson.\n",
      "2024-12-11 18:37:10,959 - INFO - Cutout already prepared.\n"
     ]
    },
    {
     "name": "stdout",
     "output_type": "stream",
     "text": [
      "__________________________________________________\n",
      " Initiating wind module for British Columbia...\n",
      "\n",
      "    >>> Memory management remarks:\n",
      "    * After execution, all downloaded data is stored at cutout.path. By default, it is not loaded into memory, but into dask arrays. This keeps the memory consumption extremely low.\n",
      "    * The data is accessible in cutout.data, which is an xarray.Dataset. Querying the cutout gives us some basic information on which data is contained in it.\n",
      "    * For more operations related to cutout, check the tool docs @ https://atlite.readthedocs.io/en/master/examples/create_cutout.html#\n",
      "        \n"
     ]
    },
    {
     "name": "stderr",
     "output_type": "stream",
     "text": [
      "2024-12-11 18:37:11,476 - INFO - >> Loading GADM boundaries (Sub-provincial | level =2) for British Columbia  from local file data/processed_data/regions/gadm41_Canada_L2_BC.geojson.\n",
      "2024-12-11 18:37:11,640 - INFO - Cutout already prepared.\n",
      "2024-12-11 18:37:11,641 - INFO - >> Loading global filters' rasters from GAEZ, trimmed to British Columbia\n",
      "2024-12-11 18:37:11,642 - INFO - >> Raster file 'faocmb_2010.tif' already exists locally.\n",
      "2024-12-11 18:37:11,643 - INFO - >> Raster file 'slpmed05.tif' already exists locally.\n",
      "2024-12-11 18:37:11,643 - INFO - >> Raster file 'exclusion_2017.tif' already exists locally.\n",
      "2024-12-11 18:37:11,643 - INFO - >> Loading GADM boundaries (Sub-provincial | level =2) for British Columbia  from local file data/processed_data/regions/gadm41_Canada_L2_BC.geojson.\n"
     ]
    },
    {
     "name": "stdout",
     "output_type": "stream",
     "text": [
      ">> Updated 'cells' saved to data/store/resources_BC.h5 with key 'cells'\n",
      ">> Updated 'boundary' saved to data/store/resources_BC.h5 with key 'boundary'\n",
      "\n",
      "    >>> Memory management remarks:\n",
      "    * After execution, all downloaded data is stored at cutout.path. By default, it is not loaded into memory, but into dask arrays. This keeps the memory consumption extremely low.\n",
      "    * The data is accessible in cutout.data, which is an xarray.Dataset. Querying the cutout gives us some basic information on which data is contained in it.\n",
      "    * For more operations related to cutout, check the tool docs @ https://atlite.readthedocs.io/en/master/examples/create_cutout.html#\n",
      "        \n"
     ]
    },
    {
     "name": "stderr",
     "output_type": "stream",
     "text": [
      "2024-12-11 18:37:11,970 - INFO - >> Raster plot saved at: vis/misc/faocmb_2010_raster_BC.png\n",
      "2024-12-11 18:37:12,186 - INFO - >> Raster plot saved at: vis/misc/slpmed05_raster_BC.png\n",
      "2024-12-11 18:37:12,584 - INFO - >> Raster plot saved at: vis/misc/exclusion_2017_raster_BC.png\n",
      "2024-12-11 18:37:12,584 - INFO - All required rasters for GAEZ processed and plotted successfully.\n",
      "2024-12-11 18:37:12,585 - INFO -  >>> Loading Land_cover layers from data/downloaded_data/GAEZ/Rasters_in_use/LR/lco/BC_faocmb_2010.tif\n",
      "2024-12-11 18:37:12,585 - INFO -  >>> Loading Terrain_resources layers from data/downloaded_data/GAEZ/Rasters_in_use/LR/ter/BC_slpmed05.tif\n",
      "2024-12-11 18:37:12,585 - INFO -  >>> Loading Exclusion_areas layers from data/downloaded_data/GAEZ/Rasters_in_use/LR/excl/BC_exclusion_2017.tif\n",
      "2024-12-11 18:37:12,586 - INFO - > Loading Canadian Protected and Conserved Areas Database (CPCAD) from locally stored datafile - data/downloaded_data/lands/ProtectedConservedArea_BC.pickle\n",
      "2024-12-11 18:37:12,599 - INFO - >> Loading locally stored OSM data for 'aeroway' from data/downloaded_data/OSM/BC_aeroway.geojson\n",
      "2024-12-11 18:37:13,033 - INFO - Exclusion Container\n",
      " registered rasters: 3 \n",
      " registered geometry collections: 2\n",
      " CRS: 3347 - Resolution: 100\n",
      "2024-12-11 18:37:34,319 - INFO - >> Saving to the local store (as HDF5 file)\n",
      "2024-12-11 18:37:34,339 - INFO - Preparing Timeseries for the Cells...\n",
      "2024-12-11 18:37:34,340 - INFO - >> Loading ERA5 Cutout\n",
      "2024-12-11 18:37:34,340 - INFO - >> Loading GADM boundaries (Sub-provincial | level =2) for British Columbia  from local file data/processed_data/regions/gadm41_Canada_L2_BC.geojson.\n",
      "2024-12-11 18:37:34,450 - INFO - Cutout already prepared.\n"
     ]
    },
    {
     "name": "stdout",
     "output_type": "stream",
     "text": [
      ">> Total ERA5 cells loaded : 2956 [each with .025 deg. (~30km) resolution ]\n",
      ">> Updated 'cells' saved to data/store/resources_BC.h5 with key 'cells'\n",
      "\n",
      "    >>> Memory management remarks:\n",
      "    * After execution, all downloaded data is stored at cutout.path. By default, it is not loaded into memory, but into dask arrays. This keeps the memory consumption extremely low.\n",
      "    * The data is accessible in cutout.data, which is an xarray.Dataset. Querying the cutout gives us some basic information on which data is contained in it.\n",
      "    * For more operations related to cutout, check the tool docs @ https://atlite.readthedocs.io/en/master/examples/create_cutout.html#\n",
      "        \n"
     ]
    },
    {
     "name": "stderr",
     "output_type": "stream",
     "text": [
      "2024-12-11 18:37:34,972 - INFO - >> 2956 Grid Cells from Store Cutout\n",
      "2024-12-11 18:37:34,974 - INFO - adding a cut-out wind speed to the turbine power curve at V=22.0 m/s.\n",
      "2024-12-11 18:37:34,974 - INFO - Convert and aggregate 'wind'.\n"
     ]
    },
    {
     "name": "stdout",
     "output_type": "stream",
     "text": [
      "Fetching Turbine: '3.2M114_NES' data from OEDB\n",
      ">> Loading turbine config from: data/downloaded_data/OEDB/3.2M114_NES.yaml\n",
      ">> selected Wind Turbine  Model : 3.2M114 NES @ 93.0m Hub Height\n"
     ]
    },
    {
     "name": "stderr",
     "output_type": "stream",
     "text": [
      "2024-12-11 18:37:59,101 - INFO - >> Calculating CF mean from the 8760 data points for each Cell ...\n",
      "2024-12-11 18:37:59,133 - INFO - >> Total Grid Cells: 2956, >> Timeseries Generated for: 2956, >> Matched Sites: (8760, 2956)\n",
      "2024-12-11 18:37:59,133 - INFO - >> Calculating 'wind_CF_mean' for 2956 Cells...\n"
     ]
    },
    {
     "name": "stdout",
     "output_type": "stream",
     "text": [
      ">> Updated 'cells' saved to data/store/resources_BC.h5 with key 'cells'\n"
     ]
    },
    {
     "name": "stderr",
     "output_type": "stream",
     "text": [
      "2024-12-11 18:37:59,534 - INFO - >> Loading GADM boundaries (Sub-provincial | level =2) for British Columbia  from local file data/processed_data/regions/gadm41_Canada_L2_BC.geojson.\n",
      "2024-12-11 18:37:59,641 - INFO - Cutout already prepared.\n",
      "2024-12-11 18:37:59,642 - INFO - 'windspeed_ERA5' already present in the store information.\n",
      "2024-12-11 18:37:59,642 - INFO - 'CF_IEC2', 'CF_IEC3', 'windspeed_gwa' are already present in the store information.\n"
     ]
    },
    {
     "name": "stdout",
     "output_type": "stream",
     "text": [
      ">> Updated 'timeseries/wind' saved to data/store/resources_BC.h5 with key 'timeseries/wind'\n",
      "\n",
      "    >>> Memory management remarks:\n",
      "    * After execution, all downloaded data is stored at cutout.path. By default, it is not loaded into memory, but into dask arrays. This keeps the memory consumption extremely low.\n",
      "    * The data is accessible in cutout.data, which is an xarray.Dataset. Querying the cutout gives us some basic information on which data is contained in it.\n",
      "    * For more operations related to cutout, check the tool docs @ https://atlite.readthedocs.io/en/master/examples/create_cutout.html#\n",
      "        \n"
     ]
    },
    {
     "name": "stderr",
     "output_type": "stream",
     "text": [
      "2024-12-11 18:38:00,204 - INFO - >> Data pulled substations from [source checked: CODERS(https://sesit.dev/api/docs)]\n",
      "2024-12-11 18:38:00,207 - INFO - substations data saved to:\n",
      " data/downloaded_data/CODERS/network/substations.pkl\n",
      "2024-12-11 18:38:00,233 - INFO - >> Loading GADM boundaries (Sub-provincial | level =2) for British Columbia  from local file data/processed_data/regions/gadm41_Canada_L2_BC.geojson.\n",
      "2024-12-11 18:38:00,339 - INFO - Cutout already prepared.\n",
      "2024-12-11 18:38:00,395 - INFO - > Calculating Nearest Grid Nodes for Grid Cells of BC\n"
     ]
    },
    {
     "name": "stdout",
     "output_type": "stream",
     "text": [
      "\n",
      "    >>> Memory management remarks:\n",
      "    * After execution, all downloaded data is stored at cutout.path. By default, it is not loaded into memory, but into dask arrays. This keeps the memory consumption extremely low.\n",
      "    * The data is accessible in cutout.data, which is an xarray.Dataset. Querying the cutout gives us some basic information on which data is contained in it.\n",
      "    * For more operations related to cutout, check the tool docs @ https://atlite.readthedocs.io/en/master/examples/create_cutout.html#\n",
      "        \n"
     ]
    },
    {
     "name": "stderr",
     "output_type": "stream",
     "text": [
      "2024-12-11 18:38:00,624 - INFO - ERA5 Cells Filtered based on Proximity to Tx Nodes \n",
      "Size: 1888\n",
      "\n"
     ]
    },
    {
     "name": "stdout",
     "output_type": "stream",
     "text": [
      ">> Updated 'cells' saved to data/store/resources_BC.h5 with key 'cells'\n",
      ">> Updated 'substations' saved to data/store/resources_BC.h5 with key 'substations'\n",
      ">> Calculating Score for each Cell...\n",
      ">> Updated 'cells' saved to data/store/resources_BC.h5 with key 'cells'\n",
      ">> Calculating Score for each Cell...\n"
     ]
    },
    {
     "name": "stderr",
     "output_type": "stream",
     "text": [
      "2024-12-11 18:38:00,869 - INFO - >> Preparing spatial clusters for 2956 Cells\n"
     ]
    },
    {
     "name": "stdout",
     "output_type": "stream",
     "text": [
      ">> Updated 'cells' saved to data/store/resources_BC.h5 with key 'cells'\n",
      ">> Estimating optimal number of Clusters for each region based on the Score for each Cell ...\n",
      "Zone Kitimat-Stikine - Optimal k for LCOE_wind based clustering: 2\n",
      "\n",
      ">> Estimating optimal number of Clusters for each region based on the Score for each Cell ...\n",
      "Zone Bulkley-Nechako - Optimal k for LCOE_wind based clustering: 2\n",
      "\n",
      ">> Estimating optimal number of Clusters for each region based on the Score for each Cell ...\n",
      "Zone Stikine - Optimal k for LCOE_wind based clustering: 3\n",
      "\n",
      ">> Estimating optimal number of Clusters for each region based on the Score for each Cell ...\n",
      "Zone PeaceRiver - Optimal k for LCOE_wind based clustering: 2\n",
      "\n",
      ">> Estimating optimal number of Clusters for each region based on the Score for each Cell ...\n",
      "Zone NorthernRockies - Optimal k for LCOE_wind based clustering: 2\n",
      "\n",
      ">> Estimating optimal number of Clusters for each region based on the Score for each Cell ...\n",
      "Zone Columbia-Shuswap - Optimal k for LCOE_wind based clustering: 3\n",
      "\n",
      ">> Estimating optimal number of Clusters for each region based on the Score for each Cell ...\n",
      "Zone Thompson-Nicola - Optimal k for LCOE_wind based clustering: 3\n",
      "\n",
      ">> Estimating optimal number of Clusters for each region based on the Score for each Cell ...\n",
      "Zone Skeena-QueenCharlotte - Optimal k for LCOE_wind based clustering: 3\n",
      "\n",
      ">> Estimating optimal number of Clusters for each region based on the Score for each Cell ...\n",
      "Zone FraserValley - Optimal k for LCOE_wind based clustering: 3\n",
      "\n",
      ">> Estimating optimal number of Clusters for each region based on the Score for each Cell ...\n",
      "Zone Cariboo - Optimal k for LCOE_wind based clustering: 3\n",
      "\n",
      ">> Estimating optimal number of Clusters for each region based on the Score for each Cell ...\n",
      "Zone CentralCoast - Optimal k for LCOE_wind based clustering: 2\n",
      "\n",
      ">> Estimating optimal number of Clusters for each region based on the Score for each Cell ...\n",
      "Zone Fraser-FortGeorge - Optimal k for LCOE_wind based clustering: 4\n",
      "\n",
      ">> Estimating optimal number of Clusters for each region based on the Score for each Cell ...\n",
      "Zone Capital - Optimal k for LCOE_wind based clustering: 2\n",
      "\n",
      ">> Estimating optimal number of Clusters for each region based on the Score for each Cell ...\n",
      "Zone MountWaddington - Optimal k for LCOE_wind based clustering: 2\n",
      "\n",
      ">> Estimating optimal number of Clusters for each region based on the Score for each Cell ...\n",
      "Zone SunshineCoast - Optimal k for LCOE_wind based clustering: 2\n",
      "\n",
      ">> Estimating optimal number of Clusters for each region based on the Score for each Cell ...\n",
      "Zone EastKootenay - Optimal k for LCOE_wind based clustering: 2\n",
      "\n",
      ">> Estimating optimal number of Clusters for each region based on the Score for each Cell ...\n",
      "Zone Nanaimo - Optimal k for LCOE_wind based clustering: 2\n",
      "\n",
      ">> Estimating optimal number of Clusters for each region based on the Score for each Cell ...\n",
      "Zone Squamish-Lillooet - Optimal k for LCOE_wind based clustering: 2\n",
      "\n",
      ">> Estimating optimal number of Clusters for each region based on the Score for each Cell ...\n",
      "Zone CowichanValley - Optimal k for LCOE_wind based clustering: 2\n",
      "\n",
      ">> Estimating optimal number of Clusters for each region based on the Score for each Cell ...\n",
      "Zone GreaterVancouver - Optimal k for LCOE_wind based clustering: 2\n",
      "\n",
      ">> Estimating optimal number of Clusters for each region based on the Score for each Cell ...\n",
      "Zone Alberni-Clayoquot - Optimal k for LCOE_wind based clustering: 2\n",
      "\n",
      ">> Estimating optimal number of Clusters for each region based on the Score for each Cell ...\n",
      "Zone Comox-Strathcona - Optimal k for LCOE_wind based clustering: 3\n",
      "\n",
      ">> Estimating optimal number of Clusters for each region based on the Score for each Cell ...\n",
      "Zone CentralKootenay - Optimal k for LCOE_wind based clustering: 2\n",
      "\n",
      ">> Estimating optimal number of Clusters for each region based on the Score for each Cell ...\n",
      "Zone NorthOkanagan - Optimal k for LCOE_wind based clustering: 2\n",
      "\n",
      ">> Estimating optimal number of Clusters for each region based on the Score for each Cell ...\n",
      "Zone Okanagan-Similkameen - Optimal k for LCOE_wind based clustering: 2\n",
      "\n",
      ">> Estimating optimal number of Clusters for each region based on the Score for each Cell ...\n",
      "Zone PowellRiver - Optimal k for LCOE_wind based clustering: 2\n",
      "\n",
      ">> Estimating optimal number of Clusters for each region based on the Score for each Cell ...\n",
      "Zone KootenayBoundary - Optimal k for LCOE_wind based clustering: 2\n",
      "\n",
      ">> Estimating optimal number of Clusters for each region based on the Score for each Cell ...\n"
     ]
    },
    {
     "name": "stderr",
     "output_type": "stream",
     "text": [
      "2024-12-11 18:38:04,004 - INFO -  Preparing Clusters...\n",
      "2024-12-11 18:38:04,005 - INFO -  Creating cluster for Kitimat-Stikine 1/28\n",
      "2024-12-11 18:38:04,060 - INFO -  Creating cluster for Bulkley-Nechako 2/28\n",
      "2024-12-11 18:38:04,073 - INFO -  Creating cluster for Stikine 3/28\n",
      "2024-12-11 18:38:04,093 - INFO -  Creating cluster for PeaceRiver 4/28\n",
      "2024-12-11 18:38:04,110 - INFO -  Creating cluster for NorthernRockies 5/28\n"
     ]
    },
    {
     "name": "stdout",
     "output_type": "stream",
     "text": [
      "Zone CentralOkanagan - Optimal k for LCOE_wind based clustering: 2\n",
      "\n",
      ">>> K-means clustering Elbow plots generated for each region based on the Score for each Cell ...\n",
      "Optimal-k based on 'LCOE' clustering calculated for 28 zones and saved to cell dataframe.\n",
      "\n",
      ">>> Mapping the Optimal Number of Clusters for Each region ...\n"
     ]
    },
    {
     "name": "stderr",
     "output_type": "stream",
     "text": [
      "2024-12-11 18:38:04,123 - INFO -  Creating cluster for Columbia-Shuswap 6/28\n",
      "2024-12-11 18:38:04,138 - INFO -  Creating cluster for Thompson-Nicola 7/28\n",
      "2024-12-11 18:38:04,155 - INFO -  Creating cluster for Skeena-QueenCharlotte 8/28\n",
      "2024-12-11 18:38:04,235 - INFO -  Creating cluster for FraserValley 9/28\n",
      "2024-12-11 18:38:04,251 - INFO -  Creating cluster for Cariboo 10/28\n",
      "2024-12-11 18:38:04,271 - INFO -  Creating cluster for CentralCoast 11/28\n",
      "2024-12-11 18:38:04,325 - INFO -  Creating cluster for Fraser-FortGeorge 12/28\n",
      "2024-12-11 18:38:04,346 - INFO -  Creating cluster for Capital 13/28\n",
      "2024-12-11 18:38:04,362 - INFO -  Creating cluster for MountWaddington 14/28\n",
      "2024-12-11 18:38:04,402 - INFO -  Creating cluster for SunshineCoast 15/28\n",
      "2024-12-11 18:38:04,420 - INFO -  Creating cluster for EastKootenay 16/28\n",
      "2024-12-11 18:38:04,437 - INFO -  Creating cluster for Nanaimo 17/28\n",
      "2024-12-11 18:38:04,453 - INFO -  Creating cluster for Squamish-Lillooet 18/28\n",
      "2024-12-11 18:38:04,470 - INFO -  Creating cluster for CowichanValley 19/28\n",
      "2024-12-11 18:38:04,488 - INFO -  Creating cluster for GreaterVancouver 20/28\n",
      "2024-12-11 18:38:04,507 - INFO -  Creating cluster for Alberni-Clayoquot 21/28\n",
      "2024-12-11 18:38:04,542 - INFO -  Creating cluster for Comox-Strathcona 22/28\n",
      "2024-12-11 18:38:04,582 - INFO -  Creating cluster for CentralKootenay 23/28\n",
      "2024-12-11 18:38:04,601 - INFO -  Creating cluster for NorthOkanagan 24/28\n",
      "2024-12-11 18:38:04,620 - INFO -  Creating cluster for Okanagan-Similkameen 25/28\n",
      "2024-12-11 18:38:04,638 - INFO -  Creating cluster for PowellRiver 26/28\n",
      "2024-12-11 18:38:04,660 - INFO -  Creating cluster for KootenayBoundary 27/28\n",
      "2024-12-11 18:38:04,678 - INFO -  Creating cluster for CentralOkanagan 28/28\n",
      "2024-12-11 18:38:04,698 - INFO -  Culsters Created and a list generated to map the Cells inside each Cluster...\n",
      "2024-12-11 18:38:04,782 - INFO - >> Preparing representative profiles for 65 clusters\n"
     ]
    },
    {
     "name": "stdout",
     "output_type": "stream",
     "text": [
      ">> Data (GeoDataFrame/DataFrame) saved to data/store/resources_BC.h5 with key 'clusters/wind'\n",
      ">> Data (GeoDataFrame/DataFrame) saved to data/store/resources_BC.h5 with key 'dissolved_indices/wind'\n",
      ">> Data (GeoDataFrame/DataFrame) saved to data/store/resources_BC.h5 with key 'timeseries/clusters/wind'\n",
      ">> Updated 'units' saved to data/store/resources_BC.h5 with key 'units'\n"
     ]
    },
    {
     "name": "stderr",
     "output_type": "stream",
     "text": [
      "2024-12-11 18:38:05,006 - INFO - >> Units dictionary created and saved to 'data/units_dictionary.xlsx'\n",
      "2024-12-11 18:38:05,116 - INFO - >> Preparing spatial clusters for 2956 Cells\n"
     ]
    },
    {
     "name": "stdout",
     "output_type": "stream",
     "text": [
      ">> Calculating Score for each Cell...\n",
      ">> Updated 'cells' saved to data/store/resources_BC.h5 with key 'cells'\n",
      ">> Estimating optimal number of Clusters for each region based on the Score for each Cell ...\n",
      "Zone Kitimat-Stikine - Optimal k for LCOE_wind based clustering: 2\n",
      "\n",
      ">> Estimating optimal number of Clusters for each region based on the Score for each Cell ...\n",
      "Zone Bulkley-Nechako - Optimal k for LCOE_wind based clustering: 2\n",
      "\n",
      ">> Estimating optimal number of Clusters for each region based on the Score for each Cell ...\n",
      "Zone Stikine - Optimal k for LCOE_wind based clustering: 3\n",
      "\n",
      ">> Estimating optimal number of Clusters for each region based on the Score for each Cell ...\n",
      "Zone PeaceRiver - Optimal k for LCOE_wind based clustering: 2\n",
      "\n",
      ">> Estimating optimal number of Clusters for each region based on the Score for each Cell ...\n",
      "Zone NorthernRockies - Optimal k for LCOE_wind based clustering: 2\n",
      "\n",
      ">> Estimating optimal number of Clusters for each region based on the Score for each Cell ...\n",
      "Zone Columbia-Shuswap - Optimal k for LCOE_wind based clustering: 3\n",
      "\n",
      ">> Estimating optimal number of Clusters for each region based on the Score for each Cell ...\n",
      "Zone Thompson-Nicola - Optimal k for LCOE_wind based clustering: 3\n",
      "\n",
      ">> Estimating optimal number of Clusters for each region based on the Score for each Cell ...\n",
      "Zone Skeena-QueenCharlotte - Optimal k for LCOE_wind based clustering: 3\n",
      "\n",
      ">> Estimating optimal number of Clusters for each region based on the Score for each Cell ...\n",
      "Zone FraserValley - Optimal k for LCOE_wind based clustering: 3\n",
      "\n",
      ">> Estimating optimal number of Clusters for each region based on the Score for each Cell ...\n",
      "Zone Cariboo - Optimal k for LCOE_wind based clustering: 3\n",
      "\n",
      ">> Estimating optimal number of Clusters for each region based on the Score for each Cell ...\n",
      "Zone CentralCoast - Optimal k for LCOE_wind based clustering: 2\n",
      "\n",
      ">> Estimating optimal number of Clusters for each region based on the Score for each Cell ...\n",
      "Zone Fraser-FortGeorge - Optimal k for LCOE_wind based clustering: 4\n",
      "\n",
      ">> Estimating optimal number of Clusters for each region based on the Score for each Cell ...\n",
      "Zone Capital - Optimal k for LCOE_wind based clustering: 2\n",
      "\n",
      ">> Estimating optimal number of Clusters for each region based on the Score for each Cell ...\n",
      "Zone MountWaddington - Optimal k for LCOE_wind based clustering: 2\n",
      "\n",
      ">> Estimating optimal number of Clusters for each region based on the Score for each Cell ...\n",
      "Zone SunshineCoast - Optimal k for LCOE_wind based clustering: 2\n",
      "\n",
      ">> Estimating optimal number of Clusters for each region based on the Score for each Cell ...\n",
      "Zone EastKootenay - Optimal k for LCOE_wind based clustering: 2\n",
      "\n",
      ">> Estimating optimal number of Clusters for each region based on the Score for each Cell ...\n",
      "Zone Nanaimo - Optimal k for LCOE_wind based clustering: 2\n",
      "\n",
      ">> Estimating optimal number of Clusters for each region based on the Score for each Cell ...\n",
      "Zone Squamish-Lillooet - Optimal k for LCOE_wind based clustering: 2\n",
      "\n",
      ">> Estimating optimal number of Clusters for each region based on the Score for each Cell ...\n",
      "Zone CowichanValley - Optimal k for LCOE_wind based clustering: 2\n",
      "\n",
      ">> Estimating optimal number of Clusters for each region based on the Score for each Cell ...\n",
      "Zone GreaterVancouver - Optimal k for LCOE_wind based clustering: 2\n",
      "\n",
      ">> Estimating optimal number of Clusters for each region based on the Score for each Cell ...\n",
      "Zone Alberni-Clayoquot - Optimal k for LCOE_wind based clustering: 2\n",
      "\n",
      ">> Estimating optimal number of Clusters for each region based on the Score for each Cell ...\n",
      "Zone Comox-Strathcona - Optimal k for LCOE_wind based clustering: 3\n",
      "\n",
      ">> Estimating optimal number of Clusters for each region based on the Score for each Cell ...\n",
      "Zone CentralKootenay - Optimal k for LCOE_wind based clustering: 2\n",
      "\n",
      ">> Estimating optimal number of Clusters for each region based on the Score for each Cell ...\n",
      "Zone NorthOkanagan - Optimal k for LCOE_wind based clustering: 2\n",
      "\n",
      ">> Estimating optimal number of Clusters for each region based on the Score for each Cell ...\n",
      "Zone Okanagan-Similkameen - Optimal k for LCOE_wind based clustering: 2\n",
      "\n",
      ">> Estimating optimal number of Clusters for each region based on the Score for each Cell ...\n",
      "Zone PowellRiver - Optimal k for LCOE_wind based clustering: 2\n",
      "\n",
      ">> Estimating optimal number of Clusters for each region based on the Score for each Cell ...\n",
      "Zone KootenayBoundary - Optimal k for LCOE_wind based clustering: 2\n",
      "\n"
     ]
    },
    {
     "name": "stderr",
     "output_type": "stream",
     "text": [
      "2024-12-11 18:38:08,259 - INFO -  Preparing Clusters...\n",
      "2024-12-11 18:38:08,259 - INFO -  Creating cluster for Kitimat-Stikine 1/28\n"
     ]
    },
    {
     "name": "stdout",
     "output_type": "stream",
     "text": [
      ">> Estimating optimal number of Clusters for each region based on the Score for each Cell ...\n",
      "Zone CentralOkanagan - Optimal k for LCOE_wind based clustering: 2\n",
      "\n",
      ">>> K-means clustering Elbow plots generated for each region based on the Score for each Cell ...\n",
      "Optimal-k based on 'LCOE' clustering calculated for 28 zones and saved to cell dataframe.\n",
      "\n",
      ">>> Mapping the Optimal Number of Clusters for Each region ...\n"
     ]
    },
    {
     "name": "stderr",
     "output_type": "stream",
     "text": [
      "2024-12-11 18:38:08,314 - INFO -  Creating cluster for Bulkley-Nechako 2/28\n",
      "2024-12-11 18:38:08,327 - INFO -  Creating cluster for Stikine 3/28\n",
      "2024-12-11 18:38:08,347 - INFO -  Creating cluster for PeaceRiver 4/28\n",
      "2024-12-11 18:38:08,365 - INFO -  Creating cluster for NorthernRockies 5/28\n",
      "2024-12-11 18:38:08,379 - INFO -  Creating cluster for Columbia-Shuswap 6/28\n",
      "2024-12-11 18:38:08,394 - INFO -  Creating cluster for Thompson-Nicola 7/28\n",
      "2024-12-11 18:38:08,412 - INFO -  Creating cluster for Skeena-QueenCharlotte 8/28\n",
      "2024-12-11 18:38:08,492 - INFO -  Creating cluster for FraserValley 9/28\n",
      "2024-12-11 18:38:08,508 - INFO -  Creating cluster for Cariboo 10/28\n",
      "2024-12-11 18:38:08,528 - INFO -  Creating cluster for CentralCoast 11/28\n",
      "2024-12-11 18:38:08,580 - INFO -  Creating cluster for Fraser-FortGeorge 12/28\n",
      "2024-12-11 18:38:08,604 - INFO -  Creating cluster for Capital 13/28\n",
      "2024-12-11 18:38:08,621 - INFO -  Creating cluster for MountWaddington 14/28\n",
      "2024-12-11 18:38:08,663 - INFO -  Creating cluster for SunshineCoast 15/28\n",
      "2024-12-11 18:38:08,681 - INFO -  Creating cluster for EastKootenay 16/28\n",
      "2024-12-11 18:38:08,698 - INFO -  Creating cluster for Nanaimo 17/28\n",
      "2024-12-11 18:38:08,715 - INFO -  Creating cluster for Squamish-Lillooet 18/28\n",
      "2024-12-11 18:38:08,731 - INFO -  Creating cluster for CowichanValley 19/28\n",
      "2024-12-11 18:38:08,748 - INFO -  Creating cluster for GreaterVancouver 20/28\n",
      "2024-12-11 18:38:08,767 - INFO -  Creating cluster for Alberni-Clayoquot 21/28\n",
      "2024-12-11 18:38:08,801 - INFO -  Creating cluster for Comox-Strathcona 22/28\n",
      "2024-12-11 18:38:08,840 - INFO -  Creating cluster for CentralKootenay 23/28\n",
      "2024-12-11 18:38:08,859 - INFO -  Creating cluster for NorthOkanagan 24/28\n",
      "2024-12-11 18:38:08,877 - INFO -  Creating cluster for Okanagan-Similkameen 25/28\n",
      "2024-12-11 18:38:08,895 - INFO -  Creating cluster for PowellRiver 26/28\n",
      "2024-12-11 18:38:08,916 - INFO -  Creating cluster for KootenayBoundary 27/28\n",
      "2024-12-11 18:38:08,934 - INFO -  Creating cluster for CentralOkanagan 28/28\n",
      "2024-12-11 18:38:08,953 - INFO -  Culsters Created and a list generated to map the Cells inside each Cluster...\n",
      "2024-12-11 18:38:09,037 - INFO - >> Preparing representative profiles for 65 clusters\n"
     ]
    },
    {
     "name": "stdout",
     "output_type": "stream",
     "text": [
      ">> Data (GeoDataFrame/DataFrame) saved to data/store/resources_BC.h5 with key 'clusters/wind'\n",
      ">> Data (GeoDataFrame/DataFrame) saved to data/store/resources_BC.h5 with key 'dissolved_indices/wind'\n",
      ">> Data (GeoDataFrame/DataFrame) saved to data/store/resources_BC.h5 with key 'timeseries/clusters/wind'\n",
      ">>> Selecting TOP Sites to for 15 GW Capacity Investment in BC...\n",
      "____________________________________________________________________________________________________\n",
      "Selecting the Top Ranked Sites to invest in 15 GW PV in BC\n",
      "____________________________________________________________________________________________________\n",
      "!!Note: The first cluster originally had 42.1 GW potential capacity.\n",
      "To fit the maximum capacity investment of 15 GW, it has been adjusted. \n",
      "\n",
      "____________________________________________________________\n",
      "     Top Sites(clusters) from wind module saved to data/store/resources_BC.h5 for British Columbia...\n",
      "____________________________________________________________\n",
      "wind clusters exported to :results/linking\n"
     ]
    },
    {
     "name": "stderr",
     "output_type": "stream",
     "text": [
      "2024-12-11 18:38:09,383 - INFO - Preparing Grid Cells...\n",
      "2024-12-11 18:38:09,384 - INFO - >> Loading GADM boundaries (Sub-provincial | level =2) for British Columbia  from local file data/processed_data/regions/gadm41_Canada_L2_BC.geojson.\n",
      "2024-12-11 18:38:09,512 - INFO - Cutout already prepared.\n"
     ]
    },
    {
     "name": "stdout",
     "output_type": "stream",
     "text": [
      "__________________________________________________\n",
      " Initiating solar module for British Columbia...\n",
      "\n",
      "    >>> Memory management remarks:\n",
      "    * After execution, all downloaded data is stored at cutout.path. By default, it is not loaded into memory, but into dask arrays. This keeps the memory consumption extremely low.\n",
      "    * The data is accessible in cutout.data, which is an xarray.Dataset. Querying the cutout gives us some basic information on which data is contained in it.\n",
      "    * For more operations related to cutout, check the tool docs @ https://atlite.readthedocs.io/en/master/examples/create_cutout.html#\n",
      "        \n"
     ]
    },
    {
     "name": "stderr",
     "output_type": "stream",
     "text": [
      "2024-12-11 18:38:10,036 - INFO - >> Loading GADM boundaries (Sub-provincial | level =2) for British Columbia  from local file data/processed_data/regions/gadm41_Canada_L2_BC.geojson.\n",
      "2024-12-11 18:38:10,152 - INFO - Cutout already prepared.\n",
      "2024-12-11 18:38:10,159 - INFO - >> Loading global filters' rasters from GAEZ, trimmed to British Columbia\n",
      "2024-12-11 18:38:10,161 - INFO - >> Raster file 'faocmb_2010.tif' already exists locally.\n",
      "2024-12-11 18:38:10,161 - INFO - >> Raster file 'slpmed05.tif' already exists locally.\n",
      "2024-12-11 18:38:10,161 - INFO - >> Raster file 'exclusion_2017.tif' already exists locally.\n",
      "2024-12-11 18:38:10,162 - INFO - >> Loading GADM boundaries (Sub-provincial | level =2) for British Columbia  from local file data/processed_data/regions/gadm41_Canada_L2_BC.geojson.\n"
     ]
    },
    {
     "name": "stdout",
     "output_type": "stream",
     "text": [
      ">> Updated 'cells' saved to data/store/resources_BC.h5 with key 'cells'\n",
      ">> Updated 'boundary' saved to data/store/resources_BC.h5 with key 'boundary'\n",
      "\n",
      "    >>> Memory management remarks:\n",
      "    * After execution, all downloaded data is stored at cutout.path. By default, it is not loaded into memory, but into dask arrays. This keeps the memory consumption extremely low.\n",
      "    * The data is accessible in cutout.data, which is an xarray.Dataset. Querying the cutout gives us some basic information on which data is contained in it.\n",
      "    * For more operations related to cutout, check the tool docs @ https://atlite.readthedocs.io/en/master/examples/create_cutout.html#\n",
      "        \n"
     ]
    },
    {
     "name": "stderr",
     "output_type": "stream",
     "text": [
      "2024-12-11 18:38:10,575 - INFO - >> Raster plot saved at: vis/misc/faocmb_2010_raster_BC.png\n",
      "2024-12-11 18:38:10,806 - INFO - >> Raster plot saved at: vis/misc/slpmed05_raster_BC.png\n",
      "2024-12-11 18:38:11,202 - INFO - >> Raster plot saved at: vis/misc/exclusion_2017_raster_BC.png\n",
      "2024-12-11 18:38:11,203 - INFO - All required rasters for GAEZ processed and plotted successfully.\n",
      "2024-12-11 18:38:11,204 - INFO -  >>> Loading Land_cover layers from data/downloaded_data/GAEZ/Rasters_in_use/LR/lco/BC_faocmb_2010.tif\n",
      "2024-12-11 18:38:11,205 - INFO -  >>> Loading Terrain_resources layers from data/downloaded_data/GAEZ/Rasters_in_use/LR/ter/BC_slpmed05.tif\n",
      "2024-12-11 18:38:11,205 - INFO -  >>> Loading Exclusion_areas layers from data/downloaded_data/GAEZ/Rasters_in_use/LR/excl/BC_exclusion_2017.tif\n",
      "2024-12-11 18:38:11,205 - INFO - > Loading Canadian Protected and Conserved Areas Database (CPCAD) from locally stored datafile - data/downloaded_data/lands/ProtectedConservedArea_BC.pickle\n",
      "2024-12-11 18:38:11,220 - INFO - >> Loading locally stored OSM data for 'aeroway' from data/downloaded_data/OSM/BC_aeroway.geojson\n",
      "2024-12-11 18:38:11,651 - INFO - Exclusion Container\n",
      " registered rasters: 3 \n",
      " registered geometry collections: 2\n",
      " CRS: 3347 - Resolution: 100\n",
      "2024-12-11 18:38:32,485 - INFO - >> Saving to the local store (as HDF5 file)\n",
      "2024-12-11 18:38:32,505 - INFO - Preparing Timeseries for the Cells...\n",
      "2024-12-11 18:38:32,506 - INFO - >> Loading ERA5 Cutout\n",
      "2024-12-11 18:38:32,506 - INFO - >> Loading GADM boundaries (Sub-provincial | level =2) for British Columbia  from local file data/processed_data/regions/gadm41_Canada_L2_BC.geojson.\n",
      "2024-12-11 18:38:32,621 - INFO - Cutout already prepared.\n"
     ]
    },
    {
     "name": "stdout",
     "output_type": "stream",
     "text": [
      ">> Total ERA5 cells loaded : 2956 [each with .025 deg. (~30km) resolution ]\n",
      ">> Updated 'cells' saved to data/store/resources_BC.h5 with key 'cells'\n",
      "\n",
      "    >>> Memory management remarks:\n",
      "    * After execution, all downloaded data is stored at cutout.path. By default, it is not loaded into memory, but into dask arrays. This keeps the memory consumption extremely low.\n",
      "    * The data is accessible in cutout.data, which is an xarray.Dataset. Querying the cutout gives us some basic information on which data is contained in it.\n",
      "    * For more operations related to cutout, check the tool docs @ https://atlite.readthedocs.io/en/master/examples/create_cutout.html#\n",
      "        \n"
     ]
    },
    {
     "name": "stderr",
     "output_type": "stream",
     "text": [
      "2024-12-11 18:38:33,155 - INFO - >> 2956 Grid Cells from Store Cutout\n",
      "2024-12-11 18:38:33,156 - INFO - Convert and aggregate 'pv'.\n",
      "2024-12-11 18:39:34,570 - INFO - >> Calculating CF mean from the 8760 data points for each Cell ...\n",
      "2024-12-11 18:39:34,602 - INFO - >> Total Grid Cells: 2956, >> Timeseries Generated for: 2956, >> Matched Sites: (8760, 2956)\n",
      "2024-12-11 18:39:34,602 - INFO - >> Calculating 'solar_CF_mean' for 2956 Cells...\n"
     ]
    },
    {
     "name": "stdout",
     "output_type": "stream",
     "text": [
      ">> Updated 'cells' saved to data/store/resources_BC.h5 with key 'cells'\n"
     ]
    },
    {
     "name": "stderr",
     "output_type": "stream",
     "text": [
      "2024-12-11 18:39:35,005 - INFO - >> Loading GADM boundaries (Sub-provincial | level =2) for British Columbia  from local file data/processed_data/regions/gadm41_Canada_L2_BC.geojson.\n",
      "2024-12-11 18:39:35,114 - INFO - Cutout already prepared.\n",
      "2024-12-11 18:39:35,115 - INFO - GWA Cells not configured for solar.\n"
     ]
    },
    {
     "name": "stdout",
     "output_type": "stream",
     "text": [
      ">> Updated 'timeseries/solar' saved to data/store/resources_BC.h5 with key 'timeseries/solar'\n",
      "\n",
      "    >>> Memory management remarks:\n",
      "    * After execution, all downloaded data is stored at cutout.path. By default, it is not loaded into memory, but into dask arrays. This keeps the memory consumption extremely low.\n",
      "    * The data is accessible in cutout.data, which is an xarray.Dataset. Querying the cutout gives us some basic information on which data is contained in it.\n",
      "    * For more operations related to cutout, check the tool docs @ https://atlite.readthedocs.io/en/master/examples/create_cutout.html#\n",
      "        \n"
     ]
    },
    {
     "name": "stderr",
     "output_type": "stream",
     "text": [
      "2024-12-11 18:39:35,352 - INFO - >> Data pulled substations from [source checked: CODERS(https://sesit.dev/api/docs)]\n",
      "2024-12-11 18:39:35,354 - INFO - substations data saved to:\n",
      " data/downloaded_data/CODERS/network/substations.pkl\n",
      "2024-12-11 18:39:35,381 - INFO - >> Loading GADM boundaries (Sub-provincial | level =2) for British Columbia  from local file data/processed_data/regions/gadm41_Canada_L2_BC.geojson.\n",
      "2024-12-11 18:39:35,492 - INFO - Cutout already prepared.\n",
      "2024-12-11 18:39:35,547 - INFO - > Calculating Nearest Grid Nodes for Grid Cells of BC\n"
     ]
    },
    {
     "name": "stdout",
     "output_type": "stream",
     "text": [
      "\n",
      "    >>> Memory management remarks:\n",
      "    * After execution, all downloaded data is stored at cutout.path. By default, it is not loaded into memory, but into dask arrays. This keeps the memory consumption extremely low.\n",
      "    * The data is accessible in cutout.data, which is an xarray.Dataset. Querying the cutout gives us some basic information on which data is contained in it.\n",
      "    * For more operations related to cutout, check the tool docs @ https://atlite.readthedocs.io/en/master/examples/create_cutout.html#\n",
      "        \n"
     ]
    },
    {
     "name": "stderr",
     "output_type": "stream",
     "text": [
      "2024-12-11 18:39:35,715 - INFO - ERA5 Cells Filtered based on Proximity to Tx Nodes \n",
      "Size: 1888\n",
      "\n"
     ]
    },
    {
     "name": "stdout",
     "output_type": "stream",
     "text": [
      ">> Updated 'cells' saved to data/store/resources_BC.h5 with key 'cells'\n",
      ">> Updated 'substations' saved to data/store/resources_BC.h5 with key 'substations'\n",
      ">> Calculating Score for each Cell...\n",
      ">> Updated 'cells' saved to data/store/resources_BC.h5 with key 'cells'\n",
      ">> Calculating Score for each Cell...\n"
     ]
    },
    {
     "name": "stderr",
     "output_type": "stream",
     "text": [
      "2024-12-11 18:39:35,962 - INFO - >> Preparing spatial clusters for 2956 Cells\n"
     ]
    },
    {
     "name": "stdout",
     "output_type": "stream",
     "text": [
      ">> Updated 'cells' saved to data/store/resources_BC.h5 with key 'cells'\n",
      ">> Estimating optimal number of Clusters for each region based on the Score for each Cell ...\n",
      "Zone Kitimat-Stikine - Optimal k for LCOE_solar based clustering: 2\n",
      "\n",
      ">> Estimating optimal number of Clusters for each region based on the Score for each Cell ...\n",
      "Zone Stikine - Optimal k for LCOE_solar based clustering: 2\n",
      "\n",
      ">> Estimating optimal number of Clusters for each region based on the Score for each Cell ...\n",
      "Zone Bulkley-Nechako - Optimal k for LCOE_solar based clustering: 2\n",
      "\n",
      ">> Estimating optimal number of Clusters for each region based on the Score for each Cell ...\n",
      "Zone Cariboo - Optimal k for LCOE_solar based clustering: 2\n",
      "\n",
      ">> Estimating optimal number of Clusters for each region based on the Score for each Cell ...\n",
      "Zone Thompson-Nicola - Optimal k for LCOE_solar based clustering: 2\n",
      "\n",
      ">> Estimating optimal number of Clusters for each region based on the Score for each Cell ...\n",
      "Zone Fraser-FortGeorge - Optimal k for LCOE_solar based clustering: 2\n",
      "\n",
      ">> Estimating optimal number of Clusters for each region based on the Score for each Cell ...\n",
      "Zone NorthernRockies - Optimal k for LCOE_solar based clustering: 2\n",
      "\n",
      ">> Estimating optimal number of Clusters for each region based on the Score for each Cell ...\n",
      "Zone Skeena-QueenCharlotte - Optimal k for LCOE_solar based clustering: 2\n",
      "\n",
      ">> Estimating optimal number of Clusters for each region based on the Score for each Cell ...\n",
      "Zone PeaceRiver - Optimal k for LCOE_solar based clustering: 2\n",
      "\n",
      ">> Estimating optimal number of Clusters for each region based on the Score for each Cell ...\n",
      "Zone MountWaddington - Optimal k for LCOE_solar based clustering: 3\n",
      "\n",
      ">> Estimating optimal number of Clusters for each region based on the Score for each Cell ...\n",
      "Zone EastKootenay - Optimal k for LCOE_solar based clustering: 3\n",
      "\n",
      ">> Estimating optimal number of Clusters for each region based on the Score for each Cell ...\n",
      "Zone CentralCoast - Optimal k for LCOE_solar based clustering: 3\n",
      "\n",
      ">> Estimating optimal number of Clusters for each region based on the Score for each Cell ...\n",
      "Zone Capital - Optimal k for LCOE_solar based clustering: 2\n",
      "\n",
      ">> Estimating optimal number of Clusters for each region based on the Score for each Cell ...\n",
      "Zone Columbia-Shuswap - Optimal k for LCOE_solar based clustering: 2\n",
      "\n",
      ">> Estimating optimal number of Clusters for each region based on the Score for each Cell ...\n",
      "Zone Comox-Strathcona - Optimal k for LCOE_solar based clustering: 2\n",
      "\n",
      ">> Estimating optimal number of Clusters for each region based on the Score for each Cell ...\n",
      "Zone Squamish-Lillooet - Optimal k for LCOE_solar based clustering: 2\n",
      "\n",
      ">> Estimating optimal number of Clusters for each region based on the Score for each Cell ...\n",
      "Zone PowellRiver - Optimal k for LCOE_solar based clustering: 2\n",
      "\n",
      ">> Estimating optimal number of Clusters for each region based on the Score for each Cell ...\n",
      "Zone FraserValley - Optimal k for LCOE_solar based clustering: 2\n",
      "\n",
      ">> Estimating optimal number of Clusters for each region based on the Score for each Cell ...\n",
      "Zone SunshineCoast - Optimal k for LCOE_solar based clustering: 2\n",
      "\n",
      ">> Estimating optimal number of Clusters for each region based on the Score for each Cell ...\n",
      "Zone Nanaimo - Optimal k for LCOE_solar based clustering: 2\n",
      "\n",
      ">> Estimating optimal number of Clusters for each region based on the Score for each Cell ...\n",
      "Zone Alberni-Clayoquot - Optimal k for LCOE_solar based clustering: 2\n",
      "\n",
      ">> Estimating optimal number of Clusters for each region based on the Score for each Cell ...\n",
      "Zone GreaterVancouver - Optimal k for LCOE_solar based clustering: 2\n",
      "\n",
      ">> Estimating optimal number of Clusters for each region based on the Score for each Cell ...\n",
      "Zone CowichanValley - Optimal k for LCOE_solar based clustering: 2\n",
      "\n",
      ">> Estimating optimal number of Clusters for each region based on the Score for each Cell ...\n",
      "Zone CentralKootenay - Optimal k for LCOE_solar based clustering: 2\n",
      "\n",
      ">> Estimating optimal number of Clusters for each region based on the Score for each Cell ...\n",
      "Zone Okanagan-Similkameen - Optimal k for LCOE_solar based clustering: 2\n",
      "\n",
      ">> Estimating optimal number of Clusters for each region based on the Score for each Cell ...\n",
      "Zone KootenayBoundary - Optimal k for LCOE_solar based clustering: 4\n",
      "\n",
      ">> Estimating optimal number of Clusters for each region based on the Score for each Cell ...\n",
      "Zone NorthOkanagan - Optimal k for LCOE_solar based clustering: 4\n",
      "\n",
      ">> Estimating optimal number of Clusters for each region based on the Score for each Cell ...\n"
     ]
    },
    {
     "name": "stderr",
     "output_type": "stream",
     "text": [
      "2024-12-11 18:39:39,674 - INFO -  Preparing Clusters...\n",
      "2024-12-11 18:39:39,674 - INFO -  Creating cluster for Kitimat-Stikine 1/28\n",
      "2024-12-11 18:39:39,749 - INFO -  Creating cluster for Stikine 2/28\n",
      "2024-12-11 18:39:39,766 - INFO -  Creating cluster for Bulkley-Nechako 3/28\n",
      "2024-12-11 18:39:39,779 - INFO -  Creating cluster for Cariboo 4/28\n"
     ]
    },
    {
     "name": "stdout",
     "output_type": "stream",
     "text": [
      "Zone CentralOkanagan - Optimal k for LCOE_solar based clustering: 4\n",
      "\n",
      ">>> K-means clustering Elbow plots generated for each region based on the Score for each Cell ...\n",
      "Optimal-k based on 'LCOE' clustering calculated for 28 zones and saved to cell dataframe.\n",
      "\n",
      ">>> Mapping the Optimal Number of Clusters for Each region ...\n"
     ]
    },
    {
     "name": "stderr",
     "output_type": "stream",
     "text": [
      "2024-12-11 18:39:39,794 - INFO -  Creating cluster for Thompson-Nicola 5/28\n",
      "2024-12-11 18:39:39,809 - INFO -  Creating cluster for Fraser-FortGeorge 6/28\n",
      "2024-12-11 18:39:39,823 - INFO -  Creating cluster for NorthernRockies 7/28\n",
      "2024-12-11 18:39:39,837 - INFO -  Creating cluster for Skeena-QueenCharlotte 8/28\n",
      "2024-12-11 18:39:39,915 - INFO -  Creating cluster for PeaceRiver 9/28\n",
      "2024-12-11 18:39:39,934 - INFO -  Creating cluster for MountWaddington 10/28\n",
      "2024-12-11 18:39:39,994 - INFO -  Creating cluster for EastKootenay 11/28\n",
      "2024-12-11 18:39:40,010 - INFO -  Creating cluster for CentralCoast 12/28\n",
      "2024-12-11 18:39:40,060 - INFO -  Creating cluster for Capital 13/28\n",
      "2024-12-11 18:39:40,074 - INFO -  Creating cluster for Columbia-Shuswap 14/28\n",
      "2024-12-11 18:39:40,090 - INFO -  Creating cluster for Comox-Strathcona 15/28\n",
      "2024-12-11 18:39:40,128 - INFO -  Creating cluster for Squamish-Lillooet 16/28\n",
      "2024-12-11 18:39:40,143 - INFO -  Creating cluster for PowellRiver 17/28\n",
      "2024-12-11 18:39:40,160 - INFO -  Creating cluster for FraserValley 18/28\n",
      "2024-12-11 18:39:40,177 - INFO -  Creating cluster for SunshineCoast 19/28\n",
      "2024-12-11 18:39:40,195 - INFO -  Creating cluster for Nanaimo 20/28\n",
      "2024-12-11 18:39:40,212 - INFO -  Creating cluster for Alberni-Clayoquot 21/28\n",
      "2024-12-11 18:39:40,234 - INFO -  Creating cluster for GreaterVancouver 22/28\n",
      "2024-12-11 18:39:40,252 - INFO -  Creating cluster for CowichanValley 23/28\n",
      "2024-12-11 18:39:40,271 - INFO -  Creating cluster for CentralKootenay 24/28\n",
      "2024-12-11 18:39:40,290 - INFO -  Creating cluster for Okanagan-Similkameen 25/28\n",
      "2024-12-11 18:39:40,307 - INFO -  Creating cluster for KootenayBoundary 26/28\n",
      "2024-12-11 18:39:40,329 - INFO -  Creating cluster for NorthOkanagan 27/28\n",
      "2024-12-11 18:39:40,352 - INFO -  Creating cluster for CentralOkanagan 28/28\n",
      "2024-12-11 18:39:40,374 - INFO -  Culsters Created and a list generated to map the Cells inside each Cluster...\n",
      "2024-12-11 18:39:40,462 - INFO - >> Preparing representative profiles for 65 clusters\n"
     ]
    },
    {
     "name": "stdout",
     "output_type": "stream",
     "text": [
      ">> Data (GeoDataFrame/DataFrame) saved to data/store/resources_BC.h5 with key 'clusters/solar'\n",
      ">> Data (GeoDataFrame/DataFrame) saved to data/store/resources_BC.h5 with key 'dissolved_indices/solar'\n",
      ">> Data (GeoDataFrame/DataFrame) saved to data/store/resources_BC.h5 with key 'timeseries/clusters/solar'\n",
      ">> Updated 'units' saved to data/store/resources_BC.h5 with key 'units'\n"
     ]
    },
    {
     "name": "stderr",
     "output_type": "stream",
     "text": [
      "2024-12-11 18:39:40,664 - INFO - >> Units dictionary created and saved to 'data/units_dictionary.xlsx'\n",
      "2024-12-11 18:39:40,773 - INFO - >> Preparing spatial clusters for 2956 Cells\n"
     ]
    },
    {
     "name": "stdout",
     "output_type": "stream",
     "text": [
      ">> Calculating Score for each Cell...\n",
      ">> Updated 'cells' saved to data/store/resources_BC.h5 with key 'cells'\n",
      ">> Estimating optimal number of Clusters for each region based on the Score for each Cell ...\n",
      "Zone Kitimat-Stikine - Optimal k for LCOE_solar based clustering: 2\n",
      "\n",
      ">> Estimating optimal number of Clusters for each region based on the Score for each Cell ...\n",
      "Zone Stikine - Optimal k for LCOE_solar based clustering: 2\n",
      "\n",
      ">> Estimating optimal number of Clusters for each region based on the Score for each Cell ...\n",
      "Zone Bulkley-Nechako - Optimal k for LCOE_solar based clustering: 2\n",
      "\n",
      ">> Estimating optimal number of Clusters for each region based on the Score for each Cell ...\n",
      "Zone Cariboo - Optimal k for LCOE_solar based clustering: 2\n",
      "\n",
      ">> Estimating optimal number of Clusters for each region based on the Score for each Cell ...\n",
      "Zone Thompson-Nicola - Optimal k for LCOE_solar based clustering: 2\n",
      "\n",
      ">> Estimating optimal number of Clusters for each region based on the Score for each Cell ...\n",
      "Zone Fraser-FortGeorge - Optimal k for LCOE_solar based clustering: 2\n",
      "\n",
      ">> Estimating optimal number of Clusters for each region based on the Score for each Cell ...\n",
      "Zone NorthernRockies - Optimal k for LCOE_solar based clustering: 2\n",
      "\n",
      ">> Estimating optimal number of Clusters for each region based on the Score for each Cell ...\n",
      "Zone Skeena-QueenCharlotte - Optimal k for LCOE_solar based clustering: 2\n",
      "\n",
      ">> Estimating optimal number of Clusters for each region based on the Score for each Cell ...\n",
      "Zone PeaceRiver - Optimal k for LCOE_solar based clustering: 2\n",
      "\n",
      ">> Estimating optimal number of Clusters for each region based on the Score for each Cell ...\n",
      "Zone MountWaddington - Optimal k for LCOE_solar based clustering: 3\n",
      "\n",
      ">> Estimating optimal number of Clusters for each region based on the Score for each Cell ...\n",
      "Zone EastKootenay - Optimal k for LCOE_solar based clustering: 3\n",
      "\n",
      ">> Estimating optimal number of Clusters for each region based on the Score for each Cell ...\n",
      "Zone CentralCoast - Optimal k for LCOE_solar based clustering: 3\n",
      "\n",
      ">> Estimating optimal number of Clusters for each region based on the Score for each Cell ...\n",
      "Zone Capital - Optimal k for LCOE_solar based clustering: 2\n",
      "\n",
      ">> Estimating optimal number of Clusters for each region based on the Score for each Cell ...\n",
      "Zone Columbia-Shuswap - Optimal k for LCOE_solar based clustering: 2\n",
      "\n",
      ">> Estimating optimal number of Clusters for each region based on the Score for each Cell ...\n",
      "Zone Comox-Strathcona - Optimal k for LCOE_solar based clustering: 2\n",
      "\n",
      ">> Estimating optimal number of Clusters for each region based on the Score for each Cell ...\n",
      "Zone Squamish-Lillooet - Optimal k for LCOE_solar based clustering: 2\n",
      "\n",
      ">> Estimating optimal number of Clusters for each region based on the Score for each Cell ...\n",
      "Zone PowellRiver - Optimal k for LCOE_solar based clustering: 2\n",
      "\n",
      ">> Estimating optimal number of Clusters for each region based on the Score for each Cell ...\n",
      "Zone FraserValley - Optimal k for LCOE_solar based clustering: 2\n",
      "\n",
      ">> Estimating optimal number of Clusters for each region based on the Score for each Cell ...\n",
      "Zone SunshineCoast - Optimal k for LCOE_solar based clustering: 2\n",
      "\n",
      ">> Estimating optimal number of Clusters for each region based on the Score for each Cell ...\n",
      "Zone Nanaimo - Optimal k for LCOE_solar based clustering: 2\n",
      "\n",
      ">> Estimating optimal number of Clusters for each region based on the Score for each Cell ...\n",
      "Zone Alberni-Clayoquot - Optimal k for LCOE_solar based clustering: 2\n",
      "\n",
      ">> Estimating optimal number of Clusters for each region based on the Score for each Cell ...\n",
      "Zone GreaterVancouver - Optimal k for LCOE_solar based clustering: 2\n",
      "\n",
      ">> Estimating optimal number of Clusters for each region based on the Score for each Cell ...\n",
      "Zone CowichanValley - Optimal k for LCOE_solar based clustering: 2\n",
      "\n",
      ">> Estimating optimal number of Clusters for each region based on the Score for each Cell ...\n",
      "Zone CentralKootenay - Optimal k for LCOE_solar based clustering: 2\n",
      "\n",
      ">> Estimating optimal number of Clusters for each region based on the Score for each Cell ...\n",
      "Zone Okanagan-Similkameen - Optimal k for LCOE_solar based clustering: 2\n",
      "\n",
      ">> Estimating optimal number of Clusters for each region based on the Score for each Cell ...\n",
      "Zone KootenayBoundary - Optimal k for LCOE_solar based clustering: 4\n",
      "\n",
      ">> Estimating optimal number of Clusters for each region based on the Score for each Cell ...\n",
      "Zone NorthOkanagan - Optimal k for LCOE_solar based clustering: 4\n",
      "\n",
      ">> Estimating optimal number of Clusters for each region based on the Score for each Cell ...\n",
      "Zone CentralOkanagan - Optimal k for LCOE_solar based clustering: 4\n",
      "\n",
      ">>> K-means clustering Elbow plots generated for each region based on the Score for each Cell ...\n",
      "Optimal-k based on 'LCOE' clustering calculated for 28 zones and saved to cell dataframe.\n",
      "\n",
      ">>> Mapping the Optimal Number of Clusters for Each region ...\n"
     ]
    },
    {
     "name": "stderr",
     "output_type": "stream",
     "text": [
      "2024-12-11 18:39:44,472 - INFO -  Preparing Clusters...\n",
      "2024-12-11 18:39:44,473 - INFO -  Creating cluster for Kitimat-Stikine 1/28\n",
      "2024-12-11 18:39:44,547 - INFO -  Creating cluster for Stikine 2/28\n",
      "2024-12-11 18:39:44,564 - INFO -  Creating cluster for Bulkley-Nechako 3/28\n",
      "2024-12-11 18:39:44,578 - INFO -  Creating cluster for Cariboo 4/28\n",
      "2024-12-11 18:39:44,593 - INFO -  Creating cluster for Thompson-Nicola 5/28\n",
      "2024-12-11 18:39:44,607 - INFO -  Creating cluster for Fraser-FortGeorge 6/28\n",
      "2024-12-11 18:39:44,622 - INFO -  Creating cluster for NorthernRockies 7/28\n",
      "2024-12-11 18:39:44,636 - INFO -  Creating cluster for Skeena-QueenCharlotte 8/28\n",
      "2024-12-11 18:39:44,715 - INFO -  Creating cluster for PeaceRiver 9/28\n",
      "2024-12-11 18:39:44,735 - INFO -  Creating cluster for MountWaddington 10/28\n",
      "2024-12-11 18:39:44,796 - INFO -  Creating cluster for EastKootenay 11/28\n",
      "2024-12-11 18:39:44,813 - INFO -  Creating cluster for CentralCoast 12/28\n",
      "2024-12-11 18:39:44,864 - INFO -  Creating cluster for Capital 13/28\n",
      "2024-12-11 18:39:44,879 - INFO -  Creating cluster for Columbia-Shuswap 14/28\n",
      "2024-12-11 18:39:44,895 - INFO -  Creating cluster for Comox-Strathcona 15/28\n",
      "2024-12-11 18:39:44,936 - INFO -  Creating cluster for Squamish-Lillooet 16/28\n",
      "2024-12-11 18:39:44,951 - INFO -  Creating cluster for PowellRiver 17/28\n",
      "2024-12-11 18:39:44,969 - INFO -  Creating cluster for FraserValley 18/28\n",
      "2024-12-11 18:39:44,986 - INFO -  Creating cluster for SunshineCoast 19/28\n",
      "2024-12-11 18:39:45,006 - INFO -  Creating cluster for Nanaimo 20/28\n",
      "2024-12-11 18:39:45,024 - INFO -  Creating cluster for Alberni-Clayoquot 21/28\n",
      "2024-12-11 18:39:45,046 - INFO -  Creating cluster for GreaterVancouver 22/28\n",
      "2024-12-11 18:39:45,065 - INFO -  Creating cluster for CowichanValley 23/28\n",
      "2024-12-11 18:39:45,084 - INFO -  Creating cluster for CentralKootenay 24/28\n",
      "2024-12-11 18:39:45,104 - INFO -  Creating cluster for Okanagan-Similkameen 25/28\n",
      "2024-12-11 18:39:45,122 - INFO -  Creating cluster for KootenayBoundary 26/28\n",
      "2024-12-11 18:39:45,144 - INFO -  Creating cluster for NorthOkanagan 27/28\n",
      "2024-12-11 18:39:45,168 - INFO -  Creating cluster for CentralOkanagan 28/28\n",
      "2024-12-11 18:39:45,190 - INFO -  Culsters Created and a list generated to map the Cells inside each Cluster...\n",
      "2024-12-11 18:39:45,278 - INFO - >> Preparing representative profiles for 65 clusters\n"
     ]
    },
    {
     "name": "stdout",
     "output_type": "stream",
     "text": [
      ">> Data (GeoDataFrame/DataFrame) saved to data/store/resources_BC.h5 with key 'clusters/solar'\n",
      ">> Data (GeoDataFrame/DataFrame) saved to data/store/resources_BC.h5 with key 'dissolved_indices/solar'\n",
      ">> Data (GeoDataFrame/DataFrame) saved to data/store/resources_BC.h5 with key 'timeseries/clusters/solar'\n",
      ">>> Selecting TOP Sites to for 5 GW Capacity Investment in BC...\n",
      "____________________________________________________________________________________________________\n",
      "Selecting the Top Ranked Sites to invest in 5 GW PV in BC\n",
      "____________________________________________________________________________________________________\n",
      "!!Note: The first cluster originally had 9.02 GW potential capacity.\n",
      "To fit the maximum capacity investment of 5 GW, it has been adjusted. \n",
      "\n",
      "____________________________________________________________\n",
      "     Top Sites(clusters) from solar module saved to data/store/resources_BC.h5 for British Columbia...\n",
      "____________________________________________________________\n",
      "solar clusters exported to :results/linking\n"
     ]
    }
   ],
   "source": [
    "# Iterate over provinces for both solar and wind resources\n",
    "resource_types = ['wind','solar'] \n",
    "provinces=['BC']  #'AB','SK','ON','NS'\n",
    "for province_code in provinces:\n",
    "    for resource_type in resource_types:\n",
    "        required_args = {\n",
    "            \"config_file_path\": 'config/config.yaml',\n",
    "            \"province_short_code\": province_code,\n",
    "            \"resource_type\": resource_type\n",
    "        }\n",
    "        \n",
    "        # Create an instance of Resources and execute the module\n",
    "        resources = res_module.Resources(**required_args)\n",
    "        resources.execute_module(use_pypsa_buses=False)"
   ]
  },
  {
   "cell_type": "markdown",
   "metadata": {},
   "source": []
  }
 ],
 "metadata": {
  "kernelspec": {
   "display_name": "linkingtool",
   "language": "python",
   "name": "python3"
  },
  "language_info": {
   "codemirror_mode": {
    "name": "ipython",
    "version": 3
   },
   "file_extension": ".py",
   "mimetype": "text/x-python",
   "name": "python",
   "nbconvert_exporter": "python",
   "pygments_lexer": "ipython3",
   "version": "3.12.7"
  }
 },
 "nbformat": 4,
 "nbformat_minor": 2
}
