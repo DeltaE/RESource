{
 "cells": [
  {
   "cell_type": "code",
   "execution_count": 1,
   "metadata": {},
   "outputs": [],
   "source": [
    "import linkingtool.linking_utility as utils\n",
    "import pandas as pd\n",
    "from shapely.geometry import box\n",
    "import geopandas as gpd"
   ]
  },
  {
   "cell_type": "code",
   "execution_count": null,
   "metadata": {},
   "outputs": [],
   "source": [
    "from pathlib import Path\n",
    "\n",
    "# URL and base save path\n",
    "url = 'https://data.worldpop.org/GIS/Population_Density/Global_2000_2020_1km_UNadj/2020/CAN/can_pd_2020_1km_UNadj_ASCII_XYZ.zip'\n",
    "base_save_path = 'data/downloaded_data/WorldPop/'\n",
    "\n",
    "# Extract the filename from the URL\n",
    "filename = Path(url).name\n",
    "\n",
    "# Construct the full save path by combining base path and extracted filename\n",
    "save_to = Path(base_save_path) / filename\n",
    "\n",
    "# Download the file using the utils.download_data function\n",
    "utils.download_data(url, save_to)\n",
    "print(f\"File saved to: {save_to}\")\n"
   ]
  },
  {
   "cell_type": "code",
   "execution_count": 3,
   "metadata": {},
   "outputs": [],
   "source": [
    "can_pop=pd.read_csv(save_to)\n",
    "df=can_pop"
   ]
  },
  {
   "cell_type": "code",
   "execution_count": 4,
   "metadata": {},
   "outputs": [],
   "source": [
    "gadm_regions_gdf=gpd.read_file('data/processed_data/regions/gadm41_L2_BC.geojson')"
   ]
  },
  {
   "cell_type": "code",
   "execution_count": 36,
   "metadata": {},
   "outputs": [],
   "source": [
    "df=can_pop"
   ]
  },
  {
   "cell_type": "code",
   "execution_count": 37,
   "metadata": {},
   "outputs": [],
   "source": [
    "import pandas as pd\n",
    "import geopandas as gpd\n",
    "from shapely.geometry import Point\n",
    "\n",
    "# Step 1: Create point geometries from X and Y coordinates\n",
    "df['geometry'] = df.apply(lambda row: Point(row['X'], row['Y']), axis=1)\n",
    "\n",
    "# Step 2: Convert to GeoDataFrame with CRS 4326\n",
    "gdf = gpd.GeoDataFrame(df, geometry='geometry', crs=\"EPSG:4326\")\n"
   ]
  },
  {
   "cell_type": "code",
   "execution_count": 38,
   "metadata": {},
   "outputs": [],
   "source": [
    "pop_grid=gdf.overlay(gadm_regions_gdf, how='intersection', keep_geom_type=True)"
   ]
  },
  {
   "cell_type": "code",
   "execution_count": 39,
   "metadata": {},
   "outputs": [],
   "source": [
    "pop_grid.to_pickle('data/downloaded_data/WorldPop/pop_bc.pkl')"
   ]
  },
  {
   "cell_type": "code",
   "execution_count": 40,
   "metadata": {},
   "outputs": [
    {
     "data": {
      "text/plain": [
       "(1894870, 7)"
      ]
     },
     "execution_count": 40,
     "metadata": {},
     "output_type": "execute_result"
    }
   ],
   "source": [
    "pop_grid.shape"
   ]
  },
  {
   "cell_type": "code",
   "execution_count": 41,
   "metadata": {},
   "outputs": [
    {
     "data": {
      "text/html": [
       "<div>\n",
       "<style scoped>\n",
       "    .dataframe tbody tr th:only-of-type {\n",
       "        vertical-align: middle;\n",
       "    }\n",
       "\n",
       "    .dataframe tbody tr th {\n",
       "        vertical-align: top;\n",
       "    }\n",
       "\n",
       "    .dataframe thead th {\n",
       "        text-align: right;\n",
       "    }\n",
       "</style>\n",
       "<table border=\"1\" class=\"dataframe\">\n",
       "  <thead>\n",
       "    <tr style=\"text-align: right;\">\n",
       "      <th></th>\n",
       "      <th>X</th>\n",
       "      <th>Y</th>\n",
       "      <th>Z</th>\n",
       "      <th>Country</th>\n",
       "      <th>Province</th>\n",
       "      <th>Region</th>\n",
       "      <th>geometry</th>\n",
       "    </tr>\n",
       "  </thead>\n",
       "  <tbody>\n",
       "    <tr>\n",
       "      <th>0</th>\n",
       "      <td>-139.013749</td>\n",
       "      <td>59.995417</td>\n",
       "      <td>0.000114</td>\n",
       "      <td>Canada</td>\n",
       "      <td>British Columbia</td>\n",
       "      <td>Stikine</td>\n",
       "      <td>POINT (-139.01375 59.99542)</td>\n",
       "    </tr>\n",
       "    <tr>\n",
       "      <th>1</th>\n",
       "      <td>-139.005416</td>\n",
       "      <td>59.995417</td>\n",
       "      <td>0.000129</td>\n",
       "      <td>Canada</td>\n",
       "      <td>British Columbia</td>\n",
       "      <td>Stikine</td>\n",
       "      <td>POINT (-139.00542 59.99542)</td>\n",
       "    </tr>\n",
       "    <tr>\n",
       "      <th>2</th>\n",
       "      <td>-138.997083</td>\n",
       "      <td>59.995417</td>\n",
       "      <td>0.000197</td>\n",
       "      <td>Canada</td>\n",
       "      <td>British Columbia</td>\n",
       "      <td>Stikine</td>\n",
       "      <td>POINT (-138.99708 59.99542)</td>\n",
       "    </tr>\n",
       "    <tr>\n",
       "      <th>3</th>\n",
       "      <td>-138.988749</td>\n",
       "      <td>59.995417</td>\n",
       "      <td>0.000211</td>\n",
       "      <td>Canada</td>\n",
       "      <td>British Columbia</td>\n",
       "      <td>Stikine</td>\n",
       "      <td>POINT (-138.98875 59.99542)</td>\n",
       "    </tr>\n",
       "    <tr>\n",
       "      <th>4</th>\n",
       "      <td>-138.980416</td>\n",
       "      <td>59.995417</td>\n",
       "      <td>0.000259</td>\n",
       "      <td>Canada</td>\n",
       "      <td>British Columbia</td>\n",
       "      <td>Stikine</td>\n",
       "      <td>POINT (-138.98042 59.99542)</td>\n",
       "    </tr>\n",
       "    <tr>\n",
       "      <th>5</th>\n",
       "      <td>-138.972083</td>\n",
       "      <td>59.995417</td>\n",
       "      <td>0.000247</td>\n",
       "      <td>Canada</td>\n",
       "      <td>British Columbia</td>\n",
       "      <td>Stikine</td>\n",
       "      <td>POINT (-138.97208 59.99542)</td>\n",
       "    </tr>\n",
       "    <tr>\n",
       "      <th>6</th>\n",
       "      <td>-138.963749</td>\n",
       "      <td>59.995417</td>\n",
       "      <td>0.000181</td>\n",
       "      <td>Canada</td>\n",
       "      <td>British Columbia</td>\n",
       "      <td>Stikine</td>\n",
       "      <td>POINT (-138.96375 59.99542)</td>\n",
       "    </tr>\n",
       "    <tr>\n",
       "      <th>7</th>\n",
       "      <td>-138.955416</td>\n",
       "      <td>59.995417</td>\n",
       "      <td>0.000144</td>\n",
       "      <td>Canada</td>\n",
       "      <td>British Columbia</td>\n",
       "      <td>Stikine</td>\n",
       "      <td>POINT (-138.95542 59.99542)</td>\n",
       "    </tr>\n",
       "    <tr>\n",
       "      <th>8</th>\n",
       "      <td>-138.947083</td>\n",
       "      <td>59.995417</td>\n",
       "      <td>0.000140</td>\n",
       "      <td>Canada</td>\n",
       "      <td>British Columbia</td>\n",
       "      <td>Stikine</td>\n",
       "      <td>POINT (-138.94708 59.99542)</td>\n",
       "    </tr>\n",
       "    <tr>\n",
       "      <th>9</th>\n",
       "      <td>-138.938749</td>\n",
       "      <td>59.995417</td>\n",
       "      <td>0.000120</td>\n",
       "      <td>Canada</td>\n",
       "      <td>British Columbia</td>\n",
       "      <td>Stikine</td>\n",
       "      <td>POINT (-138.93875 59.99542)</td>\n",
       "    </tr>\n",
       "  </tbody>\n",
       "</table>\n",
       "</div>"
      ],
      "text/plain": [
       "            X          Y         Z Country          Province   Region  \\\n",
       "0 -139.013749  59.995417  0.000114  Canada  British Columbia  Stikine   \n",
       "1 -139.005416  59.995417  0.000129  Canada  British Columbia  Stikine   \n",
       "2 -138.997083  59.995417  0.000197  Canada  British Columbia  Stikine   \n",
       "3 -138.988749  59.995417  0.000211  Canada  British Columbia  Stikine   \n",
       "4 -138.980416  59.995417  0.000259  Canada  British Columbia  Stikine   \n",
       "5 -138.972083  59.995417  0.000247  Canada  British Columbia  Stikine   \n",
       "6 -138.963749  59.995417  0.000181  Canada  British Columbia  Stikine   \n",
       "7 -138.955416  59.995417  0.000144  Canada  British Columbia  Stikine   \n",
       "8 -138.947083  59.995417  0.000140  Canada  British Columbia  Stikine   \n",
       "9 -138.938749  59.995417  0.000120  Canada  British Columbia  Stikine   \n",
       "\n",
       "                      geometry  \n",
       "0  POINT (-139.01375 59.99542)  \n",
       "1  POINT (-139.00542 59.99542)  \n",
       "2  POINT (-138.99708 59.99542)  \n",
       "3  POINT (-138.98875 59.99542)  \n",
       "4  POINT (-138.98042 59.99542)  \n",
       "5  POINT (-138.97208 59.99542)  \n",
       "6  POINT (-138.96375 59.99542)  \n",
       "7  POINT (-138.95542 59.99542)  \n",
       "8  POINT (-138.94708 59.99542)  \n",
       "9  POINT (-138.93875 59.99542)  "
      ]
     },
     "execution_count": 41,
     "metadata": {},
     "output_type": "execute_result"
    }
   ],
   "source": [
    "pop_grid.head(10)"
   ]
  },
  {
   "cell_type": "code",
   "execution_count": 1,
   "metadata": {},
   "outputs": [
    {
     "ename": "NameError",
     "evalue": "name 'pop_grid' is not defined",
     "output_type": "error",
     "traceback": [
      "\u001b[0;31m---------------------------------------------------------------------------\u001b[0m",
      "\u001b[0;31mNameError\u001b[0m                                 Traceback (most recent call last)",
      "Cell \u001b[0;32mIn[1], line 1\u001b[0m\n\u001b[0;32m----> 1\u001b[0m \u001b[43mpop_grid\u001b[49m\n",
      "\u001b[0;31mNameError\u001b[0m: name 'pop_grid' is not defined"
     ]
    }
   ],
   "source": [
    "pop_grid"
   ]
  },
  {
   "cell_type": "code",
   "execution_count": 42,
   "metadata": {},
   "outputs": [
    {
     "data": {
      "text/plain": [
       "<Axes: >"
      ]
     },
     "execution_count": 42,
     "metadata": {},
     "output_type": "execute_result"
    },
    {
     "data": {
      "image/png": "[encoded data removed]",
      "text/plain": [
       "<Figure size 640x480 with 1 Axes>"
      ]
     },
     "metadata": {},
     "output_type": "display_data"
    }
   ],
   "source": [
    "pop_grid.plot('Z')"
   ]
  }
 ],
 "metadata": {
  "kernelspec": {
   "display_name": "linkingtool",
   "language": "python",
   "name": "python3"
  },
  "language_info": {
   "codemirror_mode": {
    "name": "ipython",
    "version": 3
   },
   "file_extension": ".py",
   "mimetype": "text/x-python",
   "name": "python",
   "nbconvert_exporter": "python",
   "pygments_lexer": "ipython3",
   "version": "3.12.7"
  }
 },
 "nbformat": 4,
 "nbformat_minor": 2
}
