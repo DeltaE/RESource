{
 "cells": [
  {
   "cell_type": "code",
   "execution_count": null,
   "metadata": {},
   "outputs": [],
   "source": [
    "import workflow.scripts.RESources as RES\n",
    "import pandas as pd\n",
    "import geopandas as gpd"
   ]
  },
  {
   "cell_type": "code",
   "execution_count": null,
   "metadata": {},
   "outputs": [],
   "source": [
    "from RES.hdf5_handler import DataHandler\n",
    "import RES.visuals as vis\n",
    "store=f\"data/store/resources_AL.h5\"\n",
    "datahandler=DataHandler(store)\n",
    "cells=datahandler.from_store('cells')\n",
    "boundary=datahandler.from_store('boundary')"
   ]
  },
  {
   "cell_type": "markdown",
   "metadata": {},
   "source": [
    "# Set Required Args to Activate Modules"
   ]
  },
  {
   "cell_type": "code",
   "execution_count": null,
   "metadata": {},
   "outputs": [],
   "source": [
    "import workflow.scripts.RESources as RES\n",
    "import pandas as pd\n",
    "import geopandas as gpd\n",
    "\n",
    "# Iterate over provinces for both solar and wind resources\n",
    "resource_types = ['wind','solar']  #\n",
    "countries=['AL'] \n",
    "for country in countries:\n",
    "    for resource_type in resource_types:\n",
    "        required_args = {\n",
    "            \"config_file_path\": 'config/config.yaml',\n",
    "            \"region_short_code\": country,\n",
    "            \"resource_type\": resource_type\n",
    "        }\n",
    "        \n",
    "        # Create an instance of Resources and execute the module\n",
    "        RES_module = RES.RESources_builder(**required_args)\n",
    "        # RES_module.build(select_top_sites=True,\n",
    "        #                  use_pypsa_buses=False)\n",
    "        "
   ]
  },
  {
   "cell_type": "code",
   "execution_count": null,
   "metadata": {},
   "outputs": [],
   "source": [
    "required_args = {\n",
    "            \"config_file_path\": 'config/config.yaml',\n",
    "            \"region_short_code\": country,\n",
    "            \"resource_type\": resource_type\n",
    "        }"
   ]
  },
  {
   "cell_type": "code",
   "execution_count": null,
   "metadata": {},
   "outputs": [],
   "source": [
    "from RES.osm import OSMData\n",
    "\n",
    "osm_data = OSMData(**required_args)"
   ]
  },
  {
   "cell_type": "code",
   "execution_count": null,
   "metadata": {},
   "outputs": [],
   "source": [
    "# power = osm_data.get_osm_layer('power')"
   ]
  },
  {
   "cell_type": "code",
   "execution_count": null,
   "metadata": {},
   "outputs": [],
   "source": [
    "# ss = osm_data.get_osm_layer('substation')"
   ]
  },
  {
   "cell_type": "code",
   "execution_count": null,
   "metadata": {},
   "outputs": [],
   "source": [
    "# RES_module.datahandler.to_store(RES_module.gridcells.resource_grid_cells,'cells')"
   ]
  },
  {
   "cell_type": "code",
   "execution_count": null,
   "metadata": {},
   "outputs": [],
   "source": [
    "# RES_module.gridcells.resource_grid_cells"
   ]
  },
  {
   "cell_type": "code",
   "execution_count": null,
   "metadata": {},
   "outputs": [],
   "source": [
    "# datahandler.from_store('cells')"
   ]
  },
  {
   "cell_type": "code",
   "execution_count": null,
   "metadata": {},
   "outputs": [],
   "source": [
    "# RES_module.get_grid_cells()\n",
    "RES_module.get_cell_capacity()\n",
    "RES_module.get_CF_timeseries()\n",
    "RES_module.extract_weather_data()"
   ]
  },
  {
   "cell_type": "code",
   "execution_count": null,
   "metadata": {},
   "outputs": [],
   "source": [
    "A=RES_module.find_grid_nodes()"
   ]
  },
  {
   "cell_type": "code",
   "execution_count": null,
   "metadata": {},
   "outputs": [],
   "source": [
    "RES_module.build()"
   ]
  },
  {
   "cell_type": "markdown",
   "metadata": {},
   "source": []
  },
  {
   "cell_type": "code",
   "execution_count": null,
   "metadata": {},
   "outputs": [],
   "source": [
    "cells=datahandler.from_store('cells')\n",
    "boundary=datahandler.from_store('boundary')\n",
    "solar_clusters=datahandler.from_store('clusters/solar')\n",
    "wind_clusters=datahandler.from_store('clusters/wind')\n",
    "solar_clusters_ts=datahandler.from_store('timeseries/clusters/solar')\n",
    "wind_clusters_ts=datahandler.from_store('timeseries/clusters/wind')"
   ]
  },
  {
   "cell_type": "code",
   "execution_count": null,
   "metadata": {},
   "outputs": [],
   "source": [
    "resource_clusters_solar,cluster_timeseries_solar=RES_module.select_top_sites(solar_clusters,\n",
    "                                                                solar_clusters_ts,\n",
    "                                                                    resource_max_capacity=10)\n",
    "\n",
    "resource_clusters_wind,cluster_timeseries_solar=RES_module.select_top_sites(wind_clusters,\n",
    "                                                                wind_clusters_ts,\n",
    "                                                                    resource_max_capacity=20)"
   ]
  },
  {
   "cell_type": "code",
   "execution_count": null,
   "metadata": {},
   "outputs": [],
   "source": [
    "# resource_clusters_solar.plot('potential_capacity',legend=True)\n",
    "# resource_clusters_wind.plot('potential_capacity',legend=True)"
   ]
  },
  {
   "cell_type": "code",
   "execution_count": null,
   "metadata": {},
   "outputs": [],
   "source": [
    "import matplotlib.pyplot as plt\n",
    "import geopandas as gpd\n",
    "import pandas as pd\n",
    "legend_x_ax_offset=1\n",
    "# Ensure 'Region' is in the columns for both boundary and cells\n",
    "if 'Region' not in boundary.columns:\n",
    "    boundary = boundary.reset_index(inplace=True)\n",
    "\n",
    "# Assign a number to each region\n",
    "boundary['Region_Number'] = range(1, len(boundary) + 1)\n",
    "\n",
    "# Define custom bins and labels for solar and wind capacity\n",
    "solar_bins = [0, 100, 200, 300, 500, float('inf')]  # Custom ranges\n",
    "solar_labels = ['<100','100-200', '200-300', '300-500','>500']  # Labels for legend\n",
    "\n",
    "# Define custom bins and labels for solar and wind capacity\n",
    "wind_bins = [0, 300, 500, 1000, 2000,3000, float('inf')]  # Custom ranges\n",
    "wind_labels = ['<300','300-500', '500-1000', '1000-2000','2000-3000', '>3000']  # Labels for legend\n",
    "\n",
    "# Categorize potential_capacity_solar and potential_capacity_wind into bins\n",
    "resource_clusters_solar['solar_category'] = pd.cut(resource_clusters_solar['potential_capacity'], bins=solar_bins, labels=solar_labels, include_lowest=True)\n",
    "resource_clusters_wind['wind_category'] = pd.cut(resource_clusters_wind['potential_capacity'], bins=wind_bins, labels=wind_labels, include_lowest=True)\n",
    "\n",
    "# Create figure and axes for side-by-side plotting\n",
    "fig, (ax1, ax2) = plt.subplots(figsize=(18, 8), ncols=2)\n",
    "fig.suptitle(\"Potential Sites for Targeted Capacity Investments\", fontsize=16,weight='bold')\n",
    "# Set axis off for both subplots\n",
    "ax1.set_axis_off()\n",
    "ax2.set_axis_off()\n",
    "\n",
    "# Shadow effect offset\n",
    "shadow_offset = 0.01\n",
    "\n",
    "# Plot solar map on ax1\n",
    "# Add shadow effect for solar map\n",
    "boundary.geometry = boundary.geometry.translate(xoff=shadow_offset, yoff=-shadow_offset)\n",
    "boundary.plot(ax=ax1, color='None', edgecolor='grey', linewidth=1, alpha=0.7)  # Shadow layer\n",
    "boundary.geometry = boundary.geometry.translate(xoff=-shadow_offset, yoff=shadow_offset)\n",
    "\n",
    "# Plot solar cells\n",
    "resource_clusters_solar.plot(column='solar_category', ax=ax1, cmap='Wistia', legend=True, \n",
    "           legend_kwds={'title': \"Solar Capacity (MW)\", 'loc': 'upper right','bbox_to_anchor':(legend_x_ax_offset,1), 'frameon': False})\n",
    "\n",
    "# Plot actual boundary for solar map\n",
    "boundary.plot(ax=ax1, facecolor='none', edgecolor='black', linewidth=0.2, alpha=0.7)\n",
    "\"\"\"\n",
    "# Annotate region numbers for solar map\n",
    "for idx, row in boundary.iterrows():\n",
    "    centroid = row.geometry.centroid\n",
    "    ax1.annotate(f\"{row['Region_Number']}\", \n",
    "                 xy=(centroid.x, centroid.y), \n",
    "                 ha='center', va='center',\n",
    "                 fontsize=7, color='black',\n",
    "                 bbox=dict(facecolor='white', edgecolor='none', alpha=0.7, boxstyle='round,pad=0.2'))\n",
    "\"\"\"\n",
    "# Plot wind map on ax2\n",
    "# Add shadow effect for wind map\n",
    "boundary.geometry = boundary.geometry.translate(xoff=shadow_offset, yoff=-shadow_offset)\n",
    "boundary.plot(ax=ax2, color='None', edgecolor='grey', linewidth=1, alpha=0.7)  # Shadow layer\n",
    "boundary.geometry = boundary.geometry.translate(xoff=-shadow_offset, yoff=shadow_offset)\n",
    "\n",
    "# Plot wind cells\n",
    "resource_clusters_wind.plot(column='wind_category', ax=ax2, cmap='summer', legend=True, \n",
    "           legend_kwds={'title': \"Wind Capacity (MW)\", 'bbox_to_anchor':(legend_x_ax_offset,1), 'frameon': False})\n",
    "\n",
    "# Plot actual boundary for wind map\n",
    "boundary.plot(ax=ax2, facecolor='none', edgecolor='black', linewidth=0.2, alpha=0.7)\n",
    "\"\"\"\n",
    "# Annotate region numbers for wind map\n",
    "for idx, row in boundary.iterrows():\n",
    "    centroid = row.geometry.centroid\n",
    "    ax2.annotate(f\"{row['Region_Number']}\", \n",
    "                 xy=(centroid.x, centroid.y), \n",
    "                 ha='center', va='center',\n",
    "                 fontsize=8, color='black',\n",
    "                 bbox=dict(facecolor='white', edgecolor='none', alpha=0.7, boxstyle='round,pad=0.2'))\n",
    "\"\"\"\n",
    "# Adjust layout for cleaner appearance\n",
    "fig.patch.set_alpha(0)  # Make figure background transparent\n",
    "plt.tight_layout()\n",
    "\n",
    "# Show the side-by-side plot\n",
    "\n",
    "# plt.savefig('solar_wind_capacity_map.png',dpi=300)\n",
    "plt.show()"
   ]
  },
  {
   "cell_type": "code",
   "execution_count": null,
   "metadata": {},
   "outputs": [],
   "source": [
    "resource_clusters_wind.plot(column='potential_capacity',cmap='summer', legend=True,)"
   ]
  }
 ],
 "metadata": {
  "kernelspec": {
   "display_name": "RES",
   "language": "python",
   "name": "python3"
  },
  "language_info": {
   "codemirror_mode": {
    "name": "ipython",
    "version": 3
   },
   "file_extension": ".py",
   "mimetype": "text/x-python",
   "name": "python",
   "nbconvert_exporter": "python",
   "pygments_lexer": "ipython3",
   "version": "3.12.7"
  }
 },
 "nbformat": 4,
 "nbformat_minor": 2
}
