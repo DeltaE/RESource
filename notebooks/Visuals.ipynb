{
 "cells": [
  {
   "cell_type": "markdown",
   "metadata": {},
   "source": [
    "# Load Store Handler Class"
   ]
  },
  {
   "cell_type": "code",
   "execution_count": 1,
   "metadata": {},
   "outputs": [],
   "source": [
    "from linkingtool.hdf5_handler import DataHandler\n",
    "import linkingtool.visuals as vis"
   ]
  },
  {
   "cell_type": "code",
   "execution_count": 2,
   "metadata": {},
   "outputs": [],
   "source": [
    "import warnings\n",
    "# Suppress specific warnings\n",
    "warnings.filterwarnings(\"ignore\", category=UserWarning)"
   ]
  },
  {
   "cell_type": "markdown",
   "metadata": {},
   "source": [
    "# Define Province Code"
   ]
  },
  {
   "cell_type": "code",
   "execution_count": null,
   "metadata": {},
   "outputs": [],
   "source": [
    "province_code:str='BC' # The tool is designed to work for any province of CANADA.\n",
    "store=f\"../data/store/resources_{province_code}.h5\" \n",
    "datahandler=DataHandler(store) # the DataHandler object could be initiated without the store definition as well."
   ]
  },
  {
   "cell_type": "markdown",
   "metadata": {},
   "source": [
    "# What's inside the Store ?"
   ]
  },
  {
   "cell_type": "code",
   "execution_count": null,
   "metadata": {},
   "outputs": [],
   "source": [
    "datahandler.show_tree(store) # Shows the hierarchical data inside the store"
   ]
  },
  {
   "cell_type": "markdown",
   "metadata": {},
   "source": [
    "# Load Data from Store"
   ]
  },
  {
   "cell_type": "code",
   "execution_count": 9,
   "metadata": {},
   "outputs": [],
   "source": [
    "# Loading Geodataframes\n",
    "cells=datahandler.from_store('cells')\n",
    "boundary=datahandler.from_store('boundary')\n",
    "timeseries_clusters_solar=datahandler.from_store('timeseries/clusters/solar')\n",
    "timeseries_clusters_wind=datahandler.from_store('timeseries/clusters/wind')\n",
    "# clusters_solar=datahandler.from_store('clusters/solar')\n",
    "clusters_wind=datahandler.from_store('clusters/wind')"
   ]
  },
  {
   "cell_type": "code",
   "execution_count": null,
   "metadata": {},
   "outputs": [],
   "source": [
    "clusters_wind"
   ]
  },
  {
   "cell_type": "markdown",
   "metadata": {},
   "source": [
    "# Static Data Visuals in Interactive Maps"
   ]
  },
  {
   "cell_type": "code",
   "execution_count": null,
   "metadata": {},
   "outputs": [],
   "source": [
    "import hvplot.pandas\n",
    "import holoviews as hv\n",
    "from holoviews import opts\n",
    "from bokeh.layouts import gridplot\n",
    "from bokeh.io import show\n",
    "\n",
    "# Initialize Holoviews extension\n",
    "hv.extension('bokeh')\n",
    "\n",
    "\n",
    "# Define a dictionary to map columns to specific colormaps\n",
    "cmap_mapping = {\n",
    "    'lcoe_wind': 'cool',\n",
    "    'potential_capacity_wind': 'Blues',\n",
    "    'lcoe_solar': 'autumn',\n",
    "    'CF_IEC2': 'RdYlGn',\n",
    "    'wind_CF_mean': 'RdYlGn',\n",
    "    'windspeed_ERA5': 'winter',\n",
    "    'nearest_station_distance_km': 'Oranges',\n",
    "    'potential_capacity_wind': 'Blues',\n",
    "    'potential_capacity_solar': 'Oranges',\n",
    "}\n",
    "\n",
    "# Define a function to create individual plots\n",
    "def create_plot(column_name, cmap):\n",
    "    return cells.hvplot(\n",
    "        color=column_name,\n",
    "        cmap=cmap,\n",
    "        geo=True,\n",
    "        tiles='CartoDark',  # Default base map\n",
    "        frame_width=300,  # Adjust the size of the plots\n",
    "        frame_height=300,  # Adjust the size of the plots\n",
    "        data_aspect=.5,\n",
    "        alpha=0.8,\n",
    "        line_color='None',\n",
    "        line_width=0.1,\n",
    "        hover_line_color='red'\n",
    "    ).opts(title=column_name,\n",
    "            show_grid=True,\n",
    "            show_legend=True,\n",
    "            tools=['hover', 'pan', 'wheel_zoom','reset','box_select'],\n",
    "            legend_position='top_right'\n",
    "        )\n",
    "\n",
    "# Create a list of plots for each column\n",
    "plots = [create_plot(col, cmap) for col, cmap in cmap_mapping.items()]\n",
    "\n",
    "# Create a grid layout for the plots\n",
    "grid = hv.Layout(plots).cols(3)  # Adjust the number of columns as needed\n",
    "\n",
    "# Show the layout\n",
    "hv.save(grid, '../docs/grid_plots.html')  # Save the grid layout as an HTML file\n",
    "\n",
    "\n",
    "\n",
    "# Render the layout as a Bokeh object\n",
    "bokeh_layout = hv.render(grid, backend='bokeh')\n",
    "\n",
    "# Show the layout\n",
    "show(bokeh_layout)"
   ]
  },
  {
   "cell_type": "code",
   "execution_count": null,
   "metadata": {},
   "outputs": [],
   "source": [
    "from bokeh.io import show\n",
    "import holoviews as hv\n",
    "\n",
    "# Render the layout as a Bokeh object\n",
    "bokeh_layout = hv.render(grid, backend='bokeh')\n",
    "\n",
    "# Show the layout\n",
    "show(bokeh_layout)\n"
   ]
  },
  {
   "cell_type": "markdown",
   "metadata": {},
   "source": [
    "# Timeseries Plots"
   ]
  },
  {
   "cell_type": "code",
   "execution_count": null,
   "metadata": {},
   "outputs": [],
   "source": [
    "clusters_solar=datahandler.from_store('clusters/solar')"
   ]
  },
  {
   "cell_type": "code",
   "execution_count": null,
   "metadata": {},
   "outputs": [],
   "source": [
    "clusters_solar.columns"
   ]
  },
  {
   "cell_type": "code",
   "execution_count": null,
   "metadata": {},
   "outputs": [],
   "source": [
    "clusters_solar"
   ]
  },
  {
   "cell_type": "code",
   "execution_count": null,
   "metadata": {},
   "outputs": [],
   "source": [
    "timeseries_clusters_solar"
   ]
  },
  {
   "cell_type": "code",
   "execution_count": null,
   "metadata": {},
   "outputs": [],
   "source": [
    "import pandas as pd\n",
    "import hvplot.pandas\n",
    "import panel as pn\n",
    "import random\n",
    "\n",
    "# Initialize Panel with the dark theme\n",
    "pn.extension(theme='default')\n",
    "\n",
    "# Load your DataFrames\n",
    "df_solar = timeseries_clusters_solar  # Your solar DataFrame\n",
    "df_wind = timeseries_clusters_wind    # Your wind DataFrame\n",
    "\n",
    "# Create a list of the column names for the dropdowns\n",
    "solar_options = df_solar.columns.tolist()\n",
    "wind_options = df_wind.columns.tolist()\n",
    "\n",
    "# Function to generate a random vibrant color\n",
    "def get_random_vibrant_color():\n",
    "    return \"#{:02x}{:02x}{:02x}\".format(random.randint(150, 255), random.randint(150, 255), random.randint(150, 255))\n",
    "\n",
    "\n",
    "# Create a function to update the solar plot based on the selected time series\n",
    "def update_solar_plot(selected_series):\n",
    "    return df_solar[selected_series].hvplot.line(\n",
    "        title=f\"Time Series - Solar: {selected_series}\",\n",
    "        xlabel=\"DateTime\",\n",
    "        ylabel=\"Value\",\n",
    "        legend='top_left',\n",
    "        width=1000,  # Width of the plot\n",
    "        height=200,  # Height of the plot\n",
    "        tools=['hover'],  # Enable hover tool\n",
    "        line_color=get_random_vibrant_color()  # Random vibrant color for the solar plot\n",
    "    )\n",
    "\n",
    "# Create a function to update the wind plot based on the selected time series\n",
    "def update_wind_plot(selected_series):\n",
    "    return df_wind[selected_series].hvplot.line(\n",
    "        title=f\"Time Series - Wind: {selected_series}\",\n",
    "        xlabel=\"DateTime\",\n",
    "        ylabel=\"Value\",\n",
    "        legend='top_left',\n",
    "        width=1000,  # Width of the plot\n",
    "        height=200,  # Height of the plot\n",
    "        tools=['hover'],  # Enable hover tool\n",
    "        line_color=get_random_vibrant_color()  # Random vibrant color for the wind plot\n",
    "    )\n",
    "\n",
    "# Create dropdown widgets for selecting the time series\n",
    "solar_dropdown = pn.widgets.Select(name='Select Solar Time Series', options=solar_options)\n",
    "wind_dropdown = pn.widgets.Select(name='Select Wind Time Series', options=wind_options)\n",
    "\n",
    "# Create dynamic panels that update the plot based on the dropdown selections\n",
    "dynamic_solar_plot = pn.bind(update_solar_plot, selected_series=solar_dropdown)\n",
    "dynamic_wind_plot = pn.bind(update_wind_plot, selected_series=wind_dropdown)\n",
    "\n",
    "# Create a layout with the dropdowns and the plots in a two-row grid\n",
    "grid_layout = pn.Column(\n",
    "    solar_dropdown, dynamic_solar_plot,  # Solar plot in the first row\n",
    "    wind_dropdown, dynamic_wind_plot     # Wind plot in the second row\n",
    ")\n",
    "\n",
    "# Save the grid layout as an HTML file\n",
    "grid_layout.save('../docs/time_series_plots.html')\n",
    "\n",
    "# Display the panel in a notebook or in a web application\n",
    "grid_layout.show()"
   ]
  },
  {
   "cell_type": "code",
   "execution_count": null,
   "metadata": {},
   "outputs": [],
   "source": [
    "clusters_solar.loc['CowichanValley_1']"
   ]
  },
  {
   "cell_type": "code",
   "execution_count": null,
   "metadata": {},
   "outputs": [],
   "source": [
    "import pandas as pd\n",
    "import hvplot.pandas\n",
    "import panel as pn\n",
    "import random\n",
    "\n",
    "# Initialize Panel with the dark theme\n",
    "pn.extension(theme='default')\n",
    "\n",
    "# Load your DataFrames\n",
    "df_solar = timeseries_clusters_solar  # Your solar DataFrame\n",
    "df_wind = timeseries_clusters_wind    # Your wind DataFrame\n",
    "clusters_solar = clusters_solar       # Your clusters_solar DataFrame\n",
    "\n",
    "# Create a list of the column names for the dropdowns\n",
    "solar_options = df_solar.columns.tolist()\n",
    "wind_options = df_wind.columns.tolist()\n",
    "\n",
    "# Function to generate a random vibrant color\n",
    "def get_random_vibrant_color():\n",
    "    return \"#{:02x}{:02x}{:02x}\".format(random.randint(150, 255), random.randint(150, 255), random.randint(150, 255))\n",
    "\n",
    "# Create a function to update the solar plot based on the selected time series\n",
    "def update_solar_plot(selected_series):\n",
    "    return df_solar[selected_series].hvplot.line(\n",
    "        title=f\"Time Series - Solar: {selected_series}\",\n",
    "        xlabel=\"DateTime\",\n",
    "        ylabel=\"Value\",\n",
    "        legend='top_left',\n",
    "        width=1000,  # Width of the plot\n",
    "        height=300,  # Increased height for better visibility\n",
    "        tools=['hover'],  # Enable hover tool\n",
    "        line_color=get_random_vibrant_color(),  # Random vibrant color for the solar plot\n",
    "        line_width=2,  # Make line thicker for better visibility\n",
    "        fontsize={'title': 16, 'xlabel': 14, 'ylabel': 14, 'legend': 12},  # Adjust font sizes\n",
    "    )\n",
    "\n",
    "# Create a function to update the wind plot based on the selected time series\n",
    "def update_wind_plot(selected_series):\n",
    "    return df_wind[selected_series].hvplot.line(\n",
    "        title=f\"Time Series - Wind: {selected_series}\",\n",
    "        xlabel=\"DateTime\",\n",
    "        ylabel=\"Value\",\n",
    "        legend='top_left',\n",
    "        width=1000,  # Width of the plot\n",
    "        height=300,  # Increased height for better visibility\n",
    "        tools=['hover'],  # Enable hover tool\n",
    "        line_color=get_random_vibrant_color(),  # Random vibrant color for the wind plot\n",
    "        line_width=2,  # Make line thicker for better visibility\n",
    "        fontsize={'title': 16, 'xlabel': 14, 'ylabel': 14, 'legend': 12},  # Adjust font sizes\n",
    "    )\n",
    "\n",
    "# Create dropdown widgets for selecting the time series\n",
    "solar_dropdown = pn.widgets.Select(name='Select Solar Time Series', options=solar_options, width=300)\n",
    "wind_dropdown = pn.widgets.Select(name='Select Wind Time Series', options=wind_options, width=300)\n",
    "\n",
    "\n",
    "# Create dynamic panels that update the plot based on the dropdown selections\n",
    "dynamic_solar_plot = pn.bind(update_solar_plot, selected_series=solar_dropdown)\n",
    "dynamic_wind_plot = pn.bind(update_wind_plot, selected_series=wind_dropdown)\n",
    "\n",
    "# Function to get relevant row data from clusters_solar\n",
    "def get_cluster_info(selected_series):\n",
    "    # Use the selected series name to find the relevant row in clusters_solar\n",
    "    selected_row = clusters_solar.loc[selected_series]\n",
    "    return selected_row\n",
    "\n",
    "# Create a function to update the table based on the selected time series\n",
    "def update_cluster_table(selected_series):\n",
    "    cluster_info = get_cluster_info(selected_series)\n",
    "    \n",
    "    # Drop the geometry column if it exists\n",
    "    if 'geometry' in cluster_info.index:\n",
    "        cluster_info = cluster_info.drop('geometry')\n",
    "    \n",
    "    # Return the DataFrame widget without the geometry column\n",
    "    return pn.widgets.DataFrame(cluster_info.to_frame().T, width=800, height=200)\n",
    "\n",
    "\n",
    "# Create dynamic panels for the table\n",
    "dynamic_cluster_table = pn.bind(update_cluster_table, selected_series=solar_dropdown)\n",
    "\n",
    "# Adjust the overall layout for better alignment and spacing\n",
    "grid_layout = pn.Column(\n",
    "    pn.Row(solar_dropdown, dynamic_solar_plot, align=\"center\"),  # Center align solar dropdown and plot\n",
    "    pn.Row(dynamic_cluster_table),  # Show the table below the solar plot\n",
    "    pn.Row(wind_dropdown, dynamic_wind_plot, align=\"center\"),    # Center align wind dropdown and plot\n",
    "    sizing_mode='stretch_width',  # Make layout responsive to different screen sizes\n",
    "    width=1100,  # Set a consistent width for the layout\n",
    "    height=900   # Adjust height to give more space for plots\n",
    ")\n",
    "\n",
    "# Save the grid layout as an HTML file\n",
    "grid_layout.save('../docs/time_series_plots_with_table.html')\n",
    "\n",
    "# Display the panel in a notebook or in a web application\n",
    "grid_layout.show()\n"
   ]
  }
 ],
 "metadata": {
  "kernelspec": {
   "display_name": "linkingtool",
   "language": "python",
   "name": "python3"
  },
  "language_info": {
   "codemirror_mode": {
    "name": "ipython",
    "version": 3
   },
   "file_extension": ".py",
   "mimetype": "text/x-python",
   "name": "python",
   "nbconvert_exporter": "python",
   "pygments_lexer": "ipython3",
   "version": "3.12.7"
  }
 },
 "nbformat": 4,
 "nbformat_minor": 2
}
