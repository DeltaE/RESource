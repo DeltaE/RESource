{
 "cells": [
  {
   "cell_type": "markdown",
   "metadata": {},
   "source": [
    "# Load Store Handler Class"
   ]
  },
  {
   "cell_type": "code",
   "execution_count": 5,
   "metadata": {},
   "outputs": [],
   "source": [
    "from linkingtool.hdf5_handler import DataHandler\n",
    "from workflow.scripts.resources import  Resources\n",
    "import linkingtool.visuals as vis"
   ]
  },
  {
   "cell_type": "code",
   "execution_count": 6,
   "metadata": {},
   "outputs": [],
   "source": [
    "import pandas as pd"
   ]
  },
  {
   "cell_type": "code",
   "execution_count": 7,
   "metadata": {},
   "outputs": [],
   "source": [
    "old_solar=pd.read_pickle('../results/linking/Solar_Top_Sites_Clustered.pkl')"
   ]
  },
  {
   "cell_type": "markdown",
   "metadata": {},
   "source": [
    "# Define Province Code"
   ]
  },
  {
   "cell_type": "code",
   "execution_count": 8,
   "metadata": {},
   "outputs": [
    {
     "name": "stdout",
     "output_type": "stream",
     "text": [
      ">> Store initialized with the given path: ../data/store/resources_BC.h5\n"
     ]
    }
   ],
   "source": [
    "province_code:str='BC' # The tool is designed to work for any province of CANADA.\n",
    "store=f\"../data/store/resources_{province_code}.h5\" \n",
    "datahandler=DataHandler(store) # the DataHandler object could be initiated without the store definition as well."
   ]
  },
  {
   "cell_type": "markdown",
   "metadata": {},
   "source": [
    "# Load Data from Store"
   ]
  },
  {
   "cell_type": "code",
   "execution_count": 9,
   "metadata": {},
   "outputs": [
    {
     "name": "stdout",
     "output_type": "stream",
     "text": [
      "Structure of HDF5 file: ../data/store/resources_BC.h5\n",
      "[Group] boundary\n",
      "[Group] cells\n",
      "[Group] clusters\n",
      "  └─ [Group] clusters/solar\n",
      "  └─ [Group] clusters/wind\n",
      "[Group] dissolved_indices\n",
      "  └─ [Group] dissolved_indices/solar\n",
      "  └─ [Group] dissolved_indices/wind\n",
      "[Group] substations\n",
      "[Group] timeseries\n",
      "  └─ [Group] timeseries/clusters\n",
      "  └─   └─ [Group] timeseries/clusters/solar\n",
      "  └─   └─ [Group] timeseries/clusters/wind\n",
      "  └─ [Group] timeseries/solar\n",
      "  └─ [Group] timeseries/wind\n",
      "[Group] units\n"
     ]
    }
   ],
   "source": [
    "datahandler.show_tree(store)"
   ]
  }
 ],
 "metadata": {
  "kernelspec": {
   "display_name": "linkingtool",
   "language": "python",
   "name": "python3"
  },
  "language_info": {
   "codemirror_mode": {
    "name": "ipython",
    "version": 3
   },
   "file_extension": ".py",
   "mimetype": "text/x-python",
   "name": "python",
   "nbconvert_exporter": "python",
   "pygments_lexer": "ipython3",
   "version": "3.12.7"
  }
 },
 "nbformat": 4,
 "nbformat_minor": 2
}
