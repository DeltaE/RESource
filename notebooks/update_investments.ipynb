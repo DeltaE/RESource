{
 "cells": [
  {
   "cell_type": "markdown",
   "metadata": {},
   "source": [
    "# Load Store Handler Class"
   ]
  },
  {
   "cell_type": "code",
   "execution_count": 2,
   "metadata": {},
   "outputs": [],
   "source": [
    "from linkingtool.hdf5_handler import DataHandler\n",
    "import linkingtool.visuals as vis"
   ]
  },
  {
   "cell_type": "code",
   "execution_count": 3,
   "metadata": {},
   "outputs": [],
   "source": [
    "import pandas as pd"
   ]
  },
  {
   "cell_type": "code",
   "execution_count": 4,
   "metadata": {},
   "outputs": [],
   "source": [
    "old_solar=pd.read_pickle('../results/linking/Solar_Top_Sites_Clustered.pkl')"
   ]
  },
  {
   "cell_type": "markdown",
   "metadata": {},
   "source": [
    "# Define Province Code"
   ]
  },
  {
   "cell_type": "code",
   "execution_count": 5,
   "metadata": {},
   "outputs": [
    {
     "name": "stdout",
     "output_type": "stream",
     "text": [
      ">> Store initialized with the given path: ../data/store/resources_BC.h5\n"
     ]
    }
   ],
   "source": [
    "province_code:str='BC' # The tool is designed to work for any province of CANADA.\n",
    "store=f\"../data/store/resources_{province_code}.h5\" \n",
    "datahandler=DataHandler(store) # the DataHandler object could be initiated without the store definition as well."
   ]
  },
  {
   "cell_type": "markdown",
   "metadata": {},
   "source": [
    "# What's inside the Store ?"
   ]
  },
  {
   "cell_type": "code",
   "execution_count": 6,
   "metadata": {},
   "outputs": [
    {
     "name": "stdout",
     "output_type": "stream",
     "text": [
      "Structure of HDF5 file: ../data/store/resources_BC.h5\n",
      "[Group] boundary\n",
      "[Group] cells\n",
      "[Group] clusters\n",
      "  └─ [Group] clusters/solar\n",
      "  └─ [Group] clusters/wind\n",
      "[Group] dissolved_indices\n",
      "  └─ [Group] dissolved_indices/solar\n",
      "  └─ [Group] dissolved_indices/wind\n",
      "[Group] substations\n",
      "[Group] timeseries\n",
      "  └─ [Group] timeseries/clusters\n",
      "  └─   └─ [Group] timeseries/clusters/solar\n",
      "  └─   └─ [Group] timeseries/clusters/wind\n",
      "  └─ [Group] timeseries/solar\n",
      "  └─ [Group] timeseries/wind\n",
      "[Group] units\n"
     ]
    }
   ],
   "source": [
    "datahandler.show_tree(store) # Shows the hierarchical data inside the store"
   ]
  },
  {
   "cell_type": "markdown",
   "metadata": {},
   "source": [
    "# Load Data from Store"
   ]
  },
  {
   "cell_type": "code",
   "execution_count": 7,
   "metadata": {},
   "outputs": [],
   "source": [
    "# Loading Grid Cells Geodataframe\n",
    "cells=datahandler.from_store('cells')"
   ]
  },
  {
   "cell_type": "code",
   "execution_count": 8,
   "metadata": {},
   "outputs": [],
   "source": [
    "clusters_solar=datahandler.from_store('clusters/solar')"
   ]
  },
  {
   "cell_type": "code",
   "execution_count": 9,
   "metadata": {},
   "outputs": [
    {
     "data": {
      "text/html": [
       "<div>\n",
       "<style scoped>\n",
       "    .dataframe tbody tr th:only-of-type {\n",
       "        vertical-align: middle;\n",
       "    }\n",
       "\n",
       "    .dataframe tbody tr th {\n",
       "        vertical-align: top;\n",
       "    }\n",
       "\n",
       "    .dataframe thead th {\n",
       "        text-align: right;\n",
       "    }\n",
       "</style>\n",
       "<table border=\"1\" class=\"dataframe\">\n",
       "  <thead>\n",
       "    <tr style=\"text-align: right;\">\n",
       "      <th></th>\n",
       "      <th>geometry</th>\n",
       "      <th>lcoe_solar</th>\n",
       "      <th>capex_solar</th>\n",
       "      <th>fom_solar</th>\n",
       "      <th>vom_solar</th>\n",
       "      <th>solar_CF_mean</th>\n",
       "      <th>Cluster_No</th>\n",
       "      <th>potential_capacity_solar</th>\n",
       "      <th>Region</th>\n",
       "      <th>nearest_station</th>\n",
       "      <th>nearest_station_distance_km</th>\n",
       "      <th>Rank</th>\n",
       "    </tr>\n",
       "    <tr>\n",
       "      <th>cluster_id</th>\n",
       "      <th></th>\n",
       "      <th></th>\n",
       "      <th></th>\n",
       "      <th></th>\n",
       "      <th></th>\n",
       "      <th></th>\n",
       "      <th></th>\n",
       "      <th></th>\n",
       "      <th></th>\n",
       "      <th></th>\n",
       "      <th></th>\n",
       "      <th></th>\n",
       "    </tr>\n",
       "  </thead>\n",
       "  <tbody>\n",
       "    <tr>\n",
       "      <th>EastKootenay_1</th>\n",
       "      <td>MULTIPOLYGON (((-115.37500 49.62500, -115.1250...</td>\n",
       "      <td>1.583216</td>\n",
       "      <td>3.209402</td>\n",
       "      <td>0.090527</td>\n",
       "      <td>0</td>\n",
       "      <td>0.232733</td>\n",
       "      <td>1</td>\n",
       "      <td>4569.497056</td>\n",
       "      <td>EastKootenay</td>\n",
       "      <td>BC_FRO_ISS</td>\n",
       "      <td>0.0</td>\n",
       "      <td>1</td>\n",
       "    </tr>\n",
       "    <tr>\n",
       "      <th>Okanagan-Similkameen_1</th>\n",
       "      <td>MULTIPOLYGON (((-119.62500 49.00021, -119.6250...</td>\n",
       "      <td>1.619949</td>\n",
       "      <td>3.209402</td>\n",
       "      <td>0.090527</td>\n",
       "      <td>0</td>\n",
       "      <td>0.228168</td>\n",
       "      <td>1</td>\n",
       "      <td>1947.947840</td>\n",
       "      <td>Okanagan-Similkameen</td>\n",
       "      <td>BC_OSO_DSS</td>\n",
       "      <td>0.0</td>\n",
       "      <td>2</td>\n",
       "    </tr>\n",
       "  </tbody>\n",
       "</table>\n",
       "</div>"
      ],
      "text/plain": [
       "                                                                 geometry  \\\n",
       "cluster_id                                                                  \n",
       "EastKootenay_1          MULTIPOLYGON (((-115.37500 49.62500, -115.1250...   \n",
       "Okanagan-Similkameen_1  MULTIPOLYGON (((-119.62500 49.00021, -119.6250...   \n",
       "\n",
       "                        lcoe_solar  capex_solar  fom_solar  vom_solar  \\\n",
       "cluster_id                                                              \n",
       "EastKootenay_1            1.583216     3.209402   0.090527          0   \n",
       "Okanagan-Similkameen_1    1.619949     3.209402   0.090527          0   \n",
       "\n",
       "                        solar_CF_mean  Cluster_No  potential_capacity_solar  \\\n",
       "cluster_id                                                                    \n",
       "EastKootenay_1               0.232733           1               4569.497056   \n",
       "Okanagan-Similkameen_1       0.228168           1               1947.947840   \n",
       "\n",
       "                                      Region nearest_station  \\\n",
       "cluster_id                                                     \n",
       "EastKootenay_1                  EastKootenay      BC_FRO_ISS   \n",
       "Okanagan-Similkameen_1  Okanagan-Similkameen      BC_OSO_DSS   \n",
       "\n",
       "                        nearest_station_distance_km  Rank  \n",
       "cluster_id                                                 \n",
       "EastKootenay_1                                  0.0     1  \n",
       "Okanagan-Similkameen_1                          0.0     2  "
      ]
     },
     "execution_count": 9,
     "metadata": {},
     "output_type": "execute_result"
    }
   ],
   "source": [
    "clusters_solar.head(2)"
   ]
  },
  {
   "cell_type": "code",
   "execution_count": null,
   "metadata": {},
   "outputs": [],
   "source": [
    "# Rename a column in the DataFrame\n",
    "clusters_solar['fom']=cells['fom_solar'].iloc[0]\n",
    "clusters_solar['vom']=cells['vom_solar'].iloc[0]\n",
    "\n",
    "clusters_solar.rename(columns={'capex_solar': 'capex'}, inplace=True)\n",
    "clusters_solar.rename(columns={'solar_CF_mean': 'CF_mean'}, inplace=True)\n",
    "clusters_solar.rename(columns={'potential_capacity_solar': 'potential_capacity'}, inplace=True)"
   ]
  },
  {
   "cell_type": "code",
   "execution_count": 28,
   "metadata": {},
   "outputs": [
    {
     "data": {
      "text/html": [
       "<div>\n",
       "<style scoped>\n",
       "    .dataframe tbody tr th:only-of-type {\n",
       "        vertical-align: middle;\n",
       "    }\n",
       "\n",
       "    .dataframe tbody tr th {\n",
       "        vertical-align: top;\n",
       "    }\n",
       "\n",
       "    .dataframe thead th {\n",
       "        text-align: right;\n",
       "    }\n",
       "</style>\n",
       "<table border=\"1\" class=\"dataframe\">\n",
       "  <thead>\n",
       "    <tr style=\"text-align: right;\">\n",
       "      <th></th>\n",
       "      <th>geometry</th>\n",
       "      <th>p_lcoe</th>\n",
       "      <th>capex</th>\n",
       "      <th>Cluster_No</th>\n",
       "      <th>potential_capacity</th>\n",
       "      <th>Region_ID</th>\n",
       "      <th>Region</th>\n",
       "      <th>nearest_station</th>\n",
       "      <th>nearest_station_distance_km</th>\n",
       "      <th>Site_ID</th>\n",
       "      <th>fom</th>\n",
       "      <th>vom</th>\n",
       "      <th>CF_mean</th>\n",
       "    </tr>\n",
       "    <tr>\n",
       "      <th>cluster_id</th>\n",
       "      <th></th>\n",
       "      <th></th>\n",
       "      <th></th>\n",
       "      <th></th>\n",
       "      <th></th>\n",
       "      <th></th>\n",
       "      <th></th>\n",
       "      <th></th>\n",
       "      <th></th>\n",
       "      <th></th>\n",
       "      <th></th>\n",
       "      <th></th>\n",
       "      <th></th>\n",
       "    </tr>\n",
       "  </thead>\n",
       "  <tbody>\n",
       "    <tr>\n",
       "      <th>East Kootenay_1</th>\n",
       "      <td>MULTIPOLYGON (((-116.06720 49.23320, -116.0683...</td>\n",
       "      <td>1377.859218</td>\n",
       "      <td>1.482683</td>\n",
       "      <td>1</td>\n",
       "      <td>5000.0</td>\n",
       "      <td>16</td>\n",
       "      <td>East Kootenay</td>\n",
       "      <td>138_FRO_ISS</td>\n",
       "      <td>0.0</td>\n",
       "      <td>1</td>\n",
       "      <td>0.023766</td>\n",
       "      <td>0</td>\n",
       "      <td>0.235211</td>\n",
       "    </tr>\n",
       "  </tbody>\n",
       "</table>\n",
       "</div>"
      ],
      "text/plain": [
       "                                                          geometry  \\\n",
       "cluster_id                                                           \n",
       "East Kootenay_1  MULTIPOLYGON (((-116.06720 49.23320, -116.0683...   \n",
       "\n",
       "                      p_lcoe     capex  Cluster_No  potential_capacity  \\\n",
       "cluster_id                                                               \n",
       "East Kootenay_1  1377.859218  1.482683           1              5000.0   \n",
       "\n",
       "                 Region_ID         Region nearest_station  \\\n",
       "cluster_id                                                  \n",
       "East Kootenay_1         16  East Kootenay     138_FRO_ISS   \n",
       "\n",
       "                 nearest_station_distance_km  Site_ID       fom  vom   CF_mean  \n",
       "cluster_id                                                                      \n",
       "East Kootenay_1                          0.0        1  0.023766    0  0.235211  "
      ]
     },
     "execution_count": 28,
     "metadata": {},
     "output_type": "execute_result"
    }
   ],
   "source": [
    "old_solar"
   ]
  },
  {
   "cell_type": "code",
   "execution_count": 31,
   "metadata": {},
   "outputs": [
    {
     "data": {
      "text/html": [
       "<div>\n",
       "<style scoped>\n",
       "    .dataframe tbody tr th:only-of-type {\n",
       "        vertical-align: middle;\n",
       "    }\n",
       "\n",
       "    .dataframe tbody tr th {\n",
       "        vertical-align: top;\n",
       "    }\n",
       "\n",
       "    .dataframe thead th {\n",
       "        text-align: right;\n",
       "    }\n",
       "</style>\n",
       "<table border=\"1\" class=\"dataframe\">\n",
       "  <thead>\n",
       "    <tr style=\"text-align: right;\">\n",
       "      <th></th>\n",
       "      <th>geometry</th>\n",
       "      <th>lcoe_solar</th>\n",
       "      <th>capex</th>\n",
       "      <th>Cluster_No</th>\n",
       "      <th>potential_capacity_solar</th>\n",
       "      <th>Region</th>\n",
       "      <th>nearest_station</th>\n",
       "      <th>nearest_station_distance_km</th>\n",
       "      <th>Rank</th>\n",
       "      <th>fom</th>\n",
       "      <th>vom</th>\n",
       "    </tr>\n",
       "    <tr>\n",
       "      <th>cluster_id</th>\n",
       "      <th></th>\n",
       "      <th></th>\n",
       "      <th></th>\n",
       "      <th></th>\n",
       "      <th></th>\n",
       "      <th></th>\n",
       "      <th></th>\n",
       "      <th></th>\n",
       "      <th></th>\n",
       "      <th></th>\n",
       "      <th></th>\n",
       "    </tr>\n",
       "  </thead>\n",
       "  <tbody>\n",
       "    <tr>\n",
       "      <th>EastKootenay_1</th>\n",
       "      <td>MULTIPOLYGON (((-115.37500 49.62500, -115.1250...</td>\n",
       "      <td>1.583216</td>\n",
       "      <td>3.209402</td>\n",
       "      <td>1</td>\n",
       "      <td>4569.497056</td>\n",
       "      <td>EastKootenay</td>\n",
       "      <td>BC_FRO_ISS</td>\n",
       "      <td>0.0</td>\n",
       "      <td>1</td>\n",
       "      <td>0.090527</td>\n",
       "      <td>0</td>\n",
       "    </tr>\n",
       "    <tr>\n",
       "      <th>Okanagan-Similkameen_1</th>\n",
       "      <td>MULTIPOLYGON (((-119.62500 49.00021, -119.6250...</td>\n",
       "      <td>1.619949</td>\n",
       "      <td>3.209402</td>\n",
       "      <td>1</td>\n",
       "      <td>1947.947840</td>\n",
       "      <td>Okanagan-Similkameen</td>\n",
       "      <td>BC_OSO_DSS</td>\n",
       "      <td>0.0</td>\n",
       "      <td>2</td>\n",
       "      <td>0.090527</td>\n",
       "      <td>0</td>\n",
       "    </tr>\n",
       "  </tbody>\n",
       "</table>\n",
       "</div>"
      ],
      "text/plain": [
       "                                                                 geometry  \\\n",
       "cluster_id                                                                  \n",
       "EastKootenay_1          MULTIPOLYGON (((-115.37500 49.62500, -115.1250...   \n",
       "Okanagan-Similkameen_1  MULTIPOLYGON (((-119.62500 49.00021, -119.6250...   \n",
       "\n",
       "                        lcoe_solar     capex  Cluster_No  \\\n",
       "cluster_id                                                 \n",
       "EastKootenay_1            1.583216  3.209402           1   \n",
       "Okanagan-Similkameen_1    1.619949  3.209402           1   \n",
       "\n",
       "                        potential_capacity_solar                Region  \\\n",
       "cluster_id                                                               \n",
       "EastKootenay_1                       4569.497056          EastKootenay   \n",
       "Okanagan-Similkameen_1               1947.947840  Okanagan-Similkameen   \n",
       "\n",
       "                       nearest_station  nearest_station_distance_km  Rank  \\\n",
       "cluster_id                                                                  \n",
       "EastKootenay_1              BC_FRO_ISS                          0.0     1   \n",
       "Okanagan-Similkameen_1      BC_OSO_DSS                          0.0     2   \n",
       "\n",
       "                             fom  vom  \n",
       "cluster_id                             \n",
       "EastKootenay_1          0.090527    0  \n",
       "Okanagan-Similkameen_1  0.090527    0  "
      ]
     },
     "execution_count": 31,
     "metadata": {},
     "output_type": "execute_result"
    }
   ],
   "source": [
    "clusters_solar.head(2)"
   ]
  },
  {
   "cell_type": "markdown",
   "metadata": {},
   "source": []
  }
 ],
 "metadata": {
  "kernelspec": {
   "display_name": "linkingtool",
   "language": "python",
   "name": "python3"
  },
  "language_info": {
   "codemirror_mode": {
    "name": "ipython",
    "version": 3
   },
   "file_extension": ".py",
   "mimetype": "text/x-python",
   "name": "python",
   "nbconvert_exporter": "python",
   "pygments_lexer": "ipython3",
   "version": "3.12.7"
  }
 },
 "nbformat": 4,
 "nbformat_minor": 2
}
