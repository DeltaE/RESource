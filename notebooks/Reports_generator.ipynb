{
 "cells": [
  {
   "cell_type": "code",
   "execution_count": 1,
   "id": "75041566",
   "metadata": {},
   "outputs": [],
   "source": [
    "from pathlib import Path"
   ]
  },
  {
   "cell_type": "code",
   "execution_count": 2,
   "id": "77e22f44",
   "metadata": {},
   "outputs": [],
   "source": [
    "# === CONFIGURATION === #\n",
    "FIGURES = [\n",
    "    {\n",
    "        \"filename\": \"solar_wind_LCOE_map.png\",\n",
    "        \"title\": \"Generation Mix by Technology (2030)\",\n",
    "        \"explanation\": \"This figure shows the share of each generation technology in the total electricity mix. The model prioritizes low-cost renewables, resulting in a high share of wind and solar.\"\n",
    "    },\n",
    "    {\n",
    "        \"filename\": \"solar_wind_CF_map.png\",\n",
    "        \"title\": \"Annual CO₂ Emissions by Scenario\",\n",
    "        \"explanation\": \"This plot compares annual CO₂ emissions under different policy and technology assumptions. Scenarios with high electrification and carbon pricing result in the lowest emissions.\"\n",
    "    }\n",
    "]\n",
    "\n",
    "# FIG_DIR = Path(\"./\")  # Change to actual relative path if needed\n",
    "OUTPUT_HTML = \"report.html\"\n"
   ]
  },
  {
   "cell_type": "code",
   "execution_count": 3,
   "id": "585d61da",
   "metadata": {},
   "outputs": [],
   "source": [
    "# === HTML COMPONENTS === #\n",
    "\n",
    "def get_html_header(title=\"Energy Modeling Report\"):\n",
    "    return f\"\"\"\n",
    "<!DOCTYPE html>\n",
    "<html lang=\"en\">\n",
    "<head>\n",
    "    <meta charset=\"UTF-8\">\n",
    "    <title>{title}</title>\n",
    "    <style>\n",
    "        body {{ font-family: Arial, sans-serif; margin: 40px; background: #fdfdfd; color: #333; }}\n",
    "        .figure-box {{ margin-bottom: 60px; padding: 20px; border: 1px solid #ddd; border-radius: 12px; background: #fff; box-shadow: 0 2px 4px rgba(0,0,0,0.05); }}\n",
    "        .figure-box img {{ width: 100%; max-width: 800px; display: block; margin: 20px 0; }}\n",
    "        .figure-title {{ font-size: 1.5em; margin-bottom: 10px; color: #005580; }}\n",
    "        .figure-caption {{ font-size: 1em; background: #eef6f8; padding: 15px; border-left: 5px solid #66aacc; border-radius: 5px; }}\n",
    "    </style>\n",
    "</head>\n",
    "<body>\n",
    "<h1>{title}</h1>\n",
    "<p>This report summarizes key figures and insights from the modeling results.</p>\n",
    "\"\"\"\n",
    "\n",
    "def get_html_footer():\n",
    "    return \"</body>\\n</html>\"\n",
    "\n",
    "def make_figure_section(fig):\n",
    "    return f\"\"\"\n",
    "<div class=\"figure-box\">\n",
    "    <div class=\"figure-title\">{fig['title']}</div>\n",
    "    <img src=\"{fig['filename']}\" alt=\"{fig['title']}\">\n",
    "    <div class=\"figure-caption\">{fig['explanation']}</div>\n",
    "</div>\n",
    "\"\"\""
   ]
  },
  {
   "cell_type": "code",
   "execution_count": 4,
   "id": "494b3e02",
   "metadata": {},
   "outputs": [
    {
     "name": "stdout",
     "output_type": "stream",
     "text": [
      "✅ Report generated: report.html\n"
     ]
    }
   ],
   "source": [
    "\n",
    "# === MAIN FUNCTION === #\n",
    "\n",
    "def generate_html_report(figures, output_path):\n",
    "    html = get_html_header()\n",
    "    html += \"\\n\".join(make_figure_section(fig) for fig in figures)\n",
    "    html += get_html_footer()\n",
    "\n",
    "    with open(output_path, \"w\", encoding=\"utf-8\") as f:\n",
    "        f.write(html)\n",
    "\n",
    "    print(f\"✅ Report generated: {output_path}\")\n",
    "\n",
    "# === RUN SCRIPT === #\n",
    "\n",
    "if __name__ == \"__main__\":\n",
    "    generate_html_report(FIGURES, OUTPUT_HTML)\n"
   ]
  }
 ],
 "metadata": {
  "kernelspec": {
   "display_name": "RES",
   "language": "python",
   "name": "python3"
  },
  "language_info": {
   "codemirror_mode": {
    "name": "ipython",
    "version": 3
   },
   "file_extension": ".py",
   "mimetype": "text/x-python",
   "name": "python",
   "nbconvert_exporter": "python",
   "pygments_lexer": "ipython3",
   "version": "3.12.7"
  }
 },
 "nbformat": 4,
 "nbformat_minor": 5
}
