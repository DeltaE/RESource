{
 "cells": [
  {
   "cell_type": "code",
   "execution_count": 1,
   "id": "6df5dcde",
   "metadata": {
    "lines_to_next_cell": 0
   },
   "outputs": [],
   "source": [
    "import time\n",
    "# Start the script run timer\n",
    "script_start_time = time.time()\n",
    "\n",
    "\n",
    "import argparse\n",
    "import os\n",
    "# import logging as log\n",
    "import pandas as pd \n",
    "import geopandas as gpd\n",
    "# import requests\n",
    "# from typing import Dict, List,Union\n",
    "from requests import get\n",
    "from pyrosm import OSM, get_data\n",
    "# from pyrosm.data import sources\n",
    "from pyrosm import OSM\n",
    "# from pyrosm.config import Conf"
   ]
  },
  {
   "cell_type": "code",
   "execution_count": 2,
   "id": "2540e53f",
   "metadata": {},
   "outputs": [],
   "source": [
    "#----------------------- for notebook run/Debugging------------------------------------\n",
    "config_file_path='config/config_linking_tool.yml'"
   ]
  },
  {
   "cell_type": "markdown",
   "id": "12e4b1cb",
   "metadata": {},
   "source": [
    "## ii. import local packages"
   ]
  },
  {
   "cell_type": "code",
   "execution_count": 3,
   "id": "cba8fe2c",
   "metadata": {},
   "outputs": [],
   "source": [
    "from linkingtool import linking_utility as utils\n",
    "from linkingtool import linking_vis as vis\n",
    "from linkingtool import linking_solar as solar\n",
    "from linkingtool import linking_wind as wind\n",
    "from linkingtool import linking_data as dataprep"
   ]
  },
  {
   "cell_type": "code",
   "execution_count": 4,
   "id": "d6035f92",
   "metadata": {},
   "outputs": [],
   "source": [
    "\"\"\"\n",
    "__________________________________________________________________________________\n",
    "                                [ The Main Function Starts below ]\n",
    "__________________________________________________________________________________\n",
    "\"\"\"\n",
    "# def main(config_file_path):\n",
    "## iii. Setup the LOGGING directory and associated day/time\n",
    "\n",
    "log_path=f'workflow/log/data_preparation_log.txt'\n",
    "log=utils.create_log(log_path)"
   ]
  },
  {
   "cell_type": "markdown",
   "id": "ce361ba7",
   "metadata": {},
   "source": [
    "## Load Config and Set some sub-config dict."
   ]
  },
  {
   "cell_type": "code",
   "execution_count": 5,
   "id": "42d720a1",
   "metadata": {},
   "outputs": [
    {
     "name": "stderr",
     "output_type": "stream",
     "text": [
      "2024-09-18 11:39:42 - INFO - All directories have been created successfully.\n",
      "2024-09-18 11:39:42 - INFO - Processing the datafiles for British Columbia[BC]\n"
     ]
    },
    {
     "name": "stdout",
     "output_type": "stream",
     "text": [
      " >> !! 'data' already exists\n",
      " >> !! 'clews_data' already exists\n",
      " >> !! 'downloaded_data' already exists\n",
      " >> !! 'CODERS' already exists\n",
      " >> !! 'network' already exists\n",
      " >> !! 'supply' already exists\n",
      " >> !! 'demand' already exists\n",
      " >> !! 'reserve' already exists\n",
      " >> !! 'fuel_price' already exists\n",
      " >> !! 'emission' already exists\n",
      " >> !! 'macro_indicators' already exists\n",
      " >> !! 'cutout' already exists\n",
      " >> !! 'GADM' already exists\n",
      " >> !! 'GAEZ' already exists\n",
      " >> !! 'GWA' already exists\n",
      " >> !! 'Gov' already exists\n",
      " >> !! 'Conservation_Lands' already exists\n",
      " >> !! 'Population' already exists\n",
      " >> !! 'CEEI' already exists\n",
      " >> !! 'load' already exists\n",
      "'load' has no subdirectories\n",
      " >> !! 'OEDB' already exists\n",
      " >> !! 'OSM' already exists\n",
      " >> !! 'aeroway' already exists\n",
      " >> !! 'regions' already exists\n",
      "'regions' has no subdirectories\n",
      " >> !! 'wind' already exists\n",
      "'wind' has no subdirectories\n",
      " >> !! 'NREL' already exists\n",
      " >> !! 'ATB' already exists\n",
      " >> !! 'processed_data' already exists\n",
      " >> !! 'network' already exists\n",
      "'network' has no subdirectories\n",
      " >> !! 'wind' already exists\n",
      " >> !! 'existing' already exists\n",
      " >> !! 'potential' already exists\n",
      " >> !! 'solar' already exists\n",
      " >> !! 'existing' already exists\n",
      " >> !! 'potential' already exists\n",
      " >> !! 'linking_tool' already exists\n",
      " >> !! 'solar' already exists\n",
      " >> !! 'wind' already exists\n",
      " >> !! 'bess' already exists\n",
      " >> !! 'pypsa_data' already exists\n",
      " >> !! 'vis' already exists\n",
      " >> !! 'pypsa' already exists\n",
      " >> !! 'nexus' already exists\n",
      " >> !! 'linking' already exists\n",
      " >> !! 'solar' already exists\n",
      " >> !! 'Regional_cluster_Elbow_Plots' already exists\n",
      " >> !! 'Site_timeseries' already exists\n",
      " >> !! 'wind' already exists\n",
      " >> !! 'Regional_cluster_Elbow_Plots' already exists\n",
      " >> !! 'Site_timeseries' already exists\n",
      " >> !! 'misc' already exists\n",
      " >> !! 'results' already exists\n",
      " >> !! 'linking' already exists\n",
      " >> !! 'workflow' already exists\n",
      " >> !! 'log' already exists\n"
     ]
    }
   ],
   "source": [
    "# config_file_path='config/config_master.yml' # hush if not notebook\n",
    "config:dict[dict]=utils.load_config(config_file_path)\n",
    "\n",
    "base_path = os.getcwd()  # Or specify a different base path if needed\n",
    "\n",
    "# Recreate the directory structure\n",
    "utils.create_directories(base_path, config['required_directories'])\n",
    "log.info(\"All directories have been created successfully.\")\n",
    "\n",
    "\n",
    "linking_data:dict[dict]=config['processed_data']['linking']\n",
    "disaggregation_config:dict[dict]=config['capacity_disaggregation']\n",
    "vis_dirc=config['visualization']['linking']\n",
    "\n",
    "# Set Current Region and Processed Data Directory from User Config\n",
    "country:str = config['country']\n",
    "current_region:dict[dict]=config['regional_info']['region_1']\n",
    "_CRC_ = current_region['code'] #current region short-code\n",
    "log.info(f\"Processing the datafiles for {current_region['name']}[{_CRC_}]\")"
   ]
  },
  {
   "cell_type": "markdown",
   "id": "02769c43",
   "metadata": {},
   "source": [
    "## i. Create Required Directories"
   ]
  },
  {
   "cell_type": "code",
   "execution_count": 6,
   "id": "5e0b629f",
   "metadata": {},
   "outputs": [],
   "source": [
    "# Get the required directories from the configuration\n",
    "    \n",
    "data_download_root='data/downloaded_data'"
   ]
  },
  {
   "cell_type": "markdown",
   "id": "4b2d5219",
   "metadata": {},
   "source": [
    "## ii. Units' Dictionary"
   ]
  },
  {
   "cell_type": "code",
   "execution_count": 7,
   "id": "0486b4de",
   "metadata": {
    "lines_to_next_cell": 2
   },
   "outputs": [
    {
     "name": "stderr",
     "output_type": "stream",
     "text": [
      "2024-09-18 11:39:42 - INFO - Units Dictionary Created and saved to 'data/Data_Units.xlsx'\n"
     ]
    }
   ],
   "source": [
    "# Create Units Dictionary in Excel\n",
    "units_file_path=config['units_dictionary']\n",
    "dataprep.create_units_dictionary(units_file_path)"
   ]
  },
  {
   "cell_type": "markdown",
   "id": "fdb173cd",
   "metadata": {},
   "source": [
    "## iii. GADM data"
   ]
  },
  {
   "cell_type": "code",
   "execution_count": 8,
   "id": "d21de5d7",
   "metadata": {
    "lines_to_next_cell": 2
   },
   "outputs": [
    {
     "name": "stderr",
     "output_type": "stream",
     "text": [
      "2024-09-18 11:39:44 - INFO - GADM (level=2) BC Boundary loaded. No. of Regions : 28\n",
      "2024-09-18 11:39:44 - INFO - Directory 'vis/misc/BC_gadm_regions.png' found locally.\n",
      "2024-09-18 11:39:44 - INFO - Forcefully ran '<lambda>' on 'data/downloaded_data/GADM/BC_gadm_regions.geojson'.\n",
      "2024-09-18 11:39:44 - INFO - Updating population data\n",
      "2024-09-18 11:39:44 - INFO - population data imputed to GADM datafile\n"
     ]
    }
   ],
   "source": [
    "#  Prepare Regional Boundaries (GADM)\n",
    "GADM_file_save_to:str = os.path.join(config['GADM']['root'],config['GADM']['datafile'])\n",
    "admin_level=2\n",
    "plot_save_to:str=os.path.join(\"vis/misc\",f\"{_CRC_}_gadm_regions.png\")\n",
    "\n",
    "utils.check_LocalCopy_and_run_function(\n",
    "    GADM_file_save_to,\n",
    "    lambda:dataprep.prepare_GADM_data(\n",
    "        country,\n",
    "        current_region,\n",
    "        GADM_file_save_to,\n",
    "        plot_save_to,\n",
    "        admin_level),\n",
    "    force_update=True)\n",
    "\n",
    "#load datafile as GeoDataFrame for further usage in plotting\n",
    "province_gadm_regions_gdf:gpd.GeoDataFrame=gpd.read_file(GADM_file_save_to)\n",
    "\n",
    "#impute population data to GADM gdf\n",
    "config_population:dict=config['Gov']['Population']\n",
    "population_csv_data_path=os.path.join(config_population['root'],config_population['datafile'])\n",
    "\n",
    "log.info(f\"Updating population data\")\n",
    "province_gadm_regions_gdf= utils.update_population_data(config_population,province_gadm_regions_gdf,population_csv_data_path)\n",
    "\n",
    "province_gadm_regions_gdf.to_file(GADM_file_save_to,driver='GeoJSON') #save the local file as geojson\n",
    "log.info(\"population data imputed to GADM datafile\")"
   ]
  },
  {
   "cell_type": "markdown",
   "id": "6a53149a",
   "metadata": {
    "lines_to_next_cell": 0
   },
   "source": [
    "## iv. CODERS data\n",
    "    log.info(f\"Processing CODERS data...\")"
   ]
  },
  {
   "cell_type": "code",
   "execution_count": 9,
   "id": "d0cabf38",
   "metadata": {},
   "outputs": [
    {
     "name": "stderr",
     "output_type": "stream",
     "text": [
      "2024-09-18 11:39:44 - WARNING - If you are using limited time access key from the developer. Please contact mailto:modellingteam.sesit@uvic.ca to request your own access keys.\n",
      "2024-09-18 11:39:44 - INFO - Lines data for BC found locally at : data/processed_data/lines_BC.csv\n",
      "2024-09-18 11:39:44 - INFO - BUS data for BC found locally at : data/processed_data/buses_BC.csv\n",
      "2024-09-18 11:39:44 - INFO - Transmission nodes' plot saved to vis/misc/BC_Transmission.png\n"
     ]
    },
    {
     "name": "stdout",
     "output_type": "stream",
     "text": [
      ">> !! \n",
      " Please Check API documentation for more details >> https://sesit.dev/api/docs\n",
      "\n"
     ]
    },
    {
     "name": "stderr",
     "output_type": "stream",
     "text": [
      "2024-09-18 11:39:45 - INFO - Plot for Grid Nodes Generated and saved as vis/misc/BC_Transmission.png\n"
     ]
    }
   ],
   "source": [
    "CODERS_data:dict=config['CODERS']\n",
    "CODERS_url:str=CODERS_data['url_1']\n",
    "api_key_elias:str='?key='+CODERS_data['api_key']['Elias']\n",
    "\n",
    "log.warning(f\"If you are using limited time access key from the developer. Please contact {CODERS_data['api_key']['contact_for_request']} to request your own access keys.\")\n",
    "print(f\">> !! \\n Please Check API documentation for more details >> {CODERS_data['api_documentation']}\\n\")\n",
    "\n",
    "# >>>>>>>>>>> Currently sourcing from PYPSA data prep scripts\n",
    "# generators_df:pd.DataFrame=dataprep.create_dataframe_from_CODERS('generators',CODERS_url,api_key_elias)\n",
    "\n",
    "provincial_bus_csv_file_path=disaggregation_config['transmission']['buses']\n",
    "provincial_lines_csv_file_path=disaggregation_config['transmission']['lines'] #required for buses datafile preparation\n",
    "\n",
    "if os.path.exists(provincial_bus_csv_file_path):\n",
    "    log.info(f\"Lines data for {current_region['code']} found locally at : {provincial_lines_csv_file_path}\")\n",
    "    pass\n",
    "else:\n",
    "    tx_lines_df:pd.DataFrame=dataprep.create_dataframe_from_CODERS('transmission_lines',CODERS_url,api_key_elias)\n",
    "    provincial_mask=tx_lines_df['province']==_CRC_\n",
    "    province_tx_lines:pd.DataFrame=tx_lines_df[provincial_mask]\n",
    "\n",
    "    province_tx_lines.to_csv(provincial_lines_csv_file_path)\n",
    "    log.info(f\"Lines data data created for {_CRC_} and saved to {provincial_lines_csv_file_path}\")\n",
    "\n",
    "if os.path.exists(provincial_bus_csv_file_path):\n",
    "    log.info(f\"BUS data for {current_region['code']} found locally at : {provincial_bus_csv_file_path}\")\n",
    "    pass\n",
    "else:\n",
    "    substations_df=dataprep.create_dataframe_from_CODERS('substations',CODERS_url,api_key_elias)\n",
    "    provincial_mask=substations_df['province']==_CRC_\n",
    "    province_SS:pd.DataFrame=substations_df[provincial_mask]\n",
    "\n",
    "    utils.check_LocalCopy_and_run_function(provincial_bus_csv_file_path,lambda:dataprep.create_bus_df(province_tx_lines, province_SS,provincial_bus_csv_file_path),force_update=True)\n",
    "    log.info(f\"BUS data created for {current_region['code']} and saved to {provincial_bus_csv_file_path}\")\n",
    "\n",
    "provincial_bus_df:pd.DataFrame=pd.read_csv(provincial_bus_csv_file_path)\n",
    "\n",
    "nodes_datafile_name=linking_data['transmission']['nodes_datafile']\n",
    "nodes_datafile_save_to=os.path.join('data/processed_data',nodes_datafile_name)\n",
    "plot_save_to=os.path.join(\"vis/misc\",nodes_datafile_name.replace('.pkl','.png'))\n",
    "log.info(f\"Transmission nodes' plot saved to {plot_save_to}\")\n",
    "\n",
    "provincial_bus_gdf=dataprep.create_grid_nodes(provincial_bus_df,province_gadm_regions_gdf,nodes_datafile_save_to,plot_save_to)"
   ]
  },
  {
   "cell_type": "markdown",
   "id": "ac5298ac",
   "metadata": {},
   "source": [
    "## v. OEDB Turbine Config"
   ]
  },
  {
   "cell_type": "code",
   "execution_count": 10,
   "id": "3d1959c5",
   "metadata": {},
   "outputs": [
    {
     "name": "stderr",
     "output_type": "stream",
     "text": [
      "2024-09-18 11:39:47 - INFO - Formatted data saved to 'data/downloaded_data/OEDB/3.2M114_NES.yaml'\n"
     ]
    }
   ],
   "source": [
    "OEDB_config=disaggregation_config['wind']['turbines']['OEDB']\n",
    "id1=OEDB_config['model_1']['ID']\n",
    "id2=OEDB_config['model_2']['ID']\n",
    "ids_to_search = [id1, id2]\n",
    "\n",
    "OEDB_source=OEDB_config['source']\n",
    "OEDB_data = get(OEDB_source)\n",
    "OEDB_turbines_dict=OEDB_data.json()\n",
    "\n",
    "for turbine_id in ids_to_search:\n",
    "    turbine_data = dataprep.get_OEDB_dict(OEDB_turbines_dict, 'id', turbine_id)\n",
    "\n",
    "if turbine_data:\n",
    "    dataprep.format_and_save_turbine_config(turbine_data, os.path.join(data_download_root,\"OEDB\"))\n",
    "else:\n",
    "    log.info(f\"No data found for turbine ID {turbine_id}\")"
   ]
  },
  {
   "cell_type": "markdown",
   "id": "bb872526",
   "metadata": {},
   "source": [
    "## vi. Cutout (weather data)"
   ]
  },
  {
   "cell_type": "markdown",
   "id": "4d513653",
   "metadata": {},
   "source": [
    "### a. Bounding Box with MBR from GADM"
   ]
  },
  {
   "cell_type": "code",
   "execution_count": 11,
   "id": "5a09c754",
   "metadata": {},
   "outputs": [
    {
     "name": "stderr",
     "output_type": "stream",
     "text": [
      "2024-09-18 11:39:47 - INFO - Calculating the Minimum Bounding Region (MBR) for British Columbia\n",
      "2024-09-18 11:39:47 - INFO - Geospatial Bounding Box Created for BC Province\n",
      "2024-09-18 11:39:47 - INFO - Minimum Bounding Rectangle (MBR) created and visuals saved to data/downloaded_data/cutout/BC_MBR.geojson\n"
     ]
    },
    {
     "data": {
      "image/png": "[encoded data removed]",
      "text/plain": [
       "<Figure size 640x480 with 1 Axes>"
      ]
     },
     "metadata": {},
     "output_type": "display_data"
    }
   ],
   "source": [
    "# Bounding Box (Minimum Bounding Rectangle) from GADM boundary\n",
    "bounding_box_save_to:str=os.path.join(config['cutout']['root'],f\"{_CRC_}_MBR.geojson\")\n",
    "bounding_box:dict=dataprep.plot_n_save_bounding_box(province_gadm_regions_gdf,current_region,bounding_box_save_to)\n",
    "log.info(f\"Minimum Bounding Rectangle (MBR) created and visuals saved to {bounding_box_save_to}\")"
   ]
  },
  {
   "cell_type": "markdown",
   "id": "0cd18663",
   "metadata": {},
   "source": [
    "### Prepare ERA5 Cutout"
   ]
  },
  {
   "cell_type": "code",
   "execution_count": 12,
   "id": "cef2bd3c",
   "metadata": {},
   "outputs": [],
   "source": [
    "cutout_config=config['cutout']"
   ]
  },
  {
   "cell_type": "markdown",
   "id": "4d9fb4e9",
   "metadata": {},
   "source": [
    "### a. Bounding Box with MBR from GADM"
   ]
  },
  {
   "cell_type": "code",
   "execution_count": 13,
   "id": "fd3ce27c",
   "metadata": {},
   "outputs": [
    {
     "name": "stderr",
     "output_type": "stream",
     "text": [
      "2024-09-18 11:39:47 - INFO - Calculating the Minimum Bounding Region (MBR) for British Columbia\n"
     ]
    },
    {
     "name": "stderr",
     "output_type": "stream",
     "text": [
      "2024-09-18 11:39:47 - INFO - Geospatial Bounding Box Created for BC Province\n",
      "2024-09-18 11:39:47 - INFO - Minimum Bounding Rectangle (MBR) created and visuals saved to data/downloaded_data/cutout/BC_MBR.geojson\n"
     ]
    },
    {
     "data": {
      "image/png": "[encoded data removed]",
      "text/plain": [
       "<Figure size 640x480 with 1 Axes>"
      ]
     },
     "metadata": {},
     "output_type": "display_data"
    }
   ],
   "source": [
    "# Bounding Box (Minimum Bounding Rectangle) from GADM boundary\n",
    "bounding_box_save_to:str=os.path.join(config['cutout']['root'],f\"{_CRC_}_MBR.geojson\")\n",
    "bounding_box:gpd.GeoDataFrame=dataprep.plot_n_save_bounding_box(province_gadm_regions_gdf,current_region,bounding_box_save_to)\n",
    "log.info(f\"Minimum Bounding Rectangle (MBR) created and visuals saved to {bounding_box_save_to}\")"
   ]
  },
  {
   "cell_type": "markdown",
   "id": "50fa8def",
   "metadata": {},
   "source": [
    "* dataset timeindex issue has not been resolved by atlite [https://github.com/PyPSA/atlite/issues/379#issuecomment-2359214332]"
   ]
  },
  {
   "cell_type": "code",
   "execution_count": 51,
   "id": "64d31d3a",
   "metadata": {},
   "outputs": [],
   "source": [
    "# cutout_func=create_era5_cutout(_CRC_,bounding_box,cutout_config)  "
   ]
  },
  {
   "cell_type": "markdown",
   "id": "8c8aae0d",
   "metadata": {},
   "source": [
    "## vii. GAEZ data"
   ]
  },
  {
   "cell_type": "code",
   "execution_count": null,
   "id": "ef06d0a3",
   "metadata": {},
   "outputs": [],
   "source": [
    "log.info(f\"Preparing GAEZ raster files\")\n",
    "dataprep.prepare_GAEZ_raster_files(config,province_gadm_regions_gdf)"
   ]
  },
  {
   "cell_type": "markdown",
   "id": "f4ebaf2c",
   "metadata": {},
   "source": [
    "## viii. Gov. data"
   ]
  },
  {
   "cell_type": "markdown",
   "id": "aaf0d365",
   "metadata": {},
   "source": [
    "* CPCAD data"
   ]
  },
  {
   "cell_type": "code",
   "execution_count": 52,
   "id": "a0682514",
   "metadata": {},
   "outputs": [
    {
     "name": "stderr",
     "output_type": "stream",
     "text": [
      "2024-09-18 12:19:16 - INFO - Preparing Conservation and Protected Lands Data\n",
      "2024-09-18 12:19:16 - INFO - Directory 'data/downloaded_data/Gov/Conservation_Lands/ProtectedConservedArea_2022.gdb.zip' found locally.\n",
      "2024-09-18 12:19:16 - INFO - Directory 'data/linking_tool/CPCAD_BC.parquet' found locally.\n",
      "2024-09-18 12:19:16 - INFO - Directory 'vis/misc/BC_Conservation_Protected_Lands.png' found locally.\n"
     ]
    }
   ],
   "source": [
    "log.info(f\"Preparing Conservation and Protected Lands Data\")\n",
    "# Conservation and Protected Lands Data\n",
    "# source_URL=r\"https://data-donnees.az.ec.gc.ca/api/file?path=%2Fspecies%2Fprotectrestore%2Fcanadian-protected-conserved-areas-database%2FDatabases%2FProtectedConservedArea_2022.gdb.zip\"\n",
    "gov_conservation_lands:dict=config['Gov']['conservation_lands']\n",
    "source_URL:str=gov_conservation_lands['source_url']\n",
    "gdb_file_name:str = gov_conservation_lands['geodatabase_file']\n",
    "data_root:str=gov_conservation_lands['data_root']\n",
    "gdb_file_path=os.path.join(data_root,gdb_file_name)\n",
    "zip_file_path=str(gdb_file_path+'.zip')\n",
    "\n",
    "# download_gov_protected_areas_data_resources(source_URL,zip_file_path)\n",
    "utils.check_LocalCopy_and_run_function(zip_file_path,lambda:utils.download_data(source_URL,zip_file_path),force_update=False)\n",
    "\n",
    "provincial_mask_data_file=os.path.join(linking_data['root'],linking_data['CPCAD_org'])\n",
    "utils.check_LocalCopy_and_run_function(provincial_mask_data_file, lambda:dataprep.extract_provincial_data_from_gov_conservation_lands(province_gadm_regions_gdf,gov_conservation_lands,current_region,provincial_mask_data_file),force_update=False)\n",
    "\n",
    "provincial_conservation_protected_lands=gpd.read_parquet(provincial_mask_data_file)\n",
    "\n",
    "# Visualize\n",
    "plot_save_to=os.path.join('vis/misc',f\"{_CRC_}_Conservation_Protected_Lands.png\")\n",
    "utils.check_LocalCopy_and_run_function(plot_save_to, lambda: dataprep.create_plots_protected_lands(provincial_conservation_protected_lands,gov_conservation_lands,current_region,province_gadm_regions_gdf,plot_save_to),force_update=False)\n",
    "\n"
   ]
  },
  {
   "cell_type": "markdown",
   "id": "082837d1",
   "metadata": {},
   "source": [
    "* CEEI data"
   ]
  },
  {
   "cell_type": "code",
   "execution_count": 53,
   "id": "abc0e779",
   "metadata": {},
   "outputs": [
    {
     "name": "stderr",
     "output_type": "stream",
     "text": [
      "2024-09-18 12:19:16 - INFO - Processing Community Energy and Emissions Inventory (CEEI) data...\n",
      "2024-09-18 12:19:16 - INFO - Directory 'data/downloaded_data/Gov/CEEI/bc_utilities_energy_and_emissions_data_at_the_community_level.xlsx' found locally.\n",
      "2024-09-18 12:19:18 - INFO - File downloaded successfully and saved as data/downloaded_data/Gov/CEEI/bc_utilities_energy_and_emissions_data_at_the_community_level.xlsx\n",
      "2024-09-18 12:19:18 - INFO - Directory 'data/downloaded_data/Gov/CEEI/bc_on_road_transportation_data_at_the_community_level.xlsx' found locally.\n",
      "2024-09-18 12:19:20 - INFO - File downloaded successfully and saved as data/downloaded_data/Gov/CEEI/bc_on_road_transportation_data_at_the_community_level.xlsx\n",
      "2024-09-18 12:19:20 - INFO - Directory 'data/downloaded_data/Gov/CEEI/bc_municipal_solid_waste_data_at_the_community_level.xlsx' found locally.\n",
      "2024-09-18 12:19:20 - INFO - File downloaded successfully and saved as data/downloaded_data/Gov/CEEI/bc_municipal_solid_waste_data_at_the_community_level.xlsx\n"
     ]
    }
   ],
   "source": [
    "log.info(f\"Processing Community Energy and Emissions Inventory (CEEI) data...\")\n",
    "CEEI_data:dict=config['Gov']['CEEI']\n",
    "for key in CEEI_data['source']:\n",
    "    file_path=os.path.join(CEEI_data['root'],CEEI_data['datafile'][key])\n",
    "    utils.check_LocalCopy_and_run_function(file_path,lambda:utils.download_data(CEEI_data['source'][key],file_path),force_update=False)\n",
    "    utils.download_data(CEEI_data['source'][key],file_path)\n",
    "    # utils.download_data(CEEI_data['source'][key],os.path.join(CEEI_data['root'],os.path.basename(CEEI_data['source'][key])))"
   ]
  },
  {
   "cell_type": "markdown",
   "id": "1fed24bb",
   "metadata": {},
   "source": [
    "## ix. GWA Data"
   ]
  },
  {
   "cell_type": "code",
   "execution_count": 54,
   "id": "756c6cfd",
   "metadata": {},
   "outputs": [
    {
     "name": "stderr",
     "output_type": "stream",
     "text": [
      "2024-09-18 12:19:20 - INFO - Processing Global Wind Atlas (GWA) data...\n"
     ]
    }
   ],
   "source": [
    "# GWA Data\n",
    "log.info(f\"Processing Global Wind Atlas (GWA) data...\")\n",
    "wind_config=disaggregation_config['wind']\n",
    "GWA_config:dict[dict]=wind_config['GWA_resources']\n",
    "GWA_root_direct=os.path.join(data_download_root,\"GWA\")\n",
    "\n",
    "GWA_dataset:list=list(GWA_config['datafields'])\n",
    "GWA_url_sources:dict[dict] = [GWA_config['url_sources'] [key] for key in GWA_dataset]\n",
    "GWA_rasters:list = [GWA_config['rasters'][key] for key in GWA_dataset]\n",
    "\n",
    "filter_params :dict[dict] = {\n",
    "    'windspeed_low': wind_config['windspeed_low'],\n",
    "    'windspeed_high': wind_config['windspeed_high'],\n",
    "    'CF_low': wind_config['CF_low'],\n",
    "    'CF_high': wind_config['CF_high']\n",
    "}\n",
    "\n",
    "processed_data_wind:dict[dict]=linking_data['wind']"
   ]
  },
  {
   "cell_type": "code",
   "execution_count": 55,
   "id": "43e64af4",
   "metadata": {},
   "outputs": [
    {
     "name": "stderr",
     "output_type": "stream",
     "text": [
      "2024-09-18 12:19:20 - INFO - Directory 'data/downloaded_data/GWA/Canada_wspd_100m.tif' found locally.\n",
      "2024-09-18 12:19:20 - INFO - Directory 'data/downloaded_data/GWA/CAN_capacity-factor_IEC2.tif' found locally.\n",
      "2024-09-18 12:19:20 - INFO - Directory 'data/downloaded_data/GWA/CAN_capacity-factor_IEC3.tif' found locally.\n",
      "2024-09-18 12:19:20 - INFO - Directory 'data/downloaded_data/GWA/CAN.IEC-class-extreme-loads.tif' found locally.\n"
     ]
    }
   ],
   "source": [
    "for url_source, raster in zip(GWA_url_sources,GWA_rasters):\n",
    "    raster_file_path=os.path.join(GWA_root_direct,raster)\n",
    "    utils.check_LocalCopy_and_run_function(raster_file_path, lambda: wind.download_GWA_data(GWA_root_direct,url_source, raster), force_update=False)"
   ]
  },
  {
   "cell_type": "code",
   "execution_count": 56,
   "id": "e3490b67",
   "metadata": {},
   "outputs": [
    {
     "name": "stderr",
     "output_type": "stream",
     "text": [
      "2024-09-18 12:19:20 - INFO - Directory 'data/linking_tool/wind/GWA_cells.pkl' found locally.\n",
      "2024-09-18 12:19:20 - INFO - Plot found locally @ vis/misc/BC_IEC_classes_ExTremeLoad.png\n",
      "2024-09-18 12:19:20 - INFO - Directory 'vis/misc/BC_IEC_classes_ExTremeLoad.png' created.\n"
     ]
    }
   ],
   "source": [
    "# column_names = ['windspeed_GWA', 'CF_mean_IEC1','CF_mean_IEC2','CF_mean_IEC3']\n",
    "# datafields= list(GWA_dataset)\n",
    "GWA_raster_paths = [os.path.join(GWA_root_direct,GWA_config['rasters'][key]) for key in GWA_dataset]\n",
    "save_to = os.path.join(linking_data['root'],\"wind\",processed_data_wind['gwa_cells_raw'])\n",
    "utils.check_LocalCopy_and_run_function(save_to,lambda:dataprep.create_regional_GWA_data(GWA_raster_paths,filter_params,GWA_dataset,bounding_box,save_to),force_update=False)\n",
    "\n",
    "GWA_IEC_Classes_raster=disaggregation_config['wind']['GWA_resources']['rasters']['IEC_Class_ExLoads']\n",
    "IEC_load_class_mapping_plot_save_to=os.path.join(\"vis/misc\",f\"{_CRC_}_IEC_classes_ExTremeLoad.png\")\n",
    "utils.check_LocalCopy_and_run_function(IEC_load_class_mapping_plot_save_to,lambda:dataprep.Create_IEC_load_class_mapping_plot(province_gadm_regions_gdf,GWA_IEC_Classes_raster,bounding_box,GWA_root_direct,IEC_load_class_mapping_plot_save_to),force_update=False)"
   ]
  },
  {
   "cell_type": "markdown",
   "id": "86b66949",
   "metadata": {},
   "source": [
    "## x. OSM Data"
   ]
  },
  {
   "cell_type": "markdown",
   "id": "a2f55749",
   "metadata": {},
   "source": [
    "* Pull Provincial data"
   ]
  },
  {
   "cell_type": "code",
   "execution_count": 57,
   "id": "7fe3c8ce",
   "metadata": {},
   "outputs": [
    {
     "name": "stderr",
     "output_type": "stream",
     "text": [
      "2024-09-18 12:19:20 - INFO - Processing Open Source Map (OSM) data...\n",
      "2024-09-18 12:19:20 - INFO - Directory 'data/downloaded_data/OSM/BC_osm.pbf' found locally.\n"
     ]
    }
   ],
   "source": [
    "log.info(f\"Processing Open Source Map (OSM) data...\")\n",
    "OSM_data:dict=config['OSM_data']\n",
    "\n",
    "province_osm_data_file_userdefined_name:str=OSM_data['province_datafile']\n",
    "file_path=os.path.join(OSM_data['root'],province_osm_data_file_userdefined_name)\n",
    "\n",
    "utils.check_LocalCopy_and_run_function(file_path,lambda: dataprep.prepare_province_OSM_datafile(OSM_data['root'],province_osm_data_file_userdefined_name),force_update=False)\n",
    "\n",
    "# * Load OSM provincial"
   ]
  },
  {
   "cell_type": "code",
   "execution_count": 58,
   "id": "023c16ab",
   "metadata": {},
   "outputs": [],
   "source": [
    "osm = OSM(file_path) # Future scope data resourced available here"
   ]
  },
  {
   "cell_type": "markdown",
   "id": "39b44795",
   "metadata": {},
   "source": [
    "* Prepare Aeroway data from the OSM data for BC"
   ]
  },
  {
   "cell_type": "code",
   "execution_count": 60,
   "id": "b4f5b9be",
   "metadata": {},
   "outputs": [
    {
     "name": "stderr",
     "output_type": "stream",
     "text": [
      "2024-09-18 12:20:02 - INFO - Processing aeroway data...\n"
     ]
    }
   ],
   "source": [
    "log.info(f\"Processing aeroway data...\")\n",
    "\n",
    "custom_filter={\"aeroway\": True}\n",
    "aeroway_data_save_to=OSM_data[\"aeroway\"]\n",
    "aeroway_file_name=OSM_data[\"aeroway_datafile\"]\n",
    "aeroway_file_path=os.path.join(aeroway_data_save_to,aeroway_file_name)\n",
    "aeroway = osm.get_pois(custom_filter=custom_filter)\n",
    "if not os.path.exists(aeroway_file_path):\n",
    "    aeroway.to_file(aeroway_file_path, driver='GeoJSON')"
   ]
  },
  {
   "cell_type": "markdown",
   "id": "f310f5cc",
   "metadata": {},
   "source": [
    "* Prepare user defined buffer area imputed aeroway"
   ]
  },
  {
   "cell_type": "code",
   "execution_count": null,
   "id": "8479041b",
   "metadata": {},
   "outputs": [],
   "source": [
    "wind_datafile_path"
   ]
  },
  {
   "cell_type": "code",
   "execution_count": null,
   "id": "ed0c3dac",
   "metadata": {},
   "outputs": [],
   "source": [
    "buffer_distance_m:dict = OSM_data['aeroway_buffer']# meters\n",
    "log.info(f\"Processing aeroway data with a buffer of {buffer_distance_m} meters..\")\n",
    "# Create and save buffers for solar and wind\n",
    "\n",
    "wind_datafile_path=os.path.join(linking_data['root'],\"wind\",linking_data['wind']['osm_aeroway_datafile'])\n",
    "utils.check_LocalCopy_and_run_function(wind_datafile_path,lambda: dataprep.create_and_save_buffered_gdf(aeroway, buffer_distance_m['wind'], 'wind',_CRC_,os.path.join(linking_data['root'],\"wind\")),force_update=False)\n",
    "            \n",
    "solar_datafile_path=os.path.join(linking_data['root'],\"solar\",linking_data['solar']['osm_aeroway_datafile'])\n",
    "utils.check_LocalCopy_and_run_function(solar_datafile_path,lambda: dataprep.create_and_save_buffered_gdf(aeroway, buffer_distance_m['solar'], 'solar',_CRC_,os.path.join(linking_data['root'],\"solar\")),force_update=False)\n",
    "\n",
    "aeroway_with_buffer_solar=gpd.read_parquet(solar_datafile_path)\n",
    "aeroway_with_buffer_wind=gpd.read_parquet(wind_datafile_path)"
   ]
  },
  {
   "cell_type": "code",
   "execution_count": null,
   "id": "43127e2c",
   "metadata": {},
   "outputs": [],
   "source": [
    "# * Annual Technology baseline (ATB) data from NREL \n",
    "log.info(f\"Processing Annual Technology Baseline (ATB) data sourced from NREL...\")\n",
    "config_NREL_ATB=config['NREL']['ATB']\n",
    "ATB_data_save_to=config_NREL_ATB['root']\n",
    "ATB_parquet_source=config_NREL_ATB['source']['parquet']\n",
    "ATB_datafile=config_NREL_ATB['datafile']['parquet']\n",
    "ATB_file_path=os.path.join(ATB_data_save_to,ATB_datafile)\n",
    "\n",
    "utils.check_LocalCopy_and_run_function(ATB_file_path,lambda:utils.download_data(ATB_parquet_source,ATB_file_path),force_update=False)\n",
    "\n",
    "ATB_cost=pd.read_parquet(ATB_file_path)\n",
    "log.info(f\"ATB cost datafile : {os.path.basename(ATB_file_path)} loaded\")\n",
    "# solar cost\n",
    "PV_cost_mask = (\n",
    "    (ATB_cost['technology_alias'] == 'Utility PV') &\n",
    "    (ATB_cost['core_metric_parameter'].isin(['CAPEX', 'Fixed O&M', 'Variable O&M'])) &\n",
    "    (ATB_cost['scenario'] == 'Moderate')&\n",
    "    (ATB_cost['core_metric_case'] == 'Market')&\n",
    "    (ATB_cost['techdetail'] == config['capacity_disaggregation']['solar']['NREL_ATB_type'])&\n",
    "    (ATB_cost['crpyears'] == '20')&\n",
    "    (ATB_cost['core_metric_variable'] == 2022)\n",
    "\n",
    ")\n",
    "\n",
    "# Apply the mask to filter the DataFrame\n",
    "utility_PV_cost = ATB_cost[PV_cost_mask].sort_values('core_metric_variable')\n",
    "utility_PV_cost.to_csv(config['capacity_disaggregation']['solar']['cost_data'])\n",
    "\n",
    "# Wind Cost\n",
    "land_based_wind_cost_mask = (\n",
    "    (ATB_cost['technology_alias'] == 'Land-Based Wind') &\n",
    "    (ATB_cost['core_metric_parameter'].isin(['CAPEX', 'Fixed O&M', 'Variable O&M'])) &\n",
    "    (ATB_cost['scenario'] == 'Moderate')&\n",
    "    (ATB_cost['core_metric_case'] == 'Market')&\n",
    "    (ATB_cost['techdetail2'] ==  config['capacity_disaggregation']['wind']['turbines']['NREL_ATB_type'])&  # Turbine Type 3 (of NREL method), size : ~ 3.3 MW, 148 m Rotor Dia, HubHeight 100m, wind plant ~ 200MW\n",
    "    (ATB_cost['crpyears'] == '20')&\n",
    "    (ATB_cost['core_metric_variable'] == 2022)\n",
    "\n",
    ")\n",
    "\n",
    "# Apply the mask to filter the DataFrame\n",
    "land_based_wind_cost = ATB_cost[land_based_wind_cost_mask].sort_values('core_metric_variable')\n",
    "land_based_wind_cost.to_csv(config['capacity_disaggregation']['wind']['cost_data'])\n",
    "\n",
    "# BESS\n",
    "# Create a boolean mask to filter rows in the DataFrame\n",
    "bess_cost_mask = (\n",
    "    (ATB_cost['technology_alias'] == 'Utility-Scale Battery Storage') &\n",
    "    (ATB_cost['core_metric_parameter'].isin(['CAPEX', 'Fixed O&M', 'Variable O&M'])) &\n",
    "    (ATB_cost['scenario'] == 'Moderate')&\n",
    "    (ATB_cost['core_metric_case'] == 'Market')&\n",
    "    (ATB_cost['techdetail'] == config['capacity_disaggregation']['bess']['NREL_ATB_type'])&\n",
    "    (ATB_cost['crpyears'] == '20')&\n",
    "    (ATB_cost['core_metric_variable'] == 2022)\n",
    "    \n",
    "    \n",
    ")\n",
    "\n",
    "# Apply the mask to filter the DataFrame\n",
    "bess_cost = ATB_cost[bess_cost_mask].sort_values('core_metric_variable')\n",
    "bess_cost.to_csv(config['capacity_disaggregation']['bess']['cost_data'])"
   ]
  },
  {
   "cell_type": "markdown",
   "id": "8b4dedf2",
   "metadata": {},
   "source": [
    "* Visualize"
   ]
  },
  {
   "cell_type": "code",
   "execution_count": null,
   "id": "e2c7f7bb",
   "metadata": {
    "lines_to_next_cell": 0
   },
   "outputs": [],
   "source": [
    "log.info(f\"Data preparation completed. \")\n",
    "log.info(f\"Creating key data/resource map...\")\n",
    "interactive_data_in_map=os.path.join(vis_dirc,f'{_CRC_}_key_data_map.html')\n",
    "vis.create_key_data_map_interactive (\n",
    "    province_gadm_regions_gdf,\n",
    "    provincial_conservation_protected_lands,\n",
    "    aeroway_with_buffer_solar,\n",
    "    aeroway_with_buffer_wind,\n",
    "    aeroway,\n",
    "    provincial_bus_gdf,\n",
    "    current_region,\n",
    "    OSM_data,\n",
    "    interactive_data_in_map\n",
    "    )\n",
    "log.info(f\"plot created as saved to :{interactive_data_in_map}\")"
   ]
  },
  {
   "cell_type": "code",
   "execution_count": null,
   "id": "d5a073ab",
   "metadata": {},
   "outputs": [],
   "source": [
    "# End the script run  timer\n",
    "script_end_time = time.time()\n",
    "\n",
    "# Calculate runtime in seconds\n",
    "runtime = round((script_end_time - script_start_time),2)\n",
    "log.info (f\"Script runtime: {runtime} seconds\")\n",
    "    return log.info (\"Data Preparation Completed.\")"
   ]
  },
  {
   "cell_type": "code",
   "execution_count": null,
   "id": "178ec1e2",
   "metadata": {},
   "outputs": [],
   "source": [
    "\n",
    "if __name__ == \"__main__\":\n",
    "    \n",
    "    # Set up argument parsing\n",
    "    parser = argparse.ArgumentParser(description='Run data preparation script')\n",
    "    parser.add_argument('config', type=str, help=f\"Path to the configuration file 'config_master.yml'\")\n",
    "    \n",
    "    # Parse the arguments\n",
    "    args = parser.parse_args()\n",
    "    main(args.config)\n",
    "    \n",
    "    #----------------------- for notebook run/Debugging------------------------------------\n",
    "    # config_file_path='config/config_master.yml'\n",
    "    # main(config_file_path)"
   ]
  }
 ],
 "metadata": {
  "jupytext": {
   "cell_metadata_filter": "-all",
   "main_language": "python",
   "notebook_metadata_filter": "-all"
  },
  "kernelspec": {
   "display_name": "Linking",
   "language": "python",
   "name": "python3"
  },
  "language_info": {
   "codemirror_mode": {
    "name": "ipython",
    "version": 3
   },
   "file_extension": ".py",
   "mimetype": "text/x-python",
   "name": "python",
   "nbconvert_exporter": "python",
   "pygments_lexer": "ipython3",
   "version": "3.12.1"
  }
 },
 "nbformat": 4,
 "nbformat_minor": 5
}
