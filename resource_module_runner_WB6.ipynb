{
 "cells": [
  {
   "cell_type": "code",
   "execution_count": 1,
   "metadata": {},
   "outputs": [],
   "source": [
    "import workflow.scripts.RESources as RES\n",
    "import pandas as pd\n",
    "import geopandas as gpd"
   ]
  },
  {
   "cell_type": "code",
   "execution_count": 7,
   "metadata": {},
   "outputs": [],
   "source": [
    "from RES.hdf5_handler import DataHandler\n",
    "import RES.visuals as vis\n",
    "store=f\"data/store/resources_AL.h5\"\n",
    "datahandler=DataHandler(store)"
   ]
  },
  {
   "cell_type": "code",
   "execution_count": 8,
   "metadata": {},
   "outputs": [],
   "source": [
    "gdf = gpd.read_file('data/downloaded_data/GADM/gadm41_Albania_L2.geojson')"
   ]
  },
  {
   "cell_type": "markdown",
   "metadata": {},
   "source": [
    "# Set Required Args to Activate Modules"
   ]
  },
  {
   "cell_type": "code",
   "execution_count": 9,
   "metadata": {},
   "outputs": [
    {
     "name": "stderr",
     "output_type": "stream",
     "text": [
      "2025-04-14 12:52:00,273 - INFO - Processing Annual Technology Baseline (ATB) data sourced from NREL...\n",
      "2025-04-14 12:52:00,274 - INFO - Directory 'data/downloaded_data/NREL/ATB/ATBe.parquet' found locally.\n"
     ]
    },
    {
     "name": "stderr",
     "output_type": "stream",
     "text": [
      "2025-04-14 12:52:00,412 - INFO - ATB cost datafile: ATBe.parquet loaded\n"
     ]
    },
    {
     "name": "stdout",
     "output_type": "stream",
     "text": [
      ">> Data saved to data/store/resources_AL.h5 with key 'cost/atb/solar'\n",
      ">> Data saved to data/store/resources_AL.h5 with key 'cost/atb/wind'\n",
      ">> Data saved to data/store/resources_AL.h5 with key 'cost/atb/bess'\n"
     ]
    },
    {
     "name": "stderr",
     "output_type": "stream",
     "text": [
      "2025-04-14 12:52:00,734 - INFO - Processing Annual Technology Baseline (ATB) data sourced from NREL...\n",
      "2025-04-14 12:52:00,735 - INFO - Directory 'data/downloaded_data/NREL/ATB/ATBe.parquet' found locally.\n",
      "2025-04-14 12:52:00,882 - INFO - ATB cost datafile: ATBe.parquet loaded\n"
     ]
    },
    {
     "name": "stdout",
     "output_type": "stream",
     "text": [
      ">> Data saved to data/store/resources_AL.h5 with key 'cost/atb/solar'\n",
      ">> Data saved to data/store/resources_AL.h5 with key 'cost/atb/wind'\n",
      ">> Data saved to data/store/resources_AL.h5 with key 'cost/atb/bess'\n"
     ]
    }
   ],
   "source": [
    "import workflow.scripts.RESources as RES\n",
    "import pandas as pd\n",
    "import geopandas as gpd\n",
    "\n",
    "# Iterate over provinces for both solar and wind resources\n",
    "resource_types = ['wind','solar']  #\n",
    "countries=['AL'] \n",
    "for country in countries:\n",
    "    for resource_type in resource_types:\n",
    "        required_args = {\n",
    "            \"config_file_path\": 'config/config.yaml',\n",
    "            \"region_short_code\": country,\n",
    "            \"resource_type\": resource_type\n",
    "        }\n",
    "        \n",
    "        # Create an instance of Resources and execute the module\n",
    "        RES_module = RES.RESources_builder(**required_args)\n",
    "        # RES_module.build(select_top_sites=True,\n",
    "        #                  use_pypsa_buses=False)\n",
    "        "
   ]
  },
  {
   "cell_type": "code",
   "execution_count": 10,
   "metadata": {},
   "outputs": [
    {
     "name": "stderr",
     "output_type": "stream",
     "text": [
      "2025-04-14 12:52:01,163 - INFO - Preparing Grid Cells...\n",
      "2025-04-14 12:52:01,163 - INFO - >> Loading GADM data for Albania from local datafile data/downloaded_data/GADM/gadm41_Albania_L2.geojson.\n",
      "2025-04-14 12:52:01,196 - INFO - Cutout already prepared.\n"
     ]
    },
    {
     "name": "stdout",
     "output_type": "stream",
     "text": [
      "\n",
      "    >>> Memory management remarks:\n",
      "    * After execution, all downloaded data is stored at cutout.path. By default, it is not loaded into memory, but into dask arrays. This keeps the memory consumption extremely low.\n",
      "    * The data is accessible in cutout.data, which is an xarray.Dataset. Querying the cutout gives us some basic information on which data is contained in it.\n",
      "    * For more operations related to cutout, check the tool docs @ https://atlite.readthedocs.io/en/master/examples/create_cutout.html#\n",
      "        \n",
      ">> Converting geometry column 'geometry' to WKT\n",
      ">> Updated and extended 'cells' saved to data/store/resources_AL.h5\n",
      ">> Converting geometry column 'geometry' to WKT\n",
      ">> Updated and extended 'boundary' saved to data/store/resources_AL.h5\n"
     ]
    },
    {
     "data": {
      "text/html": [
       "<div>\n",
       "<style scoped>\n",
       "    .dataframe tbody tr th:only-of-type {\n",
       "        vertical-align: middle;\n",
       "    }\n",
       "\n",
       "    .dataframe tbody tr th {\n",
       "        vertical-align: top;\n",
       "    }\n",
       "\n",
       "    .dataframe thead th {\n",
       "        text-align: right;\n",
       "    }\n",
       "</style>\n",
       "<table border=\"1\" class=\"dataframe\">\n",
       "  <thead>\n",
       "    <tr style=\"text-align: right;\">\n",
       "      <th></th>\n",
       "      <th>x</th>\n",
       "      <th>y</th>\n",
       "      <th>Country</th>\n",
       "      <th>geometry</th>\n",
       "    </tr>\n",
       "    <tr>\n",
       "      <th>cell</th>\n",
       "      <th></th>\n",
       "      <th></th>\n",
       "      <th></th>\n",
       "      <th></th>\n",
       "    </tr>\n",
       "  </thead>\n",
       "  <tbody>\n",
       "    <tr>\n",
       "      <th>Albania_20.0_39.75</th>\n",
       "      <td>20.00</td>\n",
       "      <td>39.75</td>\n",
       "      <td>Albania</td>\n",
       "      <td>POLYGON ((20.125 39.875, 20.125 39.65789, 20.1...</td>\n",
       "    </tr>\n",
       "    <tr>\n",
       "      <th>Albania_20.25_39.75</th>\n",
       "      <td>20.25</td>\n",
       "      <td>39.75</td>\n",
       "      <td>Albania</td>\n",
       "      <td>POLYGON ((20.125 39.875, 20.375 39.875, 20.375...</td>\n",
       "    </tr>\n",
       "    <tr>\n",
       "      <th>Albania_20.5_39.75</th>\n",
       "      <td>20.50</td>\n",
       "      <td>39.75</td>\n",
       "      <td>Albania</td>\n",
       "      <td>POLYGON ((20.375 39.875, 20.3754 39.875, 20.37...</td>\n",
       "    </tr>\n",
       "    <tr>\n",
       "      <th>Albania_19.75_40.0</th>\n",
       "      <td>19.75</td>\n",
       "      <td>40.00</td>\n",
       "      <td>Albania</td>\n",
       "      <td>POLYGON ((19.875 40.125, 19.875 40.02447, 19.8...</td>\n",
       "    </tr>\n",
       "    <tr>\n",
       "      <th>Albania_20.0_40.0</th>\n",
       "      <td>20.00</td>\n",
       "      <td>40.00</td>\n",
       "      <td>Albania</td>\n",
       "      <td>POLYGON ((19.875 40.125, 20.125 40.125, 20.125...</td>\n",
       "    </tr>\n",
       "    <tr>\n",
       "      <th>...</th>\n",
       "      <td>...</td>\n",
       "      <td>...</td>\n",
       "      <td>...</td>\n",
       "      <td>...</td>\n",
       "    </tr>\n",
       "    <tr>\n",
       "      <th>Albania_19.5_42.5</th>\n",
       "      <td>19.50</td>\n",
       "      <td>42.50</td>\n",
       "      <td>Albania</td>\n",
       "      <td>POLYGON ((19.625 42.375, 19.43096 42.375, 19.4...</td>\n",
       "    </tr>\n",
       "    <tr>\n",
       "      <th>Albania_19.75_42.5</th>\n",
       "      <td>19.75</td>\n",
       "      <td>42.50</td>\n",
       "      <td>Albania</td>\n",
       "      <td>POLYGON ((19.875 42.375, 19.625 42.375, 19.625...</td>\n",
       "    </tr>\n",
       "    <tr>\n",
       "      <th>Albania_20.0_42.5</th>\n",
       "      <td>20.00</td>\n",
       "      <td>42.50</td>\n",
       "      <td>Albania</td>\n",
       "      <td>POLYGON ((20.125 42.375, 19.875 42.375, 19.875...</td>\n",
       "    </tr>\n",
       "    <tr>\n",
       "      <th>Albania_20.25_42.5</th>\n",
       "      <td>20.25</td>\n",
       "      <td>42.50</td>\n",
       "      <td>Albania</td>\n",
       "      <td>POLYGON ((20.125 42.375, 20.125 42.52358, 20.1...</td>\n",
       "    </tr>\n",
       "    <tr>\n",
       "      <th>Albania_19.75_42.75</th>\n",
       "      <td>19.75</td>\n",
       "      <td>42.75</td>\n",
       "      <td>Albania</td>\n",
       "      <td>POLYGON ((19.65801 42.625, 19.6659 42.6298, 19...</td>\n",
       "    </tr>\n",
       "  </tbody>\n",
       "</table>\n",
       "<p>71 rows × 4 columns</p>\n",
       "</div>"
      ],
      "text/plain": [
       "                         x      y  Country  \\\n",
       "cell                                         \n",
       "Albania_20.0_39.75   20.00  39.75  Albania   \n",
       "Albania_20.25_39.75  20.25  39.75  Albania   \n",
       "Albania_20.5_39.75   20.50  39.75  Albania   \n",
       "Albania_19.75_40.0   19.75  40.00  Albania   \n",
       "Albania_20.0_40.0    20.00  40.00  Albania   \n",
       "...                    ...    ...      ...   \n",
       "Albania_19.5_42.5    19.50  42.50  Albania   \n",
       "Albania_19.75_42.5   19.75  42.50  Albania   \n",
       "Albania_20.0_42.5    20.00  42.50  Albania   \n",
       "Albania_20.25_42.5   20.25  42.50  Albania   \n",
       "Albania_19.75_42.75  19.75  42.75  Albania   \n",
       "\n",
       "                                                              geometry  \n",
       "cell                                                                    \n",
       "Albania_20.0_39.75   POLYGON ((20.125 39.875, 20.125 39.65789, 20.1...  \n",
       "Albania_20.25_39.75  POLYGON ((20.125 39.875, 20.375 39.875, 20.375...  \n",
       "Albania_20.5_39.75   POLYGON ((20.375 39.875, 20.3754 39.875, 20.37...  \n",
       "Albania_19.75_40.0   POLYGON ((19.875 40.125, 19.875 40.02447, 19.8...  \n",
       "Albania_20.0_40.0    POLYGON ((19.875 40.125, 20.125 40.125, 20.125...  \n",
       "...                                                                ...  \n",
       "Albania_19.5_42.5    POLYGON ((19.625 42.375, 19.43096 42.375, 19.4...  \n",
       "Albania_19.75_42.5   POLYGON ((19.875 42.375, 19.625 42.375, 19.625...  \n",
       "Albania_20.0_42.5    POLYGON ((20.125 42.375, 19.875 42.375, 19.875...  \n",
       "Albania_20.25_42.5   POLYGON ((20.125 42.375, 20.125 42.52358, 20.1...  \n",
       "Albania_19.75_42.75  POLYGON ((19.65801 42.625, 19.6659 42.6298, 19...  \n",
       "\n",
       "[71 rows x 4 columns]"
      ]
     },
     "execution_count": 10,
     "metadata": {},
     "output_type": "execute_result"
    }
   ],
   "source": [
    "RES_module.get_grid_cells()"
   ]
  },
  {
   "cell_type": "markdown",
   "metadata": {},
   "source": []
  },
  {
   "cell_type": "code",
   "execution_count": 11,
   "metadata": {},
   "outputs": [
    {
     "name": "stdout",
     "output_type": "stream",
     "text": [
      "Error: Key 'clusters/solar' not found in data/store/resources_AL.h5\n",
      "Error: Key 'clusters/wind' not found in data/store/resources_AL.h5\n",
      "Error: Key 'timeseries/clusters/solar' not found in data/store/resources_AL.h5\n",
      "Error: Key 'timeseries/clusters/wind' not found in data/store/resources_AL.h5\n"
     ]
    }
   ],
   "source": [
    "cells=datahandler.from_store('cells')\n",
    "boundary=datahandler.from_store('boundary')\n",
    "solar_clusters=datahandler.from_store('clusters/solar')\n",
    "wind_clusters=datahandler.from_store('clusters/wind')\n",
    "solar_clusters_ts=datahandler.from_store('timeseries/clusters/solar')\n",
    "wind_clusters_ts=datahandler.from_store('timeseries/clusters/wind')"
   ]
  },
  {
   "cell_type": "code",
   "execution_count": 12,
   "metadata": {},
   "outputs": [
    {
     "name": "stdout",
     "output_type": "stream",
     "text": [
      ">>> Selecting TOP Sites to for 10 GW Capacity Investment...\n",
      "____________________________________________________________________________________________________\n",
      "Selecting the Top Ranked Sites to invest in 10 GW resource\n",
      "____________________________________________________________________________________________________\n"
     ]
    },
    {
     "ename": "TypeError",
     "evalue": "'NoneType' object is not subscriptable",
     "output_type": "error",
     "traceback": [
      "\u001b[0;31m---------------------------------------------------------------------------\u001b[0m",
      "\u001b[0;31mTypeError\u001b[0m                                 Traceback (most recent call last)",
      "Cell \u001b[0;32mIn[12], line 1\u001b[0m\n\u001b[0;32m----> 1\u001b[0m resource_clusters_solar,cluster_timeseries_solar\u001b[38;5;241m=\u001b[39m\u001b[43mRES_module\u001b[49m\u001b[38;5;241;43m.\u001b[39;49m\u001b[43mselect_top_sites\u001b[49m\u001b[43m(\u001b[49m\u001b[43msolar_clusters\u001b[49m\u001b[43m,\u001b[49m\n\u001b[1;32m      2\u001b[0m \u001b[43m                                                                \u001b[49m\u001b[43msolar_clusters_ts\u001b[49m\u001b[43m,\u001b[49m\n\u001b[1;32m      3\u001b[0m \u001b[43m                                                                    \u001b[49m\u001b[43mresource_max_capacity\u001b[49m\u001b[38;5;241;43m=\u001b[39;49m\u001b[38;5;241;43m10\u001b[39;49m\u001b[43m)\u001b[49m\n\u001b[1;32m      5\u001b[0m resource_clusters_wind,cluster_timeseries_solar\u001b[38;5;241m=\u001b[39mRES_module\u001b[38;5;241m.\u001b[39mselect_top_sites(wind_clusters,\n\u001b[1;32m      6\u001b[0m                                                                 wind_clusters_ts,\n\u001b[1;32m      7\u001b[0m                                                                     resource_max_capacity\u001b[38;5;241m=\u001b[39m\u001b[38;5;241m20\u001b[39m)\n",
      "File \u001b[0;32m/local-scratch/localhome/mei3/eliasinul/work/RESource/workflow/scripts/RESources.py:494\u001b[0m, in \u001b[0;36mRESources_builder.select_top_sites\u001b[0;34m(sites, sites_timeseries, resource_max_capacity)\u001b[0m\n\u001b[1;32m    491\u001b[0m selected_rows:\u001b[38;5;28mlist\u001b[39m \u001b[38;5;241m=\u001b[39m []\n\u001b[1;32m    492\u001b[0m total_capacity:\u001b[38;5;28mfloat\u001b[39m \u001b[38;5;241m=\u001b[39m \u001b[38;5;241m0.0\u001b[39m\n\u001b[0;32m--> 494\u001b[0m top_sites:gpd\u001b[38;5;241m.\u001b[39mGeoDataFrame \u001b[38;5;241m=\u001b[39m sites[\u001b[43msites\u001b[49m\u001b[43m[\u001b[49m\u001b[38;5;124;43m'\u001b[39;49m\u001b[38;5;124;43mpotential_capacity\u001b[39;49m\u001b[38;5;124;43m'\u001b[39;49m\u001b[43m]\u001b[49m \u001b[38;5;241m>\u001b[39m \u001b[38;5;241m0\u001b[39m]\u001b[38;5;241m.\u001b[39mcopy()\n\u001b[1;32m    496\u001b[0m \u001b[38;5;28;01mif\u001b[39;00m top_sites[\u001b[38;5;124m'\u001b[39m\u001b[38;5;124mpotential_capacity\u001b[39m\u001b[38;5;124m'\u001b[39m]\u001b[38;5;241m.\u001b[39miloc[\u001b[38;5;241m0\u001b[39m] \u001b[38;5;241m<\u001b[39m resource_max_capacity \u001b[38;5;241m*\u001b[39m \u001b[38;5;241m1000\u001b[39m:\n\u001b[1;32m    497\u001b[0m     \u001b[38;5;66;03m# Iterate through the sorted GeoDataFrame\u001b[39;00m\n\u001b[1;32m    498\u001b[0m     \u001b[38;5;28;01mfor\u001b[39;00m index, row \u001b[38;5;129;01min\u001b[39;00m top_sites\u001b[38;5;241m.\u001b[39miterrows():\n\u001b[1;32m    499\u001b[0m         \u001b[38;5;66;03m# Check if adding the current row's capacity exceeds resource capacity\u001b[39;00m\n",
      "\u001b[0;31mTypeError\u001b[0m: 'NoneType' object is not subscriptable"
     ]
    }
   ],
   "source": [
    "resource_clusters_solar,cluster_timeseries_solar=RES_module.select_top_sites(solar_clusters,\n",
    "                                                                solar_clusters_ts,\n",
    "                                                                    resource_max_capacity=10)\n",
    "\n",
    "resource_clusters_wind,cluster_timeseries_solar=RES_module.select_top_sites(wind_clusters,\n",
    "                                                                wind_clusters_ts,\n",
    "                                                                    resource_max_capacity=20)"
   ]
  },
  {
   "cell_type": "code",
   "execution_count": null,
   "metadata": {},
   "outputs": [],
   "source": [
    "# resource_clusters_solar.plot('potential_capacity',legend=True)\n",
    "# resource_clusters_wind.plot('potential_capacity',legend=True)"
   ]
  },
  {
   "cell_type": "code",
   "execution_count": null,
   "metadata": {},
   "outputs": [],
   "source": [
    "import matplotlib.pyplot as plt\n",
    "import geopandas as gpd\n",
    "import pandas as pd\n",
    "legend_x_ax_offset=1\n",
    "# Ensure 'Region' is in the columns for both boundary and cells\n",
    "if 'Region' not in boundary.columns:\n",
    "    boundary = boundary.reset_index(inplace=True)\n",
    "\n",
    "# Assign a number to each region\n",
    "boundary['Region_Number'] = range(1, len(boundary) + 1)\n",
    "\n",
    "# Define custom bins and labels for solar and wind capacity\n",
    "solar_bins = [0, 100, 200, 300, 500, float('inf')]  # Custom ranges\n",
    "solar_labels = ['<100','100-200', '200-300', '300-500','>500']  # Labels for legend\n",
    "\n",
    "# Define custom bins and labels for solar and wind capacity\n",
    "wind_bins = [0, 300, 500, 1000, 2000,3000, float('inf')]  # Custom ranges\n",
    "wind_labels = ['<300','300-500', '500-1000', '1000-2000','2000-3000', '>3000']  # Labels for legend\n",
    "\n",
    "# Categorize potential_capacity_solar and potential_capacity_wind into bins\n",
    "resource_clusters_solar['solar_category'] = pd.cut(resource_clusters_solar['potential_capacity'], bins=solar_bins, labels=solar_labels, include_lowest=True)\n",
    "resource_clusters_wind['wind_category'] = pd.cut(resource_clusters_wind['potential_capacity'], bins=wind_bins, labels=wind_labels, include_lowest=True)\n",
    "\n",
    "# Create figure and axes for side-by-side plotting\n",
    "fig, (ax1, ax2) = plt.subplots(figsize=(18, 8), ncols=2)\n",
    "fig.suptitle(\"Potential Sites for Targeted Capacity Investments\", fontsize=16,weight='bold')\n",
    "# Set axis off for both subplots\n",
    "ax1.set_axis_off()\n",
    "ax2.set_axis_off()\n",
    "\n",
    "# Shadow effect offset\n",
    "shadow_offset = 0.01\n",
    "\n",
    "# Plot solar map on ax1\n",
    "# Add shadow effect for solar map\n",
    "boundary.geometry = boundary.geometry.translate(xoff=shadow_offset, yoff=-shadow_offset)\n",
    "boundary.plot(ax=ax1, color='None', edgecolor='grey', linewidth=1, alpha=0.7)  # Shadow layer\n",
    "boundary.geometry = boundary.geometry.translate(xoff=-shadow_offset, yoff=shadow_offset)\n",
    "\n",
    "# Plot solar cells\n",
    "resource_clusters_solar.plot(column='solar_category', ax=ax1, cmap='Wistia', legend=True, \n",
    "           legend_kwds={'title': \"Solar Capacity (MW)\", 'loc': 'upper right','bbox_to_anchor':(legend_x_ax_offset,1), 'frameon': False})\n",
    "\n",
    "# Plot actual boundary for solar map\n",
    "boundary.plot(ax=ax1, facecolor='none', edgecolor='black', linewidth=0.2, alpha=0.7)\n",
    "\"\"\"\n",
    "# Annotate region numbers for solar map\n",
    "for idx, row in boundary.iterrows():\n",
    "    centroid = row.geometry.centroid\n",
    "    ax1.annotate(f\"{row['Region_Number']}\", \n",
    "                 xy=(centroid.x, centroid.y), \n",
    "                 ha='center', va='center',\n",
    "                 fontsize=7, color='black',\n",
    "                 bbox=dict(facecolor='white', edgecolor='none', alpha=0.7, boxstyle='round,pad=0.2'))\n",
    "\"\"\"\n",
    "# Plot wind map on ax2\n",
    "# Add shadow effect for wind map\n",
    "boundary.geometry = boundary.geometry.translate(xoff=shadow_offset, yoff=-shadow_offset)\n",
    "boundary.plot(ax=ax2, color='None', edgecolor='grey', linewidth=1, alpha=0.7)  # Shadow layer\n",
    "boundary.geometry = boundary.geometry.translate(xoff=-shadow_offset, yoff=shadow_offset)\n",
    "\n",
    "# Plot wind cells\n",
    "resource_clusters_wind.plot(column='wind_category', ax=ax2, cmap='summer', legend=True, \n",
    "           legend_kwds={'title': \"Wind Capacity (MW)\", 'bbox_to_anchor':(legend_x_ax_offset,1), 'frameon': False})\n",
    "\n",
    "# Plot actual boundary for wind map\n",
    "boundary.plot(ax=ax2, facecolor='none', edgecolor='black', linewidth=0.2, alpha=0.7)\n",
    "\"\"\"\n",
    "# Annotate region numbers for wind map\n",
    "for idx, row in boundary.iterrows():\n",
    "    centroid = row.geometry.centroid\n",
    "    ax2.annotate(f\"{row['Region_Number']}\", \n",
    "                 xy=(centroid.x, centroid.y), \n",
    "                 ha='center', va='center',\n",
    "                 fontsize=8, color='black',\n",
    "                 bbox=dict(facecolor='white', edgecolor='none', alpha=0.7, boxstyle='round,pad=0.2'))\n",
    "\"\"\"\n",
    "# Adjust layout for cleaner appearance\n",
    "fig.patch.set_alpha(0)  # Make figure background transparent\n",
    "plt.tight_layout()\n",
    "\n",
    "# Show the side-by-side plot\n",
    "\n",
    "# plt.savefig('solar_wind_capacity_map.png',dpi=300)\n",
    "plt.show()"
   ]
  },
  {
   "cell_type": "code",
   "execution_count": null,
   "metadata": {},
   "outputs": [],
   "source": [
    "resource_clusters_wind.plot(column='potential_capacity',cmap='summer', legend=True,)"
   ]
  }
 ],
 "metadata": {
  "kernelspec": {
   "display_name": "RES",
   "language": "python",
   "name": "python3"
  },
  "language_info": {
   "codemirror_mode": {
    "name": "ipython",
    "version": 3
   },
   "file_extension": ".py",
   "mimetype": "text/x-python",
   "name": "python",
   "nbconvert_exporter": "python",
   "pygments_lexer": "ipython3",
   "version": "3.12.7"
  }
 },
 "nbformat": 4,
 "nbformat_minor": 2
}
