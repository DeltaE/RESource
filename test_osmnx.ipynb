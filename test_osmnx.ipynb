{
 "cells": [
  {
   "cell_type": "code",
   "execution_count": 2,
   "metadata": {},
   "outputs": [],
   "source": [
    "import osmnx as ox\n",
    "import geopandas as gpd\n",
    "import pandas as pd"
   ]
  },
  {
   "cell_type": "code",
   "execution_count": 3,
   "metadata": {},
   "outputs": [],
   "source": [
    "class OSM_power_network_processor:\n",
    "    def __init__(self, area_name: str, area_short_code: str):\n",
    "        self.area = area_name\n",
    "        self.area_sc = area_short_code\n",
    "        # Define the OSM tags for power infrastructure\n",
    "        self.tags = {'power': ['line','cable','minor_line', 'substation', 'tower', 'pole', 'generator','plant','terminal'],\n",
    "                     'substation':['transmission','distribution','minor_distribution','industrial']\n",
    "                     }\n",
    "\n",
    "    def load_power_network_from_OSM(self):\n",
    "        \"\"\"\n",
    "        Retrieve all power-related infrastructure within the specified area.\"\"\"\n",
    "        # Retrieve the power network data from OSM\n",
    "        self.power_network = ox.features_from_place(self.area, self.tags)\n",
    "\n",
    "    def save_local_file(self):\n",
    "        \"\"\"\n",
    "        Save the power network data to a GeoJSON file (optional).\n",
    "        \"\"\"\n",
    "        geojson_path = f\"{self.area_sc}.geojson\"  # Ensure file name is properly formatted\n",
    "        self.power_network.to_file(geojson_path, driver='GeoJSON')"
   ]
  },
  {
   "cell_type": "code",
   "execution_count": null,
   "metadata": {},
   "outputs": [],
   "source": [
    "# Example usage:\n",
    "processor = OSM_power_network_processor(\"British Columbia, Canada\",\"BC_power_OSM\")\n",
    "processor.load_power_network_from_OSM()\n",
    "processor.save_local_file()\n"
   ]
  },
  {
   "cell_type": "code",
   "execution_count": 4,
   "metadata": {},
   "outputs": [],
   "source": [
    "bc=gpd.read_file('BC_power_OSM.geojson')"
   ]
  },
  {
   "cell_type": "code",
   "execution_count": null,
   "metadata": {},
   "outputs": [],
   "source": [
    "bc.plot('power',legend=True)"
   ]
  },
  {
   "cell_type": "code",
   "execution_count": null,
   "metadata": {},
   "outputs": [],
   "source": [
    "# Example usage:\n",
    "processor = OSM_power_network_processor(\"Alberta, Canada\",\"AB_power_OSM\")\n",
    "processor.load_power_network_from_OSM()\n",
    "processor.save_local_file()\n"
   ]
  },
  {
   "cell_type": "code",
   "execution_count": null,
   "metadata": {},
   "outputs": [],
   "source": [
    "ab=gpd.read_file('AB_power_OSM.geojson')\n",
    "ab.plot('power',legend=True)"
   ]
  },
  {
   "cell_type": "code",
   "execution_count": null,
   "metadata": {},
   "outputs": [],
   "source": [
    "# Example usage:\n",
    "processor = OSM_power_network_processor(\"Bangladesh\",\"BD_power_OSM\")\n",
    "processor.load_power_network_from_OSM()\n",
    "processor.save_local_file()\n",
    "bd=gpd.read_file('BD_power_OSM.geojson')\n",
    "bd.plot('power',legend=True)"
   ]
  },
  {
   "cell_type": "code",
   "execution_count": null,
   "metadata": {},
   "outputs": [],
   "source": [
    "# Example of using 'CartoDB positron' basemap\n",
    "bd.explore('power', tiles='CartoDB positron',legend=True)\n"
   ]
  }
 ],
 "metadata": {
  "kernelspec": {
   "display_name": "linkingtool",
   "language": "python",
   "name": "python3"
  },
  "language_info": {
   "codemirror_mode": {
    "name": "ipython",
    "version": 3
   },
   "file_extension": ".py",
   "mimetype": "text/x-python",
   "name": "python",
   "nbconvert_exporter": "python",
   "pygments_lexer": "ipython3",
   "version": "3.12.5"
  }
 },
 "nbformat": 4,
 "nbformat_minor": 2
}
