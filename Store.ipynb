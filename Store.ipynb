{
 "cells": [
  {
   "cell_type": "markdown",
   "metadata": {},
   "source": [
    "# Load Store Handler Class"
   ]
  },
  {
   "cell_type": "code",
   "execution_count": 14,
   "metadata": {},
   "outputs": [],
   "source": [
    "from linkingtool.hdf5_handler import DataHandler\n",
    "import linkingtool.visuals as vis"
   ]
  },
  {
   "cell_type": "markdown",
   "metadata": {},
   "source": [
    "# Define Province Code"
   ]
  },
  {
   "cell_type": "code",
   "execution_count": 44,
   "metadata": {},
   "outputs": [],
   "source": [
    "province_code:str='AB'"
   ]
  },
  {
   "cell_type": "code",
   "execution_count": null,
   "metadata": {},
   "outputs": [],
   "source": [
    "store=f\"data/store/resources_{province_code}.h5\"\n",
    "datahandler=DataHandler(store)\n",
    "datahandler.show()"
   ]
  },
  {
   "cell_type": "code",
   "execution_count": null,
   "metadata": {},
   "outputs": [],
   "source": [
    "timeseries_clusters_solar=datahandler.from_store('timeseries_clusters_solar')\n",
    "timeseries_clusters_wind=datahandler.from_store('timeseries_clusters_wind')\n",
    "cells=datahandler.from_store('cells')\n",
    "clusters_solar=datahandler.from_store('clusters_solar')"
   ]
  },
  {
   "cell_type": "code",
   "execution_count": null,
   "metadata": {},
   "outputs": [],
   "source": [
    "cells.dissolve(by='Province')"
   ]
  },
  {
   "cell_type": "code",
   "execution_count": 50,
   "metadata": {},
   "outputs": [],
   "source": [
    "import pandas as pd\n",
    "import matplotlib.pyplot as plt\n",
    "\n",
    "# Assuming 'cells' is your GeoDataFrame or DataFrame with a 'Region' column\n",
    "# cells.plot('Region', edgecolor='yellow', linewidth=0.2)\n",
    "\n",
    "# Create the plot\n",
    "ax = cells.dissolve(by='Region').plot(edgecolor='none',color='skyblue',alpha=0.5)\n",
    "\n",
    "# Turn off the grid\n",
    "ax.grid(False)\n",
    "\n",
    "# Save the figure as an SVG file\n",
    "plt.savefig('plot2.svg', format='svg')\n",
    "\n",
    "# Optionally, you can also close the plot if you don't want to display it\n",
    "plt.close()\n"
   ]
  },
  {
   "cell_type": "code",
   "execution_count": 51,
   "metadata": {},
   "outputs": [],
   "source": [
    "import pandas as pd\n",
    "import matplotlib.pyplot as plt\n",
    "\n",
    "# Assuming 'cells' is your GeoDataFrame or DataFrame with a 'Region' column\n",
    "# cells.plot('Region', edgecolor='yellow', linewidth=0.2)\n",
    "\n",
    "# Create the plot\n",
    "ax = cells.plot('Region', edgecolor='yellow', linewidth=0.2)\n",
    "\n",
    "# Turn off the grid\n",
    "ax.grid(False)\n",
    "\n",
    "# Save the figure as an SVG file\n",
    "plt.savefig('plot.svg', format='svg')\n",
    "\n",
    "# Optionally, you can also close the plot if you don't want to display it\n",
    "plt.close()\n"
   ]
  },
  {
   "cell_type": "code",
   "execution_count": null,
   "metadata": {},
   "outputs": [],
   "source": [
    "import pandas as pd\n",
    "import plotly.graph_objects as go\n",
    "\n",
    "# Assuming 'df' is your DataFrame containing time series data\n",
    "df = timeseries_clusters_solar  # Load your DataFrame\n",
    "\n",
    "# Define a list of colors (you can customize this list as needed)\n",
    "colors = ['blue', 'orange', 'green', 'red', 'purple', 'brown', 'pink', 'gray']  # Add more colors if needed\n",
    "\n",
    "# Create a list of traces, one for each column\n",
    "traces = []\n",
    "for i, col in enumerate(df.columns):\n",
    "    trace = go.Scatter(\n",
    "        x=df.index,\n",
    "        y=df[col],\n",
    "        mode='lines',\n",
    "        name=col,\n",
    "        visible=False,\n",
    "        line=dict(color=colors[i % len(colors)])  # Cycle through colors\n",
    "    )\n",
    "    traces.append(trace)\n",
    "\n",
    "# Make the first column visible initially\n",
    "traces[0]['visible'] = True\n",
    "\n",
    "# Create dropdown options for each column\n",
    "dropdown_buttons = []\n",
    "for i, col in enumerate(df.columns):\n",
    "    button = dict(\n",
    "        args=[{'visible': [False] * len(df.columns)}],  # Make all traces invisible first\n",
    "        label=col,\n",
    "        method='update'\n",
    "    )\n",
    "    button['args'][0]['visible'][i] = True  # Make only the selected trace visible\n",
    "    dropdown_buttons.append(button)\n",
    "\n",
    "# Define the layout for the figure\n",
    "layout = go.Layout(\n",
    "    title=\"Time Series - Solar\",\n",
    "    xaxis_title=\"DateTime\",\n",
    "    yaxis_title=\"Value\",\n",
    "    updatemenus=[{\n",
    "        'buttons': dropdown_buttons,\n",
    "        'direction': 'down',\n",
    "        'showactive': True\n",
    "    }]\n",
    ")\n",
    "\n",
    "# Create the figure with all traces and layout\n",
    "fig = go.Figure(data=traces, layout=layout)\n",
    "\n",
    "# Show the figure\n",
    "fig.show()\n"
   ]
  },
  {
   "cell_type": "code",
   "execution_count": null,
   "metadata": {},
   "outputs": [],
   "source": [
    "import pandas as pd\n",
    "import plotly.graph_objects as go\n",
    "\n",
    "# Assuming 'df' is your DataFrame containing time series data\n",
    "df = timeseries_clusters_wind  # Load your DataFrame\n",
    "\n",
    "# Define a list of colors (you can customize this list as needed)\n",
    "colors = ['blue', 'orange', 'green', 'red', 'purple', 'brown', 'pink', 'gray']  # Add more colors if needed\n",
    "\n",
    "# Create a list of traces, one for each column\n",
    "traces = []\n",
    "for i, col in enumerate(df.columns):\n",
    "    trace = go.Scatter(\n",
    "        x=df.index,\n",
    "        y=df[col],\n",
    "        mode='lines',\n",
    "        name=col,\n",
    "        visible=False,\n",
    "        line=dict(color=colors[i % len(colors)])  # Cycle through colors\n",
    "    )\n",
    "    traces.append(trace)\n",
    "\n",
    "# Make the first column visible initially\n",
    "traces[0]['visible'] = True\n",
    "\n",
    "# Create dropdown options for each column\n",
    "dropdown_buttons = []\n",
    "for i, col in enumerate(df.columns):\n",
    "    button = dict(\n",
    "        args=[{'visible': [False] * len(df.columns)}],  # Make all traces invisible first\n",
    "        label=col,\n",
    "        method='update'\n",
    "    )\n",
    "    button['args'][0]['visible'][i] = True  # Make only the selected trace visible\n",
    "    dropdown_buttons.append(button)\n",
    "\n",
    "# Define the layout for the figure\n",
    "layout = go.Layout(\n",
    "    title=\"Time Series- Wind\",\n",
    "    xaxis_title=\"DateTime\",\n",
    "    yaxis_title=\"Value\",\n",
    "    updatemenus=[{\n",
    "        'buttons': dropdown_buttons,\n",
    "        'direction': 'down',\n",
    "        'showactive': True\n",
    "    }]\n",
    ")\n",
    "\n",
    "# Create the figure with all traces and layout\n",
    "fig = go.Figure(data=traces, layout=layout)\n",
    "\n",
    "# Show the figure\n",
    "fig.show()\n"
   ]
  },
  {
   "cell_type": "code",
   "execution_count": null,
   "metadata": {},
   "outputs": [],
   "source": [
    "cells"
   ]
  },
  {
   "cell_type": "code",
   "execution_count": null,
   "metadata": {},
   "outputs": [],
   "source": [
    "# data1=solar.get_CF_timeseries()\n",
    "# data2=solar.get_cell_capacity()\n",
    "# data3=solar.find_grid_nodes()\n",
    "# data5=solar.score_cells()\n",
    "# data=datahandler.from_store('cells') \n",
    "vis.get_selected_vs_missed_visuals(cells, \n",
    "                              'BC',\n",
    "                              'solar',\n",
    "                              lcoe_threshold=20, \n",
    "                              CF_threshold=0.15, \n",
    "                              capacity_threshold=1,\n",
    "                              text_box_x=.65,\n",
    "                              text_box_y=.965,\n",
    "                              title_x=.65,\n",
    "                              title_y=1,\n",
    "                              font_size=8,\n",
    "                              dpi=400,\n",
    "                              figsize=(8,6),\n",
    "                              save=True\n",
    "                              )"
   ]
  },
  {
   "cell_type": "code",
   "execution_count": 8,
   "metadata": {},
   "outputs": [],
   "source": [
    "lcoe_threshold=20\n",
    "wcss_tolr=0.05\n",
    "filtered_cells=cells[cells['lcoe_solar'] <= lcoe_threshold]\n",
    "filtered_clusters=clusters_solar[clusters_solar['lcoe_solar'] <= lcoe_threshold]"
   ]
  },
  {
   "cell_type": "code",
   "execution_count": null,
   "metadata": {},
   "outputs": [],
   "source": [
    "import geopandas as gpd\n",
    "import matplotlib.pyplot as plt\n",
    "\n",
    "# Define the LCOE threshold\n",
    "lcoe_threshold = 20  # You can set this to the appropriate value as needed\n",
    "\n",
    "# Create a figure with 1 row and 2 columns\n",
    "fig, ax = plt.subplots(1, 2, figsize=(12, 6))\n",
    "\n",
    "# Plot the selected cells on the left\n",
    "filtered_cells.plot(\n",
    "    column='lcoe_solar',\n",
    "    ax=ax[0],\n",
    "    edgecolor='white',\n",
    "    linewidth=0.2,\n",
    "    legend=True,\n",
    "    legend_kwds={'label': \"Cells LCOE ($/kWh)\", 'orientation': \"vertical\"}\n",
    ")\n",
    "ax[0].set_title('Cells')\n",
    "ax[0].set_xlabel('Longitude')\n",
    "ax[0].set_ylabel('Latitude')\n",
    "\n",
    "# Plot the filtered clusters on the right\n",
    "filtered_clusters.plot(\n",
    "    column='lcoe_solar',\n",
    "    ax=ax[1],\n",
    "    edgecolor='white',\n",
    "    linewidth=0.2,\n",
    "    legend=True,\n",
    "    # legend_kwds={'label': \"Cluster LCOE ($/kWh)\", 'orientation': \"vertical\"}\n",
    ")\n",
    "ax[1].set_title(f'Representative Clusters [@ WCSS tolerance {wcss_tolr}')\n",
    "ax[1].set_xlabel('Longitude')\n",
    "ax[1].set_ylabel('Latitude')\n",
    "\n",
    "# Set a common title for the entire figure\n",
    "fig.suptitle(f\"BC- Selected Cells vs their Clusters \\n[@ lcoe >={lcoe_threshold} $/kWh]\", fontsize=16, fontweight='bold')\n",
    "\n",
    "# Adjust layout\n",
    "plt.tight_layout()\n",
    "plt.subplots_adjust(top=0.85)  # Adjusts the top space to make room for the main title\n",
    "plt.savefig(f'vis/Solar/cells vs cluster_ALL REGIONS_BC')\n",
    "# Show the plots\n",
    "plt.show()\n"
   ]
  },
  {
   "cell_type": "code",
   "execution_count": null,
   "metadata": {},
   "outputs": [],
   "source": []
  }
 ],
 "metadata": {
  "kernelspec": {
   "display_name": "linkingtool",
   "language": "python",
   "name": "python3"
  },
  "language_info": {
   "codemirror_mode": {
    "name": "ipython",
    "version": 3
   },
   "file_extension": ".py",
   "mimetype": "text/x-python",
   "name": "python",
   "nbconvert_exporter": "python",
   "pygments_lexer": "ipython3",
   "version": "3.12.7"
  }
 },
 "nbformat": 4,
 "nbformat_minor": 2
}
