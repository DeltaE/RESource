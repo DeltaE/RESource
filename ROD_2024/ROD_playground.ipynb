{
 "cells": [
  {
   "cell_type": "code",
   "execution_count": 58,
   "metadata": {},
   "outputs": [],
   "source": [
    "import pandas as pd\n",
    "import geopandas as gpd\n",
    "from shapely.geometry import Point"
   ]
  },
  {
   "cell_type": "code",
   "execution_count": 59,
   "metadata": {},
   "outputs": [],
   "source": [
    "CFP24=pd.read_csv('BC_CFP24.csv',index_col='Sl.')"
   ]
  },
  {
   "cell_type": "code",
   "execution_count": 106,
   "metadata": {},
   "outputs": [],
   "source": [
    "# Define mapping dictionary for regions\n",
    "region_mapping = {\n",
    "    'Vancouver Island': 'Capital',\n",
    "    'South Interior West': 'Thompson-Nicola',\n",
    "    'Central Interior': 'Cariboo',\n",
    "    'North Coast': 'Skeena-QueenCharlotte',\n",
    "    'Peace': 'PeaceRiver'\n",
    "}\n",
    "\n",
    "# Create a new column with matched names\n",
    "CFP24['GADM_Region'] = CFP24['Regional system'].map(region_mapping)\n",
    "CFP24['Resource_type'] = 'wind'\n",
    "CFP24.to_csv('BC_CFP24.csv',index=True)"
   ]
  },
  {
   "cell_type": "code",
   "execution_count": null,
   "metadata": {},
   "outputs": [],
   "source": [
    "# Perform the merge\n",
    "merged_data = pd.merge(CFP24, boundary, left_on=\"GADM_Region\", right_on=\"Region\", how=\"inner\")\n",
    "\n",
    "# Convert merged DataFrame to a GeoDataFrame (assuming 'region_geom' is valid geometry)\n",
    "geo_merged = gpd.GeoDataFrame(merged_data, geometry=\"geometry\")\n",
    "\n",
    "geo_merged\n"
   ]
  },
  {
   "cell_type": "code",
   "execution_count": null,
   "metadata": {},
   "outputs": [],
   "source": [
    "# Create an interactive map\n",
    "geo_merged.explore(\n",
    "    column='Region',  # The column to color by\n",
    "    markersize='Project size in megawatts (MW)',  # The column determining marker size\n",
    "    legend=True,  # Show a legend\n",
    "    cmap='viridis'  # Colormap for visualization\n",
    ")\n"
   ]
  },
  {
   "cell_type": "code",
   "execution_count": 84,
   "metadata": {},
   "outputs": [],
   "source": [
    "rod=pd.read_excel('rod_202409.xlsm',sheet_name=\"Resource Options\",skiprows=1)"
   ]
  },
  {
   "cell_type": "code",
   "execution_count": 85,
   "metadata": {},
   "outputs": [],
   "source": [
    "# Convert to float to ensure proper type\n",
    "rod['Latitude'] = pd.to_numeric(rod['Latitude'], errors='coerce')\n",
    "rod['Longitude'] = pd.to_numeric(rod['Longitude'], errors='coerce')\n",
    "\n",
    "# Drop rows with invalid coordinates\n",
    "rod = rod.dropna(subset=['Latitude', 'Longitude'])\n",
    "\n",
    "# Create geometry column with correct longitude, latitude order\n",
    "rod['geometry'] = rod.apply(lambda row: Point(row['Longitude'], row['Latitude']), axis=1)\n",
    "\n",
    "# Convert to GeoDataFrame\n",
    "rod_gdf = gpd.GeoDataFrame(rod, geometry='geometry', crs='EPSG:4326')\n",
    "rod_gdf.to_pickle('ROD_processed.pkl')"
   ]
  },
  {
   "cell_type": "code",
   "execution_count": 86,
   "metadata": {},
   "outputs": [],
   "source": [
    "# Create a mask for rows with 'Solar' or 'Onshore Wind' in 'Resource Type'\n",
    "VREs_mask = ( (rod_gdf['Resource Type'] == 'Onshore Wind'))# |rod_gdf['Resource Type'] == 'Solar') \n",
    "# Apply the mask to filter the GeoDataFrame\n",
    "filtered_rod_gdf = rod_gdf[VREs_mask]\n",
    "\n",
    "# Display the filtered GeoDataFrame\n",
    "filtered_rod_gdf=filtered_rod_gdf.head(50)\n",
    "filtered_rod_gdf['Rank'] = range(1, len(filtered_rod_gdf) + 1)"
   ]
  },
  {
   "cell_type": "code",
   "execution_count": 87,
   "metadata": {},
   "outputs": [],
   "source": [
    "from linkingtool.hdf5_handler import DataHandler\n",
    "import linkingtool.visuals as vis\n",
    "store=f\"../data/store/resources_BC.h5\"\n",
    "datahandler=DataHandler(store)\n",
    "boundary=datahandler.from_store('boundary')"
   ]
  },
  {
   "cell_type": "code",
   "execution_count": null,
   "metadata": {},
   "outputs": [],
   "source": [
    "clusters_wind.head(10).explore('LCOE')"
   ]
  },
  {
   "cell_type": "code",
   "execution_count": 96,
   "metadata": {},
   "outputs": [],
   "source": [
    "cells=datahandler.from_store('cells')\n",
    "cells=cells[cells['potential_capacity_wind']>7]\n",
    "clusters_wind=datahandler.from_store('clusters/wind')#.head(5)\n",
    "clusters_solar=datahandler.from_store('clusters/solar').head(2)"
   ]
  },
  {
   "cell_type": "code",
   "execution_count": null,
   "metadata": {},
   "outputs": [],
   "source": [
    "import folium\n",
    "\n",
    "# Initialize a Folium map centered at the mean coordinates of the data\n",
    "map_center = [rod_gdf.geometry.y.mean(), filtered_rod_gdf.geometry.x.mean()]\n",
    "m = folium.Map(location=map_center, zoom_start=6, tiles=\"CartoDB positron\")  # Clean, modern map tiles\n",
    "\n",
    "# Create FeatureGroups for each type of layer\n",
    "boundary_group = folium.FeatureGroup(name=\"Boundary Layer\")\n",
    "wind_cells_group = folium.FeatureGroup(name=\"Wind Cells\")\n",
    "wind_clusters_group = folium.FeatureGroup(name=\"Wind Clusters\")\n",
    "solar_clusters_group = folium.FeatureGroup(name=\"Solar Clusters\")\n",
    "points_group = folium.FeatureGroup(name=\"Project Points\")\n",
    "\n",
    "# Add the boundary GeoDataFrame as a GeoJson layer\n",
    "boundary_layer = folium.GeoJson(\n",
    "    boundary,  # This is your boundary GeoDataFrame\n",
    "    style_function=lambda x: {\n",
    "        'fillColor': 'None',  # No fill color for the boundary\n",
    "        'color': 'slategray',  # Border color for boundary regions\n",
    "        'weight': .5,\n",
    "        'ls':\":\",\n",
    "        'fillOpacity': 0.2  # Transparency level\n",
    "    }\n",
    ")\n",
    "boundary_group.add_child(boundary_layer)\n",
    "\n",
    "# Add the MultiPolygon geometries (Wind Cells) directly to the map as GeoJson\n",
    "for _, row in cells.iterrows():\n",
    "    folium.GeoJson(\n",
    "        row.geometry,  # The MultiPolygon geometry\n",
    "        style_function=lambda x: {\n",
    "            'fillColor': 'violet',  # Color of the polygon\n",
    "            'color': 'violet',  # Border color of the polygon\n",
    "            'weight': .1,  # Border thickness\n",
    "            'fillOpacity': 0.1  # Fill opacity of the polygon\n",
    "        },\n",
    "        tooltip=folium.Tooltip(f\"{row['potential_capacity_wind']}<br>\"\n",
    "                               f\"Region: {row['Region']}<br>\"\n",
    "                               f\"LCOE ($/MWh): {row['LCOE_wind']}<br>\"\n",
    "                               f\"Windspeed_GWA: {round(row['windspeed_gwa'], 2)} m/s\")  # Show info on hover\n",
    "    ).add_to(wind_cells_group)\n",
    "\n",
    "# Add the MultiPolygon geometries (Wind Clusters) directly to the map as GeoJson\n",
    "for _, row in clusters_wind.iterrows():\n",
    "    folium.GeoJson(\n",
    "        row.geometry,  # The MultiPolygon geometry\n",
    "        style_function=lambda x: {\n",
    "            'fillColor': 'violet',  # Color of the polygon\n",
    "            'color': 'violet',  # Border color of the polygon\n",
    "            'weight': 0.5,  # Border thickness\n",
    "            'fillOpacity': 0.5  # Fill opacity of the polygon\n",
    "        },\n",
    "        tooltip=folium.Tooltip(f\"{round(row['potential_capacity']/1E3,2)} GW <br>\"\n",
    "                               f\"Region: {row['Region']}<br>\"\n",
    "                               f\"Rank: {row['Rank']}<br>\"\n",
    "                               f\"LCOE ($/MWh): {round(row['LCOE'],2)}<br>\"\n",
    "                               )  # Show info on hover\n",
    "    ).add_to(wind_clusters_group)\n",
    "\n",
    "# Add the MultiPolygon geometries (Solar Clusters) directly to the map as GeoJson\n",
    "for _, row in clusters_solar.iterrows():\n",
    "    folium.GeoJson(\n",
    "        row.geometry,  # The MultiPolygon geometry\n",
    "        style_function=lambda x: {\n",
    "            'fillColor': 'lawngreen',  # Color of the polygon\n",
    "            'color': 'lawngreen',  # Border color of the polygon\n",
    "            'weight': 1,  # Border thickness\n",
    "            'fillOpacity': 0.3  # Fill opacity of the polygon\n",
    "        },\n",
    "        tooltip=folium.Tooltip(f\"{round(row['potential_capacity']/1E3,2)} GW <br>\"\n",
    "                               f\"Region: {row['Region']}<br>\"\n",
    "                               f\"Rank: {row['Rank']}<br>\"\n",
    "                               f\"LCOE ($/MWh): {round(row['LCOE'],2)}<br>\"\n",
    "                               )  # Show info on hover\n",
    "    ).add_to(solar_clusters_group)\n",
    "\n",
    "# Add points to the map without clustering\n",
    "for _, row in filtered_rod_gdf.iterrows():\n",
    "    folium.CircleMarker(\n",
    "        location=(row.geometry.y, row.geometry.x),  # Lat, Long\n",
    "        radius=row['Installed Capacity (MW)'] * 0.04,  # Scale marker size\n",
    "        weight=.5,  # Thickness of the border\n",
    "        color='orange' if row['Resource Type'] == 'Solar' else 'navy',  # Different colors for resource types\n",
    "        fill=True,\n",
    "        fill_opacity=0.3,\n",
    "        popup=folium.Popup(f\"<b>{row['Project Name']}</b><br>\"\n",
    "                           f\"<b>{row['Resource Type']}</b><br>\"\n",
    "                           f\"<strong>Rank: {int(row['Rank'])}</strong> <br>\"\n",
    "                           f\"<strong>TUEC: {round(row['Total Adj UEC1 ($/MWh)'],2)}$/MWh</strong> <br>\"\n",
    "                           f\"<strong>{int(row['Installed Capacity (MW)'])} MW</strong><br>\"\n",
    "                           f\"<i>{row['Region']}</i>\", max_width=250),  # Clean and readable popup\n",
    "    ).add_to(points_group)\n",
    "\n",
    "# Add all feature groups to the map\n",
    "m.add_child(boundary_group)\n",
    "m.add_child(wind_cells_group)\n",
    "m.add_child(wind_clusters_group)\n",
    "m.add_child(solar_clusters_group)\n",
    "m.add_child(points_group)\n",
    "\n",
    "# Add a sleek legend manually with modern style\n",
    "legend_html = \"\"\"\n",
    "<div style=\"position: fixed; bottom: 30px; left: 30px; width: 250px; height: 160px; \n",
    "background-color: rgba(255, 255, 255, 0.7); border:2px solid #ccc; z-index:9999; font-size:14px; \n",
    "border-radius: 10px; padding: 10px;\">\n",
    "  <b>Legend</b><br>\n",
    "  <i style=\"color:lawngreen;\">●</i> Solar<br>\n",
    "  <i style=\"color:navy;\">●</i> Onshore Wind<br>\n",
    "  <i style=\"color:violet;\">●</i> Wind Clusters<br>\n",
    "  <i style=\"color:lawngreen;\">●</i> Solar Clusters<br>\n",
    "  <i style=\"color:slategrey;\">■</i> Boundary Region<br>  <!-- For boundary regions -->\n",
    "</div>\n",
    "\"\"\"\n",
    "m.get_root().html.add_child(folium.Element(legend_html))\n",
    "\n",
    "# Add layer control to toggle visibility of the layers\n",
    "folium.LayerControl().add_to(m)\n",
    "\n",
    "# Save and display the map\n",
    "m.save('ROD_2024_with_boundary.html')\n",
    "m\n"
   ]
  }
 ],
 "metadata": {
  "kernelspec": {
   "display_name": "linkingtool",
   "language": "python",
   "name": "python3"
  },
  "language_info": {
   "codemirror_mode": {
    "name": "ipython",
    "version": 3
   },
   "file_extension": ".py",
   "mimetype": "text/x-python",
   "name": "python",
   "nbconvert_exporter": "python",
   "pygments_lexer": "ipython3",
   "version": "3.12.7"
  }
 },
 "nbformat": 4,
 "nbformat_minor": 2
}
