{
 "cells": [
  {
   "cell_type": "code",
   "execution_count": 1,
   "metadata": {},
   "outputs": [],
   "source": [
    "import pandas as pd\n",
    "import geopandas as gpd\n",
    "from shapely.geometry import Point\n",
    "from linkingtool import timeseries"
   ]
  },
  {
   "cell_type": "code",
   "execution_count": 2,
   "metadata": {},
   "outputs": [],
   "source": [
    "CFP24 = gpd.read_file('BCH_CFP24.geojson')\n",
    "CFP24.set_index('project_name', inplace=True)"
   ]
  },
  {
   "cell_type": "code",
   "execution_count": 3,
   "metadata": {},
   "outputs": [],
   "source": [
    "CFP24=gpd.read_file('BCH_CFP24.geojson')\n",
    "# CFP24=pd.read_csv('BC_CFP24.csv')\n"
   ]
  },
  {
   "cell_type": "code",
   "execution_count": 4,
   "metadata": {},
   "outputs": [
    {
     "name": "stderr",
     "output_type": "stream",
     "text": [
      "2025-01-21 17:51:19,630 - INFO - Created 10 records\n"
     ]
    }
   ],
   "source": [
    "CFP24.to_file('BC_CFP24.geojson', driver='GeoJSON')\n",
    "CFP24.drop(columns='geometry', errors='ignore').to_csv('BCH_CFP24.csv', index=False)"
   ]
  },
  {
   "cell_type": "code",
   "execution_count": 5,
   "metadata": {},
   "outputs": [],
   "source": [
    "# wind=pd.read_csv('../results/linking/resource_options_wind.csv')\n",
    "# solar=pd.read_csv('../results/linking/resource_options_solar.csv')"
   ]
  },
  {
   "cell_type": "code",
   "execution_count": 6,
   "metadata": {},
   "outputs": [],
   "source": [
    "# import numpy as np\n",
    "\n",
    "# CFP24['capex'] = np.where(CFP24['resource_type'] == 'solar',  solar.loc[:,'capex'].mean(), wind.loc[:,'capex'].mean())\n",
    "# CFP24['Operational_life'] = np.where(CFP24['resource_type'] == 'solar',  solar.loc[:,'Operational_life'].mean(), wind.loc[:,'Operational_life'].mean())\n",
    "# CFP24['vom'] = np.where(CFP24['resource_type'] == 'solar', solar.loc[:,'vom'].mean(), wind.loc[:,'vom'].mean())\n",
    "# CFP24['fom'] = np.where(CFP24['resource_type'] == 'solar',  solar.loc[:,'fom'].mean(), wind.loc[:,'fom'].mean())"
   ]
  },
  {
   "cell_type": "code",
   "execution_count": 7,
   "metadata": {},
   "outputs": [
    {
     "ename": "FileNotFoundError",
     "evalue": "``/local-scratch/localhome/mei3/eliasinul/work/BC_Combined_Modelling/models/Linking_tool/data/store/resources_BC.h5`` does not exist",
     "output_type": "error",
     "traceback": [
      "\u001b[0;31m---------------------------------------------------------------------------\u001b[0m",
      "\u001b[0;31mFileNotFoundError\u001b[0m                         Traceback (most recent call last)",
      "Cell \u001b[0;32mIn[7], line 4\u001b[0m\n\u001b[1;32m      1\u001b[0m \u001b[38;5;28;01mfrom\u001b[39;00m\u001b[38;5;250m \u001b[39m\u001b[38;5;21;01mlinkingtool\u001b[39;00m\u001b[38;5;21;01m.\u001b[39;00m\u001b[38;5;21;01mhdf5_handler\u001b[39;00m\u001b[38;5;250m \u001b[39m\u001b[38;5;28;01mimport\u001b[39;00m DataHandler\n\u001b[1;32m      2\u001b[0m store\u001b[38;5;241m=\u001b[39m\u001b[38;5;124mf\u001b[39m\u001b[38;5;124m\"\u001b[39m\u001b[38;5;124m../data/store/resources_BC.h5\u001b[39m\u001b[38;5;124m\"\u001b[39m\n\u001b[0;32m----> 4\u001b[0m \u001b[43mtimeseries\u001b[49m\u001b[38;5;241;43m.\u001b[39;49m\u001b[43mget_timeseries_for_project_points\u001b[49m\u001b[43m(\u001b[49m\u001b[43mstore\u001b[49m\u001b[43m,\u001b[49m\n\u001b[1;32m      5\u001b[0m \u001b[43m                                             \u001b[49m\u001b[43mCFP24\u001b[49m\u001b[43m,\u001b[49m\u001b[43m \u001b[49m\n\u001b[1;32m      6\u001b[0m \u001b[43m                                             \u001b[49m\u001b[38;5;124;43m'\u001b[39;49m\u001b[38;5;124;43mROD_2024\u001b[39;49m\u001b[38;5;124;43m'\u001b[39;49m\u001b[43m,\u001b[49m\u001b[43m \u001b[49m\n\u001b[1;32m      7\u001b[0m \u001b[43m                                             \u001b[49m\u001b[43mshow\u001b[49m\u001b[38;5;241;43m=\u001b[39;49m\u001b[38;5;28;43;01mTrue\u001b[39;49;00m\u001b[43m)\u001b[49m\n",
      "File \u001b[0;32m/local-scratch/localhome/mei3/eliasinul/backup/BC_Combined_Modelling/models/Linking_tool/linkingtool/timeseries.py:344\u001b[0m, in \u001b[0;36mget_timeseries_for_project_points\u001b[0;34m(resources_store, projects, save_to, show)\u001b[0m\n\u001b[1;32m    340\u001b[0m projects\u001b[38;5;241m.\u001b[39mcrs \u001b[38;5;241m=\u001b[39m \u001b[38;5;124m'\u001b[39m\u001b[38;5;124mEPSG:4326\u001b[39m\u001b[38;5;124m'\u001b[39m\n\u001b[1;32m    342\u001b[0m \u001b[38;5;66;03m# Load data from resources store\u001b[39;00m\n\u001b[0;32m--> 344\u001b[0m tss \u001b[38;5;241m=\u001b[39m \u001b[43mdatahandler\u001b[49m\u001b[38;5;241;43m.\u001b[39;49m\u001b[43mfrom_store\u001b[49m\u001b[43m(\u001b[49m\u001b[38;5;124;43m'\u001b[39;49m\u001b[38;5;124;43mtimeseries/solar\u001b[39;49m\u001b[38;5;124;43m'\u001b[39;49m\u001b[43m)\u001b[49m\n\u001b[1;32m    345\u001b[0m tsw \u001b[38;5;241m=\u001b[39m datahandler\u001b[38;5;241m.\u001b[39mfrom_store(\u001b[38;5;124m'\u001b[39m\u001b[38;5;124mtimeseries/wind\u001b[39m\u001b[38;5;124m'\u001b[39m)\n\u001b[1;32m    348\u001b[0m \u001b[38;5;66;03m# Perform a spatial join to assign the polygon index to the points\u001b[39;00m\n",
      "File \u001b[0;32m/local-scratch/localhome/mei3/eliasinul/backup/BC_Combined_Modelling/models/Linking_tool/linkingtool/hdf5_handler.py:86\u001b[0m, in \u001b[0;36mDataHandler.from_store\u001b[0;34m(self, key)\u001b[0m\n\u001b[1;32m     77\u001b[0m \u001b[38;5;28;01mdef\u001b[39;00m\u001b[38;5;250m \u001b[39m\u001b[38;5;21mfrom_store\u001b[39m(\u001b[38;5;28mself\u001b[39m, \n\u001b[1;32m     78\u001b[0m                key: \u001b[38;5;28mstr\u001b[39m):\n\u001b[1;32m     79\u001b[0m \u001b[38;5;250m    \u001b[39m\u001b[38;5;124;03m\"\"\"\u001b[39;00m\n\u001b[1;32m     80\u001b[0m \u001b[38;5;124;03m    Load data from the HDF5 store and handle geometry conversion.\u001b[39;00m\n\u001b[1;32m     81\u001b[0m \u001b[38;5;124;03m    \u001b[39;00m\n\u001b[1;32m     82\u001b[0m \u001b[38;5;124;03m    :param key: Key for loading the DataFrame or GeoDataFrame.\u001b[39;00m\n\u001b[1;32m     83\u001b[0m \u001b[38;5;124;03m    :return: DataFrame or GeoDataFrame based on the data loaded.\u001b[39;00m\n\u001b[1;32m     84\u001b[0m \u001b[38;5;124;03m    \"\"\"\u001b[39;00m\n\u001b[0;32m---> 86\u001b[0m     \u001b[38;5;28;01mwith\u001b[39;00m \u001b[43mpd\u001b[49m\u001b[38;5;241;43m.\u001b[39;49m\u001b[43mHDFStore\u001b[49m\u001b[43m(\u001b[49m\u001b[38;5;28;43mself\u001b[39;49m\u001b[38;5;241;43m.\u001b[39;49m\u001b[43mstore\u001b[49m\u001b[43m,\u001b[49m\u001b[43m \u001b[49m\u001b[38;5;124;43m'\u001b[39;49m\u001b[38;5;124;43mr\u001b[39;49m\u001b[38;5;124;43m'\u001b[39;49m\u001b[43m)\u001b[49m \u001b[38;5;28;01mas\u001b[39;00m store:\n\u001b[1;32m     87\u001b[0m         \u001b[38;5;28;01mif\u001b[39;00m key \u001b[38;5;129;01mnot\u001b[39;00m \u001b[38;5;129;01min\u001b[39;00m store:\n\u001b[1;32m     88\u001b[0m             \u001b[38;5;28mprint\u001b[39m(\u001b[38;5;124mf\u001b[39m\u001b[38;5;124m\"\u001b[39m\u001b[38;5;124mError: Key \u001b[39m\u001b[38;5;124m'\u001b[39m\u001b[38;5;132;01m{\u001b[39;00mkey\u001b[38;5;132;01m}\u001b[39;00m\u001b[38;5;124m'\u001b[39m\u001b[38;5;124m not found in \u001b[39m\u001b[38;5;132;01m{\u001b[39;00m\u001b[38;5;28mself\u001b[39m\u001b[38;5;241m.\u001b[39mstore\u001b[38;5;132;01m}\u001b[39;00m\u001b[38;5;124m\"\u001b[39m)\n",
      "File \u001b[0;32m~/miniconda3/envs/bc_combined_modelling/lib/python3.12/site-packages/pandas/io/pytables.py:585\u001b[0m, in \u001b[0;36mHDFStore.__init__\u001b[0;34m(self, path, mode, complevel, complib, fletcher32, **kwargs)\u001b[0m\n\u001b[1;32m    583\u001b[0m \u001b[38;5;28mself\u001b[39m\u001b[38;5;241m.\u001b[39m_fletcher32 \u001b[38;5;241m=\u001b[39m fletcher32\n\u001b[1;32m    584\u001b[0m \u001b[38;5;28mself\u001b[39m\u001b[38;5;241m.\u001b[39m_filters \u001b[38;5;241m=\u001b[39m \u001b[38;5;28;01mNone\u001b[39;00m\n\u001b[0;32m--> 585\u001b[0m \u001b[38;5;28;43mself\u001b[39;49m\u001b[38;5;241;43m.\u001b[39;49m\u001b[43mopen\u001b[49m\u001b[43m(\u001b[49m\u001b[43mmode\u001b[49m\u001b[38;5;241;43m=\u001b[39;49m\u001b[43mmode\u001b[49m\u001b[43m,\u001b[49m\u001b[43m \u001b[49m\u001b[38;5;241;43m*\u001b[39;49m\u001b[38;5;241;43m*\u001b[39;49m\u001b[43mkwargs\u001b[49m\u001b[43m)\u001b[49m\n",
      "File \u001b[0;32m~/miniconda3/envs/bc_combined_modelling/lib/python3.12/site-packages/pandas/io/pytables.py:745\u001b[0m, in \u001b[0;36mHDFStore.open\u001b[0;34m(self, mode, **kwargs)\u001b[0m\n\u001b[1;32m    739\u001b[0m     msg \u001b[38;5;241m=\u001b[39m (\n\u001b[1;32m    740\u001b[0m         \u001b[38;5;124m\"\u001b[39m\u001b[38;5;124mCannot open HDF5 file, which is already opened, \u001b[39m\u001b[38;5;124m\"\u001b[39m\n\u001b[1;32m    741\u001b[0m         \u001b[38;5;124m\"\u001b[39m\u001b[38;5;124meven in read-only mode.\u001b[39m\u001b[38;5;124m\"\u001b[39m\n\u001b[1;32m    742\u001b[0m     )\n\u001b[1;32m    743\u001b[0m     \u001b[38;5;28;01mraise\u001b[39;00m \u001b[38;5;167;01mValueError\u001b[39;00m(msg)\n\u001b[0;32m--> 745\u001b[0m \u001b[38;5;28mself\u001b[39m\u001b[38;5;241m.\u001b[39m_handle \u001b[38;5;241m=\u001b[39m \u001b[43mtables\u001b[49m\u001b[38;5;241;43m.\u001b[39;49m\u001b[43mopen_file\u001b[49m\u001b[43m(\u001b[49m\u001b[38;5;28;43mself\u001b[39;49m\u001b[38;5;241;43m.\u001b[39;49m\u001b[43m_path\u001b[49m\u001b[43m,\u001b[49m\u001b[43m \u001b[49m\u001b[38;5;28;43mself\u001b[39;49m\u001b[38;5;241;43m.\u001b[39;49m\u001b[43m_mode\u001b[49m\u001b[43m,\u001b[49m\u001b[43m \u001b[49m\u001b[38;5;241;43m*\u001b[39;49m\u001b[38;5;241;43m*\u001b[39;49m\u001b[43mkwargs\u001b[49m\u001b[43m)\u001b[49m\n",
      "File \u001b[0;32m~/miniconda3/envs/bc_combined_modelling/lib/python3.12/site-packages/tables/file.py:296\u001b[0m, in \u001b[0;36mopen_file\u001b[0;34m(filename, mode, title, root_uep, filters, **kwargs)\u001b[0m\n\u001b[1;32m    291\u001b[0m             \u001b[38;5;28;01mraise\u001b[39;00m \u001b[38;5;167;01mValueError\u001b[39;00m(\n\u001b[1;32m    292\u001b[0m                 \u001b[38;5;124m\"\u001b[39m\u001b[38;5;124mThe file \u001b[39m\u001b[38;5;124m'\u001b[39m\u001b[38;5;132;01m%s\u001b[39;00m\u001b[38;5;124m'\u001b[39m\u001b[38;5;124m is already opened.  Please \u001b[39m\u001b[38;5;124m\"\u001b[39m\n\u001b[1;32m    293\u001b[0m                 \u001b[38;5;124m\"\u001b[39m\u001b[38;5;124mclose it before reopening in write mode.\u001b[39m\u001b[38;5;124m\"\u001b[39m \u001b[38;5;241m%\u001b[39m filename)\n\u001b[1;32m    295\u001b[0m \u001b[38;5;66;03m# Finally, create the File instance, and return it\u001b[39;00m\n\u001b[0;32m--> 296\u001b[0m \u001b[38;5;28;01mreturn\u001b[39;00m \u001b[43mFile\u001b[49m\u001b[43m(\u001b[49m\u001b[43mfilename\u001b[49m\u001b[43m,\u001b[49m\u001b[43m \u001b[49m\u001b[43mmode\u001b[49m\u001b[43m,\u001b[49m\u001b[43m \u001b[49m\u001b[43mtitle\u001b[49m\u001b[43m,\u001b[49m\u001b[43m \u001b[49m\u001b[43mroot_uep\u001b[49m\u001b[43m,\u001b[49m\u001b[43m \u001b[49m\u001b[43mfilters\u001b[49m\u001b[43m,\u001b[49m\u001b[43m \u001b[49m\u001b[38;5;241;43m*\u001b[39;49m\u001b[38;5;241;43m*\u001b[39;49m\u001b[43mkwargs\u001b[49m\u001b[43m)\u001b[49m\n",
      "File \u001b[0;32m~/miniconda3/envs/bc_combined_modelling/lib/python3.12/site-packages/tables/file.py:746\u001b[0m, in \u001b[0;36mFile.__init__\u001b[0;34m(self, filename, mode, title, root_uep, filters, **kwargs)\u001b[0m\n\u001b[1;32m    743\u001b[0m \u001b[38;5;28mself\u001b[39m\u001b[38;5;241m.\u001b[39mparams \u001b[38;5;241m=\u001b[39m params\n\u001b[1;32m    745\u001b[0m \u001b[38;5;66;03m# Now, it is time to initialize the File extension\u001b[39;00m\n\u001b[0;32m--> 746\u001b[0m \u001b[38;5;28;43mself\u001b[39;49m\u001b[38;5;241;43m.\u001b[39;49m\u001b[43m_g_new\u001b[49m\u001b[43m(\u001b[49m\u001b[43mfilename\u001b[49m\u001b[43m,\u001b[49m\u001b[43m \u001b[49m\u001b[43mmode\u001b[49m\u001b[43m,\u001b[49m\u001b[43m \u001b[49m\u001b[38;5;241;43m*\u001b[39;49m\u001b[38;5;241;43m*\u001b[39;49m\u001b[43mparams\u001b[49m\u001b[43m)\u001b[49m\n\u001b[1;32m    748\u001b[0m \u001b[38;5;66;03m# Check filters and set PyTables format version for new files.\u001b[39;00m\n\u001b[1;32m    749\u001b[0m new \u001b[38;5;241m=\u001b[39m \u001b[38;5;28mself\u001b[39m\u001b[38;5;241m.\u001b[39m_v_new\n",
      "File \u001b[0;32m~/miniconda3/envs/bc_combined_modelling/lib/python3.12/site-packages/tables/hdf5extension.pyx:396\u001b[0m, in \u001b[0;36mtables.hdf5extension.File._g_new\u001b[0;34m()\u001b[0m\n",
      "File \u001b[0;32m~/miniconda3/envs/bc_combined_modelling/lib/python3.12/site-packages/tables/utils.py:166\u001b[0m, in \u001b[0;36mcheck_file_access\u001b[0;34m(filename, mode)\u001b[0m\n\u001b[1;32m    163\u001b[0m \u001b[38;5;28;01mif\u001b[39;00m mode \u001b[38;5;241m==\u001b[39m \u001b[38;5;124m'\u001b[39m\u001b[38;5;124mr\u001b[39m\u001b[38;5;124m'\u001b[39m:\n\u001b[1;32m    164\u001b[0m     \u001b[38;5;66;03m# The file should be readable.\u001b[39;00m\n\u001b[1;32m    165\u001b[0m     \u001b[38;5;28;01mif\u001b[39;00m \u001b[38;5;129;01mnot\u001b[39;00m os\u001b[38;5;241m.\u001b[39maccess(path, os\u001b[38;5;241m.\u001b[39mF_OK):\n\u001b[0;32m--> 166\u001b[0m         \u001b[38;5;28;01mraise\u001b[39;00m \u001b[38;5;167;01mFileNotFoundError\u001b[39;00m(\u001b[38;5;124mf\u001b[39m\u001b[38;5;124m\"\u001b[39m\u001b[38;5;124m``\u001b[39m\u001b[38;5;132;01m{\u001b[39;00mpath\u001b[38;5;132;01m}\u001b[39;00m\u001b[38;5;124m`` does not exist\u001b[39m\u001b[38;5;124m\"\u001b[39m)\n\u001b[1;32m    167\u001b[0m     \u001b[38;5;28;01mif\u001b[39;00m \u001b[38;5;129;01mnot\u001b[39;00m path\u001b[38;5;241m.\u001b[39mis_file():\n\u001b[1;32m    168\u001b[0m         \u001b[38;5;28;01mraise\u001b[39;00m \u001b[38;5;167;01mIsADirectoryError\u001b[39;00m(\u001b[38;5;124mf\u001b[39m\u001b[38;5;124m\"\u001b[39m\u001b[38;5;124m``\u001b[39m\u001b[38;5;132;01m{\u001b[39;00mpath\u001b[38;5;132;01m}\u001b[39;00m\u001b[38;5;124m`` is not a regular file\u001b[39m\u001b[38;5;124m\"\u001b[39m)\n",
      "\u001b[0;31mFileNotFoundError\u001b[0m: ``/local-scratch/localhome/mei3/eliasinul/work/BC_Combined_Modelling/models/Linking_tool/data/store/resources_BC.h5`` does not exist"
     ]
    }
   ],
   "source": [
    "from linkingtool.hdf5_handler import DataHandler\n",
    "store=f\"../data/store/resources_BC.h5\"\n",
    "\n",
    "timeseries.get_timeseries_for_project_points(store,\n",
    "                                             CFP24, \n",
    "                                             'ROD_2024', \n",
    "                                             show=True)"
   ]
  },
  {
   "cell_type": "code",
   "execution_count": 108,
   "metadata": {},
   "outputs": [],
   "source": [
    "rod=pd.read_excel('rod_202409.xlsm',sheet_name=\"Resource Options\",skiprows=1)"
   ]
  },
  {
   "cell_type": "code",
   "execution_count": 29,
   "metadata": {},
   "outputs": [
    {
     "ename": "NameError",
     "evalue": "name 'rod' is not defined",
     "output_type": "error",
     "traceback": [
      "\u001b[0;31m---------------------------------------------------------------------------\u001b[0m",
      "\u001b[0;31mNameError\u001b[0m                                 Traceback (most recent call last)",
      "Cell \u001b[0;32mIn[29], line 2\u001b[0m\n\u001b[1;32m      1\u001b[0m \u001b[38;5;66;03m# Convert to float to ensure proper type\u001b[39;00m\n\u001b[0;32m----> 2\u001b[0m rod[\u001b[38;5;124m'\u001b[39m\u001b[38;5;124mLatitude\u001b[39m\u001b[38;5;124m'\u001b[39m] \u001b[38;5;241m=\u001b[39m pd\u001b[38;5;241m.\u001b[39mto_numeric(\u001b[43mrod\u001b[49m[\u001b[38;5;124m'\u001b[39m\u001b[38;5;124mLatitude\u001b[39m\u001b[38;5;124m'\u001b[39m], errors\u001b[38;5;241m=\u001b[39m\u001b[38;5;124m'\u001b[39m\u001b[38;5;124mcoerce\u001b[39m\u001b[38;5;124m'\u001b[39m)\n\u001b[1;32m      3\u001b[0m rod[\u001b[38;5;124m'\u001b[39m\u001b[38;5;124mLongitude\u001b[39m\u001b[38;5;124m'\u001b[39m] \u001b[38;5;241m=\u001b[39m pd\u001b[38;5;241m.\u001b[39mto_numeric(rod[\u001b[38;5;124m'\u001b[39m\u001b[38;5;124mLongitude\u001b[39m\u001b[38;5;124m'\u001b[39m], errors\u001b[38;5;241m=\u001b[39m\u001b[38;5;124m'\u001b[39m\u001b[38;5;124mcoerce\u001b[39m\u001b[38;5;124m'\u001b[39m)\n\u001b[1;32m      5\u001b[0m \u001b[38;5;66;03m# Drop rows with invalid coordinates\u001b[39;00m\n",
      "\u001b[0;31mNameError\u001b[0m: name 'rod' is not defined"
     ]
    }
   ],
   "source": [
    "# Convert to float to ensure proper type\n",
    "rod['Latitude'] = pd.to_numeric(rod['Latitude'], errors='coerce')\n",
    "rod['Longitude'] = pd.to_numeric(rod['Longitude'], errors='coerce')\n",
    "\n",
    "# Drop rows with invalid coordinates\n",
    "rod = rod.dropna(subset=['Latitude', 'Longitude'])\n",
    "\n",
    "# Create geometry column with correct longitude, latitude order\n",
    "rod['geometry'] = rod.apply(lambda row: Point(row['Longitude'], row['Latitude']), axis=1)\n",
    "\n",
    "# Convert to GeoDataFrame\n",
    "rod_gdf = gpd.GeoDataFrame(rod, geometry='geometry', crs='EPSG:4326')\n",
    "rod_gdf.to_pickle('ROD_processed.pkl')"
   ]
  },
  {
   "cell_type": "code",
   "execution_count": 110,
   "metadata": {},
   "outputs": [],
   "source": [
    "# Create a mask for rows with 'Solar' or 'Onshore Wind' in 'Resource Type'\n",
    "VREs_mask = ( (rod_gdf['Resource Type'] == 'Onshore Wind'))# |rod_gdf['Resource Type'] == 'Solar') \n",
    "# Apply the mask to filter the GeoDataFrame\n",
    "filtered_rod_gdf = rod_gdf[VREs_mask]\n",
    "\n",
    "# Display the filtered GeoDataFrame\n",
    "filtered_rod_gdf=filtered_rod_gdf.head(50)\n",
    "filtered_rod_gdf['Rank'] = range(1, len(filtered_rod_gdf) + 1)"
   ]
  },
  {
   "cell_type": "code",
   "execution_count": 111,
   "metadata": {},
   "outputs": [],
   "source": [
    "from linkingtool.hdf5_handler import DataHandler\n",
    "import linkingtool.visuals as vis\n",
    "store=f\"../data/store/resources_BC.h5\"\n",
    "datahandler=DataHandler(store)\n",
    "boundary=datahandler.from_store('boundary')"
   ]
  },
  {
   "cell_type": "code",
   "execution_count": null,
   "metadata": {},
   "outputs": [],
   "source": [
    "clusters_wind.head(10).explore('LCOE')"
   ]
  },
  {
   "cell_type": "code",
   "execution_count": 116,
   "metadata": {},
   "outputs": [],
   "source": [
    "cells=datahandler.from_store('cells')\n",
    "cells=cells[cells['potential_capacity_wind']>7]\n",
    "clusters_wind=datahandler.from_store('clusters/wind')#.head(5)\n",
    "clusters_solar=datahandler.from_store('clusters/solar').head(2)"
   ]
  },
  {
   "cell_type": "code",
   "execution_count": null,
   "metadata": {},
   "outputs": [],
   "source": [
    "import folium\n",
    "\n",
    "# Initialize a Folium map centered at the mean coordinates of the data\n",
    "map_center = [rod_gdf.geometry.y.mean(), filtered_rod_gdf.geometry.x.mean()]\n",
    "m = folium.Map(location=map_center, zoom_start=6, tiles=\"CartoDB positron\")  # Clean, modern map tiles\n",
    "\n",
    "# Create FeatureGroups for each type of layer\n",
    "boundary_group = folium.FeatureGroup(name=\"Boundary Layer\")\n",
    "wind_cells_group = folium.FeatureGroup(name=\"Wind Cells\")\n",
    "wind_clusters_group = folium.FeatureGroup(name=\"Wind Clusters\")\n",
    "solar_clusters_group = folium.FeatureGroup(name=\"Solar Clusters\")\n",
    "points_group = folium.FeatureGroup(name=\"Project Points\")\n",
    "\n",
    "# Add the boundary GeoDataFrame as a GeoJson layer\n",
    "boundary_layer = folium.GeoJson(\n",
    "    boundary,  # This is your boundary GeoDataFrame\n",
    "    style_function=lambda x: {\n",
    "        'fillColor': 'None',  # No fill color for the boundary\n",
    "        'color': 'slategray',  # Border color for boundary regions\n",
    "        'weight': .5,\n",
    "        'ls':\":\",\n",
    "        'fillOpacity': 0.2  # Transparency level\n",
    "    }\n",
    ")\n",
    "boundary_group.add_child(boundary_layer)\n",
    "\n",
    "# Add the MultiPolygon geometries (Wind Cells) directly to the map as GeoJson\n",
    "for _, row in cells.iterrows():\n",
    "    folium.GeoJson(\n",
    "        row.geometry,  # The MultiPolygon geometry\n",
    "        style_function=lambda x: {\n",
    "            'fillColor': 'violet',  # Color of the polygon\n",
    "            'color': 'violet',  # Border color of the polygon\n",
    "            'weight': .1,  # Border thickness\n",
    "            'fillOpacity': 0.1  # Fill opacity of the polygon\n",
    "        },\n",
    "        tooltip=folium.Tooltip(f\"{row['potential_capacity_wind']}<br>\"\n",
    "                               f\"Region: {row['Region']}<br>\"\n",
    "                               f\"LCOE ($/MWh): {row['LCOE_wind']}<br>\"\n",
    "                               f\"Windspeed_GWA: {round(row['windspeed_gwa'], 2)} m/s\")  # Show info on hover\n",
    "    ).add_to(wind_cells_group)\n",
    "\n",
    "# Add the MultiPolygon geometries (Wind Clusters) directly to the map as GeoJson\n",
    "for _, row in clusters_wind.iterrows():\n",
    "    folium.GeoJson(\n",
    "        row.geometry,  # The MultiPolygon geometry\n",
    "        style_function=lambda x: {\n",
    "            'fillColor': 'violet',  # Color of the polygon\n",
    "            'color': 'violet',  # Border color of the polygon\n",
    "            'weight': 0.5,  # Border thickness\n",
    "            'fillOpacity': 0.5  # Fill opacity of the polygon\n",
    "        },\n",
    "        tooltip=folium.Tooltip(f\"{round(row['potential_capacity']/1E3,2)} GW <br>\"\n",
    "                               f\"Region: {row['Region']}<br>\"\n",
    "                               f\"Rank: {row['Rank']}<br>\"\n",
    "                               f\"LCOE ($/MWh): {round(row['LCOE'],2)}<br>\"\n",
    "                               )  # Show info on hover\n",
    "    ).add_to(wind_clusters_group)\n",
    "\n",
    "# Add the MultiPolygon geometries (Solar Clusters) directly to the map as GeoJson\n",
    "for _, row in clusters_solar.iterrows():\n",
    "    folium.GeoJson(\n",
    "        row.geometry,  # The MultiPolygon geometry\n",
    "        style_function=lambda x: {\n",
    "            'fillColor': 'lawngreen',  # Color of the polygon\n",
    "            'color': 'lawngreen',  # Border color of the polygon\n",
    "            'weight': 1,  # Border thickness\n",
    "            'fillOpacity': 0.3  # Fill opacity of the polygon\n",
    "        },\n",
    "        tooltip=folium.Tooltip(f\"{round(row['potential_capacity']/1E3,2)} GW <br>\"\n",
    "                               f\"Region: {row['Region']}<br>\"\n",
    "                               f\"Rank: {row['Rank']}<br>\"\n",
    "                               f\"LCOE ($/MWh): {round(row['LCOE'],2)}<br>\"\n",
    "                               )  # Show info on hover\n",
    "    ).add_to(solar_clusters_group)\n",
    "\n",
    "# Add points to the map without clustering\n",
    "for _, row in filtered_rod_gdf.iterrows():\n",
    "    folium.CircleMarker(\n",
    "        location=(row.geometry.y, row.geometry.x),  # Lat, Long\n",
    "        radius=row['Installed Capacity (MW)'] * 0.04,  # Scale marker size\n",
    "        weight=.5,  # Thickness of the border\n",
    "        color='orange' if row['Resource Type'] == 'Solar' else 'navy',  # Different colors for resource types\n",
    "        fill=True,\n",
    "        fill_opacity=0.3,\n",
    "        popup=folium.Popup(f\"<b>{row['Project Name']}</b><br>\"\n",
    "                           f\"<b>{row['Resource Type']}</b><br>\"\n",
    "                           f\"<strong>Rank: {int(row['Rank'])}</strong> <br>\"\n",
    "                           f\"<strong>TUEC: {round(row['Total Adj UEC1 ($/MWh)'],2)}$/MWh</strong> <br>\"\n",
    "                           f\"<strong>{int(row['Installed Capacity (MW)'])} MW</strong><br>\"\n",
    "                           f\"<i>{row['Region']}</i>\", max_width=250),  # Clean and readable popup\n",
    "    ).add_to(points_group)\n",
    "\n",
    "# Add all feature groups to the map\n",
    "m.add_child(boundary_group)\n",
    "m.add_child(wind_cells_group)\n",
    "m.add_child(wind_clusters_group)\n",
    "m.add_child(solar_clusters_group)\n",
    "m.add_child(points_group)\n",
    "\n",
    "# Add a sleek legend manually with modern style\n",
    "legend_html = \"\"\"\n",
    "<div style=\"position: fixed; bottom: 30px; left: 30px; width: 250px; height: 160px; \n",
    "background-color: rgba(255, 255, 255, 0.7); border:2px solid #ccc; z-index:9999; font-size:14px; \n",
    "border-radius: 10px; padding: 10px;\">\n",
    "  <b>Legend</b><br>\n",
    "  <i style=\"color:lawngreen;\">●</i> Solar<br>\n",
    "  <i style=\"color:navy;\">●</i> Onshore Wind<br>\n",
    "  <i style=\"color:violet;\">●</i> Wind Clusters<br>\n",
    "  <i style=\"color:lawngreen;\">●</i> Solar Clusters<br>\n",
    "  <i style=\"color:slategrey;\">■</i> Boundary Region<br>  <!-- For boundary regions -->\n",
    "</div>\n",
    "\"\"\"\n",
    "m.get_root().html.add_child(folium.Element(legend_html))\n",
    "\n",
    "# Add layer control to toggle visibility of the layers\n",
    "folium.LayerControl().add_to(m)\n",
    "\n",
    "# Save and display the map\n",
    "m.save('ROD_2024_with_boundary.html')\n",
    "m\n"
   ]
  }
 ],
 "metadata": {
  "kernelspec": {
   "display_name": "bc_combined_modelling",
   "language": "python",
   "name": "python3"
  },
  "language_info": {
   "codemirror_mode": {
    "name": "ipython",
    "version": 3
   },
   "file_extension": ".py",
   "mimetype": "text/x-python",
   "name": "python",
   "nbconvert_exporter": "python",
   "pygments_lexer": "ipython3",
   "version": "3.12.4"
  }
 },
 "nbformat": 4,
 "nbformat_minor": 2
}
